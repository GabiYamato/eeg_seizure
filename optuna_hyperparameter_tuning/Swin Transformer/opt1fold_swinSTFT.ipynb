{
 "cells": [
  {
   "cell_type": "code",
   "execution_count": 1,
   "id": "626d84bd",
   "metadata": {},
   "outputs": [],
   "source": [
    "import torch\n",
    "import torch.nn as nn\n",
    "import torch.optim as optim\n",
    "from torch.utils.data import DataLoader, TensorDataset\n",
    "from sklearn.model_selection import train_test_split\n",
    "from sklearn.preprocessing import StandardScaler\n",
    "import torch\n",
    "import torch.nn as nn\n",
    "import torch.optim as optim\n",
    "from torch.utils.data import DataLoader, TensorDataset\n",
    "from sklearn.preprocessing import StandardScaler\n",
    "from sklearn.model_selection import GroupKFold\n",
    "import numpy as np\n",
    "import matplotlib.pyplot as plt\n",
    "\n",
    "from sklearn.metrics import precision_score, recall_score, f1_score, balanced_accuracy_score\n",
    "import pickle\n",
    "from collections import defaultdict\n",
    "from sklearn.utils import shuffle\n",
    "import os\n",
    "import cv2\n",
    "from torch.utils.data import Dataset, DataLoader\n",
    "import torchvision.transforms as transforms\n",
    "import pandas as pd\n",
    "\n",
    "from torchinfo import summary\n",
    "from sklearn.metrics import confusion_matrix\n",
    "import seaborn as sns\n",
    "\n"
   ]
  },
  {
   "cell_type": "code",
   "execution_count": 2,
   "id": "29ad51f8",
   "metadata": {},
   "outputs": [],
   "source": [
    "import numpy as np\n",
    "import os\n",
    "\n",
    "# Define the folder path\n",
    "folder_path = r\"D:\\PYTHONIG\\newwindow\\NOTEBOOKS_2025\\aprilmay2025\\data\\numpy\\optunadata\\STFT\"\n",
    "\n",
    "# Load the numpy files into the respective arrays with the correct capitalized naming\n",
    "eeg_fold_1 = np.load(os.path.join(folder_path, 'STFT_DATA_FOLD_fold_1.npy'))\n",
    "labels_fold_1 = np.load(os.path.join(folder_path, 'STFT_LABELS_FOLD_fold_1.npy'))\n",
    "patients_fold_1 = np.load(os.path.join(folder_path, 'STFT_PATIENTS_FOLD_fold_1.npy'))\n",
    "\n",
    "eeg_fold_2 = np.load(os.path.join(folder_path, 'STFT_DATA_FOLD_fold_2.npy'))\n",
    "labels_fold_2 = np.load(os.path.join(folder_path, 'STFT_LABELS_FOLD_fold_2.npy'))\n",
    "patients_fold_2 = np.load(os.path.join(folder_path, 'STFT_PATIENTS_FOLD_fold_2.npy'))\n",
    "\n",
    "eeg_fold_3 = np.load(os.path.join(folder_path, 'STFT_DATA_FOLD_fold_3.npy'))\n",
    "labels_fold_3 = np.load(os.path.join(folder_path, 'STFT_LABELS_FOLD_fold_3.npy'))\n",
    "patients_fold_3 = np.load(os.path.join(folder_path, 'STFT_PATIENTS_FOLD_fold_3.npy'))\n",
    "\n",
    "eeg_fold_4 = np.load(os.path.join(folder_path, 'STFT_DATA_FOLD_fold_4.npy'))\n",
    "labels_fold_4 = np.load(os.path.join(folder_path, 'STFT_LABELS_FOLD_fold_4.npy'))\n",
    "patients_fold_4 = np.load(os.path.join(folder_path, 'STFT_PATIENTS_FOLD_fold_4.npy'))\n",
    "\n",
    "eeg_fold_5 = np.load(os.path.join(folder_path, 'STFT_DATA_FOLD_fold_5.npy'))\n",
    "labels_fold_5 = np.load(os.path.join(folder_path, 'STFT_LABELS_FOLD_fold_5.npy'))\n",
    "patients_fold_5 = np.load(os.path.join(folder_path, 'STFT_PATIENTS_FOLD_fold_5.npy'))\n",
    "\n",
    "eeg_folds = [eeg_fold_1, eeg_fold_2, eeg_fold_3, eeg_fold_4, eeg_fold_5]\n",
    "labels_folds = [labels_fold_1, labels_fold_2, labels_fold_3, labels_fold_4, labels_fold_5]\n",
    "patients_folds = [patients_fold_1, patients_fold_2, patients_fold_3, patients_fold_4, patients_fold_5]\n",
    "\n",
    "for i in range(len(eeg_folds)):\n",
    "    eeg_folds[i] = eeg_folds[i].astype(np.float16)"
   ]
  },
  {
   "cell_type": "code",
   "execution_count": 3,
   "id": "f9831e02",
   "metadata": {},
   "outputs": [],
   "source": [
    "def data_balancer(data, labels, factor):\n",
    "    # Count the number of samples in each class\n",
    "    num_class_0 = np.sum(labels == 0)\n",
    "    num_class_1 = np.sum(labels == 1)\n",
    "    num_class_2 = np.sum(labels == 2)\n",
    "\n",
    "    # Find the minimum number of samples across all classes\n",
    "    min_samples = min(num_class_0, num_class_1, num_class_2)\n",
    "\n",
    "    # Calculate the number of samples to take from each class\n",
    "    samples_per_class = min_samples // factor\n",
    "\n",
    "    # Randomly sample 'samples_per_class' from each class\n",
    "    class_0_indices = np.random.choice(np.where(labels == 0)[0], samples_per_class, replace=False)\n",
    "    class_1_indices = np.random.choice(np.where(labels == 1)[0], samples_per_class, replace=False)\n",
    "    class_2_indices = np.random.choice(np.where(labels == 2)[0], samples_per_class, replace=False)\n",
    "\n",
    "    # Combine balanced indices\n",
    "    balanced_indices = np.concatenate((class_0_indices, class_1_indices, class_2_indices))\n",
    "\n",
    "    # Shuffle the balanced indices\n",
    "    np.random.shuffle(balanced_indices)\n",
    "\n",
    "    # Create balanced training data and labels\n",
    "    balanced_data = data[balanced_indices]\n",
    "    balanced_labels = labels[balanced_indices]\n",
    "\n",
    "    return balanced_data, balanced_labels"
   ]
  },
  {
   "cell_type": "code",
   "execution_count": 4,
   "id": "0497bd4e",
   "metadata": {},
   "outputs": [],
   "source": [
    "class EarlyStopping:\n",
    "    def __init__(self, patience=5):\n",
    "        \"\"\"\n",
    "        Initializes the early stopping mechanism based on divergence detection.\n",
    "\n",
    "        Args:\n",
    "            patience (int): Number of consecutive epochs with increasing validation loss\n",
    "                            before stopping.\n",
    "        \"\"\"\n",
    "        self.patience = patience\n",
    "        self.best_loss = None\n",
    "        self.counter = 0\n",
    "        self.early_stop = False\n",
    "        self.best_model_state = None\n",
    "\n",
    "    def __call__(self, val_loss, model):\n",
    "        \"\"\"\n",
    "        Checks if the validation loss is diverging and updates the state accordingly.\n",
    "\n",
    "        Args:\n",
    "            val_loss (float): Current epoch's validation loss.\n",
    "            model (torch.nn.Module): The model being trained.\n",
    "        \"\"\"\n",
    "        if self.best_loss is None or val_loss < self.best_loss:\n",
    "            # Improvement detected\n",
    "            self.best_loss = val_loss\n",
    "            self.best_model_state = model.state_dict()\n",
    "            self.counter = 0\n",
    "        else:\n",
    "            # Validation loss increased\n",
    "            self.counter += 1\n",
    "            if self.counter >= self.patience:\n",
    "                print(f\"Divergence detected. Stopping training after {self.counter} epochs.\")\n",
    "                self.early_stop = True\n",
    "\n",
    "    def load_best_model(self, model):\n",
    "        \"\"\"\n",
    "        Restores the model to the state with the lowest validation loss.\n",
    "\n",
    "        Args:\n",
    "            model (torch.nn.Module): The model to restore.\n",
    "        \"\"\"\n",
    "        model.load_state_dict(self.best_model_state)\n",
    "\n",
    "\n"
   ]
  },
  {
   "cell_type": "code",
   "execution_count": 5,
   "id": "04c9bba8",
   "metadata": {},
   "outputs": [
    {
     "name": "stderr",
     "output_type": "stream",
     "text": [
      "c:\\Users\\Gabriel\\anaconda3\\envs\\cudaenv\\Lib\\site-packages\\tqdm\\auto.py:21: TqdmWarning: IProgress not found. Please update jupyter and ipywidgets. See https://ipywidgets.readthedocs.io/en/stable/user_install.html\n",
      "  from .autonotebook import tqdm as notebook_tqdm\n"
     ]
    }
   ],
   "source": [
    "import torch\n",
    "import torch.nn as nn\n",
    "from timm.layers import DropPath, to_2tuple, trunc_normal_\n",
    "\n",
    "class Mlp(nn.Module):\n",
    "    def __init__(self, in_features, hidden_features=None, out_features=None, act_layer=nn.GELU, drop=0.):\n",
    "        super().__init__()\n",
    "        out_features = out_features or in_features\n",
    "        hidden_features = hidden_features or in_features\n",
    "        self.fc1 = nn.Linear(in_features, hidden_features)\n",
    "        self.act = act_layer()\n",
    "        self.fc2 = nn.Linear(hidden_features, out_features)\n",
    "        self.drop = nn.Dropout(drop)\n",
    "\n",
    "    def forward(self, x):\n",
    "        x = self.fc1(x)\n",
    "        x = self.act(x)\n",
    "        x = self.drop(x)\n",
    "        x = self.fc2(x)\n",
    "        x = self.drop(x)\n",
    "        return x\n",
    "\n",
    "def window_partition(x, window_size):\n",
    "    B, H, W, C = x.shape\n",
    "    x = x.view(B, H // window_size, window_size, W // window_size, window_size, C)\n",
    "    windows = x.permute(0, 1, 3, 2, 4, 5).contiguous().view(-1, window_size, window_size, C)\n",
    "    return windows\n",
    "\n",
    "def window_reverse(windows, window_size, H, W):\n",
    "    B = int(windows.shape[0] / (H * W / window_size / window_size))\n",
    "    x = windows.view(B, H // window_size, W // window_size, window_size, window_size, -1)\n",
    "    x = x.permute(0, 1, 3, 2, 4, 5).contiguous().view(B, H, W, -1)\n",
    "    return x\n",
    "\n",
    "class WindowAttention(nn.Module):\n",
    "    def __init__(self, dim, window_size, num_heads, qkv_bias=True, qk_scale=None, attn_drop=0., proj_drop=0.):\n",
    "        super().__init__()\n",
    "        self.dim = dim\n",
    "        self.window_size = window_size\n",
    "        self.num_heads = num_heads\n",
    "        head_dim = dim // num_heads\n",
    "        self.scale = qk_scale or head_dim ** -0.5\n",
    "\n",
    "        self.relative_position_bias_table = nn.Parameter(\n",
    "            torch.zeros((2 * window_size[0] - 1) * (2 * window_size[1] - 1), num_heads))\n",
    "\n",
    "        coords_h = torch.arange(self.window_size[0])\n",
    "        coords_w = torch.arange(self.window_size[1])\n",
    "        coords = torch.stack(torch.meshgrid([coords_h, coords_w]))\n",
    "        coords_flatten = torch.flatten(coords, 1)\n",
    "        relative_coords = coords_flatten[:, :, None] - coords_flatten[:, None, :]\n",
    "        relative_coords = relative_coords.permute(1, 2, 0).contiguous()\n",
    "        relative_coords[:, :, 0] += self.window_size[0] - 1\n",
    "        relative_coords[:, :, 1] += self.window_size[1] - 1\n",
    "        relative_coords[:, :, 0] *= 2 * self.window_size[1] - 1\n",
    "        relative_position_index = relative_coords.sum(-1)\n",
    "        self.register_buffer(\"relative_position_index\", relative_position_index)\n",
    "\n",
    "        self.qkv = nn.Linear(dim, dim * 3, bias=qkv_bias)\n",
    "        self.attn_drop = nn.Dropout(attn_drop)\n",
    "        self.proj = nn.Linear(dim, dim)\n",
    "        self.proj_drop = nn.Dropout(proj_drop)\n",
    "\n",
    "        trunc_normal_(self.relative_position_bias_table, std=.02)\n",
    "        self.softmax = nn.Softmax(dim=-1)\n",
    "\n",
    "    def forward(self, x, mask=None):\n",
    "        B_, N, C = x.shape\n",
    "        qkv = self.qkv(x).reshape(B_, N, 3, self.num_heads, C // self.num_heads).permute(2, 0, 3, 1, 4)\n",
    "        q, k, v = qkv[0], qkv[1], qkv[2]\n",
    "\n",
    "        q = q * self.scale\n",
    "        attn = (q @ k.transpose(-2, -1))\n",
    "\n",
    "        relative_position_bias = self.relative_position_bias_table[self.relative_position_index.view(-1)].view(\n",
    "            self.window_size[0] * self.window_size[1], self.window_size[0] * self.window_size[1], -1)\n",
    "        relative_position_bias = relative_position_bias.permute(2, 0, 1).contiguous()\n",
    "        attn = attn + relative_position_bias.unsqueeze(0)\n",
    "\n",
    "        if mask is not None:\n",
    "            nW = mask.shape[0]\n",
    "            attn = attn.view(B_ // nW, nW, self.num_heads, N, N) + mask.unsqueeze(1).unsqueeze(0)\n",
    "            attn = attn.view(-1, self.num_heads, N, N)\n",
    "            attn = self.softmax(attn)\n",
    "        else:\n",
    "            attn = self.softmax(attn)\n",
    "\n",
    "        attn = self.attn_drop(attn)\n",
    "        x = (attn @ v).transpose(1, 2).reshape(B_, N, C)\n",
    "        x = self.proj(x)\n",
    "        x = self.proj_drop(x)\n",
    "        return x\n",
    "\n",
    "class SwinTransformerBlock(nn.Module):\n",
    "    def __init__(self, dim, input_resolution, num_heads, window_size=7, shift_size=0,\n",
    "                 mlp_ratio=4., qkv_bias=True, qk_scale=None, drop=0., attn_drop=0., drop_path=0.,\n",
    "                 act_layer=nn.GELU, norm_layer=nn.LayerNorm):\n",
    "        super().__init__()\n",
    "        self.dim = dim\n",
    "        self.input_resolution = input_resolution\n",
    "        self.num_heads = num_heads\n",
    "        self.window_size = window_size\n",
    "        self.shift_size = shift_size\n",
    "        self.mlp_ratio = mlp_ratio\n",
    "        if min(self.input_resolution) <= self.window_size:\n",
    "            self.shift_size = 0\n",
    "            self.window_size = min(self.input_resolution)\n",
    "        assert 0 <= self.shift_size < self.window_size, \"shift_size must in 0-window_size\"\n",
    "\n",
    "        self.norm1 = norm_layer(dim)\n",
    "        self.attn = WindowAttention(\n",
    "            dim, window_size=to_2tuple(self.window_size), num_heads=num_heads,\n",
    "            qkv_bias=qkv_bias, qk_scale=qk_scale, attn_drop=attn_drop, proj_drop=drop)\n",
    "\n",
    "        self.drop_path = DropPath(drop_path) if drop_path > 0. else nn.Identity()\n",
    "        self.norm2 = norm_layer(dim)\n",
    "        mlp_hidden_dim = int(dim * mlp_ratio)\n",
    "        self.mlp = Mlp(in_features=dim, hidden_features=mlp_hidden_dim, act_layer=act_layer, drop=drop)\n",
    "\n",
    "        if self.shift_size > 0:\n",
    "            H, W = self.input_resolution\n",
    "            img_mask = torch.zeros((1, H, W, 1))\n",
    "            h_slices = (slice(0, -self.window_size),\n",
    "                        slice(-self.window_size, -self.shift_size),\n",
    "                        slice(-self.shift_size, None))\n",
    "            w_slices = (slice(0, -self.window_size),\n",
    "                        slice(-self.window_size, -self.shift_size),\n",
    "                        slice(-self.shift_size, None))\n",
    "            cnt = 0\n",
    "            for h in h_slices:\n",
    "                for w in w_slices:\n",
    "                    img_mask[:, h, w, :] = cnt\n",
    "                    cnt += 1\n",
    "\n",
    "            mask_windows = window_partition(img_mask, self.window_size)\n",
    "            mask_windows = mask_windows.view(-1, self.window_size * self.window_size)\n",
    "            attn_mask = mask_windows.unsqueeze(1) - mask_windows.unsqueeze(2)\n",
    "            attn_mask = attn_mask.masked_fill(attn_mask != 0, float(-100.0)).masked_fill(attn_mask == 0, float(0.0))\n",
    "        else:\n",
    "            attn_mask = None\n",
    "\n",
    "        self.register_buffer(\"attn_mask\", attn_mask)\n",
    "\n",
    "    def forward(self, x):\n",
    "        H, W = self.input_resolution\n",
    "        B, L, C = x.shape\n",
    "        assert L == H * W, \"input feature has wrong size\"\n",
    "\n",
    "        shortcut = x\n",
    "        x = self.norm1(x)\n",
    "        x = x.view(B, H, W, C)\n",
    "\n",
    "        if self.shift_size > 0:\n",
    "            shifted_x = torch.roll(x, shifts=(-self.shift_size, -self.shift_size), dims=(1, 2))\n",
    "            x_windows = window_partition(shifted_x, self.window_size)\n",
    "        else:\n",
    "            shifted_x = x\n",
    "            x_windows = window_partition(shifted_x, self.window_size)\n",
    "\n",
    "        x_windows = x_windows.view(-1, self.window_size * self.window_size, C)\n",
    "        attn_windows = self.attn(x_windows, mask=self.attn_mask)\n",
    "        attn_windows = attn_windows.view(-1, self.window_size, self.window_size, C)\n",
    "\n",
    "        if self.shift_size > 0:\n",
    "            shifted_x = window_reverse(attn_windows, self.window_size, H, W)\n",
    "            x = torch.roll(shifted_x, shifts=(self.shift_size, self.shift_size), dims=(1, 2))\n",
    "        else:\n",
    "            shifted_x = window_reverse(attn_windows, self.window_size, H, W)\n",
    "            x = shifted_x\n",
    "            \n",
    "        x = x.view(B, H * W, C)\n",
    "        x = shortcut + self.drop_path(x)\n",
    "        x = x + self.drop_path(self.mlp(self.norm2(x)))\n",
    "\n",
    "        return x\n",
    "\n",
    "class PatchMerging(nn.Module):\n",
    "    def __init__(self, input_resolution, dim, norm_layer=nn.LayerNorm):\n",
    "        super().__init__()\n",
    "        self.input_resolution = input_resolution\n",
    "        self.dim = dim\n",
    "        self.reduction = nn.Linear(4 * dim, 2 * dim, bias=False)\n",
    "        self.norm = norm_layer(4 * dim)\n",
    "\n",
    "    def forward(self, x):\n",
    "        H, W = self.input_resolution\n",
    "        B, L, C = x.shape\n",
    "        assert L == H * W, \"input feature has wrong size\"\n",
    "        assert H % 2 == 0 and W % 2 == 0, f\"x size ({H}*{W}) are not even.\"\n",
    "\n",
    "        x = x.view(B, H, W, C)\n",
    "\n",
    "        x0 = x[:, 0::2, 0::2, :]\n",
    "        x1 = x[:, 1::2, 0::2, :]\n",
    "        x2 = x[:, 0::2, 1::2, :]\n",
    "        x3 = x[:, 1::2, 1::2, :]\n",
    "        x = torch.cat([x0, x1, x2, x3], -1)\n",
    "        x = x.view(B, -1, 4 * C)\n",
    "\n",
    "        x = self.norm(x)\n",
    "        x = self.reduction(x)\n",
    "\n",
    "        return x\n",
    "\n",
    "class BasicLayer(nn.Module):\n",
    "    def __init__(self, dim, input_resolution, depth, num_heads, window_size,\n",
    "                 mlp_ratio=4., qkv_bias=True, qk_scale=None, drop=0., attn_drop=0.,\n",
    "                 drop_path=0., norm_layer=nn.LayerNorm, downsample=None):\n",
    "        super().__init__()\n",
    "        self.dim = dim\n",
    "        self.input_resolution = input_resolution\n",
    "        self.depth = depth\n",
    "\n",
    "        self.blocks = nn.ModuleList([\n",
    "            SwinTransformerBlock(dim=dim, input_resolution=input_resolution,\n",
    "                                 num_heads=num_heads, window_size=window_size,\n",
    "                                 shift_size=0 if (i % 2 == 0) else window_size // 2,\n",
    "                                 mlp_ratio=mlp_ratio,\n",
    "                                 qkv_bias=qkv_bias, qk_scale=qk_scale,\n",
    "                                 drop=drop, attn_drop=attn_drop,\n",
    "                                 drop_path=drop_path[i] if isinstance(drop_path, list) else drop_path,\n",
    "                                 norm_layer=norm_layer)\n",
    "            for i in range(depth)])\n",
    "\n",
    "        if downsample is not None:\n",
    "            self.downsample = downsample(input_resolution, dim=dim, norm_layer=norm_layer)\n",
    "        else:\n",
    "            self.downsample = None\n",
    "\n",
    "    def forward(self, x):\n",
    "        for blk in self.blocks:\n",
    "            x = blk(x)\n",
    "        if self.downsample is not None:\n",
    "            x = self.downsample(x)\n",
    "        return x\n",
    "\n",
    "class PatchEmbed(nn.Module):\n",
    "    def __init__(self, img_size=224, patch_size=4, in_chans=3, embed_dim=96, norm_layer=None):\n",
    "        super().__init__()\n",
    "        img_size = to_2tuple(img_size)\n",
    "        patch_size = to_2tuple(patch_size)\n",
    "        patches_resolution = [img_size[0] // patch_size[0], img_size[1] // patch_size[1]]\n",
    "        self.img_size = img_size\n",
    "        self.patch_size = patch_size\n",
    "        self.patches_resolution = patches_resolution\n",
    "        self.num_patches = patches_resolution[0] * patches_resolution[1]\n",
    "\n",
    "        self.in_chans = in_chans\n",
    "        self.embed_dim = embed_dim\n",
    "\n",
    "        self.proj = nn.Conv2d(in_chans, embed_dim, kernel_size=patch_size, stride=patch_size)\n",
    "        self.norm = norm_layer(embed_dim) if norm_layer else None\n",
    "\n",
    "    def forward(self, x):\n",
    "        B, C, H, W = x.shape\n",
    "        assert H == self.img_size[0] and W == self.img_size[1], \\\n",
    "            f\"Input image size ({H}*{W}) doesn't match model ({self.img_size[0]}*{self.img_size[1]}).\"\n",
    "        x = self.proj(x).flatten(2).transpose(1, 2)\n",
    "        if self.norm is not None:\n",
    "            x = self.norm(x)\n",
    "        return x\n",
    "\n",
    "class SwinTransformer(nn.Module):\n",
    "    def __init__(self, img_size=224, patch_size=4, in_chans=3, num_classes=1000,\n",
    "                 embed_dim=96, depths=[2, 2, 6, 2], num_heads=[3, 6, 12, 24],\n",
    "                 window_size=7, mlp_ratio=4., qkv_bias=True, qk_scale=None,\n",
    "                 drop_rate=0., attn_drop_rate=0., drop_path_rate=0.1,\n",
    "                 norm_layer=nn.LayerNorm, ape=False, patch_norm=True, **kwargs):\n",
    "        super().__init__()\n",
    "\n",
    "        self.num_classes = num_classes\n",
    "        self.num_layers = len(depths)\n",
    "        self.embed_dim = embed_dim\n",
    "        self.ape = ape\n",
    "        self.patch_norm = patch_norm\n",
    "        self.num_features = int(embed_dim * 2 ** (self.num_layers - 1))\n",
    "        self.mlp_ratio = mlp_ratio\n",
    "\n",
    "        self.patch_embed = PatchEmbed(\n",
    "            img_size=img_size, patch_size=patch_size, in_chans=in_chans, embed_dim=embed_dim,\n",
    "            norm_layer=norm_layer if self.patch_norm else None)\n",
    "        num_patches = self.patch_embed.num_patches\n",
    "        patches_resolution = self.patch_embed.patches_resolution\n",
    "        self.patches_resolution = patches_resolution\n",
    "\n",
    "        if self.ape:\n",
    "            self.absolute_pos_embed = nn.Parameter(torch.zeros(1, num_patches, embed_dim))\n",
    "            trunc_normal_(self.absolute_pos_embed, std=.02)\n",
    "\n",
    "        self.pos_drop = nn.Dropout(p=drop_rate)\n",
    "\n",
    "        dpr = [x.item() for x in torch.linspace(0, drop_path_rate, sum(depths))]\n",
    "\n",
    "        self.layers = nn.ModuleList()\n",
    "        for i_layer in range(self.num_layers):\n",
    "            layer = BasicLayer(dim=int(embed_dim * 2 ** i_layer),\n",
    "                               input_resolution=(patches_resolution[0] // (2 ** i_layer),\n",
    "                                                patches_resolution[1] // (2 ** i_layer)),\n",
    "                               depth=depths[i_layer],\n",
    "                               num_heads=num_heads[i_layer],\n",
    "                               window_size=window_size,\n",
    "                               mlp_ratio=self.mlp_ratio,\n",
    "                               qkv_bias=qkv_bias, qk_scale=qk_scale,\n",
    "                               drop=drop_rate, attn_drop=attn_drop_rate,\n",
    "                               drop_path=dpr[sum(depths[:i_layer]):sum(depths[:i_layer + 1])],\n",
    "                               norm_layer=norm_layer,\n",
    "                               downsample=PatchMerging if (i_layer < self.num_layers - 1) else None)\n",
    "            self.layers.append(layer)\n",
    "\n",
    "        self.norm = norm_layer(self.num_features)\n",
    "        self.avgpool = nn.AdaptiveAvgPool1d(1)\n",
    "        self.head = nn.Linear(self.num_features, num_classes) if num_classes > 0 else nn.Identity()\n",
    "\n",
    "        self.apply(self._init_weights)\n",
    "\n",
    "    def _init_weights(self, m):\n",
    "        if isinstance(m, nn.Linear):\n",
    "            trunc_normal_(m.weight, std=.02)\n",
    "            if isinstance(m, nn.Linear) and m.bias is not None:\n",
    "                nn.init.constant_(m.bias, 0)\n",
    "        elif isinstance(m, nn.LayerNorm):\n",
    "            nn.init.constant_(m.bias, 0)\n",
    "            nn.init.constant_(m.weight, 1.0)\n",
    "\n",
    "    def forward_features(self, x):\n",
    "        x = self.patch_embed(x)\n",
    "        if self.ape:\n",
    "            x = x + self.absolute_pos_embed\n",
    "        x = self.pos_drop(x)\n",
    "\n",
    "        for layer in self.layers:\n",
    "            x = layer(x)\n",
    "\n",
    "        x = self.norm(x)\n",
    "        x = self.avgpool(x.transpose(1, 2))\n",
    "        x = torch.flatten(x, 1)\n",
    "        return x\n",
    "\n",
    "    def forward(self, x):\n",
    "        x = self.forward_features(x)\n",
    "        x = self.head(x)\n",
    "        return x"
   ]
  },
  {
   "cell_type": "code",
   "execution_count": 6,
   "id": "eb53c211",
   "metadata": {},
   "outputs": [
    {
     "name": "stderr",
     "output_type": "stream",
     "text": [
      "c:\\Users\\Gabriel\\anaconda3\\envs\\cudaenv\\Lib\\site-packages\\torch\\functional.py:539: UserWarning: torch.meshgrid: in an upcoming release, it will be required to pass the indexing argument. (Triggered internally at C:\\actions-runner\\_work\\pytorch\\pytorch\\pytorch\\aten\\src\\ATen\\native\\TensorShape.cpp:4312.)\n",
      "  return _VF.meshgrid(tensors, **kwargs)  # type: ignore[attr-defined]\n"
     ]
    },
    {
     "data": {
      "text/plain": [
       "torch.Size([1, 3])"
      ]
     },
     "execution_count": 6,
     "metadata": {},
     "output_type": "execute_result"
    }
   ],
   "source": [
    "randomdata = torch.randn((1,3,224,224))\n",
    "tempmodel = SwinTransformer(num_classes=3)\n",
    "op = tempmodel(randomdata)\n",
    "op.shape"
   ]
  },
  {
   "cell_type": "code",
   "execution_count": 7,
   "id": "a18714d6-afe3-46f9-8412-708fc74d166d",
   "metadata": {},
   "outputs": [
    {
     "data": {
      "text/plain": [
       "====================================================================================================\n",
       "Layer (type:depth-idx)                             Output Shape              Param #\n",
       "====================================================================================================\n",
       "SwinTransformer                                    [1, 3]                    --\n",
       "├─PatchEmbed: 1-1                                  [1, 3136, 96]             --\n",
       "│    └─Conv2d: 2-1                                 [1, 96, 56, 56]           4,704\n",
       "│    └─LayerNorm: 2-2                              [1, 3136, 96]             192\n",
       "├─Dropout: 1-2                                     [1, 3136, 96]             --\n",
       "├─ModuleList: 1-3                                  --                        --\n",
       "│    └─BasicLayer: 2-3                             [1, 784, 192]             --\n",
       "│    │    └─ModuleList: 3-1                        --                        224,694\n",
       "│    │    └─PatchMerging: 3-2                      [1, 784, 192]             74,496\n",
       "│    └─BasicLayer: 2-4                             [1, 196, 384]             --\n",
       "│    │    └─ModuleList: 3-3                        --                        891,756\n",
       "│    │    └─PatchMerging: 3-4                      [1, 196, 384]             296,448\n",
       "│    └─BasicLayer: 2-5                             [1, 49, 768]              --\n",
       "│    │    └─ModuleList: 3-5                        --                        10,658,952\n",
       "│    │    └─PatchMerging: 3-6                      [1, 49, 768]              1,182,720\n",
       "│    └─BasicLayer: 2-6                             [1, 49, 768]              --\n",
       "│    │    └─ModuleList: 3-7                        --                        14,183,856\n",
       "├─LayerNorm: 1-4                                   [1, 49, 768]              1,536\n",
       "├─AdaptiveAvgPool1d: 1-5                           [1, 768, 1]               --\n",
       "├─Linear: 1-6                                      [1, 3]                    2,307\n",
       "====================================================================================================\n",
       "Total params: 27,521,661\n",
       "Trainable params: 27,521,661\n",
       "Non-trainable params: 0\n",
       "Total mult-adds (Units.MEGABYTES): 62.03\n",
       "====================================================================================================\n",
       "Input size (MB): 0.60\n",
       "Forward/backward pass size (MB): 137.28\n",
       "Params size (MB): 109.99\n",
       "Estimated Total Size (MB): 247.88\n",
       "===================================================================================================="
      ]
     },
     "execution_count": 7,
     "metadata": {},
     "output_type": "execute_result"
    }
   ],
   "source": [
    "from torchinfo import summary\n",
    "summary(tempmodel, input_size=(1,3,224,224))"
   ]
  },
  {
   "cell_type": "code",
   "execution_count": 8,
   "id": "025775c3-fb45-4291-9722-9e1687645bed",
   "metadata": {},
   "outputs": [],
   "source": [
    "def data_balancer(data, labels, factor):\n",
    "    # Count the number of samples in each class\n",
    "    num_class_0 = np.sum(labels == 0)\n",
    "    num_class_1 = np.sum(labels == 1)\n",
    "    num_class_2 = np.sum(labels == 2)\n",
    "    \n",
    "    # Find the minimum number of samples across all classes\n",
    "    min_samples = min(num_class_0, num_class_1, num_class_2)\n",
    "    \n",
    "    # Calculate the number of samples to take from each class\n",
    "    samples_per_class = min_samples // factor\n",
    "    \n",
    "    # Randomly sample 'samples_per_class' from each class\n",
    "    class_0_indices = np.random.choice(np.where(labels == 0)[0], samples_per_class, replace=False)\n",
    "    class_1_indices = np.random.choice(np.where(labels == 1)[0], samples_per_class, replace=False)\n",
    "    class_2_indices = np.random.choice(np.where(labels == 2)[0], samples_per_class, replace=False)\n",
    "    \n",
    "    # Combine balanced indices\n",
    "    balanced_indices = np.concatenate((class_0_indices, class_1_indices, class_2_indices))\n",
    "    \n",
    "    # Shuffle the balanced indices\n",
    "    np.random.shuffle(balanced_indices)\n",
    "    \n",
    "    # Create balanced training data and labels\n",
    "    balanced_data = data[balanced_indices]\n",
    "    balanced_labels = labels[balanced_indices]\n",
    "    \n",
    "    return balanced_data, balanced_labels"
   ]
  },
  {
   "cell_type": "code",
   "execution_count": 9,
   "id": "0813e8fc-e2ba-405a-a101-52d9f8bf2d79",
   "metadata": {},
   "outputs": [],
   "source": [
    "class EarlyStopping:\n",
    "    def __init__(self, patience=5):\n",
    "\n",
    "        self.patience = patience\n",
    "        self.best_loss = None\n",
    "        self.counter = 0\n",
    "        self.early_stop = False\n",
    "        self.best_model_state = None\n",
    "\n",
    "    def __call__(self, val_loss, model):\n",
    "\n",
    "        if self.best_loss is None or val_loss < self.best_loss:\n",
    "            # Improvement detected\n",
    "            self.best_loss = val_loss\n",
    "            self.best_model_state = model.state_dict()\n",
    "            self.counter = 0\n",
    "        else:\n",
    "            # Validation loss increased\n",
    "            self.counter += 1\n",
    "            if self.counter >= self.patience:\n",
    "                print(f\"Divergence detected. Stopping training after {self.counter} epochs.\")\n",
    "                self.early_stop = True\n",
    "\n",
    "    def load_best_model(self, model):\n",
    "\n",
    "        model.load_state_dict(self.best_model_state)"
   ]
  },
  {
   "cell_type": "code",
   "execution_count": 10,
   "id": "c5c4cb8f",
   "metadata": {},
   "outputs": [],
   "source": [
    "torch.manual_seed(42)\n",
    "device = torch.device('cuda' if torch.cuda.is_available() else 'cpu')\n",
    "\n",
    "# pca = sklearn.decomposition.PCA(3)\n",
    "epochs = 100\n",
    "\n",
    "\n",
    "fold_indices = np.arange(5)\n",
    "fold_indices = np.random.permutation(fold_indices)\n",
    "val_fold_indices = np.roll(fold_indices, 1)\n",
    "\n",
    "input_shape = (3,224,224)\n",
    "num_classes = 3\n"
   ]
  },
  {
   "cell_type": "code",
   "execution_count": 11,
   "id": "c8682a61-082a-4ad4-ad73-2cd944134a5c",
   "metadata": {},
   "outputs": [
    {
     "name": "stderr",
     "output_type": "stream",
     "text": [
      "[I 2025-06-05 05:19:12,957] A new study created in memory with name: no-name-598e60d7-b219-4e53-9b62-57858d4628d4\n",
      "c:\\Users\\Gabriel\\anaconda3\\envs\\cudaenv\\Lib\\site-packages\\optuna\\distributions.py:515: UserWarning: Choices for a categorical distribution should be a tuple of None, bool, int, float and str for persistent storage but contains [2, 2, 6, 2] which is of type list.\n",
      "  warnings.warn(message)\n",
      "c:\\Users\\Gabriel\\anaconda3\\envs\\cudaenv\\Lib\\site-packages\\optuna\\distributions.py:515: UserWarning: Choices for a categorical distribution should be a tuple of None, bool, int, float and str for persistent storage but contains [2, 2, 18, 2] which is of type list.\n",
      "  warnings.warn(message)\n",
      "c:\\Users\\Gabriel\\anaconda3\\envs\\cudaenv\\Lib\\site-packages\\optuna\\distributions.py:515: UserWarning: Choices for a categorical distribution should be a tuple of None, bool, int, float and str for persistent storage but contains [3, 6, 12, 24] which is of type list.\n",
      "  warnings.warn(message)\n",
      "c:\\Users\\Gabriel\\anaconda3\\envs\\cudaenv\\Lib\\site-packages\\optuna\\distributions.py:515: UserWarning: Choices for a categorical distribution should be a tuple of None, bool, int, float and str for persistent storage but contains [4, 8, 16, 32] which is of type list.\n",
      "  warnings.warn(message)\n"
     ]
    },
    {
     "name": "stdout",
     "output_type": "stream",
     "text": [
      "Trial 1 hyperparameters:\n",
      "embed_dim: 128\n",
      "depths: [2, 2, 6, 2]\n",
      "num_heads: [4, 8, 16, 32]\n",
      "window_size: 7\n",
      "mlp_ratio: 2.315253951338863\n",
      "drop_rate: 0.06591478726152505\n",
      "attn_drop_rate: 0.3904857125329818\n",
      "drop_path_rate: 0.4348184325844329\n",
      "learning_rate: 1.0338513802443562e-05\n",
      "weight_decay: 2.0244872861746227e-06\n",
      "batch_size: 16\n",
      "optimizer: Adam\n",
      "label_smoothing: 0.2\n",
      "factor: 1\n",
      "Trial 0 hyperparameters:\n",
      "embed_dim: 96\n",
      "depths: [2, 2, 6, 2]\n",
      "num_heads: [3, 6, 12, 24]\n",
      "window_size: 14\n",
      "mlp_ratio: 2.7894096226322445\n",
      "drop_rate: 0.4696594350952522\n",
      "attn_drop_rate: 0.3379298242783171\n",
      "drop_path_rate: 0.4081499789066659\n",
      "learning_rate: 0.00026805380756851643\n",
      "weight_decay: 0.00012852020361197656\n",
      "batch_size: 16\n",
      "optimizer: Adam\n",
      "label_smoothing: 0.2\n",
      "factor: 1\n",
      "EarlyStopping counter: 1 out of 10\n",
      "EarlyStopping counter: 2 out of 10\n",
      "EarlyStopping counter: 1 out of 10\n",
      "EarlyStopping counter: 3 out of 10\n",
      "EarlyStopping counter: 2 out of 10\n",
      "EarlyStopping counter: 3 out of 10\n",
      "EarlyStopping counter: 1 out of 10\n",
      "EarlyStopping counter: 1 out of 10\n",
      "EarlyStopping counter: 2 out of 10\n",
      "EarlyStopping counter: 2 out of 10\n",
      "EarlyStopping counter: 3 out of 10\n",
      "EarlyStopping counter: 3 out of 10\n",
      "EarlyStopping counter: 4 out of 10\n",
      "EarlyStopping counter: 4 out of 10\n",
      "EarlyStopping counter: 5 out of 10\n",
      "EarlyStopping counter: 5 out of 10\n",
      "EarlyStopping counter: 6 out of 10\n",
      "EarlyStopping counter: 1 out of 10\n",
      "EarlyStopping counter: 7 out of 10\n",
      "EarlyStopping counter: 2 out of 10\n",
      "EarlyStopping counter: 8 out of 10\n",
      "EarlyStopping counter: 3 out of 10\n",
      "EarlyStopping counter: 9 out of 10\n",
      "EarlyStopping counter: 4 out of 10\n",
      "EarlyStopping counter: 10 out of 10\n",
      "Early stopping at epoch 15\n"
     ]
    },
    {
     "name": "stderr",
     "output_type": "stream",
     "text": [
      "[I 2025-06-05 05:22:40,967] Trial 0 finished with value: 0.35771393828849374 and parameters: {'embed_dim': 96, 'depths': [2, 2, 6, 2], 'num_heads': [3, 6, 12, 24], 'window_size': 14, 'mlp_ratio': 2.7894096226322445, 'drop_rate': 0.4696594350952522, 'attn_drop_rate': 0.3379298242783171, 'drop_path_rate': 0.4081499789066659, 'learning_rate': 0.00026805380756851643, 'weight_decay': 0.00012852020361197656}. Best is trial 0 with value: 0.35771393828849374.\n"
     ]
    },
    {
     "name": "stdout",
     "output_type": "stream",
     "text": [
      "Trial 0: Test Accuracy = 0.3577\n",
      "Trial 2 hyperparameters:\n",
      "embed_dim: 96\n",
      "depths: [2, 2, 18, 2]\n",
      "num_heads: [4, 8, 16, 32]\n",
      "window_size: 14\n",
      "mlp_ratio: 2.0117522444111566\n",
      "drop_rate: 0.30282349461574126\n",
      "attn_drop_rate: 0.1052134196231495\n",
      "drop_path_rate: 0.35869965145699134\n",
      "learning_rate: 7.3540174006057e-05\n",
      "weight_decay: 3.463296205413402e-05\n",
      "batch_size: 16\n",
      "optimizer: Adam\n",
      "label_smoothing: 0.2\n",
      "factor: 1\n"
     ]
    },
    {
     "name": "stderr",
     "output_type": "stream",
     "text": [
      "c:\\Users\\Gabriel\\anaconda3\\envs\\cudaenv\\Lib\\site-packages\\optuna\\distributions.py:515: UserWarning: Choices for a categorical distribution should be a tuple of None, bool, int, float and str for persistent storage but contains [2, 2, 6, 2] which is of type list.\n",
      "  warnings.warn(message)\n",
      "c:\\Users\\Gabriel\\anaconda3\\envs\\cudaenv\\Lib\\site-packages\\optuna\\distributions.py:515: UserWarning: Choices for a categorical distribution should be a tuple of None, bool, int, float and str for persistent storage but contains [2, 2, 18, 2] which is of type list.\n",
      "  warnings.warn(message)\n",
      "c:\\Users\\Gabriel\\anaconda3\\envs\\cudaenv\\Lib\\site-packages\\optuna\\distributions.py:515: UserWarning: Choices for a categorical distribution should be a tuple of None, bool, int, float and str for persistent storage but contains [3, 6, 12, 24] which is of type list.\n",
      "  warnings.warn(message)\n",
      "c:\\Users\\Gabriel\\anaconda3\\envs\\cudaenv\\Lib\\site-packages\\optuna\\distributions.py:515: UserWarning: Choices for a categorical distribution should be a tuple of None, bool, int, float and str for persistent storage but contains [4, 8, 16, 32] which is of type list.\n",
      "  warnings.warn(message)\n"
     ]
    },
    {
     "name": "stdout",
     "output_type": "stream",
     "text": [
      "EarlyStopping counter: 5 out of 10\n",
      "EarlyStopping counter: 6 out of 10\n",
      "EarlyStopping counter: 7 out of 10\n",
      "EarlyStopping counter: 8 out of 10\n",
      "EarlyStopping counter: 1 out of 10\n",
      "EarlyStopping counter: 1 out of 10\n",
      "EarlyStopping counter: 2 out of 10\n",
      "EarlyStopping counter: 1 out of 10\n",
      "EarlyStopping counter: 3 out of 10\n",
      "EarlyStopping counter: 2 out of 10\n",
      "EarlyStopping counter: 4 out of 10\n",
      "EarlyStopping counter: 3 out of 10\n",
      "EarlyStopping counter: 5 out of 10\n",
      "EarlyStopping counter: 4 out of 10\n",
      "EarlyStopping counter: 6 out of 10\n",
      "EarlyStopping counter: 5 out of 10\n",
      "EarlyStopping counter: 7 out of 10\n",
      "EarlyStopping counter: 8 out of 10\n",
      "EarlyStopping counter: 6 out of 10\n",
      "EarlyStopping counter: 9 out of 10\n",
      "EarlyStopping counter: 7 out of 10\n",
      "EarlyStopping counter: 10 out of 10\n",
      "Early stopping at epoch 30\n"
     ]
    },
    {
     "name": "stderr",
     "output_type": "stream",
     "text": [
      "[I 2025-06-05 05:26:46,656] Trial 1 finished with value: 0.5230496118295204 and parameters: {'embed_dim': 128, 'depths': [2, 2, 6, 2], 'num_heads': [4, 8, 16, 32], 'window_size': 7, 'mlp_ratio': 2.315253951338863, 'drop_rate': 0.06591478726152505, 'attn_drop_rate': 0.3904857125329818, 'drop_path_rate': 0.4348184325844329, 'learning_rate': 1.0338513802443562e-05, 'weight_decay': 2.0244872861746227e-06}. Best is trial 1 with value: 0.5230496118295204.\n"
     ]
    },
    {
     "name": "stdout",
     "output_type": "stream",
     "text": [
      "Trial 1: Test Accuracy = 0.5230\n",
      "Trial 3 hyperparameters:\n",
      "embed_dim: 96\n",
      "depths: [2, 2, 6, 2]\n",
      "num_heads: [4, 8, 16, 32]\n",
      "window_size: 7\n",
      "mlp_ratio: 2.5476704304661144\n",
      "drop_rate: 0.47467187995764637\n",
      "attn_drop_rate: 0.3919366832662308\n",
      "drop_path_rate: 0.2538623195085496\n",
      "learning_rate: 0.00040205830677602055\n",
      "weight_decay: 0.00014625826258748224\n",
      "batch_size: 16\n",
      "optimizer: Adam\n",
      "label_smoothing: 0.2\n",
      "factor: 1\n"
     ]
    },
    {
     "name": "stderr",
     "output_type": "stream",
     "text": [
      "c:\\Users\\Gabriel\\anaconda3\\envs\\cudaenv\\Lib\\site-packages\\optuna\\distributions.py:515: UserWarning: Choices for a categorical distribution should be a tuple of None, bool, int, float and str for persistent storage but contains [2, 2, 6, 2] which is of type list.\n",
      "  warnings.warn(message)\n",
      "c:\\Users\\Gabriel\\anaconda3\\envs\\cudaenv\\Lib\\site-packages\\optuna\\distributions.py:515: UserWarning: Choices for a categorical distribution should be a tuple of None, bool, int, float and str for persistent storage but contains [2, 2, 18, 2] which is of type list.\n",
      "  warnings.warn(message)\n",
      "c:\\Users\\Gabriel\\anaconda3\\envs\\cudaenv\\Lib\\site-packages\\optuna\\distributions.py:515: UserWarning: Choices for a categorical distribution should be a tuple of None, bool, int, float and str for persistent storage but contains [3, 6, 12, 24] which is of type list.\n",
      "  warnings.warn(message)\n",
      "c:\\Users\\Gabriel\\anaconda3\\envs\\cudaenv\\Lib\\site-packages\\optuna\\distributions.py:515: UserWarning: Choices for a categorical distribution should be a tuple of None, bool, int, float and str for persistent storage but contains [4, 8, 16, 32] which is of type list.\n",
      "  warnings.warn(message)\n"
     ]
    },
    {
     "name": "stdout",
     "output_type": "stream",
     "text": [
      "EarlyStopping counter: 1 out of 10\n",
      "EarlyStopping counter: 2 out of 10\n",
      "EarlyStopping counter: 3 out of 10\n",
      "EarlyStopping counter: 4 out of 10\n",
      "EarlyStopping counter: 1 out of 10\n",
      "EarlyStopping counter: 5 out of 10\n",
      "EarlyStopping counter: 2 out of 10\n",
      "EarlyStopping counter: 6 out of 10\n",
      "EarlyStopping counter: 3 out of 10\n",
      "EarlyStopping counter: 7 out of 10\n",
      "EarlyStopping counter: 4 out of 10\n",
      "EarlyStopping counter: 8 out of 10\n",
      "EarlyStopping counter: 5 out of 10\n",
      "EarlyStopping counter: 9 out of 10\n",
      "EarlyStopping counter: 6 out of 10\n",
      "EarlyStopping counter: 10 out of 10\n",
      "Early stopping at epoch 21\n",
      "EarlyStopping counter: 7 out of 10\n"
     ]
    },
    {
     "name": "stderr",
     "output_type": "stream",
     "text": [
      "[I 2025-06-05 05:29:20,109] Trial 2 finished with value: 0.4823053340101581 and parameters: {'embed_dim': 96, 'depths': [2, 2, 18, 2], 'num_heads': [4, 8, 16, 32], 'window_size': 14, 'mlp_ratio': 2.0117522444111566, 'drop_rate': 0.30282349461574126, 'attn_drop_rate': 0.1052134196231495, 'drop_path_rate': 0.35869965145699134, 'learning_rate': 7.3540174006057e-05, 'weight_decay': 3.463296205413402e-05}. Best is trial 1 with value: 0.5230496118295204.\n"
     ]
    },
    {
     "name": "stdout",
     "output_type": "stream",
     "text": [
      "Trial 2: Test Accuracy = 0.4823\n"
     ]
    },
    {
     "name": "stderr",
     "output_type": "stream",
     "text": [
      "c:\\Users\\Gabriel\\anaconda3\\envs\\cudaenv\\Lib\\site-packages\\optuna\\distributions.py:515: UserWarning: Choices for a categorical distribution should be a tuple of None, bool, int, float and str for persistent storage but contains [2, 2, 6, 2] which is of type list.\n",
      "  warnings.warn(message)\n",
      "c:\\Users\\Gabriel\\anaconda3\\envs\\cudaenv\\Lib\\site-packages\\optuna\\distributions.py:515: UserWarning: Choices for a categorical distribution should be a tuple of None, bool, int, float and str for persistent storage but contains [2, 2, 18, 2] which is of type list.\n",
      "  warnings.warn(message)\n",
      "c:\\Users\\Gabriel\\anaconda3\\envs\\cudaenv\\Lib\\site-packages\\optuna\\distributions.py:515: UserWarning: Choices for a categorical distribution should be a tuple of None, bool, int, float and str for persistent storage but contains [3, 6, 12, 24] which is of type list.\n",
      "  warnings.warn(message)\n",
      "c:\\Users\\Gabriel\\anaconda3\\envs\\cudaenv\\Lib\\site-packages\\optuna\\distributions.py:515: UserWarning: Choices for a categorical distribution should be a tuple of None, bool, int, float and str for persistent storage but contains [4, 8, 16, 32] which is of type list.\n",
      "  warnings.warn(message)\n"
     ]
    },
    {
     "name": "stdout",
     "output_type": "stream",
     "text": [
      "Trial 4 hyperparameters:\n",
      "embed_dim: 128\n",
      "depths: [2, 2, 6, 2]\n",
      "num_heads: [3, 6, 12, 24]\n",
      "window_size: 14\n",
      "mlp_ratio: 2.1987064161378864\n",
      "drop_rate: 0.1793524465630833\n",
      "attn_drop_rate: 0.48215712463491966\n",
      "drop_path_rate: 0.024044276799376207\n",
      "learning_rate: 1.538829903430585e-05\n",
      "weight_decay: 2.4270454858358172e-05\n",
      "batch_size: 16\n",
      "optimizer: Adam\n",
      "label_smoothing: 0.2\n",
      "factor: 1\n",
      "EarlyStopping counter: 8 out of 10\n",
      "EarlyStopping counter: 9 out of 10\n",
      "EarlyStopping counter: 1 out of 10\n",
      "EarlyStopping counter: 10 out of 10\n",
      "Early stopping at epoch 12\n"
     ]
    },
    {
     "name": "stderr",
     "output_type": "stream",
     "text": [
      "[I 2025-06-05 05:29:50,244] Trial 3 finished with value: 0.3333333333333333 and parameters: {'embed_dim': 96, 'depths': [2, 2, 6, 2], 'num_heads': [4, 8, 16, 32], 'window_size': 7, 'mlp_ratio': 2.5476704304661144, 'drop_rate': 0.47467187995764637, 'attn_drop_rate': 0.3919366832662308, 'drop_path_rate': 0.2538623195085496, 'learning_rate': 0.00040205830677602055, 'weight_decay': 0.00014625826258748224}. Best is trial 1 with value: 0.5230496118295204.\n"
     ]
    },
    {
     "name": "stdout",
     "output_type": "stream",
     "text": [
      "Trial 3: Test Accuracy = 0.3333\n",
      "Trial 5 hyperparameters:\n",
      "embed_dim: 96\n",
      "depths: [2, 2, 6, 2]\n",
      "num_heads: [4, 8, 16, 32]\n",
      "window_size: 14\n",
      "mlp_ratio: 2.384757540452356\n",
      "drop_rate: 0.4463598531390726\n",
      "attn_drop_rate: 0.3166209697795943\n",
      "drop_path_rate: 0.1105414277068189\n",
      "learning_rate: 2.8451649222715097e-05\n",
      "weight_decay: 0.000183747983469474\n",
      "batch_size: 16\n",
      "optimizer: Adam\n",
      "label_smoothing: 0.2\n",
      "factor: 1\n"
     ]
    },
    {
     "name": "stderr",
     "output_type": "stream",
     "text": [
      "c:\\Users\\Gabriel\\anaconda3\\envs\\cudaenv\\Lib\\site-packages\\optuna\\distributions.py:515: UserWarning: Choices for a categorical distribution should be a tuple of None, bool, int, float and str for persistent storage but contains [2, 2, 6, 2] which is of type list.\n",
      "  warnings.warn(message)\n",
      "c:\\Users\\Gabriel\\anaconda3\\envs\\cudaenv\\Lib\\site-packages\\optuna\\distributions.py:515: UserWarning: Choices for a categorical distribution should be a tuple of None, bool, int, float and str for persistent storage but contains [2, 2, 18, 2] which is of type list.\n",
      "  warnings.warn(message)\n",
      "c:\\Users\\Gabriel\\anaconda3\\envs\\cudaenv\\Lib\\site-packages\\optuna\\distributions.py:515: UserWarning: Choices for a categorical distribution should be a tuple of None, bool, int, float and str for persistent storage but contains [3, 6, 12, 24] which is of type list.\n",
      "  warnings.warn(message)\n",
      "c:\\Users\\Gabriel\\anaconda3\\envs\\cudaenv\\Lib\\site-packages\\optuna\\distributions.py:515: UserWarning: Choices for a categorical distribution should be a tuple of None, bool, int, float and str for persistent storage but contains [4, 8, 16, 32] which is of type list.\n",
      "  warnings.warn(message)\n"
     ]
    },
    {
     "name": "stdout",
     "output_type": "stream",
     "text": [
      "EarlyStopping counter: 2 out of 10\n",
      "EarlyStopping counter: 1 out of 10\n",
      "EarlyStopping counter: 2 out of 10\n",
      "EarlyStopping counter: 3 out of 10\n",
      "EarlyStopping counter: 1 out of 10\n",
      "EarlyStopping counter: 4 out of 10\n",
      "EarlyStopping counter: 5 out of 10\n",
      "EarlyStopping counter: 1 out of 10\n",
      "EarlyStopping counter: 6 out of 10\n",
      "EarlyStopping counter: 2 out of 10\n",
      "EarlyStopping counter: 7 out of 10\n",
      "EarlyStopping counter: 3 out of 10\n",
      "EarlyStopping counter: 8 out of 10\n",
      "EarlyStopping counter: 9 out of 10\n",
      "EarlyStopping counter: 1 out of 10\n",
      "EarlyStopping counter: 10 out of 10\n",
      "Early stopping at epoch 13\n"
     ]
    },
    {
     "name": "stderr",
     "output_type": "stream",
     "text": [
      "[I 2025-06-05 05:32:20,760] Trial 4 finished with value: 0.4573127188567397 and parameters: {'embed_dim': 128, 'depths': [2, 2, 6, 2], 'num_heads': [3, 6, 12, 24], 'window_size': 14, 'mlp_ratio': 2.1987064161378864, 'drop_rate': 0.1793524465630833, 'attn_drop_rate': 0.48215712463491966, 'drop_path_rate': 0.024044276799376207, 'learning_rate': 1.538829903430585e-05, 'weight_decay': 2.4270454858358172e-05}. Best is trial 1 with value: 0.5230496118295204.\n"
     ]
    },
    {
     "name": "stdout",
     "output_type": "stream",
     "text": [
      "Trial 4: Test Accuracy = 0.4573\n",
      "Trial 6 hyperparameters:\n",
      "embed_dim: 96\n",
      "depths: [2, 2, 6, 2]\n",
      "num_heads: [4, 8, 16, 32]\n",
      "window_size: 7\n",
      "mlp_ratio: 3.8885301518748103\n",
      "drop_rate: 0.20736952159640815\n",
      "attn_drop_rate: 0.29043694608494597\n",
      "drop_path_rate: 0.18327214118479512\n",
      "learning_rate: 0.00010386240263281645\n",
      "weight_decay: 1.7740397970302996e-05\n",
      "batch_size: 16\n",
      "optimizer: Adam\n",
      "label_smoothing: 0.2\n",
      "factor: 1\n"
     ]
    },
    {
     "name": "stderr",
     "output_type": "stream",
     "text": [
      "c:\\Users\\Gabriel\\anaconda3\\envs\\cudaenv\\Lib\\site-packages\\optuna\\distributions.py:515: UserWarning: Choices for a categorical distribution should be a tuple of None, bool, int, float and str for persistent storage but contains [2, 2, 6, 2] which is of type list.\n",
      "  warnings.warn(message)\n",
      "c:\\Users\\Gabriel\\anaconda3\\envs\\cudaenv\\Lib\\site-packages\\optuna\\distributions.py:515: UserWarning: Choices for a categorical distribution should be a tuple of None, bool, int, float and str for persistent storage but contains [2, 2, 18, 2] which is of type list.\n",
      "  warnings.warn(message)\n",
      "c:\\Users\\Gabriel\\anaconda3\\envs\\cudaenv\\Lib\\site-packages\\optuna\\distributions.py:515: UserWarning: Choices for a categorical distribution should be a tuple of None, bool, int, float and str for persistent storage but contains [3, 6, 12, 24] which is of type list.\n",
      "  warnings.warn(message)\n",
      "c:\\Users\\Gabriel\\anaconda3\\envs\\cudaenv\\Lib\\site-packages\\optuna\\distributions.py:515: UserWarning: Choices for a categorical distribution should be a tuple of None, bool, int, float and str for persistent storage but contains [4, 8, 16, 32] which is of type list.\n",
      "  warnings.warn(message)\n"
     ]
    },
    {
     "name": "stdout",
     "output_type": "stream",
     "text": [
      "EarlyStopping counter: 2 out of 10\n",
      "EarlyStopping counter: 3 out of 10\n",
      "EarlyStopping counter: 4 out of 10\n",
      "EarlyStopping counter: 5 out of 10\n",
      "EarlyStopping counter: 1 out of 10\n",
      "EarlyStopping counter: 6 out of 10\n",
      "EarlyStopping counter: 2 out of 10\n",
      "EarlyStopping counter: 7 out of 10\n",
      "EarlyStopping counter: 3 out of 10\n",
      "EarlyStopping counter: 8 out of 10\n",
      "EarlyStopping counter: 9 out of 10\n",
      "EarlyStopping counter: 1 out of 10\n",
      "EarlyStopping counter: 10 out of 10\n",
      "Early stopping at epoch 19\n",
      "EarlyStopping counter: 2 out of 10\n"
     ]
    },
    {
     "name": "stderr",
     "output_type": "stream",
     "text": [
      "[I 2025-06-05 05:34:03,414] Trial 5 finished with value: 0.47796161026938194 and parameters: {'embed_dim': 96, 'depths': [2, 2, 6, 2], 'num_heads': [4, 8, 16, 32], 'window_size': 14, 'mlp_ratio': 2.384757540452356, 'drop_rate': 0.4463598531390726, 'attn_drop_rate': 0.3166209697795943, 'drop_path_rate': 0.1105414277068189, 'learning_rate': 2.8451649222715097e-05, 'weight_decay': 0.000183747983469474}. Best is trial 1 with value: 0.5230496118295204.\n"
     ]
    },
    {
     "name": "stdout",
     "output_type": "stream",
     "text": [
      "Trial 5: Test Accuracy = 0.4780\n",
      "Trial 7 hyperparameters:\n",
      "embed_dim: 96\n",
      "depths: [2, 2, 6, 2]\n",
      "num_heads: [4, 8, 16, 32]\n",
      "window_size: 7\n",
      "mlp_ratio: 3.7984149531062785\n",
      "drop_rate: 0.4638383439971604\n",
      "attn_drop_rate: 0.10164329763097468\n",
      "drop_path_rate: 0.23089950590442498\n",
      "learning_rate: 1.6828964312747162e-05\n",
      "weight_decay: 0.0008621880094388854\n",
      "batch_size: 16\n",
      "optimizer: Adam\n",
      "label_smoothing: 0.2\n",
      "factor: 1\n"
     ]
    },
    {
     "name": "stderr",
     "output_type": "stream",
     "text": [
      "c:\\Users\\Gabriel\\anaconda3\\envs\\cudaenv\\Lib\\site-packages\\optuna\\distributions.py:515: UserWarning: Choices for a categorical distribution should be a tuple of None, bool, int, float and str for persistent storage but contains [2, 2, 6, 2] which is of type list.\n",
      "  warnings.warn(message)\n",
      "c:\\Users\\Gabriel\\anaconda3\\envs\\cudaenv\\Lib\\site-packages\\optuna\\distributions.py:515: UserWarning: Choices for a categorical distribution should be a tuple of None, bool, int, float and str for persistent storage but contains [2, 2, 18, 2] which is of type list.\n",
      "  warnings.warn(message)\n",
      "c:\\Users\\Gabriel\\anaconda3\\envs\\cudaenv\\Lib\\site-packages\\optuna\\distributions.py:515: UserWarning: Choices for a categorical distribution should be a tuple of None, bool, int, float and str for persistent storage but contains [3, 6, 12, 24] which is of type list.\n",
      "  warnings.warn(message)\n",
      "c:\\Users\\Gabriel\\anaconda3\\envs\\cudaenv\\Lib\\site-packages\\optuna\\distributions.py:515: UserWarning: Choices for a categorical distribution should be a tuple of None, bool, int, float and str for persistent storage but contains [4, 8, 16, 32] which is of type list.\n",
      "  warnings.warn(message)\n"
     ]
    },
    {
     "name": "stdout",
     "output_type": "stream",
     "text": [
      "EarlyStopping counter: 3 out of 10\n",
      "EarlyStopping counter: 1 out of 10\n",
      "EarlyStopping counter: 1 out of 10\n",
      "EarlyStopping counter: 2 out of 10\n",
      "EarlyStopping counter: 2 out of 10\n",
      "EarlyStopping counter: 3 out of 10\n",
      "EarlyStopping counter: 3 out of 10\n",
      "EarlyStopping counter: 4 out of 10\n",
      "EarlyStopping counter: 5 out of 10\n",
      "EarlyStopping counter: 6 out of 10\n",
      "EarlyStopping counter: 1 out of 10\n",
      "EarlyStopping counter: 7 out of 10\n",
      "EarlyStopping counter: 8 out of 10\n",
      "EarlyStopping counter: 1 out of 10\n",
      "EarlyStopping counter: 9 out of 10\n",
      "EarlyStopping counter: 2 out of 10\n",
      "EarlyStopping counter: 10 out of 10\n",
      "Early stopping at epoch 11\n"
     ]
    },
    {
     "name": "stderr",
     "output_type": "stream",
     "text": [
      "[I 2025-06-05 05:36:11,646] Trial 7 finished with value: 0.34582763337893296 and parameters: {'embed_dim': 96, 'depths': [2, 2, 6, 2], 'num_heads': [4, 8, 16, 32], 'window_size': 7, 'mlp_ratio': 3.7984149531062785, 'drop_rate': 0.4638383439971604, 'attn_drop_rate': 0.10164329763097468, 'drop_path_rate': 0.23089950590442498, 'learning_rate': 1.6828964312747162e-05, 'weight_decay': 0.0008621880094388854}. Best is trial 1 with value: 0.5230496118295204.\n"
     ]
    },
    {
     "name": "stdout",
     "output_type": "stream",
     "text": [
      "Trial 7: Test Accuracy = 0.3458\n",
      "Trial 8 hyperparameters:\n",
      "embed_dim: 128\n",
      "depths: [2, 2, 18, 2]\n",
      "num_heads: [4, 8, 16, 32]\n",
      "window_size: 7\n",
      "mlp_ratio: 2.312346387063625\n",
      "drop_rate: 0.012872063088297914\n",
      "attn_drop_rate: 0.19618174473620542\n",
      "drop_path_rate: 0.2625578680278833\n",
      "learning_rate: 0.0004404077375652709\n",
      "weight_decay: 0.0005494338461746857\n",
      "batch_size: 16\n",
      "optimizer: Adam\n",
      "label_smoothing: 0.2\n",
      "factor: 1\n"
     ]
    },
    {
     "name": "stderr",
     "output_type": "stream",
     "text": [
      "c:\\Users\\Gabriel\\anaconda3\\envs\\cudaenv\\Lib\\site-packages\\optuna\\distributions.py:515: UserWarning: Choices for a categorical distribution should be a tuple of None, bool, int, float and str for persistent storage but contains [2, 2, 6, 2] which is of type list.\n",
      "  warnings.warn(message)\n",
      "c:\\Users\\Gabriel\\anaconda3\\envs\\cudaenv\\Lib\\site-packages\\optuna\\distributions.py:515: UserWarning: Choices for a categorical distribution should be a tuple of None, bool, int, float and str for persistent storage but contains [2, 2, 18, 2] which is of type list.\n",
      "  warnings.warn(message)\n",
      "c:\\Users\\Gabriel\\anaconda3\\envs\\cudaenv\\Lib\\site-packages\\optuna\\distributions.py:515: UserWarning: Choices for a categorical distribution should be a tuple of None, bool, int, float and str for persistent storage but contains [3, 6, 12, 24] which is of type list.\n",
      "  warnings.warn(message)\n",
      "c:\\Users\\Gabriel\\anaconda3\\envs\\cudaenv\\Lib\\site-packages\\optuna\\distributions.py:515: UserWarning: Choices for a categorical distribution should be a tuple of None, bool, int, float and str for persistent storage but contains [4, 8, 16, 32] which is of type list.\n",
      "  warnings.warn(message)\n"
     ]
    },
    {
     "name": "stdout",
     "output_type": "stream",
     "text": [
      "EarlyStopping counter: 3 out of 10\n",
      "EarlyStopping counter: 4 out of 10\n",
      "EarlyStopping counter: 5 out of 10\n",
      "EarlyStopping counter: 6 out of 10\n",
      "EarlyStopping counter: 7 out of 10\n",
      "EarlyStopping counter: 1 out of 10\n",
      "EarlyStopping counter: 8 out of 10\n",
      "EarlyStopping counter: 2 out of 10\n",
      "EarlyStopping counter: 9 out of 10\n",
      "EarlyStopping counter: 10 out of 10\n",
      "Early stopping at epoch 27\n"
     ]
    },
    {
     "name": "stderr",
     "output_type": "stream",
     "text": [
      "[I 2025-06-05 05:37:38,171] Trial 6 finished with value: 0.5667432396389885 and parameters: {'embed_dim': 96, 'depths': [2, 2, 6, 2], 'num_heads': [4, 8, 16, 32], 'window_size': 7, 'mlp_ratio': 3.8885301518748103, 'drop_rate': 0.20736952159640815, 'attn_drop_rate': 0.29043694608494597, 'drop_path_rate': 0.18327214118479512, 'learning_rate': 0.00010386240263281645, 'weight_decay': 1.7740397970302996e-05}. Best is trial 6 with value: 0.5667432396389885.\n"
     ]
    },
    {
     "name": "stdout",
     "output_type": "stream",
     "text": [
      "Trial 6: Test Accuracy = 0.5667\n",
      "Trial 9 hyperparameters:\n",
      "embed_dim: 128\n",
      "depths: [2, 2, 6, 2]\n",
      "num_heads: [4, 8, 16, 32]\n",
      "window_size: 7\n",
      "mlp_ratio: 2.0366934485052193\n",
      "drop_rate: 0.42586998867946907\n",
      "attn_drop_rate: 0.12343097743760134\n",
      "drop_path_rate: 0.2437863718878019\n",
      "learning_rate: 6.134155875728948e-05\n",
      "weight_decay: 4.538930503031568e-06\n",
      "batch_size: 16\n",
      "optimizer: Adam\n",
      "label_smoothing: 0.2\n",
      "factor: 1\n"
     ]
    },
    {
     "name": "stderr",
     "output_type": "stream",
     "text": [
      "c:\\Users\\Gabriel\\anaconda3\\envs\\cudaenv\\Lib\\site-packages\\optuna\\distributions.py:515: UserWarning: Choices for a categorical distribution should be a tuple of None, bool, int, float and str for persistent storage but contains [2, 2, 6, 2] which is of type list.\n",
      "  warnings.warn(message)\n",
      "c:\\Users\\Gabriel\\anaconda3\\envs\\cudaenv\\Lib\\site-packages\\optuna\\distributions.py:515: UserWarning: Choices for a categorical distribution should be a tuple of None, bool, int, float and str for persistent storage but contains [2, 2, 18, 2] which is of type list.\n",
      "  warnings.warn(message)\n",
      "c:\\Users\\Gabriel\\anaconda3\\envs\\cudaenv\\Lib\\site-packages\\optuna\\distributions.py:515: UserWarning: Choices for a categorical distribution should be a tuple of None, bool, int, float and str for persistent storage but contains [3, 6, 12, 24] which is of type list.\n",
      "  warnings.warn(message)\n",
      "c:\\Users\\Gabriel\\anaconda3\\envs\\cudaenv\\Lib\\site-packages\\optuna\\distributions.py:515: UserWarning: Choices for a categorical distribution should be a tuple of None, bool, int, float and str for persistent storage but contains [4, 8, 16, 32] which is of type list.\n",
      "  warnings.warn(message)\n"
     ]
    },
    {
     "name": "stdout",
     "output_type": "stream",
     "text": [
      "EarlyStopping counter: 3 out of 10\n",
      "EarlyStopping counter: 4 out of 10\n",
      "EarlyStopping counter: 1 out of 10\n",
      "EarlyStopping counter: 5 out of 10\n",
      "EarlyStopping counter: 2 out of 10\n",
      "EarlyStopping counter: 6 out of 10\n",
      "EarlyStopping counter: 1 out of 10\n",
      "EarlyStopping counter: 1 out of 10\n",
      "EarlyStopping counter: 2 out of 10\n",
      "EarlyStopping counter: 2 out of 10\n",
      "EarlyStopping counter: 1 out of 10\n",
      "EarlyStopping counter: 3 out of 10\n",
      "EarlyStopping counter: 2 out of 10\n",
      "EarlyStopping counter: 4 out of 10\n",
      "EarlyStopping counter: 3 out of 10\n",
      "EarlyStopping counter: 4 out of 10\n",
      "EarlyStopping counter: 5 out of 10\n",
      "EarlyStopping counter: 5 out of 10\n",
      "EarlyStopping counter: 6 out of 10\n",
      "EarlyStopping counter: 6 out of 10\n",
      "EarlyStopping counter: 7 out of 10\n",
      "EarlyStopping counter: 1 out of 10\n",
      "EarlyStopping counter: 8 out of 10\n",
      "EarlyStopping counter: 2 out of 10\n",
      "EarlyStopping counter: 3 out of 10\n",
      "EarlyStopping counter: 9 out of 10\n",
      "EarlyStopping counter: 10 out of 10\n",
      "Early stopping at epoch 18\n",
      "EarlyStopping counter: 1 out of 10\n",
      "Trial 8: Test Accuracy = 0.3333\n"
     ]
    },
    {
     "name": "stderr",
     "output_type": "stream",
     "text": [
      "[I 2025-06-05 05:41:49,170] Trial 8 finished with value: 0.3333333333333333 and parameters: {'embed_dim': 128, 'depths': [2, 2, 18, 2], 'num_heads': [4, 8, 16, 32], 'window_size': 7, 'mlp_ratio': 2.312346387063625, 'drop_rate': 0.012872063088297914, 'attn_drop_rate': 0.19618174473620542, 'drop_path_rate': 0.2625578680278833, 'learning_rate': 0.0004404077375652709, 'weight_decay': 0.0005494338461746857}. Best is trial 6 with value: 0.5667432396389885.\n",
      "c:\\Users\\Gabriel\\anaconda3\\envs\\cudaenv\\Lib\\site-packages\\optuna\\distributions.py:515: UserWarning: Choices for a categorical distribution should be a tuple of None, bool, int, float and str for persistent storage but contains [2, 2, 6, 2] which is of type list.\n",
      "  warnings.warn(message)\n",
      "c:\\Users\\Gabriel\\anaconda3\\envs\\cudaenv\\Lib\\site-packages\\optuna\\distributions.py:515: UserWarning: Choices for a categorical distribution should be a tuple of None, bool, int, float and str for persistent storage but contains [2, 2, 18, 2] which is of type list.\n",
      "  warnings.warn(message)\n",
      "c:\\Users\\Gabriel\\anaconda3\\envs\\cudaenv\\Lib\\site-packages\\optuna\\distributions.py:515: UserWarning: Choices for a categorical distribution should be a tuple of None, bool, int, float and str for persistent storage but contains [3, 6, 12, 24] which is of type list.\n",
      "  warnings.warn(message)\n",
      "c:\\Users\\Gabriel\\anaconda3\\envs\\cudaenv\\Lib\\site-packages\\optuna\\distributions.py:515: UserWarning: Choices for a categorical distribution should be a tuple of None, bool, int, float and str for persistent storage but contains [4, 8, 16, 32] which is of type list.\n",
      "  warnings.warn(message)\n"
     ]
    },
    {
     "name": "stdout",
     "output_type": "stream",
     "text": [
      "Trial 10 hyperparameters:\n",
      "embed_dim: 128\n",
      "depths: [2, 2, 6, 2]\n",
      "num_heads: [3, 6, 12, 24]\n",
      "window_size: 7\n",
      "mlp_ratio: 2.8232243354625517\n",
      "drop_rate: 0.13597001714978785\n",
      "attn_drop_rate: 0.05431633191609775\n",
      "drop_path_rate: 0.4348393566506381\n",
      "learning_rate: 0.0002980029396591684\n",
      "weight_decay: 2.2445878043389206e-05\n",
      "batch_size: 16\n",
      "optimizer: Adam\n",
      "label_smoothing: 0.2\n",
      "factor: 1\n",
      "EarlyStopping counter: 2 out of 10\n",
      "EarlyStopping counter: 3 out of 10\n",
      "EarlyStopping counter: 4 out of 10\n",
      "EarlyStopping counter: 5 out of 10\n",
      "EarlyStopping counter: 1 out of 10\n",
      "EarlyStopping counter: 6 out of 10\n",
      "EarlyStopping counter: 7 out of 10\n",
      "EarlyStopping counter: 1 out of 10\n",
      "EarlyStopping counter: 8 out of 10\n",
      "EarlyStopping counter: 2 out of 10\n",
      "EarlyStopping counter: 9 out of 10\n",
      "EarlyStopping counter: 3 out of 10\n",
      "EarlyStopping counter: 10 out of 10\n",
      "Early stopping at epoch 29\n"
     ]
    },
    {
     "name": "stderr",
     "output_type": "stream",
     "text": [
      "[I 2025-06-05 05:43:32,725] Trial 9 finished with value: 0.5864503121710876 and parameters: {'embed_dim': 128, 'depths': [2, 2, 6, 2], 'num_heads': [4, 8, 16, 32], 'window_size': 7, 'mlp_ratio': 2.0366934485052193, 'drop_rate': 0.42586998867946907, 'attn_drop_rate': 0.12343097743760134, 'drop_path_rate': 0.2437863718878019, 'learning_rate': 6.134155875728948e-05, 'weight_decay': 4.538930503031568e-06}. Best is trial 9 with value: 0.5864503121710876.\n"
     ]
    },
    {
     "name": "stdout",
     "output_type": "stream",
     "text": [
      "Trial 9: Test Accuracy = 0.5865\n",
      "Trial 11 hyperparameters:\n",
      "embed_dim: 128\n",
      "depths: [2, 2, 18, 2]\n",
      "num_heads: [3, 6, 12, 24]\n",
      "window_size: 7\n",
      "mlp_ratio: 3.3160528109205822\n",
      "drop_rate: 0.34630717501574293\n",
      "attn_drop_rate: 0.0009744273577196871\n",
      "drop_path_rate: 0.3438522814201615\n",
      "learning_rate: 0.0009917256985696192\n",
      "weight_decay: 1.3529096862042275e-06\n",
      "batch_size: 16\n",
      "optimizer: Adam\n",
      "label_smoothing: 0.2\n",
      "factor: 1\n"
     ]
    },
    {
     "name": "stderr",
     "output_type": "stream",
     "text": [
      "c:\\Users\\Gabriel\\anaconda3\\envs\\cudaenv\\Lib\\site-packages\\optuna\\distributions.py:515: UserWarning: Choices for a categorical distribution should be a tuple of None, bool, int, float and str for persistent storage but contains [2, 2, 6, 2] which is of type list.\n",
      "  warnings.warn(message)\n",
      "c:\\Users\\Gabriel\\anaconda3\\envs\\cudaenv\\Lib\\site-packages\\optuna\\distributions.py:515: UserWarning: Choices for a categorical distribution should be a tuple of None, bool, int, float and str for persistent storage but contains [2, 2, 18, 2] which is of type list.\n",
      "  warnings.warn(message)\n",
      "c:\\Users\\Gabriel\\anaconda3\\envs\\cudaenv\\Lib\\site-packages\\optuna\\distributions.py:515: UserWarning: Choices for a categorical distribution should be a tuple of None, bool, int, float and str for persistent storage but contains [3, 6, 12, 24] which is of type list.\n",
      "  warnings.warn(message)\n",
      "c:\\Users\\Gabriel\\anaconda3\\envs\\cudaenv\\Lib\\site-packages\\optuna\\distributions.py:515: UserWarning: Choices for a categorical distribution should be a tuple of None, bool, int, float and str for persistent storage but contains [4, 8, 16, 32] which is of type list.\n",
      "  warnings.warn(message)\n"
     ]
    },
    {
     "name": "stdout",
     "output_type": "stream",
     "text": [
      "EarlyStopping counter: 4 out of 10\n",
      "EarlyStopping counter: 5 out of 10\n",
      "EarlyStopping counter: 1 out of 10\n",
      "EarlyStopping counter: 6 out of 10\n",
      "EarlyStopping counter: 2 out of 10\n",
      "EarlyStopping counter: 7 out of 10\n",
      "EarlyStopping counter: 8 out of 10\n",
      "EarlyStopping counter: 3 out of 10\n",
      "EarlyStopping counter: 4 out of 10\n",
      "EarlyStopping counter: 1 out of 10\n",
      "EarlyStopping counter: 5 out of 10\n",
      "EarlyStopping counter: 2 out of 10\n",
      "EarlyStopping counter: 6 out of 10\n",
      "EarlyStopping counter: 3 out of 10\n",
      "EarlyStopping counter: 4 out of 10\n",
      "EarlyStopping counter: 7 out of 10\n",
      "EarlyStopping counter: 5 out of 10\n",
      "EarlyStopping counter: 8 out of 10\n",
      "EarlyStopping counter: 6 out of 10\n",
      "EarlyStopping counter: 9 out of 10\n",
      "EarlyStopping counter: 7 out of 10\n",
      "EarlyStopping counter: 10 out of 10\n",
      "Early stopping at epoch 10\n"
     ]
    },
    {
     "name": "stderr",
     "output_type": "stream",
     "text": [
      "[I 2025-06-05 05:48:48,791] Trial 11 finished with value: 0.3333333333333333 and parameters: {'embed_dim': 128, 'depths': [2, 2, 18, 2], 'num_heads': [3, 6, 12, 24], 'window_size': 7, 'mlp_ratio': 3.3160528109205822, 'drop_rate': 0.34630717501574293, 'attn_drop_rate': 0.0009744273577196871, 'drop_path_rate': 0.3438522814201615, 'learning_rate': 0.0009917256985696192, 'weight_decay': 1.3529096862042275e-06}. Best is trial 9 with value: 0.5864503121710876.\n"
     ]
    },
    {
     "name": "stdout",
     "output_type": "stream",
     "text": [
      "Trial 11: Test Accuracy = 0.3333\n",
      "Trial 12 hyperparameters:\n",
      "embed_dim: 128\n",
      "depths: [2, 2, 6, 2]\n",
      "num_heads: [4, 8, 16, 32]\n",
      "window_size: 7\n",
      "mlp_ratio: 3.8468443873146096\n",
      "drop_rate: 0.1775264326185287\n",
      "attn_drop_rate: 0.21812581805060005\n",
      "drop_path_rate: 0.15697498077377892\n",
      "learning_rate: 8.799042703115656e-05\n",
      "weight_decay: 5.640741665566948e-06\n",
      "batch_size: 16\n",
      "optimizer: Adam\n",
      "label_smoothing: 0.2\n",
      "factor: 1\n"
     ]
    },
    {
     "name": "stderr",
     "output_type": "stream",
     "text": [
      "c:\\Users\\Gabriel\\anaconda3\\envs\\cudaenv\\Lib\\site-packages\\optuna\\distributions.py:515: UserWarning: Choices for a categorical distribution should be a tuple of None, bool, int, float and str for persistent storage but contains [2, 2, 6, 2] which is of type list.\n",
      "  warnings.warn(message)\n",
      "c:\\Users\\Gabriel\\anaconda3\\envs\\cudaenv\\Lib\\site-packages\\optuna\\distributions.py:515: UserWarning: Choices for a categorical distribution should be a tuple of None, bool, int, float and str for persistent storage but contains [2, 2, 18, 2] which is of type list.\n",
      "  warnings.warn(message)\n",
      "c:\\Users\\Gabriel\\anaconda3\\envs\\cudaenv\\Lib\\site-packages\\optuna\\distributions.py:515: UserWarning: Choices for a categorical distribution should be a tuple of None, bool, int, float and str for persistent storage but contains [3, 6, 12, 24] which is of type list.\n",
      "  warnings.warn(message)\n",
      "c:\\Users\\Gabriel\\anaconda3\\envs\\cudaenv\\Lib\\site-packages\\optuna\\distributions.py:515: UserWarning: Choices for a categorical distribution should be a tuple of None, bool, int, float and str for persistent storage but contains [4, 8, 16, 32] which is of type list.\n",
      "  warnings.warn(message)\n"
     ]
    },
    {
     "name": "stdout",
     "output_type": "stream",
     "text": [
      "EarlyStopping counter: 1 out of 10\n",
      "EarlyStopping counter: 2 out of 10\n",
      "EarlyStopping counter: 3 out of 10\n",
      "EarlyStopping counter: 4 out of 10\n",
      "EarlyStopping counter: 1 out of 10\n",
      "EarlyStopping counter: 5 out of 10\n",
      "EarlyStopping counter: 2 out of 10\n",
      "EarlyStopping counter: 6 out of 10\n",
      "EarlyStopping counter: 3 out of 10\n",
      "EarlyStopping counter: 7 out of 10\n",
      "EarlyStopping counter: 4 out of 10\n",
      "EarlyStopping counter: 8 out of 10\n",
      "EarlyStopping counter: 5 out of 10\n",
      "EarlyStopping counter: 9 out of 10\n",
      "EarlyStopping counter: 6 out of 10\n",
      "EarlyStopping counter: 10 out of 10\n",
      "Early stopping at epoch 31\n"
     ]
    },
    {
     "name": "stderr",
     "output_type": "stream",
     "text": [
      "[I 2025-06-05 05:50:50,293] Trial 10 finished with value: 0.3333333333333333 and parameters: {'embed_dim': 128, 'depths': [2, 2, 6, 2], 'num_heads': [3, 6, 12, 24], 'window_size': 7, 'mlp_ratio': 2.8232243354625517, 'drop_rate': 0.13597001714978785, 'attn_drop_rate': 0.05431633191609775, 'drop_path_rate': 0.4348393566506381, 'learning_rate': 0.0002980029396591684, 'weight_decay': 2.2445878043389206e-05}. Best is trial 9 with value: 0.5864503121710876.\n"
     ]
    },
    {
     "name": "stdout",
     "output_type": "stream",
     "text": [
      "Trial 10: Test Accuracy = 0.3333\n",
      "Trial 13 hyperparameters:\n",
      "embed_dim: 128\n",
      "depths: [2, 2, 6, 2]\n",
      "num_heads: [4, 8, 16, 32]\n",
      "window_size: 7\n",
      "mlp_ratio: 3.982710352681902\n",
      "drop_rate: 0.225283068652676\n",
      "attn_drop_rate: 0.22495857919233903\n",
      "drop_path_rate: 0.16875513088981664\n",
      "learning_rate: 7.609374426302863e-05\n",
      "weight_decay: 5.308471751496683e-06\n",
      "batch_size: 16\n",
      "optimizer: Adam\n",
      "label_smoothing: 0.2\n",
      "factor: 1\n"
     ]
    },
    {
     "name": "stderr",
     "output_type": "stream",
     "text": [
      "c:\\Users\\Gabriel\\anaconda3\\envs\\cudaenv\\Lib\\site-packages\\optuna\\distributions.py:515: UserWarning: Choices for a categorical distribution should be a tuple of None, bool, int, float and str for persistent storage but contains [2, 2, 6, 2] which is of type list.\n",
      "  warnings.warn(message)\n",
      "c:\\Users\\Gabriel\\anaconda3\\envs\\cudaenv\\Lib\\site-packages\\optuna\\distributions.py:515: UserWarning: Choices for a categorical distribution should be a tuple of None, bool, int, float and str for persistent storage but contains [2, 2, 18, 2] which is of type list.\n",
      "  warnings.warn(message)\n",
      "c:\\Users\\Gabriel\\anaconda3\\envs\\cudaenv\\Lib\\site-packages\\optuna\\distributions.py:515: UserWarning: Choices for a categorical distribution should be a tuple of None, bool, int, float and str for persistent storage but contains [3, 6, 12, 24] which is of type list.\n",
      "  warnings.warn(message)\n",
      "c:\\Users\\Gabriel\\anaconda3\\envs\\cudaenv\\Lib\\site-packages\\optuna\\distributions.py:515: UserWarning: Choices for a categorical distribution should be a tuple of None, bool, int, float and str for persistent storage but contains [4, 8, 16, 32] which is of type list.\n",
      "  warnings.warn(message)\n"
     ]
    },
    {
     "name": "stdout",
     "output_type": "stream",
     "text": [
      "EarlyStopping counter: 7 out of 10\n",
      "EarlyStopping counter: 8 out of 10\n",
      "EarlyStopping counter: 9 out of 10\n",
      "EarlyStopping counter: 10 out of 10\n",
      "Early stopping at epoch 12\n"
     ]
    },
    {
     "name": "stderr",
     "output_type": "stream",
     "text": [
      "[I 2025-06-05 05:51:42,636] Trial 12 finished with value: 0.48255828292996306 and parameters: {'embed_dim': 128, 'depths': [2, 2, 6, 2], 'num_heads': [4, 8, 16, 32], 'window_size': 7, 'mlp_ratio': 3.8468443873146096, 'drop_rate': 0.1775264326185287, 'attn_drop_rate': 0.21812581805060005, 'drop_path_rate': 0.15697498077377892, 'learning_rate': 8.799042703115656e-05, 'weight_decay': 5.640741665566948e-06}. Best is trial 9 with value: 0.5864503121710876.\n"
     ]
    },
    {
     "name": "stdout",
     "output_type": "stream",
     "text": [
      "Trial 12: Test Accuracy = 0.4826\n",
      "Trial 14 hyperparameters:\n",
      "embed_dim: 96\n",
      "depths: [2, 2, 6, 2]\n",
      "num_heads: [4, 8, 16, 32]\n",
      "window_size: 7\n",
      "mlp_ratio: 3.3627826286487448\n",
      "drop_rate: 0.36489852364882913\n",
      "attn_drop_rate: 0.1707903416696\n",
      "drop_path_rate: 0.14422049942170423\n",
      "learning_rate: 5.150603282341571e-05\n",
      "weight_decay: 6.619646444227328e-06\n",
      "batch_size: 16\n",
      "optimizer: Adam\n",
      "label_smoothing: 0.2\n",
      "factor: 1\n"
     ]
    },
    {
     "name": "stderr",
     "output_type": "stream",
     "text": [
      "c:\\Users\\Gabriel\\anaconda3\\envs\\cudaenv\\Lib\\site-packages\\optuna\\distributions.py:515: UserWarning: Choices for a categorical distribution should be a tuple of None, bool, int, float and str for persistent storage but contains [2, 2, 6, 2] which is of type list.\n",
      "  warnings.warn(message)\n",
      "c:\\Users\\Gabriel\\anaconda3\\envs\\cudaenv\\Lib\\site-packages\\optuna\\distributions.py:515: UserWarning: Choices for a categorical distribution should be a tuple of None, bool, int, float and str for persistent storage but contains [2, 2, 18, 2] which is of type list.\n",
      "  warnings.warn(message)\n",
      "c:\\Users\\Gabriel\\anaconda3\\envs\\cudaenv\\Lib\\site-packages\\optuna\\distributions.py:515: UserWarning: Choices for a categorical distribution should be a tuple of None, bool, int, float and str for persistent storage but contains [3, 6, 12, 24] which is of type list.\n",
      "  warnings.warn(message)\n",
      "c:\\Users\\Gabriel\\anaconda3\\envs\\cudaenv\\Lib\\site-packages\\optuna\\distributions.py:515: UserWarning: Choices for a categorical distribution should be a tuple of None, bool, int, float and str for persistent storage but contains [4, 8, 16, 32] which is of type list.\n",
      "  warnings.warn(message)\n"
     ]
    },
    {
     "name": "stdout",
     "output_type": "stream",
     "text": [
      "EarlyStopping counter: 1 out of 10\n",
      "EarlyStopping counter: 2 out of 10\n",
      "EarlyStopping counter: 1 out of 10\n",
      "EarlyStopping counter: 3 out of 10\n",
      "EarlyStopping counter: 4 out of 10\n",
      "EarlyStopping counter: 1 out of 10\n",
      "EarlyStopping counter: 5 out of 10\n",
      "EarlyStopping counter: 2 out of 10\n",
      "EarlyStopping counter: 6 out of 10\n",
      "EarlyStopping counter: 7 out of 10\n",
      "EarlyStopping counter: 1 out of 10\n",
      "EarlyStopping counter: 8 out of 10\n",
      "EarlyStopping counter: 2 out of 10\n",
      "EarlyStopping counter: 3 out of 10\n",
      "EarlyStopping counter: 1 out of 10\n",
      "EarlyStopping counter: 4 out of 10\n",
      "EarlyStopping counter: 2 out of 10\n",
      "EarlyStopping counter: 3 out of 10\n",
      "EarlyStopping counter: 1 out of 10\n",
      "EarlyStopping counter: 4 out of 10\n",
      "EarlyStopping counter: 2 out of 10\n",
      "EarlyStopping counter: 5 out of 10\n",
      "EarlyStopping counter: 3 out of 10\n",
      "EarlyStopping counter: 6 out of 10\n",
      "EarlyStopping counter: 4 out of 10\n",
      "EarlyStopping counter: 7 out of 10\n",
      "EarlyStopping counter: 5 out of 10\n",
      "EarlyStopping counter: 8 out of 10\n",
      "EarlyStopping counter: 6 out of 10\n",
      "EarlyStopping counter: 9 out of 10\n",
      "EarlyStopping counter: 7 out of 10\n",
      "EarlyStopping counter: 10 out of 10\n",
      "Early stopping at epoch 21\n",
      "EarlyStopping counter: 8 out of 10\n"
     ]
    },
    {
     "name": "stderr",
     "output_type": "stream",
     "text": [
      "[I 2025-06-05 05:55:29,841] Trial 13 finished with value: 0.4441823182395673 and parameters: {'embed_dim': 128, 'depths': [2, 2, 6, 2], 'num_heads': [4, 8, 16, 32], 'window_size': 7, 'mlp_ratio': 3.982710352681902, 'drop_rate': 0.225283068652676, 'attn_drop_rate': 0.22495857919233903, 'drop_path_rate': 0.16875513088981664, 'learning_rate': 7.609374426302863e-05, 'weight_decay': 5.308471751496683e-06}. Best is trial 9 with value: 0.5864503121710876.\n"
     ]
    },
    {
     "name": "stdout",
     "output_type": "stream",
     "text": [
      "Trial 13: Test Accuracy = 0.4442\n",
      "Trial 15 hyperparameters:\n",
      "embed_dim: 96\n",
      "depths: [2, 2, 18, 2]\n",
      "num_heads: [4, 8, 16, 32]\n",
      "window_size: 7\n",
      "mlp_ratio: 3.32827420162385\n",
      "drop_rate: 0.3763540370464121\n",
      "attn_drop_rate: 0.1357526547151128\n",
      "drop_path_rate: 0.04530235529136967\n",
      "learning_rate: 4.8988838984288915e-05\n",
      "weight_decay: 7.790992417202824e-06\n",
      "batch_size: 16\n",
      "optimizer: Adam\n",
      "label_smoothing: 0.2\n",
      "factor: 1\n"
     ]
    },
    {
     "name": "stderr",
     "output_type": "stream",
     "text": [
      "c:\\Users\\Gabriel\\anaconda3\\envs\\cudaenv\\Lib\\site-packages\\optuna\\distributions.py:515: UserWarning: Choices for a categorical distribution should be a tuple of None, bool, int, float and str for persistent storage but contains [2, 2, 6, 2] which is of type list.\n",
      "  warnings.warn(message)\n",
      "c:\\Users\\Gabriel\\anaconda3\\envs\\cudaenv\\Lib\\site-packages\\optuna\\distributions.py:515: UserWarning: Choices for a categorical distribution should be a tuple of None, bool, int, float and str for persistent storage but contains [2, 2, 18, 2] which is of type list.\n",
      "  warnings.warn(message)\n",
      "c:\\Users\\Gabriel\\anaconda3\\envs\\cudaenv\\Lib\\site-packages\\optuna\\distributions.py:515: UserWarning: Choices for a categorical distribution should be a tuple of None, bool, int, float and str for persistent storage but contains [3, 6, 12, 24] which is of type list.\n",
      "  warnings.warn(message)\n",
      "c:\\Users\\Gabriel\\anaconda3\\envs\\cudaenv\\Lib\\site-packages\\optuna\\distributions.py:515: UserWarning: Choices for a categorical distribution should be a tuple of None, bool, int, float and str for persistent storage but contains [4, 8, 16, 32] which is of type list.\n",
      "  warnings.warn(message)\n"
     ]
    },
    {
     "name": "stdout",
     "output_type": "stream",
     "text": [
      "EarlyStopping counter: 9 out of 10\n",
      "EarlyStopping counter: 10 out of 10\n",
      "Early stopping at epoch 20\n"
     ]
    },
    {
     "name": "stderr",
     "output_type": "stream",
     "text": [
      "[I 2025-06-05 05:55:49,696] Trial 14 finished with value: 0.5560109783272678 and parameters: {'embed_dim': 96, 'depths': [2, 2, 6, 2], 'num_heads': [4, 8, 16, 32], 'window_size': 7, 'mlp_ratio': 3.3627826286487448, 'drop_rate': 0.36489852364882913, 'attn_drop_rate': 0.1707903416696, 'drop_path_rate': 0.14422049942170423, 'learning_rate': 5.150603282341571e-05, 'weight_decay': 6.619646444227328e-06}. Best is trial 9 with value: 0.5864503121710876.\n"
     ]
    },
    {
     "name": "stdout",
     "output_type": "stream",
     "text": [
      "Trial 14: Test Accuracy = 0.5560\n",
      "Trial 16 hyperparameters:\n",
      "embed_dim: 96\n",
      "depths: [2, 2, 18, 2]\n",
      "num_heads: [4, 8, 16, 32]\n",
      "window_size: 7\n",
      "mlp_ratio: 3.3243424693160875\n",
      "drop_rate: 0.2914590210138168\n",
      "attn_drop_rate: 0.29532788543679744\n",
      "drop_path_rate: 0.06287311992065678\n",
      "learning_rate: 0.00016821082263461387\n",
      "weight_decay: 1.609755389079652e-05\n",
      "batch_size: 16\n",
      "optimizer: Adam\n",
      "label_smoothing: 0.2\n",
      "factor: 1\n"
     ]
    },
    {
     "name": "stderr",
     "output_type": "stream",
     "text": [
      "c:\\Users\\Gabriel\\anaconda3\\envs\\cudaenv\\Lib\\site-packages\\optuna\\distributions.py:515: UserWarning: Choices for a categorical distribution should be a tuple of None, bool, int, float and str for persistent storage but contains [2, 2, 6, 2] which is of type list.\n",
      "  warnings.warn(message)\n",
      "c:\\Users\\Gabriel\\anaconda3\\envs\\cudaenv\\Lib\\site-packages\\optuna\\distributions.py:515: UserWarning: Choices for a categorical distribution should be a tuple of None, bool, int, float and str for persistent storage but contains [2, 2, 18, 2] which is of type list.\n",
      "  warnings.warn(message)\n",
      "c:\\Users\\Gabriel\\anaconda3\\envs\\cudaenv\\Lib\\site-packages\\optuna\\distributions.py:515: UserWarning: Choices for a categorical distribution should be a tuple of None, bool, int, float and str for persistent storage but contains [3, 6, 12, 24] which is of type list.\n",
      "  warnings.warn(message)\n",
      "c:\\Users\\Gabriel\\anaconda3\\envs\\cudaenv\\Lib\\site-packages\\optuna\\distributions.py:515: UserWarning: Choices for a categorical distribution should be a tuple of None, bool, int, float and str for persistent storage but contains [4, 8, 16, 32] which is of type list.\n",
      "  warnings.warn(message)\n"
     ]
    },
    {
     "name": "stdout",
     "output_type": "stream",
     "text": [
      "EarlyStopping counter: 1 out of 10\n",
      "EarlyStopping counter: 1 out of 10\n",
      "EarlyStopping counter: 2 out of 10\n",
      "EarlyStopping counter: 3 out of 10\n",
      "EarlyStopping counter: 1 out of 10\n",
      "EarlyStopping counter: 4 out of 10\n",
      "EarlyStopping counter: 2 out of 10\n",
      "EarlyStopping counter: 5 out of 10\n",
      "EarlyStopping counter: 1 out of 10\n",
      "EarlyStopping counter: 1 out of 10\n",
      "EarlyStopping counter: 2 out of 10\n",
      "EarlyStopping counter: 2 out of 10\n",
      "EarlyStopping counter: 3 out of 10\n",
      "EarlyStopping counter: 4 out of 10\n",
      "EarlyStopping counter: 5 out of 10\n",
      "EarlyStopping counter: 1 out of 10\n",
      "EarlyStopping counter: 6 out of 10\n",
      "EarlyStopping counter: 2 out of 10\n",
      "EarlyStopping counter: 7 out of 10\n",
      "EarlyStopping counter: 3 out of 10\n",
      "EarlyStopping counter: 8 out of 10\n",
      "EarlyStopping counter: 4 out of 10\n",
      "EarlyStopping counter: 9 out of 10\n",
      "EarlyStopping counter: 5 out of 10\n",
      "EarlyStopping counter: 10 out of 10\n",
      "Early stopping at epoch 15\n"
     ]
    },
    {
     "name": "stderr",
     "output_type": "stream",
     "text": [
      "[I 2025-06-05 06:00:05,980] Trial 16 finished with value: 0.3333333333333333 and parameters: {'embed_dim': 96, 'depths': [2, 2, 18, 2], 'num_heads': [4, 8, 16, 32], 'window_size': 7, 'mlp_ratio': 3.3243424693160875, 'drop_rate': 0.2914590210138168, 'attn_drop_rate': 0.29532788543679744, 'drop_path_rate': 0.06287311992065678, 'learning_rate': 0.00016821082263461387, 'weight_decay': 1.609755389079652e-05}. Best is trial 9 with value: 0.5864503121710876.\n"
     ]
    },
    {
     "name": "stdout",
     "output_type": "stream",
     "text": [
      "Trial 16: Test Accuracy = 0.3333\n",
      "Trial 17 hyperparameters:\n",
      "embed_dim: 128\n",
      "depths: [2, 2, 6, 2]\n",
      "num_heads: [4, 8, 16, 32]\n",
      "window_size: 7\n",
      "mlp_ratio: 3.5744445884705587\n",
      "drop_rate: 0.3985256201611035\n",
      "attn_drop_rate: 0.12934707759467223\n",
      "drop_path_rate: 0.3125704469907574\n",
      "learning_rate: 4.0068364363801944e-05\n",
      "weight_decay: 6.423243095496344e-05\n",
      "batch_size: 16\n",
      "optimizer: Adam\n",
      "label_smoothing: 0.2\n",
      "factor: 1\n"
     ]
    },
    {
     "name": "stderr",
     "output_type": "stream",
     "text": [
      "c:\\Users\\Gabriel\\anaconda3\\envs\\cudaenv\\Lib\\site-packages\\optuna\\distributions.py:515: UserWarning: Choices for a categorical distribution should be a tuple of None, bool, int, float and str for persistent storage but contains [2, 2, 6, 2] which is of type list.\n",
      "  warnings.warn(message)\n",
      "c:\\Users\\Gabriel\\anaconda3\\envs\\cudaenv\\Lib\\site-packages\\optuna\\distributions.py:515: UserWarning: Choices for a categorical distribution should be a tuple of None, bool, int, float and str for persistent storage but contains [2, 2, 18, 2] which is of type list.\n",
      "  warnings.warn(message)\n",
      "c:\\Users\\Gabriel\\anaconda3\\envs\\cudaenv\\Lib\\site-packages\\optuna\\distributions.py:515: UserWarning: Choices for a categorical distribution should be a tuple of None, bool, int, float and str for persistent storage but contains [3, 6, 12, 24] which is of type list.\n",
      "  warnings.warn(message)\n",
      "c:\\Users\\Gabriel\\anaconda3\\envs\\cudaenv\\Lib\\site-packages\\optuna\\distributions.py:515: UserWarning: Choices for a categorical distribution should be a tuple of None, bool, int, float and str for persistent storage but contains [4, 8, 16, 32] which is of type list.\n",
      "  warnings.warn(message)\n"
     ]
    },
    {
     "name": "stdout",
     "output_type": "stream",
     "text": [
      "EarlyStopping counter: 6 out of 10\n",
      "EarlyStopping counter: 7 out of 10\n",
      "EarlyStopping counter: 8 out of 10\n",
      "EarlyStopping counter: 1 out of 10\n",
      "EarlyStopping counter: 9 out of 10\n",
      "EarlyStopping counter: 2 out of 10\n",
      "EarlyStopping counter: 10 out of 10\n",
      "Early stopping at epoch 21\n",
      "EarlyStopping counter: 3 out of 10\n"
     ]
    },
    {
     "name": "stderr",
     "output_type": "stream",
     "text": [
      "[I 2025-06-05 06:01:21,673] Trial 15 finished with value: 0.538209913188619 and parameters: {'embed_dim': 96, 'depths': [2, 2, 18, 2], 'num_heads': [4, 8, 16, 32], 'window_size': 7, 'mlp_ratio': 3.32827420162385, 'drop_rate': 0.3763540370464121, 'attn_drop_rate': 0.1357526547151128, 'drop_path_rate': 0.04530235529136967, 'learning_rate': 4.8988838984288915e-05, 'weight_decay': 7.790992417202824e-06}. Best is trial 9 with value: 0.5864503121710876.\n"
     ]
    },
    {
     "name": "stdout",
     "output_type": "stream",
     "text": [
      "Trial 15: Test Accuracy = 0.5382\n",
      "Trial 18 hyperparameters:\n",
      "embed_dim: 128\n",
      "depths: [2, 2, 6, 2]\n",
      "num_heads: [4, 8, 16, 32]\n",
      "window_size: 7\n",
      "mlp_ratio: 3.582879383922773\n",
      "drop_rate: 0.24542297574390268\n",
      "attn_drop_rate: 0.2597539844730896\n",
      "drop_path_rate: 0.3037718441691414\n",
      "learning_rate: 0.00014603558827561714\n",
      "weight_decay: 5.9209498403693115e-05\n",
      "batch_size: 16\n",
      "optimizer: Adam\n",
      "label_smoothing: 0.2\n",
      "factor: 1\n"
     ]
    },
    {
     "name": "stderr",
     "output_type": "stream",
     "text": [
      "c:\\Users\\Gabriel\\anaconda3\\envs\\cudaenv\\Lib\\site-packages\\optuna\\distributions.py:515: UserWarning: Choices for a categorical distribution should be a tuple of None, bool, int, float and str for persistent storage but contains [2, 2, 6, 2] which is of type list.\n",
      "  warnings.warn(message)\n",
      "c:\\Users\\Gabriel\\anaconda3\\envs\\cudaenv\\Lib\\site-packages\\optuna\\distributions.py:515: UserWarning: Choices for a categorical distribution should be a tuple of None, bool, int, float and str for persistent storage but contains [2, 2, 18, 2] which is of type list.\n",
      "  warnings.warn(message)\n",
      "c:\\Users\\Gabriel\\anaconda3\\envs\\cudaenv\\Lib\\site-packages\\optuna\\distributions.py:515: UserWarning: Choices for a categorical distribution should be a tuple of None, bool, int, float and str for persistent storage but contains [3, 6, 12, 24] which is of type list.\n",
      "  warnings.warn(message)\n",
      "c:\\Users\\Gabriel\\anaconda3\\envs\\cudaenv\\Lib\\site-packages\\optuna\\distributions.py:515: UserWarning: Choices for a categorical distribution should be a tuple of None, bool, int, float and str for persistent storage but contains [4, 8, 16, 32] which is of type list.\n",
      "  warnings.warn(message)\n"
     ]
    },
    {
     "name": "stdout",
     "output_type": "stream",
     "text": [
      "EarlyStopping counter: 4 out of 10\n",
      "EarlyStopping counter: 5 out of 10\n",
      "EarlyStopping counter: 6 out of 10\n",
      "EarlyStopping counter: 7 out of 10\n",
      "EarlyStopping counter: 1 out of 10\n",
      "EarlyStopping counter: 8 out of 10\n",
      "EarlyStopping counter: 2 out of 10\n",
      "EarlyStopping counter: 9 out of 10\n",
      "EarlyStopping counter: 3 out of 10\n",
      "EarlyStopping counter: 10 out of 10\n",
      "Early stopping at epoch 12\n"
     ]
    },
    {
     "name": "stderr",
     "output_type": "stream",
     "text": [
      "[I 2025-06-05 06:02:56,405] Trial 17 finished with value: 0.470245807844858 and parameters: {'embed_dim': 128, 'depths': [2, 2, 6, 2], 'num_heads': [4, 8, 16, 32], 'window_size': 7, 'mlp_ratio': 3.5744445884705587, 'drop_rate': 0.3985256201611035, 'attn_drop_rate': 0.12934707759467223, 'drop_path_rate': 0.3125704469907574, 'learning_rate': 4.0068364363801944e-05, 'weight_decay': 6.423243095496344e-05}. Best is trial 9 with value: 0.5864503121710876.\n"
     ]
    },
    {
     "name": "stdout",
     "output_type": "stream",
     "text": [
      "Trial 17: Test Accuracy = 0.4702\n",
      "Trial 19 hyperparameters:\n",
      "embed_dim: 128\n",
      "depths: [2, 2, 6, 2]\n",
      "num_heads: [3, 6, 12, 24]\n",
      "window_size: 14\n",
      "mlp_ratio: 2.870977927746285\n",
      "drop_rate: 0.24839434121542317\n",
      "attn_drop_rate: 0.27386596262729923\n",
      "drop_path_rate: 0.2067439196419737\n",
      "learning_rate: 0.00015920194994496035\n",
      "weight_decay: 2.5045132821419085e-06\n",
      "batch_size: 16\n",
      "optimizer: Adam\n",
      "label_smoothing: 0.2\n",
      "factor: 1\n"
     ]
    },
    {
     "name": "stderr",
     "output_type": "stream",
     "text": [
      "c:\\Users\\Gabriel\\anaconda3\\envs\\cudaenv\\Lib\\site-packages\\optuna\\distributions.py:515: UserWarning: Choices for a categorical distribution should be a tuple of None, bool, int, float and str for persistent storage but contains [2, 2, 6, 2] which is of type list.\n",
      "  warnings.warn(message)\n",
      "c:\\Users\\Gabriel\\anaconda3\\envs\\cudaenv\\Lib\\site-packages\\optuna\\distributions.py:515: UserWarning: Choices for a categorical distribution should be a tuple of None, bool, int, float and str for persistent storage but contains [2, 2, 18, 2] which is of type list.\n",
      "  warnings.warn(message)\n",
      "c:\\Users\\Gabriel\\anaconda3\\envs\\cudaenv\\Lib\\site-packages\\optuna\\distributions.py:515: UserWarning: Choices for a categorical distribution should be a tuple of None, bool, int, float and str for persistent storage but contains [3, 6, 12, 24] which is of type list.\n",
      "  warnings.warn(message)\n",
      "c:\\Users\\Gabriel\\anaconda3\\envs\\cudaenv\\Lib\\site-packages\\optuna\\distributions.py:515: UserWarning: Choices for a categorical distribution should be a tuple of None, bool, int, float and str for persistent storage but contains [4, 8, 16, 32] which is of type list.\n",
      "  warnings.warn(message)\n"
     ]
    },
    {
     "name": "stdout",
     "output_type": "stream",
     "text": [
      "EarlyStopping counter: 4 out of 10\n",
      "EarlyStopping counter: 5 out of 10\n",
      "EarlyStopping counter: 1 out of 10\n",
      "EarlyStopping counter: 6 out of 10\n",
      "EarlyStopping counter: 2 out of 10\n",
      "EarlyStopping counter: 7 out of 10\n",
      "EarlyStopping counter: 3 out of 10\n",
      "EarlyStopping counter: 8 out of 10\n",
      "EarlyStopping counter: 4 out of 10\n",
      "EarlyStopping counter: 9 out of 10\n",
      "EarlyStopping counter: 5 out of 10\n",
      "EarlyStopping counter: 10 out of 10\n",
      "Early stopping at epoch 12\n"
     ]
    },
    {
     "name": "stderr",
     "output_type": "stream",
     "text": [
      "[I 2025-06-05 06:04:32,109] Trial 18 finished with value: 0.3333333333333333 and parameters: {'embed_dim': 128, 'depths': [2, 2, 6, 2], 'num_heads': [4, 8, 16, 32], 'window_size': 7, 'mlp_ratio': 3.582879383922773, 'drop_rate': 0.24542297574390268, 'attn_drop_rate': 0.2597539844730896, 'drop_path_rate': 0.3037718441691414, 'learning_rate': 0.00014603558827561714, 'weight_decay': 5.9209498403693115e-05}. Best is trial 9 with value: 0.5864503121710876.\n"
     ]
    },
    {
     "name": "stdout",
     "output_type": "stream",
     "text": [
      "Trial 18: Test Accuracy = 0.3333\n",
      "Trial 20 hyperparameters:\n",
      "embed_dim: 96\n",
      "depths: [2, 2, 6, 2]\n",
      "num_heads: [3, 6, 12, 24]\n",
      "window_size: 14\n",
      "mlp_ratio: 2.9467142160381092\n",
      "drop_rate: 0.11038499378581157\n",
      "attn_drop_rate: 0.0385001382288761\n",
      "drop_path_rate: 0.19697977366392588\n",
      "learning_rate: 0.00014426116820434923\n",
      "weight_decay: 2.793333752940434e-06\n",
      "batch_size: 16\n",
      "optimizer: Adam\n",
      "label_smoothing: 0.2\n",
      "factor: 1\n"
     ]
    },
    {
     "name": "stderr",
     "output_type": "stream",
     "text": [
      "c:\\Users\\Gabriel\\anaconda3\\envs\\cudaenv\\Lib\\site-packages\\optuna\\distributions.py:515: UserWarning: Choices for a categorical distribution should be a tuple of None, bool, int, float and str for persistent storage but contains [2, 2, 6, 2] which is of type list.\n",
      "  warnings.warn(message)\n",
      "c:\\Users\\Gabriel\\anaconda3\\envs\\cudaenv\\Lib\\site-packages\\optuna\\distributions.py:515: UserWarning: Choices for a categorical distribution should be a tuple of None, bool, int, float and str for persistent storage but contains [2, 2, 18, 2] which is of type list.\n",
      "  warnings.warn(message)\n",
      "c:\\Users\\Gabriel\\anaconda3\\envs\\cudaenv\\Lib\\site-packages\\optuna\\distributions.py:515: UserWarning: Choices for a categorical distribution should be a tuple of None, bool, int, float and str for persistent storage but contains [3, 6, 12, 24] which is of type list.\n",
      "  warnings.warn(message)\n",
      "c:\\Users\\Gabriel\\anaconda3\\envs\\cudaenv\\Lib\\site-packages\\optuna\\distributions.py:515: UserWarning: Choices for a categorical distribution should be a tuple of None, bool, int, float and str for persistent storage but contains [4, 8, 16, 32] which is of type list.\n",
      "  warnings.warn(message)\n"
     ]
    },
    {
     "name": "stdout",
     "output_type": "stream",
     "text": [
      "EarlyStopping counter: 6 out of 10\n",
      "EarlyStopping counter: 7 out of 10\n",
      "EarlyStopping counter: 8 out of 10\n",
      "EarlyStopping counter: 1 out of 10\n",
      "EarlyStopping counter: 9 out of 10\n",
      "EarlyStopping counter: 2 out of 10\n",
      "EarlyStopping counter: 10 out of 10\n",
      "Early stopping at epoch 10\n",
      "EarlyStopping counter: 3 out of 10\n"
     ]
    },
    {
     "name": "stderr",
     "output_type": "stream",
     "text": [
      "[I 2025-06-05 06:05:35,411] Trial 19 finished with value: 0.4595055164086989 and parameters: {'embed_dim': 128, 'depths': [2, 2, 6, 2], 'num_heads': [3, 6, 12, 24], 'window_size': 14, 'mlp_ratio': 2.870977927746285, 'drop_rate': 0.24839434121542317, 'attn_drop_rate': 0.27386596262729923, 'drop_path_rate': 0.2067439196419737, 'learning_rate': 0.00015920194994496035, 'weight_decay': 2.5045132821419085e-06}. Best is trial 9 with value: 0.5864503121710876.\n"
     ]
    },
    {
     "name": "stdout",
     "output_type": "stream",
     "text": [
      "Trial 19: Test Accuracy = 0.4595\n",
      "Trial 21 hyperparameters:\n",
      "embed_dim: 96\n",
      "depths: [2, 2, 6, 2]\n",
      "num_heads: [4, 8, 16, 32]\n",
      "window_size: 7\n",
      "mlp_ratio: 3.062741435659932\n",
      "drop_rate: 0.3017972044147267\n",
      "attn_drop_rate: 0.4973420484846712\n",
      "drop_path_rate: 0.10194178264399745\n",
      "learning_rate: 3.273593581772615e-05\n",
      "weight_decay: 1.0034037630472278e-06\n",
      "batch_size: 16\n",
      "optimizer: Adam\n",
      "label_smoothing: 0.2\n",
      "factor: 1\n"
     ]
    },
    {
     "name": "stderr",
     "output_type": "stream",
     "text": [
      "c:\\Users\\Gabriel\\anaconda3\\envs\\cudaenv\\Lib\\site-packages\\optuna\\distributions.py:515: UserWarning: Choices for a categorical distribution should be a tuple of None, bool, int, float and str for persistent storage but contains [2, 2, 6, 2] which is of type list.\n",
      "  warnings.warn(message)\n",
      "c:\\Users\\Gabriel\\anaconda3\\envs\\cudaenv\\Lib\\site-packages\\optuna\\distributions.py:515: UserWarning: Choices for a categorical distribution should be a tuple of None, bool, int, float and str for persistent storage but contains [2, 2, 18, 2] which is of type list.\n",
      "  warnings.warn(message)\n",
      "c:\\Users\\Gabriel\\anaconda3\\envs\\cudaenv\\Lib\\site-packages\\optuna\\distributions.py:515: UserWarning: Choices for a categorical distribution should be a tuple of None, bool, int, float and str for persistent storage but contains [3, 6, 12, 24] which is of type list.\n",
      "  warnings.warn(message)\n",
      "c:\\Users\\Gabriel\\anaconda3\\envs\\cudaenv\\Lib\\site-packages\\optuna\\distributions.py:515: UserWarning: Choices for a categorical distribution should be a tuple of None, bool, int, float and str for persistent storage but contains [4, 8, 16, 32] which is of type list.\n",
      "  warnings.warn(message)\n"
     ]
    },
    {
     "name": "stdout",
     "output_type": "stream",
     "text": [
      "EarlyStopping counter: 4 out of 10\n",
      "EarlyStopping counter: 1 out of 10\n",
      "EarlyStopping counter: 1 out of 10\n",
      "EarlyStopping counter: 2 out of 10\n",
      "EarlyStopping counter: 2 out of 10\n",
      "EarlyStopping counter: 3 out of 10\n",
      "EarlyStopping counter: 4 out of 10\n",
      "EarlyStopping counter: 1 out of 10\n",
      "EarlyStopping counter: 5 out of 10\n",
      "EarlyStopping counter: 2 out of 10\n",
      "EarlyStopping counter: 6 out of 10\n",
      "EarlyStopping counter: 3 out of 10\n",
      "EarlyStopping counter: 7 out of 10\n",
      "EarlyStopping counter: 4 out of 10\n",
      "EarlyStopping counter: 8 out of 10\n",
      "EarlyStopping counter: 5 out of 10\n",
      "EarlyStopping counter: 9 out of 10\n",
      "EarlyStopping counter: 6 out of 10\n",
      "EarlyStopping counter: 10 out of 10\n",
      "Early stopping at epoch 16\n",
      "EarlyStopping counter: 7 out of 10\n"
     ]
    },
    {
     "name": "stderr",
     "output_type": "stream",
     "text": [
      "[I 2025-06-05 06:07:54,784] Trial 20 finished with value: 0.38875782578645035 and parameters: {'embed_dim': 96, 'depths': [2, 2, 6, 2], 'num_heads': [3, 6, 12, 24], 'window_size': 14, 'mlp_ratio': 2.9467142160381092, 'drop_rate': 0.11038499378581157, 'attn_drop_rate': 0.0385001382288761, 'drop_path_rate': 0.19697977366392588, 'learning_rate': 0.00014426116820434923, 'weight_decay': 2.793333752940434e-06}. Best is trial 9 with value: 0.5864503121710876.\n"
     ]
    },
    {
     "name": "stdout",
     "output_type": "stream",
     "text": [
      "Trial 20: Test Accuracy = 0.3888\n",
      "Trial 22 hyperparameters:\n",
      "embed_dim: 96\n",
      "depths: [2, 2, 6, 2]\n",
      "num_heads: [4, 8, 16, 32]\n",
      "window_size: 7\n",
      "mlp_ratio: 3.5218885093737216\n",
      "drop_rate: 0.3974433237057082\n",
      "attn_drop_rate: 0.1809787567360506\n",
      "drop_path_rate: 0.11201060305096458\n",
      "learning_rate: 4.019183986319905e-05\n",
      "weight_decay: 1.0211382971759276e-05\n",
      "batch_size: 16\n",
      "optimizer: Adam\n",
      "label_smoothing: 0.2\n",
      "factor: 1\n"
     ]
    },
    {
     "name": "stderr",
     "output_type": "stream",
     "text": [
      "c:\\Users\\Gabriel\\anaconda3\\envs\\cudaenv\\Lib\\site-packages\\optuna\\distributions.py:515: UserWarning: Choices for a categorical distribution should be a tuple of None, bool, int, float and str for persistent storage but contains [2, 2, 6, 2] which is of type list.\n",
      "  warnings.warn(message)\n",
      "c:\\Users\\Gabriel\\anaconda3\\envs\\cudaenv\\Lib\\site-packages\\optuna\\distributions.py:515: UserWarning: Choices for a categorical distribution should be a tuple of None, bool, int, float and str for persistent storage but contains [2, 2, 18, 2] which is of type list.\n",
      "  warnings.warn(message)\n",
      "c:\\Users\\Gabriel\\anaconda3\\envs\\cudaenv\\Lib\\site-packages\\optuna\\distributions.py:515: UserWarning: Choices for a categorical distribution should be a tuple of None, bool, int, float and str for persistent storage but contains [3, 6, 12, 24] which is of type list.\n",
      "  warnings.warn(message)\n",
      "c:\\Users\\Gabriel\\anaconda3\\envs\\cudaenv\\Lib\\site-packages\\optuna\\distributions.py:515: UserWarning: Choices for a categorical distribution should be a tuple of None, bool, int, float and str for persistent storage but contains [4, 8, 16, 32] which is of type list.\n",
      "  warnings.warn(message)\n"
     ]
    },
    {
     "name": "stdout",
     "output_type": "stream",
     "text": [
      "EarlyStopping counter: 8 out of 10\n",
      "EarlyStopping counter: 9 out of 10\n",
      "EarlyStopping counter: 10 out of 10\n",
      "Early stopping at epoch 14\n"
     ]
    },
    {
     "name": "stderr",
     "output_type": "stream",
     "text": [
      "[I 2025-06-05 06:08:23,976] Trial 21 finished with value: 0.54734188541586 and parameters: {'embed_dim': 96, 'depths': [2, 2, 6, 2], 'num_heads': [4, 8, 16, 32], 'window_size': 7, 'mlp_ratio': 3.062741435659932, 'drop_rate': 0.3017972044147267, 'attn_drop_rate': 0.4973420484846712, 'drop_path_rate': 0.10194178264399745, 'learning_rate': 3.273593581772615e-05, 'weight_decay': 1.0034037630472278e-06}. Best is trial 9 with value: 0.5864503121710876.\n"
     ]
    },
    {
     "name": "stdout",
     "output_type": "stream",
     "text": [
      "Trial 21: Test Accuracy = 0.5473\n",
      "Trial 23 hyperparameters:\n",
      "embed_dim: 96\n",
      "depths: [2, 2, 6, 2]\n",
      "num_heads: [4, 8, 16, 32]\n",
      "window_size: 7\n",
      "mlp_ratio: 3.609378689752754\n",
      "drop_rate: 0.39451576730907156\n",
      "attn_drop_rate: 0.17137336745250525\n",
      "drop_path_rate: 0.1398618128493963\n",
      "learning_rate: 5.863967520102548e-05\n",
      "weight_decay: 1.0570752194306149e-05\n",
      "batch_size: 16\n",
      "optimizer: Adam\n",
      "label_smoothing: 0.2\n",
      "factor: 1\n"
     ]
    },
    {
     "name": "stderr",
     "output_type": "stream",
     "text": [
      "c:\\Users\\Gabriel\\anaconda3\\envs\\cudaenv\\Lib\\site-packages\\optuna\\distributions.py:515: UserWarning: Choices for a categorical distribution should be a tuple of None, bool, int, float and str for persistent storage but contains [2, 2, 6, 2] which is of type list.\n",
      "  warnings.warn(message)\n",
      "c:\\Users\\Gabriel\\anaconda3\\envs\\cudaenv\\Lib\\site-packages\\optuna\\distributions.py:515: UserWarning: Choices for a categorical distribution should be a tuple of None, bool, int, float and str for persistent storage but contains [2, 2, 18, 2] which is of type list.\n",
      "  warnings.warn(message)\n",
      "c:\\Users\\Gabriel\\anaconda3\\envs\\cudaenv\\Lib\\site-packages\\optuna\\distributions.py:515: UserWarning: Choices for a categorical distribution should be a tuple of None, bool, int, float and str for persistent storage but contains [3, 6, 12, 24] which is of type list.\n",
      "  warnings.warn(message)\n",
      "c:\\Users\\Gabriel\\anaconda3\\envs\\cudaenv\\Lib\\site-packages\\optuna\\distributions.py:515: UserWarning: Choices for a categorical distribution should be a tuple of None, bool, int, float and str for persistent storage but contains [4, 8, 16, 32] which is of type list.\n",
      "  warnings.warn(message)\n"
     ]
    },
    {
     "name": "stdout",
     "output_type": "stream",
     "text": [
      "EarlyStopping counter: 1 out of 10\n",
      "EarlyStopping counter: 1 out of 10\n",
      "EarlyStopping counter: 2 out of 10\n",
      "EarlyStopping counter: 3 out of 10\n",
      "EarlyStopping counter: 1 out of 10\n",
      "EarlyStopping counter: 4 out of 10\n",
      "EarlyStopping counter: 2 out of 10\n",
      "EarlyStopping counter: 5 out of 10\n",
      "EarlyStopping counter: 3 out of 10\n",
      "EarlyStopping counter: 4 out of 10\n",
      "EarlyStopping counter: 5 out of 10\n",
      "EarlyStopping counter: 6 out of 10\n",
      "EarlyStopping counter: 1 out of 10\n",
      "EarlyStopping counter: 7 out of 10\n",
      "EarlyStopping counter: 2 out of 10\n",
      "EarlyStopping counter: 3 out of 10\n",
      "EarlyStopping counter: 1 out of 10\n",
      "EarlyStopping counter: 4 out of 10\n",
      "EarlyStopping counter: 2 out of 10\n",
      "EarlyStopping counter: 5 out of 10\n",
      "EarlyStopping counter: 3 out of 10\n",
      "EarlyStopping counter: 6 out of 10\n",
      "EarlyStopping counter: 4 out of 10\n",
      "EarlyStopping counter: 7 out of 10\n",
      "EarlyStopping counter: 8 out of 10\n",
      "EarlyStopping counter: 9 out of 10\n",
      "EarlyStopping counter: 1 out of 10\n",
      "EarlyStopping counter: 10 out of 10\n",
      "Early stopping at epoch 21\n"
     ]
    },
    {
     "name": "stderr",
     "output_type": "stream",
     "text": [
      "[I 2025-06-05 06:11:55,874] Trial 22 finished with value: 0.5297719731449696 and parameters: {'embed_dim': 96, 'depths': [2, 2, 6, 2], 'num_heads': [4, 8, 16, 32], 'window_size': 7, 'mlp_ratio': 3.5218885093737216, 'drop_rate': 0.3974433237057082, 'attn_drop_rate': 0.1809787567360506, 'drop_path_rate': 0.11201060305096458, 'learning_rate': 4.019183986319905e-05, 'weight_decay': 1.0211382971759276e-05}. Best is trial 9 with value: 0.5864503121710876.\n"
     ]
    },
    {
     "name": "stdout",
     "output_type": "stream",
     "text": [
      "Trial 22: Test Accuracy = 0.5298\n",
      "Trial 24 hyperparameters:\n",
      "embed_dim: 96\n",
      "depths: [2, 2, 6, 2]\n",
      "num_heads: [4, 8, 16, 32]\n",
      "window_size: 7\n",
      "mlp_ratio: 2.5817438451343735\n",
      "drop_rate: 0.41562680763709625\n",
      "attn_drop_rate: 0.17383322032005347\n",
      "drop_path_rate: 0.49978049687134457\n",
      "learning_rate: 5.82246319203508e-05\n",
      "weight_decay: 1.2208543520379463e-05\n",
      "batch_size: 16\n",
      "optimizer: Adam\n",
      "label_smoothing: 0.2\n",
      "factor: 1\n"
     ]
    },
    {
     "name": "stderr",
     "output_type": "stream",
     "text": [
      "c:\\Users\\Gabriel\\anaconda3\\envs\\cudaenv\\Lib\\site-packages\\optuna\\distributions.py:515: UserWarning: Choices for a categorical distribution should be a tuple of None, bool, int, float and str for persistent storage but contains [2, 2, 6, 2] which is of type list.\n",
      "  warnings.warn(message)\n",
      "c:\\Users\\Gabriel\\anaconda3\\envs\\cudaenv\\Lib\\site-packages\\optuna\\distributions.py:515: UserWarning: Choices for a categorical distribution should be a tuple of None, bool, int, float and str for persistent storage but contains [2, 2, 18, 2] which is of type list.\n",
      "  warnings.warn(message)\n",
      "c:\\Users\\Gabriel\\anaconda3\\envs\\cudaenv\\Lib\\site-packages\\optuna\\distributions.py:515: UserWarning: Choices for a categorical distribution should be a tuple of None, bool, int, float and str for persistent storage but contains [3, 6, 12, 24] which is of type list.\n",
      "  warnings.warn(message)\n",
      "c:\\Users\\Gabriel\\anaconda3\\envs\\cudaenv\\Lib\\site-packages\\optuna\\distributions.py:515: UserWarning: Choices for a categorical distribution should be a tuple of None, bool, int, float and str for persistent storage but contains [4, 8, 16, 32] which is of type list.\n",
      "  warnings.warn(message)\n"
     ]
    },
    {
     "name": "stdout",
     "output_type": "stream",
     "text": [
      "EarlyStopping counter: 2 out of 10\n",
      "EarlyStopping counter: 3 out of 10\n",
      "EarlyStopping counter: 4 out of 10\n",
      "EarlyStopping counter: 1 out of 10\n",
      "EarlyStopping counter: 5 out of 10\n",
      "EarlyStopping counter: 6 out of 10\n",
      "EarlyStopping counter: 1 out of 10\n",
      "EarlyStopping counter: 7 out of 10\n",
      "EarlyStopping counter: 2 out of 10\n",
      "EarlyStopping counter: 8 out of 10\n",
      "EarlyStopping counter: 3 out of 10\n",
      "EarlyStopping counter: 9 out of 10\n",
      "EarlyStopping counter: 4 out of 10\n",
      "EarlyStopping counter: 10 out of 10\n",
      "Early stopping at epoch 27\n"
     ]
    },
    {
     "name": "stderr",
     "output_type": "stream",
     "text": [
      "[I 2025-06-05 06:13:23,988] Trial 23 finished with value: 0.4559957784488667 and parameters: {'embed_dim': 96, 'depths': [2, 2, 6, 2], 'num_heads': [4, 8, 16, 32], 'window_size': 7, 'mlp_ratio': 3.609378689752754, 'drop_rate': 0.39451576730907156, 'attn_drop_rate': 0.17137336745250525, 'drop_path_rate': 0.1398618128493963, 'learning_rate': 5.863967520102548e-05, 'weight_decay': 1.0570752194306149e-05}. Best is trial 9 with value: 0.5864503121710876.\n"
     ]
    },
    {
     "name": "stdout",
     "output_type": "stream",
     "text": [
      "Trial 23: Test Accuracy = 0.4560\n",
      "EarlyStopping counter: 5 out of 10\n",
      "Trial 25 hyperparameters:\n",
      "embed_dim: 96\n",
      "depths: [2, 2, 6, 2]\n",
      "num_heads: [4, 8, 16, 32]\n",
      "window_size: 7\n",
      "mlp_ratio: 3.115819386816975\n",
      "drop_rate: 0.343634365001534\n",
      "attn_drop_rate: 0.34607997247125066\n",
      "drop_path_rate: 0.18606580057657796\n",
      "learning_rate: 2.1862207223642334e-05\n",
      "weight_decay: 4.192764289425378e-06\n",
      "batch_size: 16\n",
      "optimizer: Adam\n",
      "label_smoothing: 0.2\n",
      "factor: 1\n"
     ]
    },
    {
     "name": "stderr",
     "output_type": "stream",
     "text": [
      "c:\\Users\\Gabriel\\anaconda3\\envs\\cudaenv\\Lib\\site-packages\\optuna\\distributions.py:515: UserWarning: Choices for a categorical distribution should be a tuple of None, bool, int, float and str for persistent storage but contains [2, 2, 6, 2] which is of type list.\n",
      "  warnings.warn(message)\n",
      "c:\\Users\\Gabriel\\anaconda3\\envs\\cudaenv\\Lib\\site-packages\\optuna\\distributions.py:515: UserWarning: Choices for a categorical distribution should be a tuple of None, bool, int, float and str for persistent storage but contains [2, 2, 18, 2] which is of type list.\n",
      "  warnings.warn(message)\n",
      "c:\\Users\\Gabriel\\anaconda3\\envs\\cudaenv\\Lib\\site-packages\\optuna\\distributions.py:515: UserWarning: Choices for a categorical distribution should be a tuple of None, bool, int, float and str for persistent storage but contains [3, 6, 12, 24] which is of type list.\n",
      "  warnings.warn(message)\n",
      "c:\\Users\\Gabriel\\anaconda3\\envs\\cudaenv\\Lib\\site-packages\\optuna\\distributions.py:515: UserWarning: Choices for a categorical distribution should be a tuple of None, bool, int, float and str for persistent storage but contains [4, 8, 16, 32] which is of type list.\n",
      "  warnings.warn(message)\n"
     ]
    },
    {
     "name": "stdout",
     "output_type": "stream",
     "text": [
      "EarlyStopping counter: 6 out of 10\n",
      "EarlyStopping counter: 7 out of 10\n",
      "EarlyStopping counter: 1 out of 10\n",
      "EarlyStopping counter: 8 out of 10\n",
      "EarlyStopping counter: 9 out of 10\n",
      "EarlyStopping counter: 1 out of 10\n",
      "EarlyStopping counter: 10 out of 10\n",
      "Early stopping at epoch 13\n",
      "EarlyStopping counter: 2 out of 10\n"
     ]
    },
    {
     "name": "stderr",
     "output_type": "stream",
     "text": [
      "[I 2025-06-05 06:14:18,008] Trial 24 finished with value: 0.3643410852713178 and parameters: {'embed_dim': 96, 'depths': [2, 2, 6, 2], 'num_heads': [4, 8, 16, 32], 'window_size': 7, 'mlp_ratio': 2.5817438451343735, 'drop_rate': 0.41562680763709625, 'attn_drop_rate': 0.17383322032005347, 'drop_path_rate': 0.49978049687134457, 'learning_rate': 5.82246319203508e-05, 'weight_decay': 1.2208543520379463e-05}. Best is trial 9 with value: 0.5864503121710876.\n"
     ]
    },
    {
     "name": "stdout",
     "output_type": "stream",
     "text": [
      "Trial 24: Test Accuracy = 0.3643\n",
      "Trial 26 hyperparameters:\n",
      "embed_dim: 96\n",
      "depths: [2, 2, 6, 2]\n",
      "num_heads: [4, 8, 16, 32]\n",
      "window_size: 7\n",
      "mlp_ratio: 3.0846553335031075\n",
      "drop_rate: 0.3562840343560387\n",
      "attn_drop_rate: 0.35475725545385006\n",
      "drop_path_rate: 0.19375036586611344\n",
      "learning_rate: 2.3372245066774554e-05\n",
      "weight_decay: 4.3638128961008925e-06\n",
      "batch_size: 16\n",
      "optimizer: Adam\n",
      "label_smoothing: 0.2\n",
      "factor: 1\n"
     ]
    },
    {
     "name": "stderr",
     "output_type": "stream",
     "text": [
      "c:\\Users\\Gabriel\\anaconda3\\envs\\cudaenv\\Lib\\site-packages\\optuna\\distributions.py:515: UserWarning: Choices for a categorical distribution should be a tuple of None, bool, int, float and str for persistent storage but contains [2, 2, 6, 2] which is of type list.\n",
      "  warnings.warn(message)\n",
      "c:\\Users\\Gabriel\\anaconda3\\envs\\cudaenv\\Lib\\site-packages\\optuna\\distributions.py:515: UserWarning: Choices for a categorical distribution should be a tuple of None, bool, int, float and str for persistent storage but contains [2, 2, 18, 2] which is of type list.\n",
      "  warnings.warn(message)\n",
      "c:\\Users\\Gabriel\\anaconda3\\envs\\cudaenv\\Lib\\site-packages\\optuna\\distributions.py:515: UserWarning: Choices for a categorical distribution should be a tuple of None, bool, int, float and str for persistent storage but contains [3, 6, 12, 24] which is of type list.\n",
      "  warnings.warn(message)\n",
      "c:\\Users\\Gabriel\\anaconda3\\envs\\cudaenv\\Lib\\site-packages\\optuna\\distributions.py:515: UserWarning: Choices for a categorical distribution should be a tuple of None, bool, int, float and str for persistent storage but contains [4, 8, 16, 32] which is of type list.\n",
      "  warnings.warn(message)\n"
     ]
    },
    {
     "name": "stdout",
     "output_type": "stream",
     "text": [
      "EarlyStopping counter: 3 out of 10\n",
      "EarlyStopping counter: 4 out of 10\n",
      "EarlyStopping counter: 1 out of 10\n",
      "EarlyStopping counter: 5 out of 10\n",
      "EarlyStopping counter: 2 out of 10\n",
      "EarlyStopping counter: 6 out of 10\n",
      "EarlyStopping counter: 3 out of 10\n",
      "EarlyStopping counter: 7 out of 10\n",
      "EarlyStopping counter: 4 out of 10\n",
      "EarlyStopping counter: 8 out of 10\n",
      "EarlyStopping counter: 5 out of 10\n",
      "EarlyStopping counter: 9 out of 10\n",
      "EarlyStopping counter: 6 out of 10\n",
      "EarlyStopping counter: 10 out of 10\n",
      "Early stopping at epoch 12\n"
     ]
    },
    {
     "name": "stderr",
     "output_type": "stream",
     "text": [
      "[I 2025-06-05 06:15:35,666] Trial 25 finished with value: 0.5152948059434392 and parameters: {'embed_dim': 96, 'depths': [2, 2, 6, 2], 'num_heads': [4, 8, 16, 32], 'window_size': 7, 'mlp_ratio': 3.115819386816975, 'drop_rate': 0.343634365001534, 'attn_drop_rate': 0.34607997247125066, 'drop_path_rate': 0.18606580057657796, 'learning_rate': 2.1862207223642334e-05, 'weight_decay': 4.192764289425378e-06}. Best is trial 9 with value: 0.5864503121710876.\n"
     ]
    },
    {
     "name": "stdout",
     "output_type": "stream",
     "text": [
      "Trial 25: Test Accuracy = 0.5153\n",
      "Trial 27 hyperparameters:\n",
      "embed_dim: 96\n",
      "depths: [2, 2, 18, 2]\n",
      "num_heads: [4, 8, 16, 32]\n",
      "window_size: 7\n",
      "mlp_ratio: 3.995449832846325\n",
      "drop_rate: 0.34916819088019524\n",
      "attn_drop_rate: 0.07184775768063187\n",
      "drop_path_rate: 0.2847259037375187\n",
      "learning_rate: 0.00010350134131802083\n",
      "weight_decay: 3.772455878481951e-06\n",
      "batch_size: 16\n",
      "optimizer: Adam\n",
      "label_smoothing: 0.2\n",
      "factor: 1\n"
     ]
    },
    {
     "name": "stderr",
     "output_type": "stream",
     "text": [
      "c:\\Users\\Gabriel\\anaconda3\\envs\\cudaenv\\Lib\\site-packages\\optuna\\distributions.py:515: UserWarning: Choices for a categorical distribution should be a tuple of None, bool, int, float and str for persistent storage but contains [2, 2, 6, 2] which is of type list.\n",
      "  warnings.warn(message)\n",
      "c:\\Users\\Gabriel\\anaconda3\\envs\\cudaenv\\Lib\\site-packages\\optuna\\distributions.py:515: UserWarning: Choices for a categorical distribution should be a tuple of None, bool, int, float and str for persistent storage but contains [2, 2, 18, 2] which is of type list.\n",
      "  warnings.warn(message)\n",
      "c:\\Users\\Gabriel\\anaconda3\\envs\\cudaenv\\Lib\\site-packages\\optuna\\distributions.py:515: UserWarning: Choices for a categorical distribution should be a tuple of None, bool, int, float and str for persistent storage but contains [3, 6, 12, 24] which is of type list.\n",
      "  warnings.warn(message)\n",
      "c:\\Users\\Gabriel\\anaconda3\\envs\\cudaenv\\Lib\\site-packages\\optuna\\distributions.py:515: UserWarning: Choices for a categorical distribution should be a tuple of None, bool, int, float and str for persistent storage but contains [4, 8, 16, 32] which is of type list.\n",
      "  warnings.warn(message)\n"
     ]
    },
    {
     "name": "stdout",
     "output_type": "stream",
     "text": [
      "EarlyStopping counter: 7 out of 10\n",
      "EarlyStopping counter: 8 out of 10\n",
      "EarlyStopping counter: 1 out of 10\n",
      "EarlyStopping counter: 2 out of 10\n",
      "EarlyStopping counter: 1 out of 10\n",
      "EarlyStopping counter: 3 out of 10\n",
      "EarlyStopping counter: 2 out of 10\n",
      "EarlyStopping counter: 4 out of 10\n",
      "EarlyStopping counter: 5 out of 10\n",
      "EarlyStopping counter: 1 out of 10\n",
      "EarlyStopping counter: 6 out of 10\n",
      "EarlyStopping counter: 2 out of 10\n",
      "EarlyStopping counter: 7 out of 10\n",
      "EarlyStopping counter: 3 out of 10\n",
      "EarlyStopping counter: 8 out of 10\n",
      "EarlyStopping counter: 4 out of 10\n",
      "EarlyStopping counter: 9 out of 10\n",
      "EarlyStopping counter: 5 out of 10\n",
      "EarlyStopping counter: 10 out of 10\n",
      "Early stopping at epoch 10\n",
      "EarlyStopping counter: 6 out of 10\n"
     ]
    },
    {
     "name": "stderr",
     "output_type": "stream",
     "text": [
      "[I 2025-06-05 06:18:19,055] Trial 27 finished with value: 0.3333333333333333 and parameters: {'embed_dim': 96, 'depths': [2, 2, 18, 2], 'num_heads': [4, 8, 16, 32], 'window_size': 7, 'mlp_ratio': 3.995449832846325, 'drop_rate': 0.34916819088019524, 'attn_drop_rate': 0.07184775768063187, 'drop_path_rate': 0.2847259037375187, 'learning_rate': 0.00010350134131802083, 'weight_decay': 3.772455878481951e-06}. Best is trial 9 with value: 0.5864503121710876.\n"
     ]
    },
    {
     "name": "stdout",
     "output_type": "stream",
     "text": [
      "Trial 27: Test Accuracy = 0.3333\n",
      "Trial 28 hyperparameters:\n",
      "embed_dim: 96\n",
      "depths: [2, 2, 6, 2]\n",
      "num_heads: [4, 8, 16, 32]\n",
      "window_size: 7\n",
      "mlp_ratio: 3.7322404808547236\n",
      "drop_rate: 0.1908073187624648\n",
      "attn_drop_rate: 0.2373387353024647\n",
      "drop_path_rate: 0.21829547309907876\n",
      "learning_rate: 0.00012098074183643413\n",
      "weight_decay: 4.297441355108694e-05\n",
      "batch_size: 16\n",
      "optimizer: Adam\n",
      "label_smoothing: 0.2\n",
      "factor: 1\n"
     ]
    },
    {
     "name": "stderr",
     "output_type": "stream",
     "text": [
      "c:\\Users\\Gabriel\\anaconda3\\envs\\cudaenv\\Lib\\site-packages\\optuna\\distributions.py:515: UserWarning: Choices for a categorical distribution should be a tuple of None, bool, int, float and str for persistent storage but contains [2, 2, 6, 2] which is of type list.\n",
      "  warnings.warn(message)\n",
      "c:\\Users\\Gabriel\\anaconda3\\envs\\cudaenv\\Lib\\site-packages\\optuna\\distributions.py:515: UserWarning: Choices for a categorical distribution should be a tuple of None, bool, int, float and str for persistent storage but contains [2, 2, 18, 2] which is of type list.\n",
      "  warnings.warn(message)\n",
      "c:\\Users\\Gabriel\\anaconda3\\envs\\cudaenv\\Lib\\site-packages\\optuna\\distributions.py:515: UserWarning: Choices for a categorical distribution should be a tuple of None, bool, int, float and str for persistent storage but contains [3, 6, 12, 24] which is of type list.\n",
      "  warnings.warn(message)\n",
      "c:\\Users\\Gabriel\\anaconda3\\envs\\cudaenv\\Lib\\site-packages\\optuna\\distributions.py:515: UserWarning: Choices for a categorical distribution should be a tuple of None, bool, int, float and str for persistent storage but contains [4, 8, 16, 32] which is of type list.\n",
      "  warnings.warn(message)\n"
     ]
    },
    {
     "name": "stdout",
     "output_type": "stream",
     "text": [
      "EarlyStopping counter: 7 out of 10\n",
      "EarlyStopping counter: 8 out of 10\n",
      "EarlyStopping counter: 1 out of 10\n",
      "EarlyStopping counter: 9 out of 10\n",
      "EarlyStopping counter: 10 out of 10\n",
      "Early stopping at epoch 22\n"
     ]
    },
    {
     "name": "stderr",
     "output_type": "stream",
     "text": [
      "[I 2025-06-05 06:18:56,973] Trial 26 finished with value: 0.5359087089567435 and parameters: {'embed_dim': 96, 'depths': [2, 2, 6, 2], 'num_heads': [4, 8, 16, 32], 'window_size': 7, 'mlp_ratio': 3.0846553335031075, 'drop_rate': 0.3562840343560387, 'attn_drop_rate': 0.35475725545385006, 'drop_path_rate': 0.19375036586611344, 'learning_rate': 2.3372245066774554e-05, 'weight_decay': 4.3638128961008925e-06}. Best is trial 9 with value: 0.5864503121710876.\n"
     ]
    },
    {
     "name": "stdout",
     "output_type": "stream",
     "text": [
      "Trial 26: Test Accuracy = 0.5359\n",
      "Trial 29 hyperparameters:\n",
      "embed_dim: 128\n",
      "depths: [2, 2, 6, 2]\n",
      "num_heads: [4, 8, 16, 32]\n",
      "window_size: 7\n",
      "mlp_ratio: 3.7132691680096768\n",
      "drop_rate: 0.2050483438674553\n",
      "attn_drop_rate: 0.23626714459626613\n",
      "drop_path_rate: 0.23871233239378578\n",
      "learning_rate: 0.00011062283901266985\n",
      "weight_decay: 4.568583907370264e-05\n",
      "batch_size: 16\n",
      "optimizer: Adam\n",
      "label_smoothing: 0.2\n",
      "factor: 1\n"
     ]
    },
    {
     "name": "stderr",
     "output_type": "stream",
     "text": [
      "c:\\Users\\Gabriel\\anaconda3\\envs\\cudaenv\\Lib\\site-packages\\optuna\\distributions.py:515: UserWarning: Choices for a categorical distribution should be a tuple of None, bool, int, float and str for persistent storage but contains [2, 2, 6, 2] which is of type list.\n",
      "  warnings.warn(message)\n",
      "c:\\Users\\Gabriel\\anaconda3\\envs\\cudaenv\\Lib\\site-packages\\optuna\\distributions.py:515: UserWarning: Choices for a categorical distribution should be a tuple of None, bool, int, float and str for persistent storage but contains [2, 2, 18, 2] which is of type list.\n",
      "  warnings.warn(message)\n",
      "c:\\Users\\Gabriel\\anaconda3\\envs\\cudaenv\\Lib\\site-packages\\optuna\\distributions.py:515: UserWarning: Choices for a categorical distribution should be a tuple of None, bool, int, float and str for persistent storage but contains [3, 6, 12, 24] which is of type list.\n",
      "  warnings.warn(message)\n",
      "c:\\Users\\Gabriel\\anaconda3\\envs\\cudaenv\\Lib\\site-packages\\optuna\\distributions.py:515: UserWarning: Choices for a categorical distribution should be a tuple of None, bool, int, float and str for persistent storage but contains [4, 8, 16, 32] which is of type list.\n",
      "  warnings.warn(message)\n"
     ]
    },
    {
     "name": "stdout",
     "output_type": "stream",
     "text": [
      "EarlyStopping counter: 1 out of 10\n",
      "EarlyStopping counter: 1 out of 10\n",
      "EarlyStopping counter: 2 out of 10\n",
      "EarlyStopping counter: 3 out of 10\n",
      "EarlyStopping counter: 4 out of 10\n",
      "EarlyStopping counter: 1 out of 10\n",
      "EarlyStopping counter: 5 out of 10\n",
      "EarlyStopping counter: 6 out of 10\n",
      "EarlyStopping counter: 1 out of 10\n",
      "EarlyStopping counter: 7 out of 10\n",
      "EarlyStopping counter: 2 out of 10\n",
      "EarlyStopping counter: 8 out of 10\n",
      "EarlyStopping counter: 3 out of 10\n",
      "EarlyStopping counter: 9 out of 10\n",
      "EarlyStopping counter: 4 out of 10\n",
      "EarlyStopping counter: 5 out of 10\n",
      "EarlyStopping counter: 1 out of 10\n",
      "EarlyStopping counter: 6 out of 10\n",
      "EarlyStopping counter: 2 out of 10\n",
      "EarlyStopping counter: 7 out of 10\n",
      "EarlyStopping counter: 3 out of 10\n",
      "EarlyStopping counter: 8 out of 10\n",
      "EarlyStopping counter: 4 out of 10\n",
      "EarlyStopping counter: 9 out of 10\n",
      "EarlyStopping counter: 5 out of 10\n",
      "EarlyStopping counter: 6 out of 10\n",
      "EarlyStopping counter: 1 out of 10\n",
      "EarlyStopping counter: 7 out of 10\n",
      "EarlyStopping counter: 2 out of 10\n",
      "EarlyStopping counter: 8 out of 10\n",
      "EarlyStopping counter: 3 out of 10\n",
      "EarlyStopping counter: 9 out of 10\n",
      "EarlyStopping counter: 4 out of 10\n",
      "EarlyStopping counter: 5 out of 10\n",
      "EarlyStopping counter: 1 out of 10\n",
      "EarlyStopping counter: 6 out of 10\n",
      "EarlyStopping counter: 2 out of 10\n",
      "EarlyStopping counter: 3 out of 10\n",
      "EarlyStopping counter: 1 out of 10\n",
      "EarlyStopping counter: 4 out of 10\n",
      "EarlyStopping counter: 5 out of 10\n",
      "EarlyStopping counter: 2 out of 10\n",
      "EarlyStopping counter: 6 out of 10\n",
      "EarlyStopping counter: 7 out of 10\n",
      "EarlyStopping counter: 1 out of 10\n",
      "EarlyStopping counter: 8 out of 10\n",
      "EarlyStopping counter: 2 out of 10\n",
      "EarlyStopping counter: 9 out of 10\n",
      "EarlyStopping counter: 3 out of 10\n",
      "EarlyStopping counter: 10 out of 10\n",
      "Early stopping at epoch 34\n",
      "EarlyStopping counter: 4 out of 10\n"
     ]
    },
    {
     "name": "stderr",
     "output_type": "stream",
     "text": [
      "[I 2025-06-05 06:25:13,221] Trial 28 finished with value: 0.567369015764855 and parameters: {'embed_dim': 96, 'depths': [2, 2, 6, 2], 'num_heads': [4, 8, 16, 32], 'window_size': 7, 'mlp_ratio': 3.7322404808547236, 'drop_rate': 0.1908073187624648, 'attn_drop_rate': 0.2373387353024647, 'drop_path_rate': 0.21829547309907876, 'learning_rate': 0.00012098074183643413, 'weight_decay': 4.297441355108694e-05}. Best is trial 9 with value: 0.5864503121710876.\n"
     ]
    },
    {
     "name": "stdout",
     "output_type": "stream",
     "text": [
      "Trial 28: Test Accuracy = 0.5674\n",
      "Trial 30 hyperparameters:\n",
      "embed_dim: 128\n",
      "depths: [2, 2, 6, 2]\n",
      "num_heads: [3, 6, 12, 24]\n",
      "window_size: 14\n",
      "mlp_ratio: 3.756205623555749\n",
      "drop_rate: 0.18512872196506364\n",
      "attn_drop_rate: 0.40003684243087934\n",
      "drop_path_rate: 0.22811672780695974\n",
      "learning_rate: 0.00019787012521595824\n",
      "weight_decay: 4.7601967124102753e-05\n",
      "batch_size: 16\n",
      "optimizer: Adam\n",
      "label_smoothing: 0.2\n",
      "factor: 1\n"
     ]
    },
    {
     "name": "stderr",
     "output_type": "stream",
     "text": [
      "c:\\Users\\Gabriel\\anaconda3\\envs\\cudaenv\\Lib\\site-packages\\optuna\\distributions.py:515: UserWarning: Choices for a categorical distribution should be a tuple of None, bool, int, float and str for persistent storage but contains [2, 2, 6, 2] which is of type list.\n",
      "  warnings.warn(message)\n",
      "c:\\Users\\Gabriel\\anaconda3\\envs\\cudaenv\\Lib\\site-packages\\optuna\\distributions.py:515: UserWarning: Choices for a categorical distribution should be a tuple of None, bool, int, float and str for persistent storage but contains [2, 2, 18, 2] which is of type list.\n",
      "  warnings.warn(message)\n",
      "c:\\Users\\Gabriel\\anaconda3\\envs\\cudaenv\\Lib\\site-packages\\optuna\\distributions.py:515: UserWarning: Choices for a categorical distribution should be a tuple of None, bool, int, float and str for persistent storage but contains [3, 6, 12, 24] which is of type list.\n",
      "  warnings.warn(message)\n",
      "c:\\Users\\Gabriel\\anaconda3\\envs\\cudaenv\\Lib\\site-packages\\optuna\\distributions.py:515: UserWarning: Choices for a categorical distribution should be a tuple of None, bool, int, float and str for persistent storage but contains [4, 8, 16, 32] which is of type list.\n",
      "  warnings.warn(message)\n"
     ]
    },
    {
     "name": "stdout",
     "output_type": "stream",
     "text": [
      "EarlyStopping counter: 5 out of 10\n",
      "EarlyStopping counter: 6 out of 10\n",
      "EarlyStopping counter: 1 out of 10\n",
      "EarlyStopping counter: 7 out of 10\n",
      "EarlyStopping counter: 2 out of 10\n",
      "EarlyStopping counter: 8 out of 10\n",
      "EarlyStopping counter: 9 out of 10\n",
      "EarlyStopping counter: 1 out of 10\n",
      "EarlyStopping counter: 10 out of 10\n",
      "Early stopping at epoch 35\n"
     ]
    },
    {
     "name": "stderr",
     "output_type": "stream",
     "text": [
      "[I 2025-06-05 06:26:41,335] Trial 29 finished with value: 0.4393504776490091 and parameters: {'embed_dim': 128, 'depths': [2, 2, 6, 2], 'num_heads': [4, 8, 16, 32], 'window_size': 7, 'mlp_ratio': 3.7132691680096768, 'drop_rate': 0.2050483438674553, 'attn_drop_rate': 0.23626714459626613, 'drop_path_rate': 0.23871233239378578, 'learning_rate': 0.00011062283901266985, 'weight_decay': 4.568583907370264e-05}. Best is trial 9 with value: 0.5864503121710876.\n"
     ]
    },
    {
     "name": "stdout",
     "output_type": "stream",
     "text": [
      "Trial 29: Test Accuracy = 0.4394\n",
      "Trial 31 hyperparameters:\n",
      "embed_dim: 96\n",
      "depths: [2, 2, 6, 2]\n",
      "num_heads: [3, 6, 12, 24]\n",
      "window_size: 14\n",
      "mlp_ratio: 2.639133863153045\n",
      "drop_rate: 0.1309669136907326\n",
      "attn_drop_rate: 0.38313322539896\n",
      "drop_path_rate: 0.3628736982331596\n",
      "learning_rate: 0.0001900954777136102\n",
      "weight_decay: 7.853967070447703e-05\n",
      "batch_size: 16\n",
      "optimizer: Adam\n",
      "label_smoothing: 0.2\n",
      "factor: 1\n"
     ]
    },
    {
     "name": "stderr",
     "output_type": "stream",
     "text": [
      "c:\\Users\\Gabriel\\anaconda3\\envs\\cudaenv\\Lib\\site-packages\\optuna\\distributions.py:515: UserWarning: Choices for a categorical distribution should be a tuple of None, bool, int, float and str for persistent storage but contains [2, 2, 6, 2] which is of type list.\n",
      "  warnings.warn(message)\n",
      "c:\\Users\\Gabriel\\anaconda3\\envs\\cudaenv\\Lib\\site-packages\\optuna\\distributions.py:515: UserWarning: Choices for a categorical distribution should be a tuple of None, bool, int, float and str for persistent storage but contains [2, 2, 18, 2] which is of type list.\n",
      "  warnings.warn(message)\n",
      "c:\\Users\\Gabriel\\anaconda3\\envs\\cudaenv\\Lib\\site-packages\\optuna\\distributions.py:515: UserWarning: Choices for a categorical distribution should be a tuple of None, bool, int, float and str for persistent storage but contains [3, 6, 12, 24] which is of type list.\n",
      "  warnings.warn(message)\n",
      "c:\\Users\\Gabriel\\anaconda3\\envs\\cudaenv\\Lib\\site-packages\\optuna\\distributions.py:515: UserWarning: Choices for a categorical distribution should be a tuple of None, bool, int, float and str for persistent storage but contains [4, 8, 16, 32] which is of type list.\n",
      "  warnings.warn(message)\n"
     ]
    },
    {
     "name": "stdout",
     "output_type": "stream",
     "text": [
      "EarlyStopping counter: 2 out of 10\n",
      "EarlyStopping counter: 3 out of 10\n",
      "EarlyStopping counter: 1 out of 10\n",
      "EarlyStopping counter: 4 out of 10\n",
      "EarlyStopping counter: 2 out of 10\n",
      "EarlyStopping counter: 5 out of 10\n",
      "EarlyStopping counter: 3 out of 10\n",
      "EarlyStopping counter: 6 out of 10\n",
      "EarlyStopping counter: 1 out of 10\n",
      "EarlyStopping counter: 1 out of 10\n",
      "EarlyStopping counter: 2 out of 10\n",
      "EarlyStopping counter: 2 out of 10\n",
      "EarlyStopping counter: 3 out of 10\n",
      "EarlyStopping counter: 3 out of 10\n",
      "EarlyStopping counter: 4 out of 10\n",
      "EarlyStopping counter: 4 out of 10\n",
      "EarlyStopping counter: 5 out of 10\n",
      "EarlyStopping counter: 5 out of 10\n",
      "EarlyStopping counter: 6 out of 10\n",
      "EarlyStopping counter: 6 out of 10\n",
      "EarlyStopping counter: 7 out of 10\n",
      "EarlyStopping counter: 7 out of 10\n",
      "EarlyStopping counter: 8 out of 10\n",
      "EarlyStopping counter: 8 out of 10\n",
      "EarlyStopping counter: 9 out of 10\n",
      "EarlyStopping counter: 9 out of 10\n",
      "EarlyStopping counter: 10 out of 10\n",
      "Early stopping at epoch 14\n",
      "Trial 31: Test Accuracy = 0.4115\n"
     ]
    },
    {
     "name": "stderr",
     "output_type": "stream",
     "text": [
      "[I 2025-06-05 06:29:55,871] Trial 31 finished with value: 0.41147275350099083 and parameters: {'embed_dim': 96, 'depths': [2, 2, 6, 2], 'num_heads': [3, 6, 12, 24], 'window_size': 14, 'mlp_ratio': 2.639133863153045, 'drop_rate': 0.1309669136907326, 'attn_drop_rate': 0.38313322539896, 'drop_path_rate': 0.3628736982331596, 'learning_rate': 0.0001900954777136102, 'weight_decay': 7.853967070447703e-05}. Best is trial 9 with value: 0.5864503121710876.\n",
      "c:\\Users\\Gabriel\\anaconda3\\envs\\cudaenv\\Lib\\site-packages\\optuna\\distributions.py:515: UserWarning: Choices for a categorical distribution should be a tuple of None, bool, int, float and str for persistent storage but contains [2, 2, 6, 2] which is of type list.\n",
      "  warnings.warn(message)\n",
      "c:\\Users\\Gabriel\\anaconda3\\envs\\cudaenv\\Lib\\site-packages\\optuna\\distributions.py:515: UserWarning: Choices for a categorical distribution should be a tuple of None, bool, int, float and str for persistent storage but contains [2, 2, 18, 2] which is of type list.\n",
      "  warnings.warn(message)\n",
      "c:\\Users\\Gabriel\\anaconda3\\envs\\cudaenv\\Lib\\site-packages\\optuna\\distributions.py:515: UserWarning: Choices for a categorical distribution should be a tuple of None, bool, int, float and str for persistent storage but contains [3, 6, 12, 24] which is of type list.\n",
      "  warnings.warn(message)\n",
      "c:\\Users\\Gabriel\\anaconda3\\envs\\cudaenv\\Lib\\site-packages\\optuna\\distributions.py:515: UserWarning: Choices for a categorical distribution should be a tuple of None, bool, int, float and str for persistent storage but contains [4, 8, 16, 32] which is of type list.\n",
      "  warnings.warn(message)\n"
     ]
    },
    {
     "name": "stdout",
     "output_type": "stream",
     "text": [
      "Trial 32 hyperparameters:\n",
      "embed_dim: 96\n",
      "depths: [2, 2, 6, 2]\n",
      "num_heads: [4, 8, 16, 32]\n",
      "window_size: 7\n",
      "mlp_ratio: 3.4221562436286757\n",
      "drop_rate: 0.2798535970351022\n",
      "attn_drop_rate: 0.14941945508270268\n",
      "drop_path_rate: 0.22066207235888194\n",
      "learning_rate: 0.00025834087728633214\n",
      "weight_decay: 1.778590425711997e-05\n",
      "batch_size: 16\n",
      "optimizer: Adam\n",
      "label_smoothing: 0.2\n",
      "factor: 1\n",
      "EarlyStopping counter: 10 out of 10\n",
      "Early stopping at epoch 20\n"
     ]
    },
    {
     "name": "stderr",
     "output_type": "stream",
     "text": [
      "[I 2025-06-05 06:30:08,274] Trial 30 finished with value: 0.3333333333333333 and parameters: {'embed_dim': 128, 'depths': [2, 2, 6, 2], 'num_heads': [3, 6, 12, 24], 'window_size': 14, 'mlp_ratio': 3.756205623555749, 'drop_rate': 0.18512872196506364, 'attn_drop_rate': 0.40003684243087934, 'drop_path_rate': 0.22811672780695974, 'learning_rate': 0.00019787012521595824, 'weight_decay': 4.7601967124102753e-05}. Best is trial 9 with value: 0.5864503121710876.\n"
     ]
    },
    {
     "name": "stdout",
     "output_type": "stream",
     "text": [
      "Trial 30: Test Accuracy = 0.3333\n",
      "Trial 33 hyperparameters:\n",
      "embed_dim: 96\n",
      "depths: [2, 2, 6, 2]\n",
      "num_heads: [4, 8, 16, 32]\n",
      "window_size: 7\n",
      "mlp_ratio: 3.3867643097860514\n",
      "drop_rate: 0.27766422787968886\n",
      "attn_drop_rate: 0.15365497560806898\n",
      "drop_path_rate: 0.14390548178919066\n",
      "learning_rate: 0.00011243522284924758\n",
      "weight_decay: 1.808748213542072e-05\n",
      "batch_size: 16\n",
      "optimizer: Adam\n",
      "label_smoothing: 0.2\n",
      "factor: 1\n"
     ]
    },
    {
     "name": "stderr",
     "output_type": "stream",
     "text": [
      "c:\\Users\\Gabriel\\anaconda3\\envs\\cudaenv\\Lib\\site-packages\\optuna\\distributions.py:515: UserWarning: Choices for a categorical distribution should be a tuple of None, bool, int, float and str for persistent storage but contains [2, 2, 6, 2] which is of type list.\n",
      "  warnings.warn(message)\n",
      "c:\\Users\\Gabriel\\anaconda3\\envs\\cudaenv\\Lib\\site-packages\\optuna\\distributions.py:515: UserWarning: Choices for a categorical distribution should be a tuple of None, bool, int, float and str for persistent storage but contains [2, 2, 18, 2] which is of type list.\n",
      "  warnings.warn(message)\n",
      "c:\\Users\\Gabriel\\anaconda3\\envs\\cudaenv\\Lib\\site-packages\\optuna\\distributions.py:515: UserWarning: Choices for a categorical distribution should be a tuple of None, bool, int, float and str for persistent storage but contains [3, 6, 12, 24] which is of type list.\n",
      "  warnings.warn(message)\n",
      "c:\\Users\\Gabriel\\anaconda3\\envs\\cudaenv\\Lib\\site-packages\\optuna\\distributions.py:515: UserWarning: Choices for a categorical distribution should be a tuple of None, bool, int, float and str for persistent storage but contains [4, 8, 16, 32] which is of type list.\n",
      "  warnings.warn(message)\n"
     ]
    },
    {
     "name": "stdout",
     "output_type": "stream",
     "text": [
      "EarlyStopping counter: 1 out of 10\n",
      "EarlyStopping counter: 2 out of 10\n",
      "EarlyStopping counter: 1 out of 10\n",
      "EarlyStopping counter: 3 out of 10\n",
      "EarlyStopping counter: 2 out of 10\n",
      "EarlyStopping counter: 4 out of 10\n",
      "EarlyStopping counter: 3 out of 10\n",
      "EarlyStopping counter: 5 out of 10\n",
      "EarlyStopping counter: 4 out of 10\n",
      "EarlyStopping counter: 6 out of 10\n",
      "EarlyStopping counter: 5 out of 10\n",
      "EarlyStopping counter: 7 out of 10\n",
      "EarlyStopping counter: 6 out of 10\n",
      "EarlyStopping counter: 8 out of 10\n",
      "EarlyStopping counter: 9 out of 10\n",
      "EarlyStopping counter: 1 out of 10\n",
      "EarlyStopping counter: 10 out of 10\n",
      "Early stopping at epoch 10\n"
     ]
    },
    {
     "name": "stderr",
     "output_type": "stream",
     "text": [
      "[I 2025-06-05 06:32:00,536] Trial 32 finished with value: 0.3333333333333333 and parameters: {'embed_dim': 96, 'depths': [2, 2, 6, 2], 'num_heads': [4, 8, 16, 32], 'window_size': 7, 'mlp_ratio': 3.4221562436286757, 'drop_rate': 0.2798535970351022, 'attn_drop_rate': 0.14941945508270268, 'drop_path_rate': 0.22066207235888194, 'learning_rate': 0.00025834087728633214, 'weight_decay': 1.778590425711997e-05}. Best is trial 9 with value: 0.5864503121710876.\n"
     ]
    },
    {
     "name": "stdout",
     "output_type": "stream",
     "text": [
      "Trial 32: Test Accuracy = 0.3333\n",
      "Trial 34 hyperparameters:\n",
      "embed_dim: 96\n",
      "depths: [2, 2, 6, 2]\n",
      "num_heads: [4, 8, 16, 32]\n",
      "window_size: 7\n",
      "mlp_ratio: 3.1980366091673367\n",
      "drop_rate: 0.42574669329696063\n",
      "attn_drop_rate: 0.28390317597294257\n",
      "drop_path_rate: 0.1507353577715297\n",
      "learning_rate: 0.00011608091252397496\n",
      "weight_decay: 7.408677267564609e-06\n",
      "batch_size: 16\n",
      "optimizer: Adam\n",
      "label_smoothing: 0.2\n",
      "factor: 1\n"
     ]
    },
    {
     "name": "stderr",
     "output_type": "stream",
     "text": [
      "c:\\Users\\Gabriel\\anaconda3\\envs\\cudaenv\\Lib\\site-packages\\optuna\\distributions.py:515: UserWarning: Choices for a categorical distribution should be a tuple of None, bool, int, float and str for persistent storage but contains [2, 2, 6, 2] which is of type list.\n",
      "  warnings.warn(message)\n",
      "c:\\Users\\Gabriel\\anaconda3\\envs\\cudaenv\\Lib\\site-packages\\optuna\\distributions.py:515: UserWarning: Choices for a categorical distribution should be a tuple of None, bool, int, float and str for persistent storage but contains [2, 2, 18, 2] which is of type list.\n",
      "  warnings.warn(message)\n",
      "c:\\Users\\Gabriel\\anaconda3\\envs\\cudaenv\\Lib\\site-packages\\optuna\\distributions.py:515: UserWarning: Choices for a categorical distribution should be a tuple of None, bool, int, float and str for persistent storage but contains [3, 6, 12, 24] which is of type list.\n",
      "  warnings.warn(message)\n",
      "c:\\Users\\Gabriel\\anaconda3\\envs\\cudaenv\\Lib\\site-packages\\optuna\\distributions.py:515: UserWarning: Choices for a categorical distribution should be a tuple of None, bool, int, float and str for persistent storage but contains [4, 8, 16, 32] which is of type list.\n",
      "  warnings.warn(message)\n"
     ]
    },
    {
     "name": "stdout",
     "output_type": "stream",
     "text": [
      "EarlyStopping counter: 1 out of 10\n",
      "EarlyStopping counter: 2 out of 10\n",
      "EarlyStopping counter: 1 out of 10\n",
      "EarlyStopping counter: 2 out of 10\n",
      "EarlyStopping counter: 3 out of 10\n",
      "EarlyStopping counter: 1 out of 10\n",
      "EarlyStopping counter: 4 out of 10\n",
      "EarlyStopping counter: 1 out of 10\n",
      "EarlyStopping counter: 2 out of 10\n",
      "EarlyStopping counter: 1 out of 10\n",
      "EarlyStopping counter: 3 out of 10\n",
      "EarlyStopping counter: 2 out of 10\n",
      "EarlyStopping counter: 4 out of 10\n",
      "EarlyStopping counter: 3 out of 10\n",
      "EarlyStopping counter: 5 out of 10\n",
      "EarlyStopping counter: 6 out of 10\n",
      "EarlyStopping counter: 1 out of 10\n",
      "EarlyStopping counter: 7 out of 10\n",
      "EarlyStopping counter: 2 out of 10\n",
      "EarlyStopping counter: 8 out of 10\n",
      "EarlyStopping counter: 3 out of 10\n",
      "EarlyStopping counter: 9 out of 10\n",
      "EarlyStopping counter: 4 out of 10\n",
      "EarlyStopping counter: 10 out of 10\n",
      "Early stopping at epoch 26\n"
     ]
    },
    {
     "name": "stderr",
     "output_type": "stream",
     "text": [
      "[I 2025-06-05 06:34:48,907] Trial 33 finished with value: 0.46835815502155226 and parameters: {'embed_dim': 96, 'depths': [2, 2, 6, 2], 'num_heads': [4, 8, 16, 32], 'window_size': 7, 'mlp_ratio': 3.3867643097860514, 'drop_rate': 0.27766422787968886, 'attn_drop_rate': 0.15365497560806898, 'drop_path_rate': 0.14390548178919066, 'learning_rate': 0.00011243522284924758, 'weight_decay': 1.808748213542072e-05}. Best is trial 9 with value: 0.5864503121710876.\n"
     ]
    },
    {
     "name": "stdout",
     "output_type": "stream",
     "text": [
      "Trial 33: Test Accuracy = 0.4684\n",
      "Trial 35 hyperparameters:\n",
      "embed_dim: 96\n",
      "depths: [2, 2, 6, 2]\n",
      "num_heads: [4, 8, 16, 32]\n",
      "window_size: 7\n",
      "mlp_ratio: 3.2072573487001517\n",
      "drop_rate: 0.48885974358720674\n",
      "attn_drop_rate: 0.28248667369653413\n",
      "drop_path_rate: 0.09292913059581452\n",
      "learning_rate: 6.545301827072155e-05\n",
      "weight_decay: 3.284948827048968e-05\n",
      "batch_size: 16\n",
      "optimizer: Adam\n",
      "label_smoothing: 0.2\n",
      "factor: 1\n"
     ]
    },
    {
     "name": "stderr",
     "output_type": "stream",
     "text": [
      "c:\\Users\\Gabriel\\anaconda3\\envs\\cudaenv\\Lib\\site-packages\\optuna\\distributions.py:515: UserWarning: Choices for a categorical distribution should be a tuple of None, bool, int, float and str for persistent storage but contains [2, 2, 6, 2] which is of type list.\n",
      "  warnings.warn(message)\n",
      "c:\\Users\\Gabriel\\anaconda3\\envs\\cudaenv\\Lib\\site-packages\\optuna\\distributions.py:515: UserWarning: Choices for a categorical distribution should be a tuple of None, bool, int, float and str for persistent storage but contains [2, 2, 18, 2] which is of type list.\n",
      "  warnings.warn(message)\n",
      "c:\\Users\\Gabriel\\anaconda3\\envs\\cudaenv\\Lib\\site-packages\\optuna\\distributions.py:515: UserWarning: Choices for a categorical distribution should be a tuple of None, bool, int, float and str for persistent storage but contains [3, 6, 12, 24] which is of type list.\n",
      "  warnings.warn(message)\n",
      "c:\\Users\\Gabriel\\anaconda3\\envs\\cudaenv\\Lib\\site-packages\\optuna\\distributions.py:515: UserWarning: Choices for a categorical distribution should be a tuple of None, bool, int, float and str for persistent storage but contains [4, 8, 16, 32] which is of type list.\n",
      "  warnings.warn(message)\n"
     ]
    },
    {
     "name": "stdout",
     "output_type": "stream",
     "text": [
      "EarlyStopping counter: 5 out of 10\n",
      "EarlyStopping counter: 6 out of 10\n",
      "EarlyStopping counter: 1 out of 10\n",
      "EarlyStopping counter: 7 out of 10\n",
      "EarlyStopping counter: 2 out of 10\n",
      "EarlyStopping counter: 8 out of 10\n",
      "EarlyStopping counter: 3 out of 10\n",
      "EarlyStopping counter: 9 out of 10\n",
      "EarlyStopping counter: 10 out of 10\n",
      "Early stopping at epoch 21\n"
     ]
    },
    {
     "name": "stderr",
     "output_type": "stream",
     "text": [
      "[I 2025-06-05 06:35:47,496] Trial 34 finished with value: 0.4742052327732322 and parameters: {'embed_dim': 96, 'depths': [2, 2, 6, 2], 'num_heads': [4, 8, 16, 32], 'window_size': 7, 'mlp_ratio': 3.1980366091673367, 'drop_rate': 0.42574669329696063, 'attn_drop_rate': 0.28390317597294257, 'drop_path_rate': 0.1507353577715297, 'learning_rate': 0.00011608091252397496, 'weight_decay': 7.408677267564609e-06}. Best is trial 9 with value: 0.5864503121710876.\n"
     ]
    },
    {
     "name": "stdout",
     "output_type": "stream",
     "text": [
      "Trial 34: Test Accuracy = 0.4742\n",
      "Trial 36 hyperparameters:\n",
      "embed_dim: 96\n",
      "depths: [2, 2, 6, 2]\n",
      "num_heads: [4, 8, 16, 32]\n",
      "window_size: 7\n",
      "mlp_ratio: 3.896142177115113\n",
      "drop_rate: 0.4867604299909383\n",
      "attn_drop_rate: 0.20513947857909728\n",
      "drop_path_rate: 0.27161355633917506\n",
      "learning_rate: 6.602991933010755e-05\n",
      "weight_decay: 2.9187092972207546e-05\n",
      "batch_size: 16\n",
      "optimizer: Adam\n",
      "label_smoothing: 0.2\n",
      "factor: 1\n"
     ]
    },
    {
     "name": "stderr",
     "output_type": "stream",
     "text": [
      "c:\\Users\\Gabriel\\anaconda3\\envs\\cudaenv\\Lib\\site-packages\\optuna\\distributions.py:515: UserWarning: Choices for a categorical distribution should be a tuple of None, bool, int, float and str for persistent storage but contains [2, 2, 6, 2] which is of type list.\n",
      "  warnings.warn(message)\n",
      "c:\\Users\\Gabriel\\anaconda3\\envs\\cudaenv\\Lib\\site-packages\\optuna\\distributions.py:515: UserWarning: Choices for a categorical distribution should be a tuple of None, bool, int, float and str for persistent storage but contains [2, 2, 18, 2] which is of type list.\n",
      "  warnings.warn(message)\n",
      "c:\\Users\\Gabriel\\anaconda3\\envs\\cudaenv\\Lib\\site-packages\\optuna\\distributions.py:515: UserWarning: Choices for a categorical distribution should be a tuple of None, bool, int, float and str for persistent storage but contains [3, 6, 12, 24] which is of type list.\n",
      "  warnings.warn(message)\n",
      "c:\\Users\\Gabriel\\anaconda3\\envs\\cudaenv\\Lib\\site-packages\\optuna\\distributions.py:515: UserWarning: Choices for a categorical distribution should be a tuple of None, bool, int, float and str for persistent storage but contains [4, 8, 16, 32] which is of type list.\n",
      "  warnings.warn(message)\n"
     ]
    },
    {
     "name": "stdout",
     "output_type": "stream",
     "text": [
      "EarlyStopping counter: 1 out of 10\n",
      "EarlyStopping counter: 2 out of 10\n",
      "EarlyStopping counter: 1 out of 10\n",
      "EarlyStopping counter: 2 out of 10\n",
      "EarlyStopping counter: 1 out of 10\n",
      "EarlyStopping counter: 3 out of 10\n",
      "EarlyStopping counter: 2 out of 10\n",
      "EarlyStopping counter: 4 out of 10\n",
      "EarlyStopping counter: 3 out of 10\n",
      "EarlyStopping counter: 5 out of 10\n",
      "EarlyStopping counter: 4 out of 10\n",
      "EarlyStopping counter: 6 out of 10\n",
      "EarlyStopping counter: 7 out of 10\n",
      "EarlyStopping counter: 8 out of 10\n",
      "EarlyStopping counter: 1 out of 10\n",
      "EarlyStopping counter: 9 out of 10\n",
      "EarlyStopping counter: 2 out of 10\n",
      "EarlyStopping counter: 10 out of 10\n",
      "Early stopping at epoch 10\n"
     ]
    },
    {
     "name": "stderr",
     "output_type": "stream",
     "text": [
      "[I 2025-06-05 06:37:43,486] Trial 36 finished with value: 0.45817710439448556 and parameters: {'embed_dim': 96, 'depths': [2, 2, 6, 2], 'num_heads': [4, 8, 16, 32], 'window_size': 7, 'mlp_ratio': 3.896142177115113, 'drop_rate': 0.4867604299909383, 'attn_drop_rate': 0.20513947857909728, 'drop_path_rate': 0.27161355633917506, 'learning_rate': 6.602991933010755e-05, 'weight_decay': 2.9187092972207546e-05}. Best is trial 9 with value: 0.5864503121710876.\n"
     ]
    },
    {
     "name": "stdout",
     "output_type": "stream",
     "text": [
      "Trial 36: Test Accuracy = 0.4582\n",
      "EarlyStopping counter: 3 out of 10\n",
      "Trial 37 hyperparameters:\n",
      "embed_dim: 96\n",
      "depths: [2, 2, 6, 2]\n",
      "num_heads: [4, 8, 16, 32]\n",
      "window_size: 7\n",
      "mlp_ratio: 2.0595340014041272\n",
      "drop_rate: 0.4992880612783554\n",
      "attn_drop_rate: 0.10490135391383287\n",
      "drop_path_rate: 0.08990215326584985\n",
      "learning_rate: 1.0087543714368476e-05\n",
      "weight_decay: 0.00011841453686056777\n",
      "batch_size: 16\n",
      "optimizer: Adam\n",
      "label_smoothing: 0.2\n",
      "factor: 1\n"
     ]
    },
    {
     "name": "stderr",
     "output_type": "stream",
     "text": [
      "c:\\Users\\Gabriel\\anaconda3\\envs\\cudaenv\\Lib\\site-packages\\optuna\\distributions.py:515: UserWarning: Choices for a categorical distribution should be a tuple of None, bool, int, float and str for persistent storage but contains [2, 2, 6, 2] which is of type list.\n",
      "  warnings.warn(message)\n",
      "c:\\Users\\Gabriel\\anaconda3\\envs\\cudaenv\\Lib\\site-packages\\optuna\\distributions.py:515: UserWarning: Choices for a categorical distribution should be a tuple of None, bool, int, float and str for persistent storage but contains [2, 2, 18, 2] which is of type list.\n",
      "  warnings.warn(message)\n",
      "c:\\Users\\Gabriel\\anaconda3\\envs\\cudaenv\\Lib\\site-packages\\optuna\\distributions.py:515: UserWarning: Choices for a categorical distribution should be a tuple of None, bool, int, float and str for persistent storage but contains [3, 6, 12, 24] which is of type list.\n",
      "  warnings.warn(message)\n",
      "c:\\Users\\Gabriel\\anaconda3\\envs\\cudaenv\\Lib\\site-packages\\optuna\\distributions.py:515: UserWarning: Choices for a categorical distribution should be a tuple of None, bool, int, float and str for persistent storage but contains [4, 8, 16, 32] which is of type list.\n",
      "  warnings.warn(message)\n"
     ]
    },
    {
     "name": "stdout",
     "output_type": "stream",
     "text": [
      "EarlyStopping counter: 4 out of 10\n",
      "EarlyStopping counter: 5 out of 10\n",
      "EarlyStopping counter: 6 out of 10\n",
      "EarlyStopping counter: 1 out of 10\n",
      "EarlyStopping counter: 7 out of 10\n",
      "EarlyStopping counter: 2 out of 10\n",
      "EarlyStopping counter: 8 out of 10\n",
      "EarlyStopping counter: 3 out of 10\n",
      "EarlyStopping counter: 9 out of 10\n",
      "EarlyStopping counter: 10 out of 10\n",
      "Early stopping at epoch 23\n",
      "EarlyStopping counter: 1 out of 10\n"
     ]
    },
    {
     "name": "stderr",
     "output_type": "stream",
     "text": [
      "[I 2025-06-05 06:38:59,533] Trial 35 finished with value: 0.501270193612036 and parameters: {'embed_dim': 96, 'depths': [2, 2, 6, 2], 'num_heads': [4, 8, 16, 32], 'window_size': 7, 'mlp_ratio': 3.2072573487001517, 'drop_rate': 0.48885974358720674, 'attn_drop_rate': 0.28248667369653413, 'drop_path_rate': 0.09292913059581452, 'learning_rate': 6.545301827072155e-05, 'weight_decay': 3.284948827048968e-05}. Best is trial 9 with value: 0.5864503121710876.\n"
     ]
    },
    {
     "name": "stdout",
     "output_type": "stream",
     "text": [
      "Trial 35: Test Accuracy = 0.5013\n",
      "Trial 38 hyperparameters:\n",
      "embed_dim: 96\n",
      "depths: [2, 2, 18, 2]\n",
      "num_heads: [4, 8, 16, 32]\n",
      "window_size: 7\n",
      "mlp_ratio: 2.0727767844474583\n",
      "drop_rate: 0.09048038882760984\n",
      "attn_drop_rate: 0.09414757776030308\n",
      "drop_path_rate: 0.007295890263996657\n",
      "learning_rate: 4.614329320139901e-05\n",
      "weight_decay: 9.274687301852e-05\n",
      "batch_size: 16\n",
      "optimizer: Adam\n",
      "label_smoothing: 0.2\n",
      "factor: 1\n"
     ]
    },
    {
     "name": "stderr",
     "output_type": "stream",
     "text": [
      "c:\\Users\\Gabriel\\anaconda3\\envs\\cudaenv\\Lib\\site-packages\\optuna\\distributions.py:515: UserWarning: Choices for a categorical distribution should be a tuple of None, bool, int, float and str for persistent storage but contains [2, 2, 6, 2] which is of type list.\n",
      "  warnings.warn(message)\n",
      "c:\\Users\\Gabriel\\anaconda3\\envs\\cudaenv\\Lib\\site-packages\\optuna\\distributions.py:515: UserWarning: Choices for a categorical distribution should be a tuple of None, bool, int, float and str for persistent storage but contains [2, 2, 18, 2] which is of type list.\n",
      "  warnings.warn(message)\n",
      "c:\\Users\\Gabriel\\anaconda3\\envs\\cudaenv\\Lib\\site-packages\\optuna\\distributions.py:515: UserWarning: Choices for a categorical distribution should be a tuple of None, bool, int, float and str for persistent storage but contains [3, 6, 12, 24] which is of type list.\n",
      "  warnings.warn(message)\n",
      "c:\\Users\\Gabriel\\anaconda3\\envs\\cudaenv\\Lib\\site-packages\\optuna\\distributions.py:515: UserWarning: Choices for a categorical distribution should be a tuple of None, bool, int, float and str for persistent storage but contains [4, 8, 16, 32] which is of type list.\n",
      "  warnings.warn(message)\n"
     ]
    },
    {
     "name": "stdout",
     "output_type": "stream",
     "text": [
      "EarlyStopping counter: 2 out of 10\n",
      "EarlyStopping counter: 3 out of 10\n",
      "EarlyStopping counter: 1 out of 10\n",
      "EarlyStopping counter: 4 out of 10\n",
      "EarlyStopping counter: 2 out of 10\n",
      "EarlyStopping counter: 5 out of 10\n",
      "EarlyStopping counter: 3 out of 10\n",
      "EarlyStopping counter: 6 out of 10\n",
      "EarlyStopping counter: 4 out of 10\n",
      "EarlyStopping counter: 7 out of 10\n",
      "EarlyStopping counter: 5 out of 10\n",
      "EarlyStopping counter: 8 out of 10\n",
      "EarlyStopping counter: 6 out of 10\n",
      "EarlyStopping counter: 9 out of 10\n",
      "EarlyStopping counter: 10 out of 10\n",
      "Early stopping at epoch 15\n"
     ]
    },
    {
     "name": "stderr",
     "output_type": "stream",
     "text": [
      "[I 2025-06-05 06:40:43,404] Trial 37 finished with value: 0.4827481380148959 and parameters: {'embed_dim': 96, 'depths': [2, 2, 6, 2], 'num_heads': [4, 8, 16, 32], 'window_size': 7, 'mlp_ratio': 2.0595340014041272, 'drop_rate': 0.4992880612783554, 'attn_drop_rate': 0.10490135391383287, 'drop_path_rate': 0.08990215326584985, 'learning_rate': 1.0087543714368476e-05, 'weight_decay': 0.00011841453686056777}. Best is trial 9 with value: 0.5864503121710876.\n"
     ]
    },
    {
     "name": "stdout",
     "output_type": "stream",
     "text": [
      "Trial 37: Test Accuracy = 0.4827\n",
      "Trial 39 hyperparameters:\n",
      "embed_dim: 96\n",
      "depths: [2, 2, 18, 2]\n",
      "num_heads: [4, 8, 16, 32]\n",
      "window_size: 14\n",
      "mlp_ratio: 3.7184281079310884\n",
      "drop_rate: 0.07868773520885475\n",
      "attn_drop_rate: 0.32022324452023143\n",
      "drop_path_rate: 0.17850660909800395\n",
      "learning_rate: 8.77462767560419e-05\n",
      "weight_decay: 0.00020343062247851358\n",
      "batch_size: 16\n",
      "optimizer: Adam\n",
      "label_smoothing: 0.2\n",
      "factor: 1\n"
     ]
    },
    {
     "name": "stderr",
     "output_type": "stream",
     "text": [
      "c:\\Users\\Gabriel\\anaconda3\\envs\\cudaenv\\Lib\\site-packages\\optuna\\distributions.py:515: UserWarning: Choices for a categorical distribution should be a tuple of None, bool, int, float and str for persistent storage but contains [2, 2, 6, 2] which is of type list.\n",
      "  warnings.warn(message)\n",
      "c:\\Users\\Gabriel\\anaconda3\\envs\\cudaenv\\Lib\\site-packages\\optuna\\distributions.py:515: UserWarning: Choices for a categorical distribution should be a tuple of None, bool, int, float and str for persistent storage but contains [2, 2, 18, 2] which is of type list.\n",
      "  warnings.warn(message)\n",
      "c:\\Users\\Gabriel\\anaconda3\\envs\\cudaenv\\Lib\\site-packages\\optuna\\distributions.py:515: UserWarning: Choices for a categorical distribution should be a tuple of None, bool, int, float and str for persistent storage but contains [3, 6, 12, 24] which is of type list.\n",
      "  warnings.warn(message)\n",
      "c:\\Users\\Gabriel\\anaconda3\\envs\\cudaenv\\Lib\\site-packages\\optuna\\distributions.py:515: UserWarning: Choices for a categorical distribution should be a tuple of None, bool, int, float and str for persistent storage but contains [4, 8, 16, 32] which is of type list.\n",
      "  warnings.warn(message)\n"
     ]
    },
    {
     "name": "stdout",
     "output_type": "stream",
     "text": [
      "EarlyStopping counter: 1 out of 10\n",
      "EarlyStopping counter: 2 out of 10\n",
      "EarlyStopping counter: 3 out of 10\n",
      "EarlyStopping counter: 4 out of 10\n",
      "EarlyStopping counter: 5 out of 10\n",
      "EarlyStopping counter: 1 out of 10\n",
      "EarlyStopping counter: 2 out of 10\n",
      "EarlyStopping counter: 3 out of 10\n",
      "EarlyStopping counter: 1 out of 10\n",
      "EarlyStopping counter: 4 out of 10\n",
      "EarlyStopping counter: 2 out of 10\n",
      "EarlyStopping counter: 5 out of 10\n",
      "EarlyStopping counter: 3 out of 10\n",
      "EarlyStopping counter: 6 out of 10\n",
      "EarlyStopping counter: 4 out of 10\n",
      "EarlyStopping counter: 7 out of 10\n",
      "EarlyStopping counter: 5 out of 10\n",
      "EarlyStopping counter: 8 out of 10\n",
      "EarlyStopping counter: 6 out of 10\n",
      "EarlyStopping counter: 9 out of 10\n",
      "EarlyStopping counter: 7 out of 10\n",
      "EarlyStopping counter: 10 out of 10\n",
      "Early stopping at epoch 13\n",
      "EarlyStopping counter: 8 out of 10\n"
     ]
    },
    {
     "name": "stderr",
     "output_type": "stream",
     "text": [
      "[I 2025-06-05 06:50:09,678] Trial 39 finished with value: 0.3503875968992248 and parameters: {'embed_dim': 96, 'depths': [2, 2, 18, 2], 'num_heads': [4, 8, 16, 32], 'window_size': 14, 'mlp_ratio': 3.7184281079310884, 'drop_rate': 0.07868773520885475, 'attn_drop_rate': 0.32022324452023143, 'drop_path_rate': 0.17850660909800395, 'learning_rate': 8.77462767560419e-05, 'weight_decay': 0.00020343062247851358}. Best is trial 9 with value: 0.5864503121710876.\n"
     ]
    },
    {
     "name": "stdout",
     "output_type": "stream",
     "text": [
      "Trial 39: Test Accuracy = 0.3504\n"
     ]
    },
    {
     "name": "stderr",
     "output_type": "stream",
     "text": [
      "c:\\Users\\Gabriel\\anaconda3\\envs\\cudaenv\\Lib\\site-packages\\optuna\\distributions.py:515: UserWarning: Choices for a categorical distribution should be a tuple of None, bool, int, float and str for persistent storage but contains [2, 2, 6, 2] which is of type list.\n",
      "  warnings.warn(message)\n",
      "c:\\Users\\Gabriel\\anaconda3\\envs\\cudaenv\\Lib\\site-packages\\optuna\\distributions.py:515: UserWarning: Choices for a categorical distribution should be a tuple of None, bool, int, float and str for persistent storage but contains [2, 2, 18, 2] which is of type list.\n",
      "  warnings.warn(message)\n",
      "c:\\Users\\Gabriel\\anaconda3\\envs\\cudaenv\\Lib\\site-packages\\optuna\\distributions.py:515: UserWarning: Choices for a categorical distribution should be a tuple of None, bool, int, float and str for persistent storage but contains [3, 6, 12, 24] which is of type list.\n",
      "  warnings.warn(message)\n",
      "c:\\Users\\Gabriel\\anaconda3\\envs\\cudaenv\\Lib\\site-packages\\optuna\\distributions.py:515: UserWarning: Choices for a categorical distribution should be a tuple of None, bool, int, float and str for persistent storage but contains [4, 8, 16, 32] which is of type list.\n",
      "  warnings.warn(message)\n"
     ]
    },
    {
     "name": "stdout",
     "output_type": "stream",
     "text": [
      "Trial 40 hyperparameters:\n",
      "embed_dim: 128\n",
      "depths: [2, 2, 6, 2]\n",
      "num_heads: [4, 8, 16, 32]\n",
      "window_size: 7\n",
      "mlp_ratio: 3.473935068439034\n",
      "drop_rate: 0.3241002844856819\n",
      "attn_drop_rate: 0.2335597136288607\n",
      "drop_path_rate: 0.12657265902586023\n",
      "learning_rate: 4.677782499130395e-05\n",
      "weight_decay: 1.8512257403816277e-06\n",
      "batch_size: 16\n",
      "optimizer: Adam\n",
      "label_smoothing: 0.2\n",
      "factor: 1\n",
      "EarlyStopping counter: 9 out of 10\n",
      "EarlyStopping counter: 10 out of 10\n",
      "Early stopping at epoch 24\n",
      "EarlyStopping counter: 1 out of 10\n"
     ]
    },
    {
     "name": "stderr",
     "output_type": "stream",
     "text": [
      "[I 2025-06-05 06:50:42,211] Trial 38 finished with value: 0.5047162641566793 and parameters: {'embed_dim': 96, 'depths': [2, 2, 18, 2], 'num_heads': [4, 8, 16, 32], 'window_size': 7, 'mlp_ratio': 2.0727767844474583, 'drop_rate': 0.09048038882760984, 'attn_drop_rate': 0.09414757776030308, 'drop_path_rate': 0.007295890263996657, 'learning_rate': 4.614329320139901e-05, 'weight_decay': 9.274687301852e-05}. Best is trial 9 with value: 0.5864503121710876.\n"
     ]
    },
    {
     "name": "stdout",
     "output_type": "stream",
     "text": [
      "Trial 38: Test Accuracy = 0.5047\n",
      "Trial 41 hyperparameters:\n",
      "embed_dim: 128\n",
      "depths: [2, 2, 6, 2]\n",
      "num_heads: [4, 8, 16, 32]\n",
      "window_size: 7\n",
      "mlp_ratio: 3.460852597719699\n",
      "drop_rate: 0.03771470891852652\n",
      "attn_drop_rate: 0.2492332597059761\n",
      "drop_path_rate: 0.12766058405318\n",
      "learning_rate: 0.0002552540550617438\n",
      "weight_decay: 0.00036290305127627135\n",
      "batch_size: 16\n",
      "optimizer: Adam\n",
      "label_smoothing: 0.2\n",
      "factor: 1\n"
     ]
    },
    {
     "name": "stderr",
     "output_type": "stream",
     "text": [
      "c:\\Users\\Gabriel\\anaconda3\\envs\\cudaenv\\Lib\\site-packages\\optuna\\distributions.py:515: UserWarning: Choices for a categorical distribution should be a tuple of None, bool, int, float and str for persistent storage but contains [2, 2, 6, 2] which is of type list.\n",
      "  warnings.warn(message)\n",
      "c:\\Users\\Gabriel\\anaconda3\\envs\\cudaenv\\Lib\\site-packages\\optuna\\distributions.py:515: UserWarning: Choices for a categorical distribution should be a tuple of None, bool, int, float and str for persistent storage but contains [2, 2, 18, 2] which is of type list.\n",
      "  warnings.warn(message)\n",
      "c:\\Users\\Gabriel\\anaconda3\\envs\\cudaenv\\Lib\\site-packages\\optuna\\distributions.py:515: UserWarning: Choices for a categorical distribution should be a tuple of None, bool, int, float and str for persistent storage but contains [3, 6, 12, 24] which is of type list.\n",
      "  warnings.warn(message)\n",
      "c:\\Users\\Gabriel\\anaconda3\\envs\\cudaenv\\Lib\\site-packages\\optuna\\distributions.py:515: UserWarning: Choices for a categorical distribution should be a tuple of None, bool, int, float and str for persistent storage but contains [4, 8, 16, 32] which is of type list.\n",
      "  warnings.warn(message)\n"
     ]
    },
    {
     "name": "stdout",
     "output_type": "stream",
     "text": [
      "EarlyStopping counter: 1 out of 10\n",
      "EarlyStopping counter: 2 out of 10\n",
      "EarlyStopping counter: 1 out of 10\n",
      "EarlyStopping counter: 3 out of 10\n",
      "EarlyStopping counter: 2 out of 10\n",
      "EarlyStopping counter: 4 out of 10\n",
      "EarlyStopping counter: 3 out of 10\n",
      "EarlyStopping counter: 5 out of 10\n",
      "EarlyStopping counter: 4 out of 10\n",
      "EarlyStopping counter: 6 out of 10\n",
      "EarlyStopping counter: 7 out of 10\n",
      "EarlyStopping counter: 1 out of 10\n",
      "EarlyStopping counter: 8 out of 10\n",
      "EarlyStopping counter: 2 out of 10\n",
      "EarlyStopping counter: 9 out of 10\n",
      "EarlyStopping counter: 3 out of 10\n",
      "EarlyStopping counter: 10 out of 10\n",
      "Early stopping at epoch 12\n"
     ]
    },
    {
     "name": "stderr",
     "output_type": "stream",
     "text": [
      "[I 2025-06-05 06:53:08,140] Trial 40 finished with value: 0.4901318374358666 and parameters: {'embed_dim': 128, 'depths': [2, 2, 6, 2], 'num_heads': [4, 8, 16, 32], 'window_size': 7, 'mlp_ratio': 3.473935068439034, 'drop_rate': 0.3241002844856819, 'attn_drop_rate': 0.2335597136288607, 'drop_path_rate': 0.12657265902586023, 'learning_rate': 4.677782499130395e-05, 'weight_decay': 1.8512257403816277e-06}. Best is trial 9 with value: 0.5864503121710876.\n"
     ]
    },
    {
     "name": "stdout",
     "output_type": "stream",
     "text": [
      "Trial 40: Test Accuracy = 0.4901\n",
      "Trial 42 hyperparameters:\n",
      "embed_dim: 96\n",
      "depths: [2, 2, 6, 2]\n",
      "num_heads: [4, 8, 16, 32]\n",
      "window_size: 7\n",
      "mlp_ratio: 2.710167539280752\n",
      "drop_rate: 0.3165228752859962\n",
      "attn_drop_rate: 0.4583664719471686\n",
      "drop_path_rate: 0.0717419162167782\n",
      "learning_rate: 3.121308714745393e-05\n",
      "weight_decay: 1.1108865204268627e-06\n",
      "batch_size: 16\n",
      "optimizer: Adam\n",
      "label_smoothing: 0.2\n",
      "factor: 1\n"
     ]
    },
    {
     "name": "stderr",
     "output_type": "stream",
     "text": [
      "c:\\Users\\Gabriel\\anaconda3\\envs\\cudaenv\\Lib\\site-packages\\optuna\\distributions.py:515: UserWarning: Choices for a categorical distribution should be a tuple of None, bool, int, float and str for persistent storage but contains [2, 2, 6, 2] which is of type list.\n",
      "  warnings.warn(message)\n",
      "c:\\Users\\Gabriel\\anaconda3\\envs\\cudaenv\\Lib\\site-packages\\optuna\\distributions.py:515: UserWarning: Choices for a categorical distribution should be a tuple of None, bool, int, float and str for persistent storage but contains [2, 2, 18, 2] which is of type list.\n",
      "  warnings.warn(message)\n",
      "c:\\Users\\Gabriel\\anaconda3\\envs\\cudaenv\\Lib\\site-packages\\optuna\\distributions.py:515: UserWarning: Choices for a categorical distribution should be a tuple of None, bool, int, float and str for persistent storage but contains [3, 6, 12, 24] which is of type list.\n",
      "  warnings.warn(message)\n",
      "c:\\Users\\Gabriel\\anaconda3\\envs\\cudaenv\\Lib\\site-packages\\optuna\\distributions.py:515: UserWarning: Choices for a categorical distribution should be a tuple of None, bool, int, float and str for persistent storage but contains [4, 8, 16, 32] which is of type list.\n",
      "  warnings.warn(message)\n"
     ]
    },
    {
     "name": "stdout",
     "output_type": "stream",
     "text": [
      "EarlyStopping counter: 4 out of 10\n",
      "EarlyStopping counter: 5 out of 10\n",
      "EarlyStopping counter: 6 out of 10\n",
      "EarlyStopping counter: 1 out of 10\n",
      "EarlyStopping counter: 7 out of 10\n",
      "EarlyStopping counter: 8 out of 10\n",
      "EarlyStopping counter: 1 out of 10\n",
      "EarlyStopping counter: 9 out of 10\n",
      "EarlyStopping counter: 2 out of 10\n",
      "EarlyStopping counter: 10 out of 10\n",
      "Early stopping at epoch 16\n"
     ]
    },
    {
     "name": "stderr",
     "output_type": "stream",
     "text": [
      "[I 2025-06-05 06:54:22,843] Trial 41 finished with value: 0.3333333333333333 and parameters: {'embed_dim': 128, 'depths': [2, 2, 6, 2], 'num_heads': [4, 8, 16, 32], 'window_size': 7, 'mlp_ratio': 3.460852597719699, 'drop_rate': 0.03771470891852652, 'attn_drop_rate': 0.2492332597059761, 'drop_path_rate': 0.12766058405318, 'learning_rate': 0.0002552540550617438, 'weight_decay': 0.00036290305127627135}. Best is trial 9 with value: 0.5864503121710876.\n"
     ]
    },
    {
     "name": "stdout",
     "output_type": "stream",
     "text": [
      "Trial 41: Test Accuracy = 0.3333\n",
      "Trial 43 hyperparameters:\n",
      "embed_dim: 96\n",
      "depths: [2, 2, 6, 2]\n",
      "num_heads: [4, 8, 16, 32]\n",
      "window_size: 7\n",
      "mlp_ratio: 2.4234904635018952\n",
      "drop_rate: 0.317670254948753\n",
      "attn_drop_rate: 0.47069808173526717\n",
      "drop_path_rate: 0.07651715099360305\n",
      "learning_rate: 3.654671370872939e-05\n",
      "weight_decay: 3.064166499064663e-06\n",
      "batch_size: 16\n",
      "optimizer: Adam\n",
      "label_smoothing: 0.2\n",
      "factor: 1\n"
     ]
    },
    {
     "name": "stderr",
     "output_type": "stream",
     "text": [
      "c:\\Users\\Gabriel\\anaconda3\\envs\\cudaenv\\Lib\\site-packages\\optuna\\distributions.py:515: UserWarning: Choices for a categorical distribution should be a tuple of None, bool, int, float and str for persistent storage but contains [2, 2, 6, 2] which is of type list.\n",
      "  warnings.warn(message)\n",
      "c:\\Users\\Gabriel\\anaconda3\\envs\\cudaenv\\Lib\\site-packages\\optuna\\distributions.py:515: UserWarning: Choices for a categorical distribution should be a tuple of None, bool, int, float and str for persistent storage but contains [2, 2, 18, 2] which is of type list.\n",
      "  warnings.warn(message)\n",
      "c:\\Users\\Gabriel\\anaconda3\\envs\\cudaenv\\Lib\\site-packages\\optuna\\distributions.py:515: UserWarning: Choices for a categorical distribution should be a tuple of None, bool, int, float and str for persistent storage but contains [3, 6, 12, 24] which is of type list.\n",
      "  warnings.warn(message)\n",
      "c:\\Users\\Gabriel\\anaconda3\\envs\\cudaenv\\Lib\\site-packages\\optuna\\distributions.py:515: UserWarning: Choices for a categorical distribution should be a tuple of None, bool, int, float and str for persistent storage but contains [4, 8, 16, 32] which is of type list.\n",
      "  warnings.warn(message)\n"
     ]
    },
    {
     "name": "stdout",
     "output_type": "stream",
     "text": [
      "EarlyStopping counter: 3 out of 10\n",
      "EarlyStopping counter: 4 out of 10\n",
      "EarlyStopping counter: 1 out of 10\n",
      "EarlyStopping counter: 1 out of 10\n",
      "EarlyStopping counter: 2 out of 10\n",
      "EarlyStopping counter: 2 out of 10\n",
      "EarlyStopping counter: 3 out of 10\n",
      "EarlyStopping counter: 3 out of 10\n",
      "EarlyStopping counter: 4 out of 10\n",
      "EarlyStopping counter: 4 out of 10\n",
      "EarlyStopping counter: 5 out of 10\n",
      "EarlyStopping counter: 5 out of 10\n",
      "EarlyStopping counter: 6 out of 10\n",
      "EarlyStopping counter: 6 out of 10\n",
      "EarlyStopping counter: 7 out of 10\n",
      "EarlyStopping counter: 7 out of 10\n",
      "EarlyStopping counter: 8 out of 10\n",
      "EarlyStopping counter: 9 out of 10\n",
      "EarlyStopping counter: 1 out of 10\n",
      "EarlyStopping counter: 10 out of 10\n",
      "Early stopping at epoch 18\n"
     ]
    },
    {
     "name": "stderr",
     "output_type": "stream",
     "text": [
      "[I 2025-06-05 06:56:29,176] Trial 42 finished with value: 0.5325985769472336 and parameters: {'embed_dim': 96, 'depths': [2, 2, 6, 2], 'num_heads': [4, 8, 16, 32], 'window_size': 7, 'mlp_ratio': 2.710167539280752, 'drop_rate': 0.3165228752859962, 'attn_drop_rate': 0.4583664719471686, 'drop_path_rate': 0.0717419162167782, 'learning_rate': 3.121308714745393e-05, 'weight_decay': 1.1108865204268627e-06}. Best is trial 9 with value: 0.5864503121710876.\n"
     ]
    },
    {
     "name": "stdout",
     "output_type": "stream",
     "text": [
      "Trial 42: Test Accuracy = 0.5326\n",
      "Trial 44 hyperparameters:\n",
      "embed_dim: 96\n",
      "depths: [2, 2, 6, 2]\n",
      "num_heads: [4, 8, 16, 32]\n",
      "window_size: 7\n",
      "mlp_ratio: 2.4423205519822693\n",
      "drop_rate: 0.1622022191639096\n",
      "attn_drop_rate: 0.4931896921717643\n",
      "drop_path_rate: 0.2505164764078097\n",
      "learning_rate: 3.328954553461762e-05\n",
      "weight_decay: 1.725312435957461e-06\n",
      "batch_size: 16\n",
      "optimizer: Adam\n",
      "label_smoothing: 0.2\n",
      "factor: 1\n"
     ]
    },
    {
     "name": "stderr",
     "output_type": "stream",
     "text": [
      "c:\\Users\\Gabriel\\anaconda3\\envs\\cudaenv\\Lib\\site-packages\\optuna\\distributions.py:515: UserWarning: Choices for a categorical distribution should be a tuple of None, bool, int, float and str for persistent storage but contains [2, 2, 6, 2] which is of type list.\n",
      "  warnings.warn(message)\n",
      "c:\\Users\\Gabriel\\anaconda3\\envs\\cudaenv\\Lib\\site-packages\\optuna\\distributions.py:515: UserWarning: Choices for a categorical distribution should be a tuple of None, bool, int, float and str for persistent storage but contains [2, 2, 18, 2] which is of type list.\n",
      "  warnings.warn(message)\n",
      "c:\\Users\\Gabriel\\anaconda3\\envs\\cudaenv\\Lib\\site-packages\\optuna\\distributions.py:515: UserWarning: Choices for a categorical distribution should be a tuple of None, bool, int, float and str for persistent storage but contains [3, 6, 12, 24] which is of type list.\n",
      "  warnings.warn(message)\n",
      "c:\\Users\\Gabriel\\anaconda3\\envs\\cudaenv\\Lib\\site-packages\\optuna\\distributions.py:515: UserWarning: Choices for a categorical distribution should be a tuple of None, bool, int, float and str for persistent storage but contains [4, 8, 16, 32] which is of type list.\n",
      "  warnings.warn(message)\n"
     ]
    },
    {
     "name": "stdout",
     "output_type": "stream",
     "text": [
      "EarlyStopping counter: 2 out of 10\n",
      "EarlyStopping counter: 3 out of 10\n",
      "EarlyStopping counter: 4 out of 10\n",
      "EarlyStopping counter: 5 out of 10\n",
      "EarlyStopping counter: 1 out of 10\n",
      "EarlyStopping counter: 6 out of 10\n",
      "EarlyStopping counter: 2 out of 10\n",
      "EarlyStopping counter: 7 out of 10\n",
      "EarlyStopping counter: 3 out of 10\n",
      "EarlyStopping counter: 8 out of 10\n",
      "EarlyStopping counter: 4 out of 10\n",
      "EarlyStopping counter: 9 out of 10\n",
      "EarlyStopping counter: 10 out of 10\n",
      "Early stopping at epoch 20\n"
     ]
    },
    {
     "name": "stderr",
     "output_type": "stream",
     "text": [
      "[I 2025-06-05 06:57:52,039] Trial 43 finished with value: 0.44800064240995513 and parameters: {'embed_dim': 96, 'depths': [2, 2, 6, 2], 'num_heads': [4, 8, 16, 32], 'window_size': 7, 'mlp_ratio': 2.4234904635018952, 'drop_rate': 0.317670254948753, 'attn_drop_rate': 0.47069808173526717, 'drop_path_rate': 0.07651715099360305, 'learning_rate': 3.654671370872939e-05, 'weight_decay': 3.064166499064663e-06}. Best is trial 9 with value: 0.5864503121710876.\n"
     ]
    },
    {
     "name": "stdout",
     "output_type": "stream",
     "text": [
      "Trial 43: Test Accuracy = 0.4480\n",
      "Trial 45 hyperparameters:\n",
      "embed_dim: 96\n",
      "depths: [2, 2, 6, 2]\n",
      "num_heads: [4, 8, 16, 32]\n",
      "window_size: 7\n",
      "mlp_ratio: 2.9861220360810963\n",
      "drop_rate: 0.16216076879292074\n",
      "attn_drop_rate: 0.44612154316009744\n",
      "drop_path_rate: 0.25685583296677783\n",
      "learning_rate: 2.8627670095715348e-05\n",
      "weight_decay: 1.4466694509421081e-06\n",
      "batch_size: 16\n",
      "optimizer: Adam\n",
      "label_smoothing: 0.2\n",
      "factor: 1\n"
     ]
    },
    {
     "name": "stderr",
     "output_type": "stream",
     "text": [
      "c:\\Users\\Gabriel\\anaconda3\\envs\\cudaenv\\Lib\\site-packages\\optuna\\distributions.py:515: UserWarning: Choices for a categorical distribution should be a tuple of None, bool, int, float and str for persistent storage but contains [2, 2, 6, 2] which is of type list.\n",
      "  warnings.warn(message)\n",
      "c:\\Users\\Gabriel\\anaconda3\\envs\\cudaenv\\Lib\\site-packages\\optuna\\distributions.py:515: UserWarning: Choices for a categorical distribution should be a tuple of None, bool, int, float and str for persistent storage but contains [2, 2, 18, 2] which is of type list.\n",
      "  warnings.warn(message)\n",
      "c:\\Users\\Gabriel\\anaconda3\\envs\\cudaenv\\Lib\\site-packages\\optuna\\distributions.py:515: UserWarning: Choices for a categorical distribution should be a tuple of None, bool, int, float and str for persistent storage but contains [3, 6, 12, 24] which is of type list.\n",
      "  warnings.warn(message)\n",
      "c:\\Users\\Gabriel\\anaconda3\\envs\\cudaenv\\Lib\\site-packages\\optuna\\distributions.py:515: UserWarning: Choices for a categorical distribution should be a tuple of None, bool, int, float and str for persistent storage but contains [4, 8, 16, 32] which is of type list.\n",
      "  warnings.warn(message)\n"
     ]
    },
    {
     "name": "stdout",
     "output_type": "stream",
     "text": [
      "EarlyStopping counter: 1 out of 10\n",
      "EarlyStopping counter: 1 out of 10\n",
      "EarlyStopping counter: 2 out of 10\n",
      "EarlyStopping counter: 1 out of 10\n",
      "EarlyStopping counter: 2 out of 10\n",
      "EarlyStopping counter: 3 out of 10\n",
      "EarlyStopping counter: 1 out of 10\n",
      "EarlyStopping counter: 4 out of 10\n",
      "EarlyStopping counter: 2 out of 10\n",
      "EarlyStopping counter: 3 out of 10\n",
      "EarlyStopping counter: 1 out of 10\n",
      "EarlyStopping counter: 4 out of 10\n",
      "EarlyStopping counter: 2 out of 10\n",
      "EarlyStopping counter: 5 out of 10\n",
      "EarlyStopping counter: 3 out of 10\n",
      "EarlyStopping counter: 6 out of 10\n",
      "EarlyStopping counter: 4 out of 10\n",
      "EarlyStopping counter: 7 out of 10\n",
      "EarlyStopping counter: 5 out of 10\n",
      "EarlyStopping counter: 8 out of 10\n",
      "EarlyStopping counter: 6 out of 10\n",
      "EarlyStopping counter: 9 out of 10\n",
      "EarlyStopping counter: 7 out of 10\n",
      "EarlyStopping counter: 10 out of 10\n",
      "Early stopping at epoch 23\n"
     ]
    },
    {
     "name": "stderr",
     "output_type": "stream",
     "text": [
      "[I 2025-06-05 07:00:31,133] Trial 44 finished with value: 0.5298092558655757 and parameters: {'embed_dim': 96, 'depths': [2, 2, 6, 2], 'num_heads': [4, 8, 16, 32], 'window_size': 7, 'mlp_ratio': 2.4423205519822693, 'drop_rate': 0.1622022191639096, 'attn_drop_rate': 0.4931896921717643, 'drop_path_rate': 0.2505164764078097, 'learning_rate': 3.328954553461762e-05, 'weight_decay': 1.725312435957461e-06}. Best is trial 9 with value: 0.5864503121710876.\n"
     ]
    },
    {
     "name": "stdout",
     "output_type": "stream",
     "text": [
      "Trial 44: Test Accuracy = 0.5298\n",
      "Trial 46 hyperparameters:\n",
      "embed_dim: 96\n",
      "depths: [2, 2, 6, 2]\n",
      "num_heads: [4, 8, 16, 32]\n",
      "window_size: 7\n",
      "mlp_ratio: 2.9654582206447264\n",
      "drop_rate: 0.20489760271969257\n",
      "attn_drop_rate: 0.12347581579041086\n",
      "drop_path_rate: 0.16819684821192787\n",
      "learning_rate: 1.712664544701327e-05\n",
      "weight_decay: 6.1040288100033284e-06\n",
      "batch_size: 16\n",
      "optimizer: Adam\n",
      "label_smoothing: 0.2\n",
      "factor: 1\n"
     ]
    },
    {
     "name": "stderr",
     "output_type": "stream",
     "text": [
      "c:\\Users\\Gabriel\\anaconda3\\envs\\cudaenv\\Lib\\site-packages\\optuna\\distributions.py:515: UserWarning: Choices for a categorical distribution should be a tuple of None, bool, int, float and str for persistent storage but contains [2, 2, 6, 2] which is of type list.\n",
      "  warnings.warn(message)\n",
      "c:\\Users\\Gabriel\\anaconda3\\envs\\cudaenv\\Lib\\site-packages\\optuna\\distributions.py:515: UserWarning: Choices for a categorical distribution should be a tuple of None, bool, int, float and str for persistent storage but contains [2, 2, 18, 2] which is of type list.\n",
      "  warnings.warn(message)\n",
      "c:\\Users\\Gabriel\\anaconda3\\envs\\cudaenv\\Lib\\site-packages\\optuna\\distributions.py:515: UserWarning: Choices for a categorical distribution should be a tuple of None, bool, int, float and str for persistent storage but contains [3, 6, 12, 24] which is of type list.\n",
      "  warnings.warn(message)\n",
      "c:\\Users\\Gabriel\\anaconda3\\envs\\cudaenv\\Lib\\site-packages\\optuna\\distributions.py:515: UserWarning: Choices for a categorical distribution should be a tuple of None, bool, int, float and str for persistent storage but contains [4, 8, 16, 32] which is of type list.\n",
      "  warnings.warn(message)\n"
     ]
    },
    {
     "name": "stdout",
     "output_type": "stream",
     "text": [
      "EarlyStopping counter: 8 out of 10\n",
      "EarlyStopping counter: 9 out of 10\n",
      "EarlyStopping counter: 1 out of 10\n",
      "EarlyStopping counter: 10 out of 10\n",
      "Early stopping at epoch 17\n"
     ]
    },
    {
     "name": "stderr",
     "output_type": "stream",
     "text": [
      "[I 2025-06-05 07:00:59,189] Trial 45 finished with value: 0.6049740885091787 and parameters: {'embed_dim': 96, 'depths': [2, 2, 6, 2], 'num_heads': [4, 8, 16, 32], 'window_size': 7, 'mlp_ratio': 2.9861220360810963, 'drop_rate': 0.16216076879292074, 'attn_drop_rate': 0.44612154316009744, 'drop_path_rate': 0.25685583296677783, 'learning_rate': 2.8627670095715348e-05, 'weight_decay': 1.4466694509421081e-06}. Best is trial 45 with value: 0.6049740885091787.\n"
     ]
    },
    {
     "name": "stdout",
     "output_type": "stream",
     "text": [
      "Trial 45: Test Accuracy = 0.6050\n",
      "Trial 47 hyperparameters:\n",
      "embed_dim: 96\n",
      "depths: [2, 2, 6, 2]\n",
      "num_heads: [4, 8, 16, 32]\n",
      "window_size: 7\n",
      "mlp_ratio: 2.235822513644123\n",
      "drop_rate: 0.21036040633622205\n",
      "attn_drop_rate: 0.4134754779141787\n",
      "drop_path_rate: 0.29151569130154503\n",
      "learning_rate: 2.581771208881737e-05\n",
      "weight_decay: 6.79475920412189e-06\n",
      "batch_size: 16\n",
      "optimizer: Adam\n",
      "label_smoothing: 0.2\n",
      "factor: 1\n"
     ]
    },
    {
     "name": "stderr",
     "output_type": "stream",
     "text": [
      "c:\\Users\\Gabriel\\anaconda3\\envs\\cudaenv\\Lib\\site-packages\\optuna\\distributions.py:515: UserWarning: Choices for a categorical distribution should be a tuple of None, bool, int, float and str for persistent storage but contains [2, 2, 6, 2] which is of type list.\n",
      "  warnings.warn(message)\n",
      "c:\\Users\\Gabriel\\anaconda3\\envs\\cudaenv\\Lib\\site-packages\\optuna\\distributions.py:515: UserWarning: Choices for a categorical distribution should be a tuple of None, bool, int, float and str for persistent storage but contains [2, 2, 18, 2] which is of type list.\n",
      "  warnings.warn(message)\n",
      "c:\\Users\\Gabriel\\anaconda3\\envs\\cudaenv\\Lib\\site-packages\\optuna\\distributions.py:515: UserWarning: Choices for a categorical distribution should be a tuple of None, bool, int, float and str for persistent storage but contains [3, 6, 12, 24] which is of type list.\n",
      "  warnings.warn(message)\n",
      "c:\\Users\\Gabriel\\anaconda3\\envs\\cudaenv\\Lib\\site-packages\\optuna\\distributions.py:515: UserWarning: Choices for a categorical distribution should be a tuple of None, bool, int, float and str for persistent storage but contains [4, 8, 16, 32] which is of type list.\n",
      "  warnings.warn(message)\n"
     ]
    },
    {
     "name": "stdout",
     "output_type": "stream",
     "text": [
      "EarlyStopping counter: 2 out of 10\n",
      "EarlyStopping counter: 3 out of 10\n",
      "EarlyStopping counter: 1 out of 10\n",
      "EarlyStopping counter: 1 out of 10\n",
      "EarlyStopping counter: 2 out of 10\n",
      "EarlyStopping counter: 2 out of 10\n",
      "EarlyStopping counter: 3 out of 10\n",
      "EarlyStopping counter: 3 out of 10\n",
      "EarlyStopping counter: 4 out of 10\n",
      "EarlyStopping counter: 4 out of 10\n",
      "EarlyStopping counter: 5 out of 10\n",
      "EarlyStopping counter: 5 out of 10\n",
      "EarlyStopping counter: 6 out of 10\n",
      "EarlyStopping counter: 6 out of 10\n",
      "EarlyStopping counter: 7 out of 10\n",
      "EarlyStopping counter: 7 out of 10\n",
      "EarlyStopping counter: 8 out of 10\n",
      "EarlyStopping counter: 8 out of 10\n",
      "EarlyStopping counter: 9 out of 10\n",
      "EarlyStopping counter: 9 out of 10\n",
      "EarlyStopping counter: 10 out of 10\n",
      "Early stopping at epoch 14\n"
     ]
    },
    {
     "name": "stderr",
     "output_type": "stream",
     "text": [
      "[I 2025-06-05 07:03:05,582] Trial 46 finished with value: 0.4030319455557563 and parameters: {'embed_dim': 96, 'depths': [2, 2, 6, 2], 'num_heads': [4, 8, 16, 32], 'window_size': 7, 'mlp_ratio': 2.9654582206447264, 'drop_rate': 0.20489760271969257, 'attn_drop_rate': 0.12347581579041086, 'drop_path_rate': 0.16819684821192787, 'learning_rate': 1.712664544701327e-05, 'weight_decay': 6.1040288100033284e-06}. Best is trial 45 with value: 0.6049740885091787.\n"
     ]
    },
    {
     "name": "stdout",
     "output_type": "stream",
     "text": [
      "Trial 46: Test Accuracy = 0.4030\n",
      "Trial 48 hyperparameters:\n",
      "embed_dim: 128\n",
      "depths: [2, 2, 6, 2]\n",
      "num_heads: [3, 6, 12, 24]\n",
      "window_size: 7\n",
      "mlp_ratio: 2.2198622887127923\n",
      "drop_rate: 0.15561984217115873\n",
      "attn_drop_rate: 0.4317974464042778\n",
      "drop_path_rate: 0.3354770879096804\n",
      "learning_rate: 2.598797602447637e-05\n",
      "weight_decay: 1.5733724493954987e-06\n",
      "batch_size: 16\n",
      "optimizer: Adam\n",
      "label_smoothing: 0.2\n",
      "factor: 1\n"
     ]
    },
    {
     "name": "stderr",
     "output_type": "stream",
     "text": [
      "c:\\Users\\Gabriel\\anaconda3\\envs\\cudaenv\\Lib\\site-packages\\optuna\\distributions.py:515: UserWarning: Choices for a categorical distribution should be a tuple of None, bool, int, float and str for persistent storage but contains [2, 2, 6, 2] which is of type list.\n",
      "  warnings.warn(message)\n",
      "c:\\Users\\Gabriel\\anaconda3\\envs\\cudaenv\\Lib\\site-packages\\optuna\\distributions.py:515: UserWarning: Choices for a categorical distribution should be a tuple of None, bool, int, float and str for persistent storage but contains [2, 2, 18, 2] which is of type list.\n",
      "  warnings.warn(message)\n",
      "c:\\Users\\Gabriel\\anaconda3\\envs\\cudaenv\\Lib\\site-packages\\optuna\\distributions.py:515: UserWarning: Choices for a categorical distribution should be a tuple of None, bool, int, float and str for persistent storage but contains [3, 6, 12, 24] which is of type list.\n",
      "  warnings.warn(message)\n",
      "c:\\Users\\Gabriel\\anaconda3\\envs\\cudaenv\\Lib\\site-packages\\optuna\\distributions.py:515: UserWarning: Choices for a categorical distribution should be a tuple of None, bool, int, float and str for persistent storage but contains [4, 8, 16, 32] which is of type list.\n",
      "  warnings.warn(message)\n"
     ]
    },
    {
     "name": "stdout",
     "output_type": "stream",
     "text": [
      "EarlyStopping counter: 10 out of 10\n",
      "Early stopping at epoch 12\n"
     ]
    },
    {
     "name": "stderr",
     "output_type": "stream",
     "text": [
      "[I 2025-06-05 07:03:14,394] Trial 47 finished with value: 0.4514358149285749 and parameters: {'embed_dim': 96, 'depths': [2, 2, 6, 2], 'num_heads': [4, 8, 16, 32], 'window_size': 7, 'mlp_ratio': 2.235822513644123, 'drop_rate': 0.21036040633622205, 'attn_drop_rate': 0.4134754779141787, 'drop_path_rate': 0.29151569130154503, 'learning_rate': 2.581771208881737e-05, 'weight_decay': 6.79475920412189e-06}. Best is trial 45 with value: 0.6049740885091787.\n"
     ]
    },
    {
     "name": "stdout",
     "output_type": "stream",
     "text": [
      "Trial 47: Test Accuracy = 0.4514\n",
      "Trial 49 hyperparameters:\n",
      "embed_dim: 128\n",
      "depths: [2, 2, 18, 2]\n",
      "num_heads: [3, 6, 12, 24]\n",
      "window_size: 7\n",
      "mlp_ratio: 3.8542760373229834\n",
      "drop_rate: 0.4448501512109087\n",
      "attn_drop_rate: 0.21123584057825195\n",
      "drop_path_rate: 0.33227569336603613\n",
      "learning_rate: 1.350247474633488e-05\n",
      "weight_decay: 1.3429740320614909e-05\n",
      "batch_size: 16\n",
      "optimizer: Adam\n",
      "label_smoothing: 0.2\n",
      "factor: 1\n"
     ]
    },
    {
     "name": "stderr",
     "output_type": "stream",
     "text": [
      "c:\\Users\\Gabriel\\anaconda3\\envs\\cudaenv\\Lib\\site-packages\\optuna\\distributions.py:515: UserWarning: Choices for a categorical distribution should be a tuple of None, bool, int, float and str for persistent storage but contains [2, 2, 6, 2] which is of type list.\n",
      "  warnings.warn(message)\n",
      "c:\\Users\\Gabriel\\anaconda3\\envs\\cudaenv\\Lib\\site-packages\\optuna\\distributions.py:515: UserWarning: Choices for a categorical distribution should be a tuple of None, bool, int, float and str for persistent storage but contains [2, 2, 18, 2] which is of type list.\n",
      "  warnings.warn(message)\n",
      "c:\\Users\\Gabriel\\anaconda3\\envs\\cudaenv\\Lib\\site-packages\\optuna\\distributions.py:515: UserWarning: Choices for a categorical distribution should be a tuple of None, bool, int, float and str for persistent storage but contains [3, 6, 12, 24] which is of type list.\n",
      "  warnings.warn(message)\n",
      "c:\\Users\\Gabriel\\anaconda3\\envs\\cudaenv\\Lib\\site-packages\\optuna\\distributions.py:515: UserWarning: Choices for a categorical distribution should be a tuple of None, bool, int, float and str for persistent storage but contains [4, 8, 16, 32] which is of type list.\n",
      "  warnings.warn(message)\n"
     ]
    },
    {
     "name": "stdout",
     "output_type": "stream",
     "text": [
      "EarlyStopping counter: 1 out of 10\n",
      "EarlyStopping counter: 2 out of 10\n",
      "EarlyStopping counter: 1 out of 10\n",
      "EarlyStopping counter: 3 out of 10\n",
      "EarlyStopping counter: 2 out of 10\n",
      "EarlyStopping counter: 1 out of 10\n",
      "EarlyStopping counter: 2 out of 10\n",
      "EarlyStopping counter: 3 out of 10\n",
      "EarlyStopping counter: 1 out of 10\n",
      "EarlyStopping counter: 4 out of 10\n",
      "EarlyStopping counter: 2 out of 10\n",
      "EarlyStopping counter: 5 out of 10\n",
      "EarlyStopping counter: 3 out of 10\n",
      "EarlyStopping counter: 6 out of 10\n",
      "EarlyStopping counter: 4 out of 10\n",
      "EarlyStopping counter: 7 out of 10\n",
      "EarlyStopping counter: 8 out of 10\n",
      "EarlyStopping counter: 5 out of 10\n",
      "EarlyStopping counter: 9 out of 10\n",
      "EarlyStopping counter: 6 out of 10\n",
      "EarlyStopping counter: 10 out of 10\n",
      "Early stopping at epoch 15\n"
     ]
    },
    {
     "name": "stderr",
     "output_type": "stream",
     "text": [
      "[I 2025-06-05 07:10:05,156] Trial 48 finished with value: 0.5946203902066897 and parameters: {'embed_dim': 128, 'depths': [2, 2, 6, 2], 'num_heads': [3, 6, 12, 24], 'window_size': 7, 'mlp_ratio': 2.2198622887127923, 'drop_rate': 0.15561984217115873, 'attn_drop_rate': 0.4317974464042778, 'drop_path_rate': 0.3354770879096804, 'learning_rate': 2.598797602447637e-05, 'weight_decay': 1.5733724493954987e-06}. Best is trial 45 with value: 0.6049740885091787.\n"
     ]
    },
    {
     "name": "stdout",
     "output_type": "stream",
     "text": [
      "Trial 48: Test Accuracy = 0.5946\n",
      "Trial 50 hyperparameters:\n",
      "embed_dim: 128\n",
      "depths: [2, 2, 18, 2]\n",
      "num_heads: [3, 6, 12, 24]\n",
      "window_size: 14\n",
      "mlp_ratio: 2.149522142839849\n",
      "drop_rate: 0.1504648167505822\n",
      "attn_drop_rate: 0.4357173287842009\n",
      "drop_path_rate: 0.3456421939248139\n",
      "learning_rate: 1.3213947978564088e-05\n",
      "weight_decay: 1.3624369547869718e-06\n",
      "batch_size: 16\n",
      "optimizer: Adam\n",
      "label_smoothing: 0.2\n",
      "factor: 1\n"
     ]
    },
    {
     "name": "stderr",
     "output_type": "stream",
     "text": [
      "c:\\Users\\Gabriel\\anaconda3\\envs\\cudaenv\\Lib\\site-packages\\optuna\\distributions.py:515: UserWarning: Choices for a categorical distribution should be a tuple of None, bool, int, float and str for persistent storage but contains [2, 2, 6, 2] which is of type list.\n",
      "  warnings.warn(message)\n",
      "c:\\Users\\Gabriel\\anaconda3\\envs\\cudaenv\\Lib\\site-packages\\optuna\\distributions.py:515: UserWarning: Choices for a categorical distribution should be a tuple of None, bool, int, float and str for persistent storage but contains [2, 2, 18, 2] which is of type list.\n",
      "  warnings.warn(message)\n",
      "c:\\Users\\Gabriel\\anaconda3\\envs\\cudaenv\\Lib\\site-packages\\optuna\\distributions.py:515: UserWarning: Choices for a categorical distribution should be a tuple of None, bool, int, float and str for persistent storage but contains [3, 6, 12, 24] which is of type list.\n",
      "  warnings.warn(message)\n",
      "c:\\Users\\Gabriel\\anaconda3\\envs\\cudaenv\\Lib\\site-packages\\optuna\\distributions.py:515: UserWarning: Choices for a categorical distribution should be a tuple of None, bool, int, float and str for persistent storage but contains [4, 8, 16, 32] which is of type list.\n",
      "  warnings.warn(message)\n"
     ]
    },
    {
     "name": "stdout",
     "output_type": "stream",
     "text": [
      "EarlyStopping counter: 7 out of 10\n",
      "EarlyStopping counter: 8 out of 10\n",
      "EarlyStopping counter: 1 out of 10\n",
      "EarlyStopping counter: 9 out of 10\n",
      "EarlyStopping counter: 2 out of 10\n",
      "EarlyStopping counter: 10 out of 10\n",
      "Early stopping at epoch 15\n",
      "Trial 49: Test Accuracy = 0.5666\n"
     ]
    },
    {
     "name": "stderr",
     "output_type": "stream",
     "text": [
      "[I 2025-06-05 07:13:33,166] Trial 49 finished with value: 0.566560841098177 and parameters: {'embed_dim': 128, 'depths': [2, 2, 18, 2], 'num_heads': [3, 6, 12, 24], 'window_size': 7, 'mlp_ratio': 3.8542760373229834, 'drop_rate': 0.4448501512109087, 'attn_drop_rate': 0.21123584057825195, 'drop_path_rate': 0.33227569336603613, 'learning_rate': 1.350247474633488e-05, 'weight_decay': 1.3429740320614909e-05}. Best is trial 45 with value: 0.6049740885091787.\n",
      "c:\\Users\\Gabriel\\anaconda3\\envs\\cudaenv\\Lib\\site-packages\\optuna\\distributions.py:515: UserWarning: Choices for a categorical distribution should be a tuple of None, bool, int, float and str for persistent storage but contains [2, 2, 6, 2] which is of type list.\n",
      "  warnings.warn(message)\n",
      "c:\\Users\\Gabriel\\anaconda3\\envs\\cudaenv\\Lib\\site-packages\\optuna\\distributions.py:515: UserWarning: Choices for a categorical distribution should be a tuple of None, bool, int, float and str for persistent storage but contains [2, 2, 18, 2] which is of type list.\n",
      "  warnings.warn(message)\n",
      "c:\\Users\\Gabriel\\anaconda3\\envs\\cudaenv\\Lib\\site-packages\\optuna\\distributions.py:515: UserWarning: Choices for a categorical distribution should be a tuple of None, bool, int, float and str for persistent storage but contains [3, 6, 12, 24] which is of type list.\n",
      "  warnings.warn(message)\n",
      "c:\\Users\\Gabriel\\anaconda3\\envs\\cudaenv\\Lib\\site-packages\\optuna\\distributions.py:515: UserWarning: Choices for a categorical distribution should be a tuple of None, bool, int, float and str for persistent storage but contains [4, 8, 16, 32] which is of type list.\n",
      "  warnings.warn(message)\n"
     ]
    },
    {
     "name": "stdout",
     "output_type": "stream",
     "text": [
      "Trial 51 hyperparameters:\n",
      "embed_dim: 128\n",
      "depths: [2, 2, 6, 2]\n",
      "num_heads: [3, 6, 12, 24]\n",
      "window_size: 14\n",
      "mlp_ratio: 2.1642227604798263\n",
      "drop_rate: 0.15738242987922824\n",
      "attn_drop_rate: 0.4489219826319269\n",
      "drop_path_rate: 0.40265135442932104\n",
      "learning_rate: 1.8952093170717914e-05\n",
      "weight_decay: 1.4416566639172949e-06\n",
      "batch_size: 16\n",
      "optimizer: Adam\n",
      "label_smoothing: 0.2\n",
      "factor: 1\n",
      "EarlyStopping counter: 1 out of 10\n",
      "EarlyStopping counter: 2 out of 10\n",
      "EarlyStopping counter: 1 out of 10\n",
      "EarlyStopping counter: 3 out of 10\n",
      "EarlyStopping counter: 2 out of 10\n",
      "EarlyStopping counter: 3 out of 10\n",
      "EarlyStopping counter: 4 out of 10\n",
      "EarlyStopping counter: 4 out of 10\n",
      "EarlyStopping counter: 5 out of 10\n",
      "EarlyStopping counter: 5 out of 10\n",
      "EarlyStopping counter: 6 out of 10\n",
      "EarlyStopping counter: 6 out of 10\n",
      "EarlyStopping counter: 7 out of 10\n",
      "EarlyStopping counter: 7 out of 10\n",
      "EarlyStopping counter: 8 out of 10\n",
      "EarlyStopping counter: 9 out of 10\n",
      "EarlyStopping counter: 8 out of 10\n",
      "EarlyStopping counter: 10 out of 10\n",
      "Early stopping at epoch 12\n",
      "Trial 51: Test Accuracy = 0.4234\n"
     ]
    },
    {
     "name": "stderr",
     "output_type": "stream",
     "text": [
      "[I 2025-06-05 07:24:41,850] Trial 51 finished with value: 0.423406665576864 and parameters: {'embed_dim': 128, 'depths': [2, 2, 6, 2], 'num_heads': [3, 6, 12, 24], 'window_size': 14, 'mlp_ratio': 2.1642227604798263, 'drop_rate': 0.15738242987922824, 'attn_drop_rate': 0.4489219826319269, 'drop_path_rate': 0.40265135442932104, 'learning_rate': 1.8952093170717914e-05, 'weight_decay': 1.4416566639172949e-06}. Best is trial 45 with value: 0.6049740885091787.\n",
      "c:\\Users\\Gabriel\\anaconda3\\envs\\cudaenv\\Lib\\site-packages\\optuna\\distributions.py:515: UserWarning: Choices for a categorical distribution should be a tuple of None, bool, int, float and str for persistent storage but contains [2, 2, 6, 2] which is of type list.\n",
      "  warnings.warn(message)\n",
      "c:\\Users\\Gabriel\\anaconda3\\envs\\cudaenv\\Lib\\site-packages\\optuna\\distributions.py:515: UserWarning: Choices for a categorical distribution should be a tuple of None, bool, int, float and str for persistent storage but contains [2, 2, 18, 2] which is of type list.\n",
      "  warnings.warn(message)\n",
      "c:\\Users\\Gabriel\\anaconda3\\envs\\cudaenv\\Lib\\site-packages\\optuna\\distributions.py:515: UserWarning: Choices for a categorical distribution should be a tuple of None, bool, int, float and str for persistent storage but contains [3, 6, 12, 24] which is of type list.\n",
      "  warnings.warn(message)\n",
      "c:\\Users\\Gabriel\\anaconda3\\envs\\cudaenv\\Lib\\site-packages\\optuna\\distributions.py:515: UserWarning: Choices for a categorical distribution should be a tuple of None, bool, int, float and str for persistent storage but contains [4, 8, 16, 32] which is of type list.\n",
      "  warnings.warn(message)\n"
     ]
    },
    {
     "name": "stdout",
     "output_type": "stream",
     "text": [
      "Trial 52 hyperparameters:\n",
      "embed_dim: 128\n",
      "depths: [2, 2, 18, 2]\n",
      "num_heads: [3, 6, 12, 24]\n",
      "window_size: 7\n",
      "mlp_ratio: 3.90415034137866\n",
      "drop_rate: 0.45286484915591463\n",
      "attn_drop_rate: 0.42991056917506615\n",
      "drop_path_rate: 0.3335381103594653\n",
      "learning_rate: 1.412234844573524e-05\n",
      "weight_decay: 2.5400272806614024e-05\n",
      "batch_size: 16\n",
      "optimizer: Adam\n",
      "label_smoothing: 0.2\n",
      "factor: 1\n",
      "EarlyStopping counter: 1 out of 10\n",
      "EarlyStopping counter: 1 out of 10\n",
      "EarlyStopping counter: 2 out of 10\n",
      "EarlyStopping counter: 2 out of 10\n",
      "EarlyStopping counter: 3 out of 10\n",
      "EarlyStopping counter: 4 out of 10\n",
      "EarlyStopping counter: 1 out of 10\n",
      "EarlyStopping counter: 5 out of 10\n",
      "EarlyStopping counter: 2 out of 10\n",
      "EarlyStopping counter: 6 out of 10\n",
      "EarlyStopping counter: 7 out of 10\n",
      "EarlyStopping counter: 1 out of 10\n",
      "EarlyStopping counter: 8 out of 10\n",
      "EarlyStopping counter: 2 out of 10\n",
      "EarlyStopping counter: 9 out of 10\n",
      "EarlyStopping counter: 3 out of 10\n",
      "EarlyStopping counter: 10 out of 10\n",
      "Early stopping at epoch 22\n",
      "Trial 50: Test Accuracy = 0.4668\n"
     ]
    },
    {
     "name": "stderr",
     "output_type": "stream",
     "text": [
      "[I 2025-06-05 07:47:08,441] Trial 50 finished with value: 0.4668112089065552 and parameters: {'embed_dim': 128, 'depths': [2, 2, 18, 2], 'num_heads': [3, 6, 12, 24], 'window_size': 14, 'mlp_ratio': 2.149522142839849, 'drop_rate': 0.1504648167505822, 'attn_drop_rate': 0.4357173287842009, 'drop_path_rate': 0.3456421939248139, 'learning_rate': 1.3213947978564088e-05, 'weight_decay': 1.3624369547869718e-06}. Best is trial 45 with value: 0.6049740885091787.\n",
      "c:\\Users\\Gabriel\\anaconda3\\envs\\cudaenv\\Lib\\site-packages\\optuna\\distributions.py:515: UserWarning: Choices for a categorical distribution should be a tuple of None, bool, int, float and str for persistent storage but contains [2, 2, 6, 2] which is of type list.\n",
      "  warnings.warn(message)\n",
      "c:\\Users\\Gabriel\\anaconda3\\envs\\cudaenv\\Lib\\site-packages\\optuna\\distributions.py:515: UserWarning: Choices for a categorical distribution should be a tuple of None, bool, int, float and str for persistent storage but contains [2, 2, 18, 2] which is of type list.\n",
      "  warnings.warn(message)\n",
      "c:\\Users\\Gabriel\\anaconda3\\envs\\cudaenv\\Lib\\site-packages\\optuna\\distributions.py:515: UserWarning: Choices for a categorical distribution should be a tuple of None, bool, int, float and str for persistent storage but contains [3, 6, 12, 24] which is of type list.\n",
      "  warnings.warn(message)\n",
      "c:\\Users\\Gabriel\\anaconda3\\envs\\cudaenv\\Lib\\site-packages\\optuna\\distributions.py:515: UserWarning: Choices for a categorical distribution should be a tuple of None, bool, int, float and str for persistent storage but contains [4, 8, 16, 32] which is of type list.\n",
      "  warnings.warn(message)\n"
     ]
    },
    {
     "name": "stdout",
     "output_type": "stream",
     "text": [
      "Trial 53 hyperparameters:\n",
      "embed_dim: 128\n",
      "depths: [2, 2, 18, 2]\n",
      "num_heads: [3, 6, 12, 24]\n",
      "window_size: 7\n",
      "mlp_ratio: 3.8830946102044095\n",
      "drop_rate: 0.1252780721682317\n",
      "attn_drop_rate: 0.3760477970372981\n",
      "drop_path_rate: 0.3275902917305975\n",
      "learning_rate: 1.3335277059179097e-05\n",
      "weight_decay: 2.314569723830868e-06\n",
      "batch_size: 16\n",
      "optimizer: Adam\n",
      "label_smoothing: 0.2\n",
      "factor: 1\n",
      "EarlyStopping counter: 4 out of 10\n",
      "EarlyStopping counter: 5 out of 10\n",
      "EarlyStopping counter: 1 out of 10\n",
      "EarlyStopping counter: 6 out of 10\n",
      "EarlyStopping counter: 2 out of 10\n",
      "EarlyStopping counter: 7 out of 10\n",
      "EarlyStopping counter: 1 out of 10\n",
      "EarlyStopping counter: 1 out of 10\n",
      "EarlyStopping counter: 1 out of 10\n",
      "EarlyStopping counter: 2 out of 10\n",
      "EarlyStopping counter: 2 out of 10\n",
      "EarlyStopping counter: 3 out of 10\n",
      "EarlyStopping counter: 3 out of 10\n",
      "EarlyStopping counter: 4 out of 10\n",
      "EarlyStopping counter: 4 out of 10\n",
      "EarlyStopping counter: 5 out of 10\n",
      "EarlyStopping counter: 1 out of 10\n",
      "EarlyStopping counter: 2 out of 10\n",
      "EarlyStopping counter: 1 out of 10\n",
      "EarlyStopping counter: 3 out of 10\n",
      "EarlyStopping counter: 2 out of 10\n",
      "EarlyStopping counter: 4 out of 10\n",
      "EarlyStopping counter: 3 out of 10\n",
      "EarlyStopping counter: 5 out of 10\n",
      "EarlyStopping counter: 4 out of 10\n",
      "EarlyStopping counter: 6 out of 10\n",
      "EarlyStopping counter: 5 out of 10\n",
      "EarlyStopping counter: 7 out of 10\n",
      "EarlyStopping counter: 6 out of 10\n",
      "EarlyStopping counter: 8 out of 10\n",
      "EarlyStopping counter: 7 out of 10\n",
      "EarlyStopping counter: 9 out of 10\n",
      "EarlyStopping counter: 8 out of 10\n",
      "EarlyStopping counter: 10 out of 10\n",
      "Early stopping at epoch 30\n",
      "Trial 52: Test Accuracy = 0.4922\n"
     ]
    },
    {
     "name": "stderr",
     "output_type": "stream",
     "text": [
      "[I 2025-06-05 08:25:29,129] Trial 52 finished with value: 0.49222884707488385 and parameters: {'embed_dim': 128, 'depths': [2, 2, 18, 2], 'num_heads': [3, 6, 12, 24], 'window_size': 7, 'mlp_ratio': 3.90415034137866, 'drop_rate': 0.45286484915591463, 'attn_drop_rate': 0.42991056917506615, 'drop_path_rate': 0.3335381103594653, 'learning_rate': 1.412234844573524e-05, 'weight_decay': 2.5400272806614024e-05}. Best is trial 45 with value: 0.6049740885091787.\n",
      "c:\\Users\\Gabriel\\anaconda3\\envs\\cudaenv\\Lib\\site-packages\\optuna\\distributions.py:515: UserWarning: Choices for a categorical distribution should be a tuple of None, bool, int, float and str for persistent storage but contains [2, 2, 6, 2] which is of type list.\n",
      "  warnings.warn(message)\n",
      "c:\\Users\\Gabriel\\anaconda3\\envs\\cudaenv\\Lib\\site-packages\\optuna\\distributions.py:515: UserWarning: Choices for a categorical distribution should be a tuple of None, bool, int, float and str for persistent storage but contains [2, 2, 18, 2] which is of type list.\n",
      "  warnings.warn(message)\n",
      "c:\\Users\\Gabriel\\anaconda3\\envs\\cudaenv\\Lib\\site-packages\\optuna\\distributions.py:515: UserWarning: Choices for a categorical distribution should be a tuple of None, bool, int, float and str for persistent storage but contains [3, 6, 12, 24] which is of type list.\n",
      "  warnings.warn(message)\n",
      "c:\\Users\\Gabriel\\anaconda3\\envs\\cudaenv\\Lib\\site-packages\\optuna\\distributions.py:515: UserWarning: Choices for a categorical distribution should be a tuple of None, bool, int, float and str for persistent storage but contains [4, 8, 16, 32] which is of type list.\n",
      "  warnings.warn(message)\n"
     ]
    },
    {
     "name": "stdout",
     "output_type": "stream",
     "text": [
      "Trial 54 hyperparameters:\n",
      "embed_dim: 128\n",
      "depths: [2, 2, 18, 2]\n",
      "num_heads: [3, 6, 12, 24]\n",
      "window_size: 7\n",
      "mlp_ratio: 3.828078230502645\n",
      "drop_rate: 0.22568911575484868\n",
      "attn_drop_rate: 0.37378254703923997\n",
      "drop_path_rate: 0.3767914775053123\n",
      "learning_rate: 1.2752873953974634e-05\n",
      "weight_decay: 2.673149360036041e-06\n",
      "batch_size: 16\n",
      "optimizer: Adam\n",
      "label_smoothing: 0.2\n",
      "factor: 1\n",
      "EarlyStopping counter: 9 out of 10\n",
      "EarlyStopping counter: 10 out of 10\n",
      "Early stopping at epoch 21\n",
      "Trial 53: Test Accuracy = 0.5084\n"
     ]
    },
    {
     "name": "stderr",
     "output_type": "stream",
     "text": [
      "[I 2025-06-05 08:29:23,638] Trial 53 finished with value: 0.5084215930046144 and parameters: {'embed_dim': 128, 'depths': [2, 2, 18, 2], 'num_heads': [3, 6, 12, 24], 'window_size': 7, 'mlp_ratio': 3.8830946102044095, 'drop_rate': 0.1252780721682317, 'attn_drop_rate': 0.3760477970372981, 'drop_path_rate': 0.3275902917305975, 'learning_rate': 1.3335277059179097e-05, 'weight_decay': 2.314569723830868e-06}. Best is trial 45 with value: 0.6049740885091787.\n",
      "c:\\Users\\Gabriel\\anaconda3\\envs\\cudaenv\\Lib\\site-packages\\optuna\\distributions.py:515: UserWarning: Choices for a categorical distribution should be a tuple of None, bool, int, float and str for persistent storage but contains [2, 2, 6, 2] which is of type list.\n",
      "  warnings.warn(message)\n",
      "c:\\Users\\Gabriel\\anaconda3\\envs\\cudaenv\\Lib\\site-packages\\optuna\\distributions.py:515: UserWarning: Choices for a categorical distribution should be a tuple of None, bool, int, float and str for persistent storage but contains [2, 2, 18, 2] which is of type list.\n",
      "  warnings.warn(message)\n",
      "c:\\Users\\Gabriel\\anaconda3\\envs\\cudaenv\\Lib\\site-packages\\optuna\\distributions.py:515: UserWarning: Choices for a categorical distribution should be a tuple of None, bool, int, float and str for persistent storage but contains [3, 6, 12, 24] which is of type list.\n",
      "  warnings.warn(message)\n",
      "c:\\Users\\Gabriel\\anaconda3\\envs\\cudaenv\\Lib\\site-packages\\optuna\\distributions.py:515: UserWarning: Choices for a categorical distribution should be a tuple of None, bool, int, float and str for persistent storage but contains [4, 8, 16, 32] which is of type list.\n",
      "  warnings.warn(message)\n"
     ]
    },
    {
     "name": "stdout",
     "output_type": "stream",
     "text": [
      "Trial 55 hyperparameters:\n",
      "embed_dim: 128\n",
      "depths: [2, 2, 18, 2]\n",
      "num_heads: [3, 6, 12, 24]\n",
      "window_size: 7\n",
      "mlp_ratio: 2.296060381241887\n",
      "drop_rate: 0.17965269304999948\n",
      "attn_drop_rate: 0.21471509174964742\n",
      "drop_path_rate: 0.25749818463817337\n",
      "learning_rate: 8.742709174139938e-05\n",
      "weight_decay: 4.1110316224258934e-05\n",
      "batch_size: 16\n",
      "optimizer: Adam\n",
      "label_smoothing: 0.2\n",
      "factor: 1\n",
      "EarlyStopping counter: 1 out of 10\n",
      "EarlyStopping counter: 1 out of 10\n",
      "EarlyStopping counter: 1 out of 10\n",
      "EarlyStopping counter: 2 out of 10\n",
      "EarlyStopping counter: 2 out of 10\n",
      "EarlyStopping counter: 3 out of 10\n",
      "EarlyStopping counter: 4 out of 10\n",
      "EarlyStopping counter: 5 out of 10\n",
      "EarlyStopping counter: 1 out of 10\n",
      "EarlyStopping counter: 6 out of 10\n",
      "EarlyStopping counter: 2 out of 10\n",
      "EarlyStopping counter: 1 out of 10\n",
      "EarlyStopping counter: 2 out of 10\n",
      "EarlyStopping counter: 1 out of 10\n",
      "EarlyStopping counter: 3 out of 10\n",
      "EarlyStopping counter: 2 out of 10\n",
      "EarlyStopping counter: 4 out of 10\n",
      "EarlyStopping counter: 3 out of 10\n",
      "EarlyStopping counter: 4 out of 10\n",
      "EarlyStopping counter: 5 out of 10\n",
      "EarlyStopping counter: 1 out of 10\n",
      "EarlyStopping counter: 6 out of 10\n",
      "EarlyStopping counter: 7 out of 10\n",
      "EarlyStopping counter: 1 out of 10\n",
      "EarlyStopping counter: 2 out of 10\n",
      "EarlyStopping counter: 1 out of 10\n",
      "EarlyStopping counter: 3 out of 10\n",
      "EarlyStopping counter: 2 out of 10\n",
      "EarlyStopping counter: 4 out of 10\n",
      "EarlyStopping counter: 3 out of 10\n",
      "EarlyStopping counter: 5 out of 10\n",
      "EarlyStopping counter: 4 out of 10\n",
      "EarlyStopping counter: 6 out of 10\n",
      "EarlyStopping counter: 5 out of 10\n",
      "EarlyStopping counter: 7 out of 10\n",
      "EarlyStopping counter: 6 out of 10\n",
      "EarlyStopping counter: 8 out of 10\n",
      "EarlyStopping counter: 7 out of 10\n",
      "EarlyStopping counter: 9 out of 10\n",
      "EarlyStopping counter: 8 out of 10\n",
      "EarlyStopping counter: 9 out of 10\n",
      "EarlyStopping counter: 1 out of 10\n",
      "EarlyStopping counter: 10 out of 10\n",
      "Early stopping at epoch 30\n",
      "Trial 54: Test Accuracy = 0.5724\n"
     ]
    },
    {
     "name": "stderr",
     "output_type": "stream",
     "text": [
      "[I 2025-06-05 08:59:49,605] Trial 54 finished with value: 0.5724061981089057 and parameters: {'embed_dim': 128, 'depths': [2, 2, 18, 2], 'num_heads': [3, 6, 12, 24], 'window_size': 7, 'mlp_ratio': 3.828078230502645, 'drop_rate': 0.22568911575484868, 'attn_drop_rate': 0.37378254703923997, 'drop_path_rate': 0.3767914775053123, 'learning_rate': 1.2752873953974634e-05, 'weight_decay': 2.673149360036041e-06}. Best is trial 45 with value: 0.6049740885091787.\n",
      "c:\\Users\\Gabriel\\anaconda3\\envs\\cudaenv\\Lib\\site-packages\\optuna\\distributions.py:515: UserWarning: Choices for a categorical distribution should be a tuple of None, bool, int, float and str for persistent storage but contains [2, 2, 6, 2] which is of type list.\n",
      "  warnings.warn(message)\n",
      "c:\\Users\\Gabriel\\anaconda3\\envs\\cudaenv\\Lib\\site-packages\\optuna\\distributions.py:515: UserWarning: Choices for a categorical distribution should be a tuple of None, bool, int, float and str for persistent storage but contains [2, 2, 18, 2] which is of type list.\n",
      "  warnings.warn(message)\n",
      "c:\\Users\\Gabriel\\anaconda3\\envs\\cudaenv\\Lib\\site-packages\\optuna\\distributions.py:515: UserWarning: Choices for a categorical distribution should be a tuple of None, bool, int, float and str for persistent storage but contains [3, 6, 12, 24] which is of type list.\n",
      "  warnings.warn(message)\n",
      "c:\\Users\\Gabriel\\anaconda3\\envs\\cudaenv\\Lib\\site-packages\\optuna\\distributions.py:515: UserWarning: Choices for a categorical distribution should be a tuple of None, bool, int, float and str for persistent storage but contains [4, 8, 16, 32] which is of type list.\n",
      "  warnings.warn(message)\n"
     ]
    },
    {
     "name": "stdout",
     "output_type": "stream",
     "text": [
      "Trial 56 hyperparameters:\n",
      "embed_dim: 128\n",
      "depths: [2, 2, 18, 2]\n",
      "num_heads: [3, 6, 12, 24]\n",
      "window_size: 7\n",
      "mlp_ratio: 2.2849456599469207\n",
      "drop_rate: 0.22611442911380614\n",
      "attn_drop_rate: 0.37089499527497627\n",
      "drop_path_rate: 0.3919897255149345\n",
      "learning_rate: 8.278436632272342e-05\n",
      "weight_decay: 3.1221344412268617e-06\n",
      "batch_size: 16\n",
      "optimizer: Adam\n",
      "label_smoothing: 0.2\n",
      "factor: 1\n",
      "EarlyStopping counter: 2 out of 10\n",
      "EarlyStopping counter: 3 out of 10\n",
      "EarlyStopping counter: 1 out of 10\n",
      "EarlyStopping counter: 4 out of 10\n",
      "EarlyStopping counter: 5 out of 10\n",
      "EarlyStopping counter: 1 out of 10\n",
      "EarlyStopping counter: 6 out of 10\n",
      "EarlyStopping counter: 2 out of 10\n",
      "EarlyStopping counter: 7 out of 10\n",
      "EarlyStopping counter: 3 out of 10\n",
      "EarlyStopping counter: 8 out of 10\n",
      "EarlyStopping counter: 4 out of 10\n",
      "EarlyStopping counter: 9 out of 10\n",
      "EarlyStopping counter: 10 out of 10\n",
      "Early stopping at epoch 37\n"
     ]
    },
    {
     "name": "stderr",
     "output_type": "stream",
     "text": [
      "[I 2025-06-05 09:02:35,491] Trial 55 finished with value: 0.5232962513658381 and parameters: {'embed_dim': 128, 'depths': [2, 2, 18, 2], 'num_heads': [3, 6, 12, 24], 'window_size': 7, 'mlp_ratio': 2.296060381241887, 'drop_rate': 0.17965269304999948, 'attn_drop_rate': 0.21471509174964742, 'drop_path_rate': 0.25749818463817337, 'learning_rate': 8.742709174139938e-05, 'weight_decay': 4.1110316224258934e-05}. Best is trial 45 with value: 0.6049740885091787.\n"
     ]
    },
    {
     "name": "stdout",
     "output_type": "stream",
     "text": [
      "Trial 55: Test Accuracy = 0.5233\n",
      "Trial 57 hyperparameters:\n",
      "embed_dim: 128\n",
      "depths: [2, 2, 6, 2]\n",
      "num_heads: [3, 6, 12, 24]\n",
      "window_size: 7\n",
      "mlp_ratio: 3.6362508122019337\n",
      "drop_rate: 0.2396330544161765\n",
      "attn_drop_rate: 0.3048998338901615\n",
      "drop_path_rate: 0.38788193633302875\n",
      "learning_rate: 2.0302414185357093e-05\n",
      "weight_decay: 3.3248431926005424e-06\n",
      "batch_size: 16\n",
      "optimizer: Adam\n",
      "label_smoothing: 0.2\n",
      "factor: 1\n"
     ]
    },
    {
     "name": "stderr",
     "output_type": "stream",
     "text": [
      "c:\\Users\\Gabriel\\anaconda3\\envs\\cudaenv\\Lib\\site-packages\\optuna\\distributions.py:515: UserWarning: Choices for a categorical distribution should be a tuple of None, bool, int, float and str for persistent storage but contains [2, 2, 6, 2] which is of type list.\n",
      "  warnings.warn(message)\n",
      "c:\\Users\\Gabriel\\anaconda3\\envs\\cudaenv\\Lib\\site-packages\\optuna\\distributions.py:515: UserWarning: Choices for a categorical distribution should be a tuple of None, bool, int, float and str for persistent storage but contains [2, 2, 18, 2] which is of type list.\n",
      "  warnings.warn(message)\n",
      "c:\\Users\\Gabriel\\anaconda3\\envs\\cudaenv\\Lib\\site-packages\\optuna\\distributions.py:515: UserWarning: Choices for a categorical distribution should be a tuple of None, bool, int, float and str for persistent storage but contains [3, 6, 12, 24] which is of type list.\n",
      "  warnings.warn(message)\n",
      "c:\\Users\\Gabriel\\anaconda3\\envs\\cudaenv\\Lib\\site-packages\\optuna\\distributions.py:515: UserWarning: Choices for a categorical distribution should be a tuple of None, bool, int, float and str for persistent storage but contains [4, 8, 16, 32] which is of type list.\n",
      "  warnings.warn(message)\n"
     ]
    },
    {
     "name": "stdout",
     "output_type": "stream",
     "text": [
      "EarlyStopping counter: 1 out of 10\n",
      "EarlyStopping counter: 2 out of 10\n",
      "EarlyStopping counter: 3 out of 10\n",
      "EarlyStopping counter: 1 out of 10\n",
      "EarlyStopping counter: 1 out of 10\n",
      "EarlyStopping counter: 2 out of 10\n",
      "EarlyStopping counter: 1 out of 10\n",
      "EarlyStopping counter: 3 out of 10\n",
      "EarlyStopping counter: 2 out of 10\n",
      "EarlyStopping counter: 4 out of 10\n",
      "EarlyStopping counter: 3 out of 10\n",
      "EarlyStopping counter: 5 out of 10\n",
      "EarlyStopping counter: 4 out of 10\n",
      "EarlyStopping counter: 6 out of 10\n",
      "EarlyStopping counter: 5 out of 10\n",
      "EarlyStopping counter: 7 out of 10\n",
      "EarlyStopping counter: 8 out of 10\n",
      "EarlyStopping counter: 1 out of 10\n",
      "EarlyStopping counter: 9 out of 10\n",
      "EarlyStopping counter: 2 out of 10\n",
      "EarlyStopping counter: 10 out of 10\n",
      "Early stopping at epoch 21\n",
      "EarlyStopping counter: 3 out of 10\n",
      "Trial 56: Test Accuracy = 0.5298\n"
     ]
    },
    {
     "name": "stderr",
     "output_type": "stream",
     "text": [
      "[I 2025-06-05 09:07:41,431] Trial 56 finished with value: 0.5298224482128672 and parameters: {'embed_dim': 128, 'depths': [2, 2, 18, 2], 'num_heads': [3, 6, 12, 24], 'window_size': 7, 'mlp_ratio': 2.2849456599469207, 'drop_rate': 0.22611442911380614, 'attn_drop_rate': 0.37089499527497627, 'drop_path_rate': 0.3919897255149345, 'learning_rate': 8.278436632272342e-05, 'weight_decay': 3.1221344412268617e-06}. Best is trial 45 with value: 0.6049740885091787.\n",
      "c:\\Users\\Gabriel\\anaconda3\\envs\\cudaenv\\Lib\\site-packages\\optuna\\distributions.py:515: UserWarning: Choices for a categorical distribution should be a tuple of None, bool, int, float and str for persistent storage but contains [2, 2, 6, 2] which is of type list.\n",
      "  warnings.warn(message)\n",
      "c:\\Users\\Gabriel\\anaconda3\\envs\\cudaenv\\Lib\\site-packages\\optuna\\distributions.py:515: UserWarning: Choices for a categorical distribution should be a tuple of None, bool, int, float and str for persistent storage but contains [2, 2, 18, 2] which is of type list.\n",
      "  warnings.warn(message)\n",
      "c:\\Users\\Gabriel\\anaconda3\\envs\\cudaenv\\Lib\\site-packages\\optuna\\distributions.py:515: UserWarning: Choices for a categorical distribution should be a tuple of None, bool, int, float and str for persistent storage but contains [3, 6, 12, 24] which is of type list.\n",
      "  warnings.warn(message)\n",
      "c:\\Users\\Gabriel\\anaconda3\\envs\\cudaenv\\Lib\\site-packages\\optuna\\distributions.py:515: UserWarning: Choices for a categorical distribution should be a tuple of None, bool, int, float and str for persistent storage but contains [4, 8, 16, 32] which is of type list.\n",
      "  warnings.warn(message)\n"
     ]
    },
    {
     "name": "stdout",
     "output_type": "stream",
     "text": [
      "Trial 58 hyperparameters:\n",
      "embed_dim: 128\n",
      "depths: [2, 2, 6, 2]\n",
      "num_heads: [3, 6, 12, 24]\n",
      "window_size: 7\n",
      "mlp_ratio: 3.7638751377445523\n",
      "drop_rate: 0.2623378997545436\n",
      "attn_drop_rate: 0.3110528548706579\n",
      "drop_path_rate: 0.3759843882215567\n",
      "learning_rate: 2.0617515169691573e-05\n",
      "weight_decay: 1.8472425962858205e-06\n",
      "batch_size: 16\n",
      "optimizer: Adam\n",
      "label_smoothing: 0.2\n",
      "factor: 1\n",
      "EarlyStopping counter: 4 out of 10\n",
      "EarlyStopping counter: 5 out of 10\n",
      "EarlyStopping counter: 6 out of 10\n",
      "EarlyStopping counter: 7 out of 10\n",
      "EarlyStopping counter: 1 out of 10\n",
      "EarlyStopping counter: 8 out of 10\n",
      "EarlyStopping counter: 2 out of 10\n",
      "EarlyStopping counter: 9 out of 10\n",
      "EarlyStopping counter: 10 out of 10\n",
      "Early stopping at epoch 20\n"
     ]
    },
    {
     "name": "stderr",
     "output_type": "stream",
     "text": [
      "[I 2025-06-05 09:09:12,153] Trial 57 finished with value: 0.510624141421963 and parameters: {'embed_dim': 128, 'depths': [2, 2, 6, 2], 'num_heads': [3, 6, 12, 24], 'window_size': 7, 'mlp_ratio': 3.6362508122019337, 'drop_rate': 0.2396330544161765, 'attn_drop_rate': 0.3048998338901615, 'drop_path_rate': 0.38788193633302875, 'learning_rate': 2.0302414185357093e-05, 'weight_decay': 3.3248431926005424e-06}. Best is trial 45 with value: 0.6049740885091787.\n"
     ]
    },
    {
     "name": "stdout",
     "output_type": "stream",
     "text": [
      "Trial 57: Test Accuracy = 0.5106\n",
      "Trial 59 hyperparameters:\n",
      "embed_dim: 128\n",
      "depths: [2, 2, 6, 2]\n",
      "num_heads: [3, 6, 12, 24]\n",
      "window_size: 7\n",
      "mlp_ratio: 2.018559799540108\n",
      "drop_rate: 0.2632045269515647\n",
      "attn_drop_rate: 0.3333930132061122\n",
      "drop_path_rate: 0.4597530722816451\n",
      "learning_rate: 0.0009241247849657628\n",
      "weight_decay: 1.721225271557002e-06\n",
      "batch_size: 16\n",
      "optimizer: Adam\n",
      "label_smoothing: 0.2\n",
      "factor: 1\n"
     ]
    },
    {
     "name": "stderr",
     "output_type": "stream",
     "text": [
      "c:\\Users\\Gabriel\\anaconda3\\envs\\cudaenv\\Lib\\site-packages\\optuna\\distributions.py:515: UserWarning: Choices for a categorical distribution should be a tuple of None, bool, int, float and str for persistent storage but contains [2, 2, 6, 2] which is of type list.\n",
      "  warnings.warn(message)\n",
      "c:\\Users\\Gabriel\\anaconda3\\envs\\cudaenv\\Lib\\site-packages\\optuna\\distributions.py:515: UserWarning: Choices for a categorical distribution should be a tuple of None, bool, int, float and str for persistent storage but contains [2, 2, 18, 2] which is of type list.\n",
      "  warnings.warn(message)\n",
      "c:\\Users\\Gabriel\\anaconda3\\envs\\cudaenv\\Lib\\site-packages\\optuna\\distributions.py:515: UserWarning: Choices for a categorical distribution should be a tuple of None, bool, int, float and str for persistent storage but contains [3, 6, 12, 24] which is of type list.\n",
      "  warnings.warn(message)\n",
      "c:\\Users\\Gabriel\\anaconda3\\envs\\cudaenv\\Lib\\site-packages\\optuna\\distributions.py:515: UserWarning: Choices for a categorical distribution should be a tuple of None, bool, int, float and str for persistent storage but contains [4, 8, 16, 32] which is of type list.\n",
      "  warnings.warn(message)\n"
     ]
    },
    {
     "name": "stdout",
     "output_type": "stream",
     "text": [
      "EarlyStopping counter: 1 out of 10\n",
      "EarlyStopping counter: 2 out of 10\n",
      "EarlyStopping counter: 3 out of 10\n",
      "EarlyStopping counter: 4 out of 10\n",
      "EarlyStopping counter: 1 out of 10\n",
      "EarlyStopping counter: 5 out of 10\n",
      "EarlyStopping counter: 6 out of 10\n",
      "EarlyStopping counter: 1 out of 10\n",
      "EarlyStopping counter: 7 out of 10\n",
      "EarlyStopping counter: 2 out of 10\n",
      "EarlyStopping counter: 8 out of 10\n",
      "EarlyStopping counter: 3 out of 10\n",
      "EarlyStopping counter: 9 out of 10\n",
      "EarlyStopping counter: 4 out of 10\n",
      "EarlyStopping counter: 10 out of 10\n",
      "Early stopping at epoch 15\n",
      "Trial 58: Test Accuracy = 0.5015\n"
     ]
    },
    {
     "name": "stderr",
     "output_type": "stream",
     "text": [
      "[I 2025-06-05 09:11:13,770] Trial 58 finished with value: 0.5014738146245773 and parameters: {'embed_dim': 128, 'depths': [2, 2, 6, 2], 'num_heads': [3, 6, 12, 24], 'window_size': 7, 'mlp_ratio': 3.7638751377445523, 'drop_rate': 0.2623378997545436, 'attn_drop_rate': 0.3110528548706579, 'drop_path_rate': 0.3759843882215567, 'learning_rate': 2.0617515169691573e-05, 'weight_decay': 1.8472425962858205e-06}. Best is trial 45 with value: 0.6049740885091787.\n",
      "c:\\Users\\Gabriel\\anaconda3\\envs\\cudaenv\\Lib\\site-packages\\optuna\\distributions.py:515: UserWarning: Choices for a categorical distribution should be a tuple of None, bool, int, float and str for persistent storage but contains [2, 2, 6, 2] which is of type list.\n",
      "  warnings.warn(message)\n",
      "c:\\Users\\Gabriel\\anaconda3\\envs\\cudaenv\\Lib\\site-packages\\optuna\\distributions.py:515: UserWarning: Choices for a categorical distribution should be a tuple of None, bool, int, float and str for persistent storage but contains [2, 2, 18, 2] which is of type list.\n",
      "  warnings.warn(message)\n",
      "c:\\Users\\Gabriel\\anaconda3\\envs\\cudaenv\\Lib\\site-packages\\optuna\\distributions.py:515: UserWarning: Choices for a categorical distribution should be a tuple of None, bool, int, float and str for persistent storage but contains [3, 6, 12, 24] which is of type list.\n",
      "  warnings.warn(message)\n",
      "c:\\Users\\Gabriel\\anaconda3\\envs\\cudaenv\\Lib\\site-packages\\optuna\\distributions.py:515: UserWarning: Choices for a categorical distribution should be a tuple of None, bool, int, float and str for persistent storage but contains [4, 8, 16, 32] which is of type list.\n",
      "  warnings.warn(message)\n"
     ]
    },
    {
     "name": "stdout",
     "output_type": "stream",
     "text": [
      "Trial 60 hyperparameters:\n",
      "embed_dim: 128\n",
      "depths: [2, 2, 6, 2]\n",
      "num_heads: [3, 6, 12, 24]\n",
      "window_size: 7\n",
      "mlp_ratio: 3.6781908924670974\n",
      "drop_rate: 0.10761877998277175\n",
      "attn_drop_rate: 0.32816881904617556\n",
      "drop_path_rate: 0.429123112807864\n",
      "learning_rate: 0.00044024134436298774\n",
      "weight_decay: 1.145324527252109e-06\n",
      "batch_size: 16\n",
      "optimizer: Adam\n",
      "label_smoothing: 0.2\n",
      "factor: 1\n",
      "EarlyStopping counter: 5 out of 10\n",
      "EarlyStopping counter: 6 out of 10\n",
      "EarlyStopping counter: 7 out of 10\n",
      "EarlyStopping counter: 1 out of 10\n",
      "EarlyStopping counter: 8 out of 10\n",
      "EarlyStopping counter: 2 out of 10\n",
      "EarlyStopping counter: 9 out of 10\n",
      "EarlyStopping counter: 3 out of 10\n",
      "EarlyStopping counter: 4 out of 10\n",
      "EarlyStopping counter: 1 out of 10\n",
      "EarlyStopping counter: 5 out of 10\n",
      "EarlyStopping counter: 2 out of 10\n",
      "EarlyStopping counter: 6 out of 10\n",
      "EarlyStopping counter: 3 out of 10\n",
      "EarlyStopping counter: 7 out of 10\n",
      "EarlyStopping counter: 4 out of 10\n",
      "EarlyStopping counter: 8 out of 10\n",
      "EarlyStopping counter: 5 out of 10\n",
      "EarlyStopping counter: 9 out of 10\n",
      "EarlyStopping counter: 6 out of 10\n",
      "EarlyStopping counter: 10 out of 10\n",
      "Early stopping at epoch 11\n",
      "EarlyStopping counter: 7 out of 10\n"
     ]
    },
    {
     "name": "stderr",
     "output_type": "stream",
     "text": [
      "[I 2025-06-05 09:13:42,330] Trial 60 finished with value: 0.3333333333333333 and parameters: {'embed_dim': 128, 'depths': [2, 2, 6, 2], 'num_heads': [3, 6, 12, 24], 'window_size': 7, 'mlp_ratio': 3.6781908924670974, 'drop_rate': 0.10761877998277175, 'attn_drop_rate': 0.32816881904617556, 'drop_path_rate': 0.429123112807864, 'learning_rate': 0.00044024134436298774, 'weight_decay': 1.145324527252109e-06}. Best is trial 45 with value: 0.6049740885091787.\n"
     ]
    },
    {
     "name": "stdout",
     "output_type": "stream",
     "text": [
      "Trial 60: Test Accuracy = 0.3333\n",
      "Trial 61 hyperparameters:\n",
      "embed_dim: 128\n",
      "depths: [2, 2, 6, 2]\n",
      "num_heads: [3, 6, 12, 24]\n",
      "window_size: 7\n",
      "mlp_ratio: 2.5161330565816913\n",
      "drop_rate: 0.1940199639693771\n",
      "attn_drop_rate: 0.41442998126073216\n",
      "drop_path_rate: 0.30734563336772913\n",
      "learning_rate: 0.00013089697975846834\n",
      "weight_decay: 4.841064846255316e-06\n",
      "batch_size: 16\n",
      "optimizer: Adam\n",
      "label_smoothing: 0.2\n",
      "factor: 1\n"
     ]
    },
    {
     "name": "stderr",
     "output_type": "stream",
     "text": [
      "c:\\Users\\Gabriel\\anaconda3\\envs\\cudaenv\\Lib\\site-packages\\optuna\\distributions.py:515: UserWarning: Choices for a categorical distribution should be a tuple of None, bool, int, float and str for persistent storage but contains [2, 2, 6, 2] which is of type list.\n",
      "  warnings.warn(message)\n",
      "c:\\Users\\Gabriel\\anaconda3\\envs\\cudaenv\\Lib\\site-packages\\optuna\\distributions.py:515: UserWarning: Choices for a categorical distribution should be a tuple of None, bool, int, float and str for persistent storage but contains [2, 2, 18, 2] which is of type list.\n",
      "  warnings.warn(message)\n",
      "c:\\Users\\Gabriel\\anaconda3\\envs\\cudaenv\\Lib\\site-packages\\optuna\\distributions.py:515: UserWarning: Choices for a categorical distribution should be a tuple of None, bool, int, float and str for persistent storage but contains [3, 6, 12, 24] which is of type list.\n",
      "  warnings.warn(message)\n",
      "c:\\Users\\Gabriel\\anaconda3\\envs\\cudaenv\\Lib\\site-packages\\optuna\\distributions.py:515: UserWarning: Choices for a categorical distribution should be a tuple of None, bool, int, float and str for persistent storage but contains [4, 8, 16, 32] which is of type list.\n",
      "  warnings.warn(message)\n"
     ]
    },
    {
     "name": "stdout",
     "output_type": "stream",
     "text": [
      "EarlyStopping counter: 8 out of 10\n",
      "EarlyStopping counter: 9 out of 10\n",
      "EarlyStopping counter: 1 out of 10\n",
      "EarlyStopping counter: 10 out of 10\n",
      "Early stopping at epoch 24\n"
     ]
    },
    {
     "name": "stderr",
     "output_type": "stream",
     "text": [
      "[I 2025-06-05 09:14:15,905] Trial 59 finished with value: 0.3333333333333333 and parameters: {'embed_dim': 128, 'depths': [2, 2, 6, 2], 'num_heads': [3, 6, 12, 24], 'window_size': 7, 'mlp_ratio': 2.018559799540108, 'drop_rate': 0.2632045269515647, 'attn_drop_rate': 0.3333930132061122, 'drop_path_rate': 0.4597530722816451, 'learning_rate': 0.0009241247849657628, 'weight_decay': 1.721225271557002e-06}. Best is trial 45 with value: 0.6049740885091787.\n"
     ]
    },
    {
     "name": "stdout",
     "output_type": "stream",
     "text": [
      "Trial 59: Test Accuracy = 0.3333\n",
      "Trial 62 hyperparameters:\n",
      "embed_dim: 128\n",
      "depths: [2, 2, 18, 2]\n",
      "num_heads: [3, 6, 12, 24]\n",
      "window_size: 7\n",
      "mlp_ratio: 3.8061255847840005\n",
      "drop_rate: 0.19150069712724793\n",
      "attn_drop_rate: 0.18842941505304847\n",
      "drop_path_rate: 0.3108545219907541\n",
      "learning_rate: 1.588364218992719e-05\n",
      "weight_decay: 1.3312247173005566e-05\n",
      "batch_size: 16\n",
      "optimizer: Adam\n",
      "label_smoothing: 0.2\n",
      "factor: 1\n"
     ]
    },
    {
     "name": "stderr",
     "output_type": "stream",
     "text": [
      "c:\\Users\\Gabriel\\anaconda3\\envs\\cudaenv\\Lib\\site-packages\\optuna\\distributions.py:515: UserWarning: Choices for a categorical distribution should be a tuple of None, bool, int, float and str for persistent storage but contains [2, 2, 6, 2] which is of type list.\n",
      "  warnings.warn(message)\n",
      "c:\\Users\\Gabriel\\anaconda3\\envs\\cudaenv\\Lib\\site-packages\\optuna\\distributions.py:515: UserWarning: Choices for a categorical distribution should be a tuple of None, bool, int, float and str for persistent storage but contains [2, 2, 18, 2] which is of type list.\n",
      "  warnings.warn(message)\n",
      "c:\\Users\\Gabriel\\anaconda3\\envs\\cudaenv\\Lib\\site-packages\\optuna\\distributions.py:515: UserWarning: Choices for a categorical distribution should be a tuple of None, bool, int, float and str for persistent storage but contains [3, 6, 12, 24] which is of type list.\n",
      "  warnings.warn(message)\n",
      "c:\\Users\\Gabriel\\anaconda3\\envs\\cudaenv\\Lib\\site-packages\\optuna\\distributions.py:515: UserWarning: Choices for a categorical distribution should be a tuple of None, bool, int, float and str for persistent storage but contains [4, 8, 16, 32] which is of type list.\n",
      "  warnings.warn(message)\n"
     ]
    },
    {
     "name": "stdout",
     "output_type": "stream",
     "text": [
      "EarlyStopping counter: 1 out of 10\n",
      "EarlyStopping counter: 2 out of 10\n",
      "EarlyStopping counter: 3 out of 10\n",
      "EarlyStopping counter: 1 out of 10\n",
      "EarlyStopping counter: 4 out of 10\n",
      "EarlyStopping counter: 2 out of 10\n",
      "EarlyStopping counter: 5 out of 10\n",
      "EarlyStopping counter: 3 out of 10\n",
      "EarlyStopping counter: 1 out of 10\n",
      "EarlyStopping counter: 2 out of 10\n",
      "EarlyStopping counter: 4 out of 10\n",
      "EarlyStopping counter: 3 out of 10\n",
      "EarlyStopping counter: 4 out of 10\n",
      "EarlyStopping counter: 5 out of 10\n",
      "EarlyStopping counter: 5 out of 10\n",
      "EarlyStopping counter: 6 out of 10\n",
      "EarlyStopping counter: 6 out of 10\n",
      "EarlyStopping counter: 7 out of 10\n",
      "EarlyStopping counter: 7 out of 10\n",
      "EarlyStopping counter: 8 out of 10\n",
      "EarlyStopping counter: 1 out of 10\n",
      "EarlyStopping counter: 2 out of 10\n",
      "EarlyStopping counter: 1 out of 10\n",
      "EarlyStopping counter: 3 out of 10\n",
      "EarlyStopping counter: 2 out of 10\n",
      "EarlyStopping counter: 4 out of 10\n",
      "EarlyStopping counter: 5 out of 10\n",
      "EarlyStopping counter: 3 out of 10\n",
      "EarlyStopping counter: 6 out of 10\n",
      "EarlyStopping counter: 7 out of 10\n",
      "EarlyStopping counter: 4 out of 10\n",
      "EarlyStopping counter: 8 out of 10\n",
      "EarlyStopping counter: 9 out of 10\n",
      "EarlyStopping counter: 5 out of 10\n",
      "EarlyStopping counter: 10 out of 10\n",
      "Early stopping at epoch 28\n",
      "Trial 61: Test Accuracy = 0.5723\n"
     ]
    },
    {
     "name": "stderr",
     "output_type": "stream",
     "text": [
      "[I 2025-06-05 09:24:12,225] Trial 61 finished with value: 0.5723385156314976 and parameters: {'embed_dim': 128, 'depths': [2, 2, 6, 2], 'num_heads': [3, 6, 12, 24], 'window_size': 7, 'mlp_ratio': 2.5161330565816913, 'drop_rate': 0.1940199639693771, 'attn_drop_rate': 0.41442998126073216, 'drop_path_rate': 0.30734563336772913, 'learning_rate': 0.00013089697975846834, 'weight_decay': 4.841064846255316e-06}. Best is trial 45 with value: 0.6049740885091787.\n",
      "c:\\Users\\Gabriel\\anaconda3\\envs\\cudaenv\\Lib\\site-packages\\optuna\\distributions.py:515: UserWarning: Choices for a categorical distribution should be a tuple of None, bool, int, float and str for persistent storage but contains [2, 2, 6, 2] which is of type list.\n",
      "  warnings.warn(message)\n",
      "c:\\Users\\Gabriel\\anaconda3\\envs\\cudaenv\\Lib\\site-packages\\optuna\\distributions.py:515: UserWarning: Choices for a categorical distribution should be a tuple of None, bool, int, float and str for persistent storage but contains [2, 2, 18, 2] which is of type list.\n",
      "  warnings.warn(message)\n",
      "c:\\Users\\Gabriel\\anaconda3\\envs\\cudaenv\\Lib\\site-packages\\optuna\\distributions.py:515: UserWarning: Choices for a categorical distribution should be a tuple of None, bool, int, float and str for persistent storage but contains [3, 6, 12, 24] which is of type list.\n",
      "  warnings.warn(message)\n",
      "c:\\Users\\Gabriel\\anaconda3\\envs\\cudaenv\\Lib\\site-packages\\optuna\\distributions.py:515: UserWarning: Choices for a categorical distribution should be a tuple of None, bool, int, float and str for persistent storage but contains [4, 8, 16, 32] which is of type list.\n",
      "  warnings.warn(message)\n"
     ]
    },
    {
     "name": "stdout",
     "output_type": "stream",
     "text": [
      "Trial 63 hyperparameters:\n",
      "embed_dim: 128\n",
      "depths: [2, 2, 6, 2]\n",
      "num_heads: [3, 6, 12, 24]\n",
      "window_size: 7\n",
      "mlp_ratio: 2.357154594386297\n",
      "drop_rate: 0.19087472067575018\n",
      "attn_drop_rate: 0.41763099236944135\n",
      "drop_path_rate: 0.20764732410105322\n",
      "learning_rate: 2.6734763437195797e-05\n",
      "weight_decay: 4.543609699164788e-06\n",
      "batch_size: 16\n",
      "optimizer: Adam\n",
      "label_smoothing: 0.2\n",
      "factor: 1\n",
      "EarlyStopping counter: 6 out of 10\n",
      "EarlyStopping counter: 7 out of 10\n",
      "EarlyStopping counter: 8 out of 10\n",
      "EarlyStopping counter: 1 out of 10\n",
      "EarlyStopping counter: 9 out of 10\n",
      "EarlyStopping counter: 2 out of 10\n",
      "EarlyStopping counter: 3 out of 10\n",
      "EarlyStopping counter: 10 out of 10\n",
      "Early stopping at epoch 19\n"
     ]
    },
    {
     "name": "stderr",
     "output_type": "stream",
     "text": [
      "[I 2025-06-05 09:25:45,671] Trial 62 finished with value: 0.5677705219867675 and parameters: {'embed_dim': 128, 'depths': [2, 2, 18, 2], 'num_heads': [3, 6, 12, 24], 'window_size': 7, 'mlp_ratio': 3.8061255847840005, 'drop_rate': 0.19150069712724793, 'attn_drop_rate': 0.18842941505304847, 'drop_path_rate': 0.3108545219907541, 'learning_rate': 1.588364218992719e-05, 'weight_decay': 1.3312247173005566e-05}. Best is trial 45 with value: 0.6049740885091787.\n"
     ]
    },
    {
     "name": "stdout",
     "output_type": "stream",
     "text": [
      "Trial 62: Test Accuracy = 0.5678\n",
      "Trial 64 hyperparameters:\n",
      "embed_dim: 128\n",
      "depths: [2, 2, 18, 2]\n",
      "num_heads: [3, 6, 12, 24]\n",
      "window_size: 7\n",
      "mlp_ratio: 2.5107592228544107\n",
      "drop_rate: 0.19440121268561425\n",
      "attn_drop_rate: 0.41005328518650963\n",
      "drop_path_rate: 0.31067172537383086\n",
      "learning_rate: 1.1288887777082118e-05\n",
      "weight_decay: 9.206323675137092e-06\n",
      "batch_size: 16\n",
      "optimizer: Adam\n",
      "label_smoothing: 0.2\n",
      "factor: 1\n"
     ]
    },
    {
     "name": "stderr",
     "output_type": "stream",
     "text": [
      "c:\\Users\\Gabriel\\anaconda3\\envs\\cudaenv\\Lib\\site-packages\\optuna\\distributions.py:515: UserWarning: Choices for a categorical distribution should be a tuple of None, bool, int, float and str for persistent storage but contains [2, 2, 6, 2] which is of type list.\n",
      "  warnings.warn(message)\n",
      "c:\\Users\\Gabriel\\anaconda3\\envs\\cudaenv\\Lib\\site-packages\\optuna\\distributions.py:515: UserWarning: Choices for a categorical distribution should be a tuple of None, bool, int, float and str for persistent storage but contains [2, 2, 18, 2] which is of type list.\n",
      "  warnings.warn(message)\n",
      "c:\\Users\\Gabriel\\anaconda3\\envs\\cudaenv\\Lib\\site-packages\\optuna\\distributions.py:515: UserWarning: Choices for a categorical distribution should be a tuple of None, bool, int, float and str for persistent storage but contains [3, 6, 12, 24] which is of type list.\n",
      "  warnings.warn(message)\n",
      "c:\\Users\\Gabriel\\anaconda3\\envs\\cudaenv\\Lib\\site-packages\\optuna\\distributions.py:515: UserWarning: Choices for a categorical distribution should be a tuple of None, bool, int, float and str for persistent storage but contains [4, 8, 16, 32] which is of type list.\n",
      "  warnings.warn(message)\n"
     ]
    },
    {
     "name": "stdout",
     "output_type": "stream",
     "text": [
      "EarlyStopping counter: 1 out of 10\n",
      "EarlyStopping counter: 2 out of 10\n",
      "EarlyStopping counter: 3 out of 10\n",
      "EarlyStopping counter: 4 out of 10\n",
      "EarlyStopping counter: 1 out of 10\n",
      "EarlyStopping counter: 2 out of 10\n",
      "EarlyStopping counter: 1 out of 10\n",
      "EarlyStopping counter: 2 out of 10\n",
      "EarlyStopping counter: 3 out of 10\n",
      "EarlyStopping counter: 3 out of 10\n",
      "EarlyStopping counter: 4 out of 10\n",
      "EarlyStopping counter: 4 out of 10\n",
      "EarlyStopping counter: 5 out of 10\n",
      "EarlyStopping counter: 5 out of 10\n",
      "EarlyStopping counter: 6 out of 10\n",
      "EarlyStopping counter: 6 out of 10\n",
      "EarlyStopping counter: 7 out of 10\n",
      "EarlyStopping counter: 8 out of 10\n",
      "EarlyStopping counter: 7 out of 10\n",
      "EarlyStopping counter: 9 out of 10\n",
      "EarlyStopping counter: 10 out of 10\n",
      "Early stopping at epoch 21\n",
      "Trial 63: Test Accuracy = 0.4640\n"
     ]
    },
    {
     "name": "stderr",
     "output_type": "stream",
     "text": [
      "[I 2025-06-05 09:28:44,830] Trial 63 finished with value: 0.4640213142445804 and parameters: {'embed_dim': 128, 'depths': [2, 2, 6, 2], 'num_heads': [3, 6, 12, 24], 'window_size': 7, 'mlp_ratio': 2.357154594386297, 'drop_rate': 0.19087472067575018, 'attn_drop_rate': 0.41763099236944135, 'drop_path_rate': 0.20764732410105322, 'learning_rate': 2.6734763437195797e-05, 'weight_decay': 4.543609699164788e-06}. Best is trial 45 with value: 0.6049740885091787.\n",
      "c:\\Users\\Gabriel\\anaconda3\\envs\\cudaenv\\Lib\\site-packages\\optuna\\distributions.py:515: UserWarning: Choices for a categorical distribution should be a tuple of None, bool, int, float and str for persistent storage but contains [2, 2, 6, 2] which is of type list.\n",
      "  warnings.warn(message)\n",
      "c:\\Users\\Gabriel\\anaconda3\\envs\\cudaenv\\Lib\\site-packages\\optuna\\distributions.py:515: UserWarning: Choices for a categorical distribution should be a tuple of None, bool, int, float and str for persistent storage but contains [2, 2, 18, 2] which is of type list.\n",
      "  warnings.warn(message)\n",
      "c:\\Users\\Gabriel\\anaconda3\\envs\\cudaenv\\Lib\\site-packages\\optuna\\distributions.py:515: UserWarning: Choices for a categorical distribution should be a tuple of None, bool, int, float and str for persistent storage but contains [3, 6, 12, 24] which is of type list.\n",
      "  warnings.warn(message)\n",
      "c:\\Users\\Gabriel\\anaconda3\\envs\\cudaenv\\Lib\\site-packages\\optuna\\distributions.py:515: UserWarning: Choices for a categorical distribution should be a tuple of None, bool, int, float and str for persistent storage but contains [4, 8, 16, 32] which is of type list.\n",
      "  warnings.warn(message)\n"
     ]
    },
    {
     "name": "stdout",
     "output_type": "stream",
     "text": [
      "Trial 65 hyperparameters:\n",
      "embed_dim: 128\n",
      "depths: [2, 2, 18, 2]\n",
      "num_heads: [3, 6, 12, 24]\n",
      "window_size: 7\n",
      "mlp_ratio: 2.804599549484546\n",
      "drop_rate: 0.14667337944546427\n",
      "attn_drop_rate: 0.40017364441329795\n",
      "drop_path_rate: 0.31243524742250006\n",
      "learning_rate: 1.1778174139031526e-05\n",
      "weight_decay: 2.191406079637732e-06\n",
      "batch_size: 16\n",
      "optimizer: Adam\n",
      "label_smoothing: 0.2\n",
      "factor: 1\n",
      "EarlyStopping counter: 1 out of 10\n",
      "EarlyStopping counter: 2 out of 10\n",
      "EarlyStopping counter: 3 out of 10\n",
      "EarlyStopping counter: 1 out of 10\n",
      "EarlyStopping counter: 4 out of 10\n",
      "EarlyStopping counter: 2 out of 10\n",
      "EarlyStopping counter: 5 out of 10\n",
      "EarlyStopping counter: 3 out of 10\n",
      "EarlyStopping counter: 6 out of 10\n",
      "EarlyStopping counter: 4 out of 10\n",
      "EarlyStopping counter: 7 out of 10\n",
      "EarlyStopping counter: 5 out of 10\n",
      "EarlyStopping counter: 8 out of 10\n",
      "EarlyStopping counter: 1 out of 10\n",
      "EarlyStopping counter: 9 out of 10\n",
      "EarlyStopping counter: 2 out of 10\n",
      "EarlyStopping counter: 10 out of 10\n",
      "Early stopping at epoch 19\n",
      "Trial 64: Test Accuracy = 0.4831\n"
     ]
    },
    {
     "name": "stderr",
     "output_type": "stream",
     "text": [
      "[I 2025-06-05 09:39:40,758] Trial 64 finished with value: 0.4831221123815915 and parameters: {'embed_dim': 128, 'depths': [2, 2, 18, 2], 'num_heads': [3, 6, 12, 24], 'window_size': 7, 'mlp_ratio': 2.5107592228544107, 'drop_rate': 0.19440121268561425, 'attn_drop_rate': 0.41005328518650963, 'drop_path_rate': 0.31067172537383086, 'learning_rate': 1.1288887777082118e-05, 'weight_decay': 9.206323675137092e-06}. Best is trial 45 with value: 0.6049740885091787.\n",
      "c:\\Users\\Gabriel\\anaconda3\\envs\\cudaenv\\Lib\\site-packages\\optuna\\distributions.py:515: UserWarning: Choices for a categorical distribution should be a tuple of None, bool, int, float and str for persistent storage but contains [2, 2, 6, 2] which is of type list.\n",
      "  warnings.warn(message)\n",
      "c:\\Users\\Gabriel\\anaconda3\\envs\\cudaenv\\Lib\\site-packages\\optuna\\distributions.py:515: UserWarning: Choices for a categorical distribution should be a tuple of None, bool, int, float and str for persistent storage but contains [2, 2, 18, 2] which is of type list.\n",
      "  warnings.warn(message)\n",
      "c:\\Users\\Gabriel\\anaconda3\\envs\\cudaenv\\Lib\\site-packages\\optuna\\distributions.py:515: UserWarning: Choices for a categorical distribution should be a tuple of None, bool, int, float and str for persistent storage but contains [3, 6, 12, 24] which is of type list.\n",
      "  warnings.warn(message)\n",
      "c:\\Users\\Gabriel\\anaconda3\\envs\\cudaenv\\Lib\\site-packages\\optuna\\distributions.py:515: UserWarning: Choices for a categorical distribution should be a tuple of None, bool, int, float and str for persistent storage but contains [4, 8, 16, 32] which is of type list.\n",
      "  warnings.warn(message)\n"
     ]
    },
    {
     "name": "stdout",
     "output_type": "stream",
     "text": [
      "Trial 66 hyperparameters:\n",
      "embed_dim: 128\n",
      "depths: [2, 2, 18, 2]\n",
      "num_heads: [3, 6, 12, 24]\n",
      "window_size: 7\n",
      "mlp_ratio: 2.767715057682032\n",
      "drop_rate: 0.16750892731124414\n",
      "attn_drop_rate: 0.19111883037596117\n",
      "drop_path_rate: 0.29275081461633656\n",
      "learning_rate: 0.00013427614209729702\n",
      "weight_decay: 2.252138773402826e-06\n",
      "batch_size: 16\n",
      "optimizer: Adam\n",
      "label_smoothing: 0.2\n",
      "factor: 1\n",
      "EarlyStopping counter: 3 out of 10\n",
      "EarlyStopping counter: 4 out of 10\n",
      "EarlyStopping counter: 5 out of 10\n",
      "EarlyStopping counter: 1 out of 10\n",
      "EarlyStopping counter: 6 out of 10\n",
      "EarlyStopping counter: 2 out of 10\n",
      "EarlyStopping counter: 1 out of 10\n",
      "EarlyStopping counter: 1 out of 10\n",
      "EarlyStopping counter: 2 out of 10\n",
      "EarlyStopping counter: 2 out of 10\n",
      "EarlyStopping counter: 3 out of 10\n",
      "EarlyStopping counter: 3 out of 10\n",
      "EarlyStopping counter: 4 out of 10\n",
      "EarlyStopping counter: 5 out of 10\n",
      "EarlyStopping counter: 1 out of 10\n",
      "EarlyStopping counter: 6 out of 10\n",
      "EarlyStopping counter: 2 out of 10\n",
      "EarlyStopping counter: 7 out of 10\n",
      "EarlyStopping counter: 3 out of 10\n",
      "EarlyStopping counter: 8 out of 10\n",
      "EarlyStopping counter: 4 out of 10\n",
      "EarlyStopping counter: 9 out of 10\n",
      "EarlyStopping counter: 5 out of 10\n",
      "EarlyStopping counter: 10 out of 10\n",
      "Early stopping at epoch 24\n",
      "Trial 65: Test Accuracy = 0.5238\n"
     ]
    },
    {
     "name": "stderr",
     "output_type": "stream",
     "text": [
      "[I 2025-06-05 09:59:48,750] Trial 65 finished with value: 0.5237591306816715 and parameters: {'embed_dim': 128, 'depths': [2, 2, 18, 2], 'num_heads': [3, 6, 12, 24], 'window_size': 7, 'mlp_ratio': 2.804599549484546, 'drop_rate': 0.14667337944546427, 'attn_drop_rate': 0.40017364441329795, 'drop_path_rate': 0.31243524742250006, 'learning_rate': 1.1778174139031526e-05, 'weight_decay': 2.191406079637732e-06}. Best is trial 45 with value: 0.6049740885091787.\n",
      "c:\\Users\\Gabriel\\anaconda3\\envs\\cudaenv\\Lib\\site-packages\\optuna\\distributions.py:515: UserWarning: Choices for a categorical distribution should be a tuple of None, bool, int, float and str for persistent storage but contains [2, 2, 6, 2] which is of type list.\n",
      "  warnings.warn(message)\n",
      "c:\\Users\\Gabriel\\anaconda3\\envs\\cudaenv\\Lib\\site-packages\\optuna\\distributions.py:515: UserWarning: Choices for a categorical distribution should be a tuple of None, bool, int, float and str for persistent storage but contains [2, 2, 18, 2] which is of type list.\n",
      "  warnings.warn(message)\n",
      "c:\\Users\\Gabriel\\anaconda3\\envs\\cudaenv\\Lib\\site-packages\\optuna\\distributions.py:515: UserWarning: Choices for a categorical distribution should be a tuple of None, bool, int, float and str for persistent storage but contains [3, 6, 12, 24] which is of type list.\n",
      "  warnings.warn(message)\n",
      "c:\\Users\\Gabriel\\anaconda3\\envs\\cudaenv\\Lib\\site-packages\\optuna\\distributions.py:515: UserWarning: Choices for a categorical distribution should be a tuple of None, bool, int, float and str for persistent storage but contains [4, 8, 16, 32] which is of type list.\n",
      "  warnings.warn(message)\n"
     ]
    },
    {
     "name": "stdout",
     "output_type": "stream",
     "text": [
      "Trial 67 hyperparameters:\n",
      "embed_dim: 128\n",
      "depths: [2, 2, 18, 2]\n",
      "num_heads: [3, 6, 12, 24]\n",
      "window_size: 7\n",
      "mlp_ratio: 2.7129478967433194\n",
      "drop_rate: 0.22486203711616337\n",
      "attn_drop_rate: 0.46591989793471994\n",
      "drop_path_rate: 0.2785255364711083\n",
      "learning_rate: 0.0001320425322144924\n",
      "weight_decay: 2.519856838617361e-06\n",
      "batch_size: 16\n",
      "optimizer: Adam\n",
      "label_smoothing: 0.2\n",
      "factor: 1\n",
      "EarlyStopping counter: 6 out of 10\n",
      "EarlyStopping counter: 7 out of 10\n",
      "EarlyStopping counter: 1 out of 10\n",
      "EarlyStopping counter: 8 out of 10\n",
      "EarlyStopping counter: 2 out of 10\n",
      "EarlyStopping counter: 9 out of 10\n",
      "EarlyStopping counter: 3 out of 10\n",
      "EarlyStopping counter: 10 out of 10\n",
      "Early stopping at epoch 18\n"
     ]
    },
    {
     "name": "stderr",
     "output_type": "stream",
     "text": [
      "[I 2025-06-05 10:02:12,040] Trial 66 finished with value: 0.37786897704818356 and parameters: {'embed_dim': 128, 'depths': [2, 2, 18, 2], 'num_heads': [3, 6, 12, 24], 'window_size': 7, 'mlp_ratio': 2.767715057682032, 'drop_rate': 0.16750892731124414, 'attn_drop_rate': 0.19111883037596117, 'drop_path_rate': 0.29275081461633656, 'learning_rate': 0.00013427614209729702, 'weight_decay': 2.252138773402826e-06}. Best is trial 45 with value: 0.6049740885091787.\n"
     ]
    },
    {
     "name": "stdout",
     "output_type": "stream",
     "text": [
      "Trial 66: Test Accuracy = 0.3779\n",
      "Trial 68 hyperparameters:\n",
      "embed_dim: 128\n",
      "depths: [2, 2, 18, 2]\n",
      "num_heads: [3, 6, 12, 24]\n",
      "window_size: 7\n",
      "mlp_ratio: 2.8946288781294554\n",
      "drop_rate: 0.22600533727745625\n",
      "attn_drop_rate: 0.47773251900467695\n",
      "drop_path_rate: 0.271143983404862\n",
      "learning_rate: 1.6713236477693605e-05\n",
      "weight_decay: 2.76956500764302e-06\n",
      "batch_size: 16\n",
      "optimizer: Adam\n",
      "label_smoothing: 0.2\n",
      "factor: 1\n"
     ]
    },
    {
     "name": "stderr",
     "output_type": "stream",
     "text": [
      "c:\\Users\\Gabriel\\anaconda3\\envs\\cudaenv\\Lib\\site-packages\\optuna\\distributions.py:515: UserWarning: Choices for a categorical distribution should be a tuple of None, bool, int, float and str for persistent storage but contains [2, 2, 6, 2] which is of type list.\n",
      "  warnings.warn(message)\n",
      "c:\\Users\\Gabriel\\anaconda3\\envs\\cudaenv\\Lib\\site-packages\\optuna\\distributions.py:515: UserWarning: Choices for a categorical distribution should be a tuple of None, bool, int, float and str for persistent storage but contains [2, 2, 18, 2] which is of type list.\n",
      "  warnings.warn(message)\n",
      "c:\\Users\\Gabriel\\anaconda3\\envs\\cudaenv\\Lib\\site-packages\\optuna\\distributions.py:515: UserWarning: Choices for a categorical distribution should be a tuple of None, bool, int, float and str for persistent storage but contains [3, 6, 12, 24] which is of type list.\n",
      "  warnings.warn(message)\n",
      "c:\\Users\\Gabriel\\anaconda3\\envs\\cudaenv\\Lib\\site-packages\\optuna\\distributions.py:515: UserWarning: Choices for a categorical distribution should be a tuple of None, bool, int, float and str for persistent storage but contains [4, 8, 16, 32] which is of type list.\n",
      "  warnings.warn(message)\n"
     ]
    },
    {
     "name": "stdout",
     "output_type": "stream",
     "text": [
      "EarlyStopping counter: 4 out of 10\n",
      "EarlyStopping counter: 5 out of 10\n",
      "EarlyStopping counter: 1 out of 10\n",
      "EarlyStopping counter: 6 out of 10\n",
      "EarlyStopping counter: 7 out of 10\n",
      "EarlyStopping counter: 1 out of 10\n",
      "EarlyStopping counter: 8 out of 10\n",
      "EarlyStopping counter: 9 out of 10\n",
      "EarlyStopping counter: 1 out of 10\n",
      "EarlyStopping counter: 1 out of 10\n",
      "EarlyStopping counter: 2 out of 10\n",
      "EarlyStopping counter: 1 out of 10\n",
      "EarlyStopping counter: 3 out of 10\n",
      "EarlyStopping counter: 4 out of 10\n",
      "EarlyStopping counter: 1 out of 10\n",
      "EarlyStopping counter: 5 out of 10\n",
      "EarlyStopping counter: 6 out of 10\n",
      "EarlyStopping counter: 2 out of 10\n",
      "EarlyStopping counter: 7 out of 10\n",
      "EarlyStopping counter: 3 out of 10\n",
      "EarlyStopping counter: 8 out of 10\n",
      "EarlyStopping counter: 4 out of 10\n",
      "EarlyStopping counter: 9 out of 10\n",
      "EarlyStopping counter: 5 out of 10\n",
      "EarlyStopping counter: 10 out of 10\n",
      "Early stopping at epoch 20\n",
      "Trial 67: Test Accuracy = 0.3625\n"
     ]
    },
    {
     "name": "stderr",
     "output_type": "stream",
     "text": [
      "[I 2025-06-05 10:30:59,485] Trial 67 finished with value: 0.36254749962000304 and parameters: {'embed_dim': 128, 'depths': [2, 2, 18, 2], 'num_heads': [3, 6, 12, 24], 'window_size': 7, 'mlp_ratio': 2.7129478967433194, 'drop_rate': 0.22486203711616337, 'attn_drop_rate': 0.46591989793471994, 'drop_path_rate': 0.2785255364711083, 'learning_rate': 0.0001320425322144924, 'weight_decay': 2.519856838617361e-06}. Best is trial 45 with value: 0.6049740885091787.\n",
      "c:\\Users\\Gabriel\\anaconda3\\envs\\cudaenv\\Lib\\site-packages\\optuna\\distributions.py:515: UserWarning: Choices for a categorical distribution should be a tuple of None, bool, int, float and str for persistent storage but contains [2, 2, 6, 2] which is of type list.\n",
      "  warnings.warn(message)\n",
      "c:\\Users\\Gabriel\\anaconda3\\envs\\cudaenv\\Lib\\site-packages\\optuna\\distributions.py:515: UserWarning: Choices for a categorical distribution should be a tuple of None, bool, int, float and str for persistent storage but contains [2, 2, 18, 2] which is of type list.\n",
      "  warnings.warn(message)\n",
      "c:\\Users\\Gabriel\\anaconda3\\envs\\cudaenv\\Lib\\site-packages\\optuna\\distributions.py:515: UserWarning: Choices for a categorical distribution should be a tuple of None, bool, int, float and str for persistent storage but contains [3, 6, 12, 24] which is of type list.\n",
      "  warnings.warn(message)\n",
      "c:\\Users\\Gabriel\\anaconda3\\envs\\cudaenv\\Lib\\site-packages\\optuna\\distributions.py:515: UserWarning: Choices for a categorical distribution should be a tuple of None, bool, int, float and str for persistent storage but contains [4, 8, 16, 32] which is of type list.\n",
      "  warnings.warn(message)\n"
     ]
    },
    {
     "name": "stdout",
     "output_type": "stream",
     "text": [
      "Trial 69 hyperparameters:\n",
      "embed_dim: 128\n",
      "depths: [2, 2, 18, 2]\n",
      "num_heads: [3, 6, 12, 24]\n",
      "window_size: 7\n",
      "mlp_ratio: 2.1135375145149617\n",
      "drop_rate: 0.17155669645077443\n",
      "attn_drop_rate: 0.36109344111424213\n",
      "drop_path_rate: 0.23833899420445712\n",
      "learning_rate: 1.599286757611313e-05\n",
      "weight_decay: 4.3840207383831565e-06\n",
      "batch_size: 16\n",
      "optimizer: Adam\n",
      "label_smoothing: 0.2\n",
      "factor: 1\n",
      "EarlyStopping counter: 6 out of 10\n",
      "EarlyStopping counter: 7 out of 10\n",
      "EarlyStopping counter: 8 out of 10\n",
      "EarlyStopping counter: 1 out of 10\n",
      "EarlyStopping counter: 9 out of 10\n",
      "EarlyStopping counter: 2 out of 10\n",
      "EarlyStopping counter: 10 out of 10\n",
      "Early stopping at epoch 18\n",
      "Trial 68: Test Accuracy = 0.4783\n"
     ]
    },
    {
     "name": "stderr",
     "output_type": "stream",
     "text": [
      "[I 2025-06-05 10:35:52,835] Trial 68 finished with value: 0.478282241666595 and parameters: {'embed_dim': 128, 'depths': [2, 2, 18, 2], 'num_heads': [3, 6, 12, 24], 'window_size': 7, 'mlp_ratio': 2.8946288781294554, 'drop_rate': 0.22600533727745625, 'attn_drop_rate': 0.47773251900467695, 'drop_path_rate': 0.271143983404862, 'learning_rate': 1.6713236477693605e-05, 'weight_decay': 2.76956500764302e-06}. Best is trial 45 with value: 0.6049740885091787.\n",
      "c:\\Users\\Gabriel\\anaconda3\\envs\\cudaenv\\Lib\\site-packages\\optuna\\distributions.py:515: UserWarning: Choices for a categorical distribution should be a tuple of None, bool, int, float and str for persistent storage but contains [2, 2, 6, 2] which is of type list.\n",
      "  warnings.warn(message)\n",
      "c:\\Users\\Gabriel\\anaconda3\\envs\\cudaenv\\Lib\\site-packages\\optuna\\distributions.py:515: UserWarning: Choices for a categorical distribution should be a tuple of None, bool, int, float and str for persistent storage but contains [2, 2, 18, 2] which is of type list.\n",
      "  warnings.warn(message)\n",
      "c:\\Users\\Gabriel\\anaconda3\\envs\\cudaenv\\Lib\\site-packages\\optuna\\distributions.py:515: UserWarning: Choices for a categorical distribution should be a tuple of None, bool, int, float and str for persistent storage but contains [3, 6, 12, 24] which is of type list.\n",
      "  warnings.warn(message)\n",
      "c:\\Users\\Gabriel\\anaconda3\\envs\\cudaenv\\Lib\\site-packages\\optuna\\distributions.py:515: UserWarning: Choices for a categorical distribution should be a tuple of None, bool, int, float and str for persistent storage but contains [4, 8, 16, 32] which is of type list.\n",
      "  warnings.warn(message)\n"
     ]
    },
    {
     "name": "stdout",
     "output_type": "stream",
     "text": [
      "Trial 70 hyperparameters:\n",
      "embed_dim: 128\n",
      "depths: [2, 2, 6, 2]\n",
      "num_heads: [3, 6, 12, 24]\n",
      "window_size: 7\n",
      "mlp_ratio: 3.953680213094207\n",
      "drop_rate: 0.139285154537097\n",
      "attn_drop_rate: 0.43953298645170846\n",
      "drop_path_rate: 0.3606086586670359\n",
      "learning_rate: 2.4976206899281717e-05\n",
      "weight_decay: 5.119515952654927e-06\n",
      "batch_size: 16\n",
      "optimizer: Adam\n",
      "label_smoothing: 0.2\n",
      "factor: 1\n",
      "EarlyStopping counter: 3 out of 10\n",
      "EarlyStopping counter: 4 out of 10\n",
      "EarlyStopping counter: 1 out of 10\n",
      "EarlyStopping counter: 5 out of 10\n",
      "EarlyStopping counter: 2 out of 10\n",
      "EarlyStopping counter: 6 out of 10\n",
      "EarlyStopping counter: 3 out of 10\n",
      "EarlyStopping counter: 7 out of 10\n",
      "EarlyStopping counter: 4 out of 10\n",
      "EarlyStopping counter: 8 out of 10\n",
      "EarlyStopping counter: 5 out of 10\n",
      "EarlyStopping counter: 9 out of 10\n",
      "EarlyStopping counter: 6 out of 10\n",
      "EarlyStopping counter: 10 out of 10\n",
      "Early stopping at epoch 11\n",
      "Trial 69: Test Accuracy = 0.4381\n"
     ]
    },
    {
     "name": "stderr",
     "output_type": "stream",
     "text": [
      "[I 2025-06-05 10:38:37,760] Trial 69 finished with value: 0.4381367816981993 and parameters: {'embed_dim': 128, 'depths': [2, 2, 18, 2], 'num_heads': [3, 6, 12, 24], 'window_size': 7, 'mlp_ratio': 2.1135375145149617, 'drop_rate': 0.17155669645077443, 'attn_drop_rate': 0.36109344111424213, 'drop_path_rate': 0.23833899420445712, 'learning_rate': 1.599286757611313e-05, 'weight_decay': 4.3840207383831565e-06}. Best is trial 45 with value: 0.6049740885091787.\n",
      "c:\\Users\\Gabriel\\anaconda3\\envs\\cudaenv\\Lib\\site-packages\\optuna\\distributions.py:515: UserWarning: Choices for a categorical distribution should be a tuple of None, bool, int, float and str for persistent storage but contains [2, 2, 6, 2] which is of type list.\n",
      "  warnings.warn(message)\n",
      "c:\\Users\\Gabriel\\anaconda3\\envs\\cudaenv\\Lib\\site-packages\\optuna\\distributions.py:515: UserWarning: Choices for a categorical distribution should be a tuple of None, bool, int, float and str for persistent storage but contains [2, 2, 18, 2] which is of type list.\n",
      "  warnings.warn(message)\n",
      "c:\\Users\\Gabriel\\anaconda3\\envs\\cudaenv\\Lib\\site-packages\\optuna\\distributions.py:515: UserWarning: Choices for a categorical distribution should be a tuple of None, bool, int, float and str for persistent storage but contains [3, 6, 12, 24] which is of type list.\n",
      "  warnings.warn(message)\n",
      "c:\\Users\\Gabriel\\anaconda3\\envs\\cudaenv\\Lib\\site-packages\\optuna\\distributions.py:515: UserWarning: Choices for a categorical distribution should be a tuple of None, bool, int, float and str for persistent storage but contains [4, 8, 16, 32] which is of type list.\n",
      "  warnings.warn(message)\n"
     ]
    },
    {
     "name": "stdout",
     "output_type": "stream",
     "text": [
      "Trial 71 hyperparameters:\n",
      "embed_dim: 128\n",
      "depths: [2, 2, 6, 2]\n",
      "num_heads: [3, 6, 12, 24]\n",
      "window_size: 7\n",
      "mlp_ratio: 2.235135781568358\n",
      "drop_rate: 0.13973648698270064\n",
      "attn_drop_rate: 0.4366762032806356\n",
      "drop_path_rate: 0.3498304335587503\n",
      "learning_rate: 2.9672231727162408e-05\n",
      "weight_decay: 1.3753216013065784e-06\n",
      "batch_size: 16\n",
      "optimizer: Adam\n",
      "label_smoothing: 0.2\n",
      "factor: 1\n",
      "EarlyStopping counter: 1 out of 10\n",
      "EarlyStopping counter: 2 out of 10\n",
      "EarlyStopping counter: 1 out of 10\n",
      "EarlyStopping counter: 3 out of 10\n",
      "EarlyStopping counter: 4 out of 10\n",
      "EarlyStopping counter: 1 out of 10\n",
      "EarlyStopping counter: 5 out of 10\n",
      "EarlyStopping counter: 2 out of 10\n",
      "EarlyStopping counter: 6 out of 10\n",
      "EarlyStopping counter: 7 out of 10\n",
      "EarlyStopping counter: 1 out of 10\n",
      "EarlyStopping counter: 8 out of 10\n",
      "EarlyStopping counter: 9 out of 10\n",
      "EarlyStopping counter: 1 out of 10\n",
      "EarlyStopping counter: 10 out of 10\n",
      "Early stopping at epoch 17\n",
      "EarlyStopping counter: 2 out of 10\n",
      "Trial 70: Test Accuracy = 0.5300\n"
     ]
    },
    {
     "name": "stderr",
     "output_type": "stream",
     "text": [
      "[I 2025-06-05 10:40:40,699] Trial 70 finished with value: 0.5300289371269935 and parameters: {'embed_dim': 128, 'depths': [2, 2, 6, 2], 'num_heads': [3, 6, 12, 24], 'window_size': 7, 'mlp_ratio': 3.953680213094207, 'drop_rate': 0.139285154537097, 'attn_drop_rate': 0.43953298645170846, 'drop_path_rate': 0.3606086586670359, 'learning_rate': 2.4976206899281717e-05, 'weight_decay': 5.119515952654927e-06}. Best is trial 45 with value: 0.6049740885091787.\n",
      "c:\\Users\\Gabriel\\anaconda3\\envs\\cudaenv\\Lib\\site-packages\\optuna\\distributions.py:515: UserWarning: Choices for a categorical distribution should be a tuple of None, bool, int, float and str for persistent storage but contains [2, 2, 6, 2] which is of type list.\n",
      "  warnings.warn(message)\n",
      "c:\\Users\\Gabriel\\anaconda3\\envs\\cudaenv\\Lib\\site-packages\\optuna\\distributions.py:515: UserWarning: Choices for a categorical distribution should be a tuple of None, bool, int, float and str for persistent storage but contains [2, 2, 18, 2] which is of type list.\n",
      "  warnings.warn(message)\n",
      "c:\\Users\\Gabriel\\anaconda3\\envs\\cudaenv\\Lib\\site-packages\\optuna\\distributions.py:515: UserWarning: Choices for a categorical distribution should be a tuple of None, bool, int, float and str for persistent storage but contains [3, 6, 12, 24] which is of type list.\n",
      "  warnings.warn(message)\n",
      "c:\\Users\\Gabriel\\anaconda3\\envs\\cudaenv\\Lib\\site-packages\\optuna\\distributions.py:515: UserWarning: Choices for a categorical distribution should be a tuple of None, bool, int, float and str for persistent storage but contains [4, 8, 16, 32] which is of type list.\n",
      "  warnings.warn(message)\n"
     ]
    },
    {
     "name": "stdout",
     "output_type": "stream",
     "text": [
      "Trial 72 hyperparameters:\n",
      "embed_dim: 128\n",
      "depths: [2, 2, 6, 2]\n",
      "num_heads: [3, 6, 12, 24]\n",
      "window_size: 7\n",
      "mlp_ratio: 3.9553000877205204\n",
      "drop_rate: 0.21276689046910188\n",
      "attn_drop_rate: 0.2625338651811931\n",
      "drop_path_rate: 0.21709426963219985\n",
      "learning_rate: 0.00019573898548390676\n",
      "weight_decay: 1.4334763405014485e-05\n",
      "batch_size: 16\n",
      "optimizer: Adam\n",
      "label_smoothing: 0.2\n",
      "factor: 1\n",
      "EarlyStopping counter: 3 out of 10\n",
      "EarlyStopping counter: 4 out of 10\n",
      "EarlyStopping counter: 5 out of 10\n",
      "EarlyStopping counter: 6 out of 10\n",
      "EarlyStopping counter: 1 out of 10\n",
      "EarlyStopping counter: 7 out of 10\n",
      "EarlyStopping counter: 2 out of 10\n",
      "EarlyStopping counter: 8 out of 10\n",
      "EarlyStopping counter: 3 out of 10\n",
      "EarlyStopping counter: 9 out of 10\n",
      "EarlyStopping counter: 4 out of 10\n",
      "EarlyStopping counter: 5 out of 10\n",
      "EarlyStopping counter: 1 out of 10\n",
      "EarlyStopping counter: 6 out of 10\n",
      "EarlyStopping counter: 2 out of 10\n",
      "EarlyStopping counter: 7 out of 10\n",
      "EarlyStopping counter: 3 out of 10\n",
      "EarlyStopping counter: 8 out of 10\n",
      "EarlyStopping counter: 4 out of 10\n",
      "EarlyStopping counter: 9 out of 10\n",
      "EarlyStopping counter: 5 out of 10\n",
      "EarlyStopping counter: 10 out of 10\n",
      "Early stopping at epoch 12\n",
      "EarlyStopping counter: 6 out of 10\n"
     ]
    },
    {
     "name": "stderr",
     "output_type": "stream",
     "text": [
      "[I 2025-06-05 10:43:29,740] Trial 72 finished with value: 0.3333333333333333 and parameters: {'embed_dim': 128, 'depths': [2, 2, 6, 2], 'num_heads': [3, 6, 12, 24], 'window_size': 7, 'mlp_ratio': 3.9553000877205204, 'drop_rate': 0.21276689046910188, 'attn_drop_rate': 0.2625338651811931, 'drop_path_rate': 0.21709426963219985, 'learning_rate': 0.00019573898548390676, 'weight_decay': 1.4334763405014485e-05}. Best is trial 45 with value: 0.6049740885091787.\n"
     ]
    },
    {
     "name": "stdout",
     "output_type": "stream",
     "text": [
      "Trial 72: Test Accuracy = 0.3333\n",
      "Trial 73 hyperparameters:\n",
      "embed_dim: 128\n",
      "depths: [2, 2, 6, 2]\n",
      "num_heads: [4, 8, 16, 32]\n",
      "window_size: 7\n",
      "mlp_ratio: 3.7940326969462466\n",
      "drop_rate: 0.24137736477771024\n",
      "attn_drop_rate: 0.42597645892736496\n",
      "drop_path_rate: 0.30000865160765\n",
      "learning_rate: 0.0001634950563060864\n",
      "weight_decay: 1.905117232097688e-05\n",
      "batch_size: 16\n",
      "optimizer: Adam\n",
      "label_smoothing: 0.2\n",
      "factor: 1\n"
     ]
    },
    {
     "name": "stderr",
     "output_type": "stream",
     "text": [
      "c:\\Users\\Gabriel\\anaconda3\\envs\\cudaenv\\Lib\\site-packages\\optuna\\distributions.py:515: UserWarning: Choices for a categorical distribution should be a tuple of None, bool, int, float and str for persistent storage but contains [2, 2, 6, 2] which is of type list.\n",
      "  warnings.warn(message)\n",
      "c:\\Users\\Gabriel\\anaconda3\\envs\\cudaenv\\Lib\\site-packages\\optuna\\distributions.py:515: UserWarning: Choices for a categorical distribution should be a tuple of None, bool, int, float and str for persistent storage but contains [2, 2, 18, 2] which is of type list.\n",
      "  warnings.warn(message)\n",
      "c:\\Users\\Gabriel\\anaconda3\\envs\\cudaenv\\Lib\\site-packages\\optuna\\distributions.py:515: UserWarning: Choices for a categorical distribution should be a tuple of None, bool, int, float and str for persistent storage but contains [3, 6, 12, 24] which is of type list.\n",
      "  warnings.warn(message)\n",
      "c:\\Users\\Gabriel\\anaconda3\\envs\\cudaenv\\Lib\\site-packages\\optuna\\distributions.py:515: UserWarning: Choices for a categorical distribution should be a tuple of None, bool, int, float and str for persistent storage but contains [4, 8, 16, 32] which is of type list.\n",
      "  warnings.warn(message)\n"
     ]
    },
    {
     "name": "stdout",
     "output_type": "stream",
     "text": [
      "EarlyStopping counter: 7 out of 10\n",
      "EarlyStopping counter: 8 out of 10\n",
      "EarlyStopping counter: 1 out of 10\n",
      "EarlyStopping counter: 9 out of 10\n",
      "EarlyStopping counter: 2 out of 10\n",
      "EarlyStopping counter: 10 out of 10\n",
      "Early stopping at epoch 27\n"
     ]
    },
    {
     "name": "stderr",
     "output_type": "stream",
     "text": [
      "[I 2025-06-05 10:44:17,937] Trial 71 finished with value: 0.5422628317086671 and parameters: {'embed_dim': 128, 'depths': [2, 2, 6, 2], 'num_heads': [3, 6, 12, 24], 'window_size': 7, 'mlp_ratio': 2.235135781568358, 'drop_rate': 0.13973648698270064, 'attn_drop_rate': 0.4366762032806356, 'drop_path_rate': 0.3498304335587503, 'learning_rate': 2.9672231727162408e-05, 'weight_decay': 1.3753216013065784e-06}. Best is trial 45 with value: 0.6049740885091787.\n"
     ]
    },
    {
     "name": "stdout",
     "output_type": "stream",
     "text": [
      "Trial 71: Test Accuracy = 0.5423\n",
      "Trial 74 hyperparameters:\n",
      "embed_dim: 128\n",
      "depths: [2, 2, 6, 2]\n",
      "num_heads: [4, 8, 16, 32]\n",
      "window_size: 7\n",
      "mlp_ratio: 3.774631556743481\n",
      "drop_rate: 0.19632082918002744\n",
      "attn_drop_rate: 0.39028998367779777\n",
      "drop_path_rate: 0.2983844309783688\n",
      "learning_rate: 7.336683201750874e-05\n",
      "weight_decay: 2.3549869972211235e-05\n",
      "batch_size: 16\n",
      "optimizer: Adam\n",
      "label_smoothing: 0.2\n",
      "factor: 1\n"
     ]
    },
    {
     "name": "stderr",
     "output_type": "stream",
     "text": [
      "c:\\Users\\Gabriel\\anaconda3\\envs\\cudaenv\\Lib\\site-packages\\optuna\\distributions.py:515: UserWarning: Choices for a categorical distribution should be a tuple of None, bool, int, float and str for persistent storage but contains [2, 2, 6, 2] which is of type list.\n",
      "  warnings.warn(message)\n",
      "c:\\Users\\Gabriel\\anaconda3\\envs\\cudaenv\\Lib\\site-packages\\optuna\\distributions.py:515: UserWarning: Choices for a categorical distribution should be a tuple of None, bool, int, float and str for persistent storage but contains [2, 2, 18, 2] which is of type list.\n",
      "  warnings.warn(message)\n",
      "c:\\Users\\Gabriel\\anaconda3\\envs\\cudaenv\\Lib\\site-packages\\optuna\\distributions.py:515: UserWarning: Choices for a categorical distribution should be a tuple of None, bool, int, float and str for persistent storage but contains [3, 6, 12, 24] which is of type list.\n",
      "  warnings.warn(message)\n",
      "c:\\Users\\Gabriel\\anaconda3\\envs\\cudaenv\\Lib\\site-packages\\optuna\\distributions.py:515: UserWarning: Choices for a categorical distribution should be a tuple of None, bool, int, float and str for persistent storage but contains [4, 8, 16, 32] which is of type list.\n",
      "  warnings.warn(message)\n"
     ]
    },
    {
     "name": "stdout",
     "output_type": "stream",
     "text": [
      "EarlyStopping counter: 3 out of 10\n",
      "EarlyStopping counter: 4 out of 10\n",
      "EarlyStopping counter: 5 out of 10\n",
      "EarlyStopping counter: 1 out of 10\n",
      "EarlyStopping counter: 6 out of 10\n",
      "EarlyStopping counter: 7 out of 10\n",
      "EarlyStopping counter: 1 out of 10\n",
      "EarlyStopping counter: 8 out of 10\n",
      "EarlyStopping counter: 2 out of 10\n",
      "EarlyStopping counter: 9 out of 10\n",
      "EarlyStopping counter: 10 out of 10\n",
      "Early stopping at epoch 10\n"
     ]
    },
    {
     "name": "stderr",
     "output_type": "stream",
     "text": [
      "[I 2025-06-05 10:46:03,922] Trial 73 finished with value: 0.3333333333333333 and parameters: {'embed_dim': 128, 'depths': [2, 2, 6, 2], 'num_heads': [4, 8, 16, 32], 'window_size': 7, 'mlp_ratio': 3.7940326969462466, 'drop_rate': 0.24137736477771024, 'attn_drop_rate': 0.42597645892736496, 'drop_path_rate': 0.30000865160765, 'learning_rate': 0.0001634950563060864, 'weight_decay': 1.905117232097688e-05}. Best is trial 45 with value: 0.6049740885091787.\n"
     ]
    },
    {
     "name": "stdout",
     "output_type": "stream",
     "text": [
      "Trial 73: Test Accuracy = 0.3333\n",
      "Trial 75 hyperparameters:\n",
      "embed_dim: 96\n",
      "depths: [2, 2, 6, 2]\n",
      "num_heads: [4, 8, 16, 32]\n",
      "window_size: 7\n",
      "mlp_ratio: 3.7993450439822714\n",
      "drop_rate: 0.12021782095034547\n",
      "attn_drop_rate: 0.3929557351462955\n",
      "drop_path_rate: 0.2401747194089331\n",
      "learning_rate: 7.00812020558204e-05\n",
      "weight_decay: 2.1756385977442956e-05\n",
      "batch_size: 16\n",
      "optimizer: Adam\n",
      "label_smoothing: 0.2\n",
      "factor: 1\n"
     ]
    },
    {
     "name": "stderr",
     "output_type": "stream",
     "text": [
      "c:\\Users\\Gabriel\\anaconda3\\envs\\cudaenv\\Lib\\site-packages\\optuna\\distributions.py:515: UserWarning: Choices for a categorical distribution should be a tuple of None, bool, int, float and str for persistent storage but contains [2, 2, 6, 2] which is of type list.\n",
      "  warnings.warn(message)\n",
      "c:\\Users\\Gabriel\\anaconda3\\envs\\cudaenv\\Lib\\site-packages\\optuna\\distributions.py:515: UserWarning: Choices for a categorical distribution should be a tuple of None, bool, int, float and str for persistent storage but contains [2, 2, 18, 2] which is of type list.\n",
      "  warnings.warn(message)\n",
      "c:\\Users\\Gabriel\\anaconda3\\envs\\cudaenv\\Lib\\site-packages\\optuna\\distributions.py:515: UserWarning: Choices for a categorical distribution should be a tuple of None, bool, int, float and str for persistent storage but contains [3, 6, 12, 24] which is of type list.\n",
      "  warnings.warn(message)\n",
      "c:\\Users\\Gabriel\\anaconda3\\envs\\cudaenv\\Lib\\site-packages\\optuna\\distributions.py:515: UserWarning: Choices for a categorical distribution should be a tuple of None, bool, int, float and str for persistent storage but contains [4, 8, 16, 32] which is of type list.\n",
      "  warnings.warn(message)\n"
     ]
    },
    {
     "name": "stdout",
     "output_type": "stream",
     "text": [
      "EarlyStopping counter: 1 out of 10\n",
      "EarlyStopping counter: 2 out of 10\n",
      "EarlyStopping counter: 1 out of 10\n",
      "EarlyStopping counter: 3 out of 10\n",
      "EarlyStopping counter: 4 out of 10\n",
      "EarlyStopping counter: 1 out of 10\n",
      "EarlyStopping counter: 5 out of 10\n",
      "EarlyStopping counter: 2 out of 10\n",
      "EarlyStopping counter: 6 out of 10\n",
      "EarlyStopping counter: 3 out of 10\n",
      "EarlyStopping counter: 7 out of 10\n",
      "EarlyStopping counter: 4 out of 10\n",
      "EarlyStopping counter: 8 out of 10\n",
      "EarlyStopping counter: 5 out of 10\n",
      "EarlyStopping counter: 6 out of 10\n",
      "EarlyStopping counter: 1 out of 10\n",
      "EarlyStopping counter: 7 out of 10\n",
      "EarlyStopping counter: 2 out of 10\n",
      "EarlyStopping counter: 3 out of 10\n",
      "EarlyStopping counter: 1 out of 10\n",
      "EarlyStopping counter: 4 out of 10\n",
      "EarlyStopping counter: 2 out of 10\n",
      "EarlyStopping counter: 5 out of 10\n",
      "EarlyStopping counter: 3 out of 10\n",
      "EarlyStopping counter: 6 out of 10\n",
      "EarlyStopping counter: 4 out of 10\n",
      "EarlyStopping counter: 7 out of 10\n",
      "EarlyStopping counter: 5 out of 10\n",
      "EarlyStopping counter: 8 out of 10\n",
      "EarlyStopping counter: 6 out of 10\n",
      "EarlyStopping counter: 9 out of 10\n",
      "EarlyStopping counter: 7 out of 10\n",
      "EarlyStopping counter: 10 out of 10\n",
      "Early stopping at epoch 26\n",
      "EarlyStopping counter: 8 out of 10\n"
     ]
    },
    {
     "name": "stderr",
     "output_type": "stream",
     "text": [
      "[I 2025-06-05 10:50:05,600] Trial 74 finished with value: 0.5333115372812867 and parameters: {'embed_dim': 128, 'depths': [2, 2, 6, 2], 'num_heads': [4, 8, 16, 32], 'window_size': 7, 'mlp_ratio': 3.774631556743481, 'drop_rate': 0.19632082918002744, 'attn_drop_rate': 0.39028998367779777, 'drop_path_rate': 0.2983844309783688, 'learning_rate': 7.336683201750874e-05, 'weight_decay': 2.3549869972211235e-05}. Best is trial 45 with value: 0.6049740885091787.\n"
     ]
    },
    {
     "name": "stdout",
     "output_type": "stream",
     "text": [
      "Trial 74: Test Accuracy = 0.5333\n",
      "Trial 76 hyperparameters:\n",
      "embed_dim: 96\n",
      "depths: [2, 2, 6, 2]\n",
      "num_heads: [4, 8, 16, 32]\n",
      "window_size: 14\n",
      "mlp_ratio: 3.556325101556596\n",
      "drop_rate: 0.11883147034182706\n",
      "attn_drop_rate: 0.053044081678049096\n",
      "drop_path_rate: 0.24365756328329374\n",
      "learning_rate: 9.962516053038142e-05\n",
      "weight_decay: 1.0191103274838652e-05\n",
      "batch_size: 16\n",
      "optimizer: Adam\n",
      "label_smoothing: 0.2\n",
      "factor: 1\n"
     ]
    },
    {
     "name": "stderr",
     "output_type": "stream",
     "text": [
      "c:\\Users\\Gabriel\\anaconda3\\envs\\cudaenv\\Lib\\site-packages\\optuna\\distributions.py:515: UserWarning: Choices for a categorical distribution should be a tuple of None, bool, int, float and str for persistent storage but contains [2, 2, 6, 2] which is of type list.\n",
      "  warnings.warn(message)\n",
      "c:\\Users\\Gabriel\\anaconda3\\envs\\cudaenv\\Lib\\site-packages\\optuna\\distributions.py:515: UserWarning: Choices for a categorical distribution should be a tuple of None, bool, int, float and str for persistent storage but contains [2, 2, 18, 2] which is of type list.\n",
      "  warnings.warn(message)\n",
      "c:\\Users\\Gabriel\\anaconda3\\envs\\cudaenv\\Lib\\site-packages\\optuna\\distributions.py:515: UserWarning: Choices for a categorical distribution should be a tuple of None, bool, int, float and str for persistent storage but contains [3, 6, 12, 24] which is of type list.\n",
      "  warnings.warn(message)\n",
      "c:\\Users\\Gabriel\\anaconda3\\envs\\cudaenv\\Lib\\site-packages\\optuna\\distributions.py:515: UserWarning: Choices for a categorical distribution should be a tuple of None, bool, int, float and str for persistent storage but contains [4, 8, 16, 32] which is of type list.\n",
      "  warnings.warn(message)\n"
     ]
    },
    {
     "name": "stdout",
     "output_type": "stream",
     "text": [
      "EarlyStopping counter: 9 out of 10\n",
      "EarlyStopping counter: 10 out of 10\n",
      "Early stopping at epoch 21\n"
     ]
    },
    {
     "name": "stderr",
     "output_type": "stream",
     "text": [
      "[I 2025-06-05 10:50:27,516] Trial 75 finished with value: 0.46526770427346015 and parameters: {'embed_dim': 96, 'depths': [2, 2, 6, 2], 'num_heads': [4, 8, 16, 32], 'window_size': 7, 'mlp_ratio': 3.7993450439822714, 'drop_rate': 0.12021782095034547, 'attn_drop_rate': 0.3929557351462955, 'drop_path_rate': 0.2401747194089331, 'learning_rate': 7.00812020558204e-05, 'weight_decay': 2.1756385977442956e-05}. Best is trial 45 with value: 0.6049740885091787.\n"
     ]
    },
    {
     "name": "stdout",
     "output_type": "stream",
     "text": [
      "Trial 75: Test Accuracy = 0.4653\n",
      "Trial 77 hyperparameters:\n",
      "embed_dim: 96\n",
      "depths: [2, 2, 6, 2]\n",
      "num_heads: [4, 8, 16, 32]\n",
      "window_size: 14\n",
      "mlp_ratio: 3.264097261240086\n",
      "drop_rate: 0.17697250207435888\n",
      "attn_drop_rate: 0.1587092445885201\n",
      "drop_path_rate: 0.32503445629836103\n",
      "learning_rate: 9.71293620159996e-05\n",
      "weight_decay: 5.895146493387213e-05\n",
      "batch_size: 16\n",
      "optimizer: Adam\n",
      "label_smoothing: 0.2\n",
      "factor: 1\n"
     ]
    },
    {
     "name": "stderr",
     "output_type": "stream",
     "text": [
      "c:\\Users\\Gabriel\\anaconda3\\envs\\cudaenv\\Lib\\site-packages\\optuna\\distributions.py:515: UserWarning: Choices for a categorical distribution should be a tuple of None, bool, int, float and str for persistent storage but contains [2, 2, 6, 2] which is of type list.\n",
      "  warnings.warn(message)\n",
      "c:\\Users\\Gabriel\\anaconda3\\envs\\cudaenv\\Lib\\site-packages\\optuna\\distributions.py:515: UserWarning: Choices for a categorical distribution should be a tuple of None, bool, int, float and str for persistent storage but contains [2, 2, 18, 2] which is of type list.\n",
      "  warnings.warn(message)\n",
      "c:\\Users\\Gabriel\\anaconda3\\envs\\cudaenv\\Lib\\site-packages\\optuna\\distributions.py:515: UserWarning: Choices for a categorical distribution should be a tuple of None, bool, int, float and str for persistent storage but contains [3, 6, 12, 24] which is of type list.\n",
      "  warnings.warn(message)\n",
      "c:\\Users\\Gabriel\\anaconda3\\envs\\cudaenv\\Lib\\site-packages\\optuna\\distributions.py:515: UserWarning: Choices for a categorical distribution should be a tuple of None, bool, int, float and str for persistent storage but contains [4, 8, 16, 32] which is of type list.\n",
      "  warnings.warn(message)\n"
     ]
    },
    {
     "name": "stdout",
     "output_type": "stream",
     "text": [
      "EarlyStopping counter: 1 out of 10\n",
      "EarlyStopping counter: 2 out of 10\n",
      "EarlyStopping counter: 3 out of 10\n",
      "EarlyStopping counter: 1 out of 10\n",
      "EarlyStopping counter: 1 out of 10\n",
      "EarlyStopping counter: 2 out of 10\n",
      "EarlyStopping counter: 2 out of 10\n",
      "EarlyStopping counter: 3 out of 10\n",
      "EarlyStopping counter: 3 out of 10\n",
      "EarlyStopping counter: 4 out of 10\n",
      "EarlyStopping counter: 4 out of 10\n",
      "EarlyStopping counter: 5 out of 10\n",
      "EarlyStopping counter: 1 out of 10\n",
      "EarlyStopping counter: 2 out of 10\n",
      "EarlyStopping counter: 1 out of 10\n",
      "EarlyStopping counter: 3 out of 10\n",
      "EarlyStopping counter: 2 out of 10\n",
      "EarlyStopping counter: 4 out of 10\n",
      "EarlyStopping counter: 3 out of 10\n",
      "EarlyStopping counter: 5 out of 10\n",
      "EarlyStopping counter: 4 out of 10\n",
      "EarlyStopping counter: 6 out of 10\n",
      "EarlyStopping counter: 5 out of 10\n",
      "EarlyStopping counter: 6 out of 10\n",
      "EarlyStopping counter: 1 out of 10\n",
      "EarlyStopping counter: 2 out of 10\n",
      "EarlyStopping counter: 1 out of 10\n",
      "EarlyStopping counter: 3 out of 10\n",
      "EarlyStopping counter: 2 out of 10\n",
      "EarlyStopping counter: 4 out of 10\n",
      "EarlyStopping counter: 3 out of 10\n",
      "EarlyStopping counter: 5 out of 10\n",
      "EarlyStopping counter: 4 out of 10\n",
      "EarlyStopping counter: 6 out of 10\n",
      "EarlyStopping counter: 5 out of 10\n",
      "EarlyStopping counter: 7 out of 10\n",
      "EarlyStopping counter: 6 out of 10\n",
      "EarlyStopping counter: 8 out of 10\n",
      "EarlyStopping counter: 7 out of 10\n",
      "EarlyStopping counter: 9 out of 10\n",
      "EarlyStopping counter: 8 out of 10\n",
      "EarlyStopping counter: 10 out of 10\n",
      "Early stopping at epoch 25\n",
      "EarlyStopping counter: 9 out of 10\n",
      "Trial 77: Test Accuracy = 0.5867\n"
     ]
    },
    {
     "name": "stderr",
     "output_type": "stream",
     "text": [
      "[I 2025-06-05 10:56:35,880] Trial 77 finished with value: 0.5867273514642072 and parameters: {'embed_dim': 96, 'depths': [2, 2, 6, 2], 'num_heads': [4, 8, 16, 32], 'window_size': 14, 'mlp_ratio': 3.264097261240086, 'drop_rate': 0.17697250207435888, 'attn_drop_rate': 0.1587092445885201, 'drop_path_rate': 0.32503445629836103, 'learning_rate': 9.71293620159996e-05, 'weight_decay': 5.895146493387213e-05}. Best is trial 45 with value: 0.6049740885091787.\n",
      "c:\\Users\\Gabriel\\anaconda3\\envs\\cudaenv\\Lib\\site-packages\\optuna\\distributions.py:515: UserWarning: Choices for a categorical distribution should be a tuple of None, bool, int, float and str for persistent storage but contains [2, 2, 6, 2] which is of type list.\n",
      "  warnings.warn(message)\n",
      "c:\\Users\\Gabriel\\anaconda3\\envs\\cudaenv\\Lib\\site-packages\\optuna\\distributions.py:515: UserWarning: Choices for a categorical distribution should be a tuple of None, bool, int, float and str for persistent storage but contains [2, 2, 18, 2] which is of type list.\n",
      "  warnings.warn(message)\n",
      "c:\\Users\\Gabriel\\anaconda3\\envs\\cudaenv\\Lib\\site-packages\\optuna\\distributions.py:515: UserWarning: Choices for a categorical distribution should be a tuple of None, bool, int, float and str for persistent storage but contains [3, 6, 12, 24] which is of type list.\n",
      "  warnings.warn(message)\n",
      "c:\\Users\\Gabriel\\anaconda3\\envs\\cudaenv\\Lib\\site-packages\\optuna\\distributions.py:515: UserWarning: Choices for a categorical distribution should be a tuple of None, bool, int, float and str for persistent storage but contains [4, 8, 16, 32] which is of type list.\n",
      "  warnings.warn(message)\n"
     ]
    },
    {
     "name": "stdout",
     "output_type": "stream",
     "text": [
      "Trial 78 hyperparameters:\n",
      "embed_dim: 96\n",
      "depths: [2, 2, 6, 2]\n",
      "num_heads: [4, 8, 16, 32]\n",
      "window_size: 14\n",
      "mlp_ratio: 3.237449376217298\n",
      "drop_rate: 0.10624457274640099\n",
      "attn_drop_rate: 0.1529479475658735\n",
      "drop_path_rate: 0.32058011555527705\n",
      "learning_rate: 9.685019994163208e-05\n",
      "weight_decay: 5.737166329993119e-05\n",
      "batch_size: 16\n",
      "optimizer: Adam\n",
      "label_smoothing: 0.2\n",
      "factor: 1\n",
      "EarlyStopping counter: 10 out of 10\n",
      "Early stopping at epoch 28\n"
     ]
    },
    {
     "name": "stderr",
     "output_type": "stream",
     "text": [
      "[I 2025-06-05 10:56:47,593] Trial 76 finished with value: 0.49970374576626025 and parameters: {'embed_dim': 96, 'depths': [2, 2, 6, 2], 'num_heads': [4, 8, 16, 32], 'window_size': 14, 'mlp_ratio': 3.556325101556596, 'drop_rate': 0.11883147034182706, 'attn_drop_rate': 0.053044081678049096, 'drop_path_rate': 0.24365756328329374, 'learning_rate': 9.962516053038142e-05, 'weight_decay': 1.0191103274838652e-05}. Best is trial 45 with value: 0.6049740885091787.\n"
     ]
    },
    {
     "name": "stdout",
     "output_type": "stream",
     "text": [
      "Trial 76: Test Accuracy = 0.4997\n",
      "Trial 79 hyperparameters:\n",
      "embed_dim: 96\n",
      "depths: [2, 2, 6, 2]\n",
      "num_heads: [3, 6, 12, 24]\n",
      "window_size: 14\n",
      "mlp_ratio: 3.257974789739899\n",
      "drop_rate: 0.18027909344100718\n",
      "attn_drop_rate: 0.14590852333068313\n",
      "drop_path_rate: 0.32577407694681637\n",
      "learning_rate: 1.8751215410148114e-05\n",
      "weight_decay: 3.6597447322950825e-06\n",
      "batch_size: 16\n",
      "optimizer: Adam\n",
      "label_smoothing: 0.2\n",
      "factor: 1\n"
     ]
    },
    {
     "name": "stderr",
     "output_type": "stream",
     "text": [
      "c:\\Users\\Gabriel\\anaconda3\\envs\\cudaenv\\Lib\\site-packages\\optuna\\distributions.py:515: UserWarning: Choices for a categorical distribution should be a tuple of None, bool, int, float and str for persistent storage but contains [2, 2, 6, 2] which is of type list.\n",
      "  warnings.warn(message)\n",
      "c:\\Users\\Gabriel\\anaconda3\\envs\\cudaenv\\Lib\\site-packages\\optuna\\distributions.py:515: UserWarning: Choices for a categorical distribution should be a tuple of None, bool, int, float and str for persistent storage but contains [2, 2, 18, 2] which is of type list.\n",
      "  warnings.warn(message)\n",
      "c:\\Users\\Gabriel\\anaconda3\\envs\\cudaenv\\Lib\\site-packages\\optuna\\distributions.py:515: UserWarning: Choices for a categorical distribution should be a tuple of None, bool, int, float and str for persistent storage but contains [3, 6, 12, 24] which is of type list.\n",
      "  warnings.warn(message)\n",
      "c:\\Users\\Gabriel\\anaconda3\\envs\\cudaenv\\Lib\\site-packages\\optuna\\distributions.py:515: UserWarning: Choices for a categorical distribution should be a tuple of None, bool, int, float and str for persistent storage but contains [4, 8, 16, 32] which is of type list.\n",
      "  warnings.warn(message)\n"
     ]
    },
    {
     "name": "stdout",
     "output_type": "stream",
     "text": [
      "EarlyStopping counter: 1 out of 10\n",
      "EarlyStopping counter: 2 out of 10\n",
      "EarlyStopping counter: 1 out of 10\n",
      "EarlyStopping counter: 1 out of 10\n",
      "EarlyStopping counter: 1 out of 10\n",
      "EarlyStopping counter: 2 out of 10\n",
      "EarlyStopping counter: 2 out of 10\n",
      "EarlyStopping counter: 3 out of 10\n",
      "EarlyStopping counter: 1 out of 10\n",
      "EarlyStopping counter: 1 out of 10\n",
      "EarlyStopping counter: 2 out of 10\n",
      "EarlyStopping counter: 2 out of 10\n",
      "EarlyStopping counter: 3 out of 10\n",
      "EarlyStopping counter: 3 out of 10\n",
      "EarlyStopping counter: 4 out of 10\n",
      "EarlyStopping counter: 4 out of 10\n",
      "EarlyStopping counter: 5 out of 10\n",
      "EarlyStopping counter: 6 out of 10\n",
      "EarlyStopping counter: 1 out of 10\n",
      "EarlyStopping counter: 7 out of 10\n",
      "EarlyStopping counter: 2 out of 10\n",
      "EarlyStopping counter: 8 out of 10\n",
      "EarlyStopping counter: 3 out of 10\n",
      "EarlyStopping counter: 9 out of 10\n",
      "EarlyStopping counter: 4 out of 10\n",
      "EarlyStopping counter: 10 out of 10\n",
      "Early stopping at epoch 17\n",
      "EarlyStopping counter: 5 out of 10\n",
      "Trial 79: Test Accuracy = 0.4569\n"
     ]
    },
    {
     "name": "stderr",
     "output_type": "stream",
     "text": [
      "[I 2025-06-05 11:00:38,072] Trial 79 finished with value: 0.4569444802932143 and parameters: {'embed_dim': 96, 'depths': [2, 2, 6, 2], 'num_heads': [3, 6, 12, 24], 'window_size': 14, 'mlp_ratio': 3.257974789739899, 'drop_rate': 0.18027909344100718, 'attn_drop_rate': 0.14590852333068313, 'drop_path_rate': 0.32577407694681637, 'learning_rate': 1.8751215410148114e-05, 'weight_decay': 3.6597447322950825e-06}. Best is trial 45 with value: 0.6049740885091787.\n",
      "c:\\Users\\Gabriel\\anaconda3\\envs\\cudaenv\\Lib\\site-packages\\optuna\\distributions.py:515: UserWarning: Choices for a categorical distribution should be a tuple of None, bool, int, float and str for persistent storage but contains [2, 2, 6, 2] which is of type list.\n",
      "  warnings.warn(message)\n",
      "c:\\Users\\Gabriel\\anaconda3\\envs\\cudaenv\\Lib\\site-packages\\optuna\\distributions.py:515: UserWarning: Choices for a categorical distribution should be a tuple of None, bool, int, float and str for persistent storage but contains [2, 2, 18, 2] which is of type list.\n",
      "  warnings.warn(message)\n",
      "c:\\Users\\Gabriel\\anaconda3\\envs\\cudaenv\\Lib\\site-packages\\optuna\\distributions.py:515: UserWarning: Choices for a categorical distribution should be a tuple of None, bool, int, float and str for persistent storage but contains [3, 6, 12, 24] which is of type list.\n",
      "  warnings.warn(message)\n",
      "c:\\Users\\Gabriel\\anaconda3\\envs\\cudaenv\\Lib\\site-packages\\optuna\\distributions.py:515: UserWarning: Choices for a categorical distribution should be a tuple of None, bool, int, float and str for persistent storage but contains [4, 8, 16, 32] which is of type list.\n",
      "  warnings.warn(message)\n"
     ]
    },
    {
     "name": "stdout",
     "output_type": "stream",
     "text": [
      "Trial 80 hyperparameters:\n",
      "embed_dim: 128\n",
      "depths: [2, 2, 6, 2]\n",
      "num_heads: [4, 8, 16, 32]\n",
      "window_size: 14\n",
      "mlp_ratio: 2.5984465869303093\n",
      "drop_rate: 0.1668756217827629\n",
      "attn_drop_rate: 0.1847433333191097\n",
      "drop_path_rate: 0.3685407778836486\n",
      "learning_rate: 4.092921881204715e-05\n",
      "weight_decay: 5.99256940247432e-05\n",
      "batch_size: 16\n",
      "optimizer: Adam\n",
      "label_smoothing: 0.2\n",
      "factor: 1\n",
      "EarlyStopping counter: 6 out of 10\n",
      "EarlyStopping counter: 7 out of 10\n",
      "EarlyStopping counter: 8 out of 10\n",
      "EarlyStopping counter: 1 out of 10\n",
      "EarlyStopping counter: 9 out of 10\n",
      "EarlyStopping counter: 2 out of 10\n",
      "EarlyStopping counter: 10 out of 10\n",
      "Early stopping at epoch 23\n"
     ]
    },
    {
     "name": "stderr",
     "output_type": "stream",
     "text": [
      "[I 2025-06-05 11:01:46,167] Trial 78 finished with value: 0.5189295844123812 and parameters: {'embed_dim': 96, 'depths': [2, 2, 6, 2], 'num_heads': [4, 8, 16, 32], 'window_size': 14, 'mlp_ratio': 3.237449376217298, 'drop_rate': 0.10624457274640099, 'attn_drop_rate': 0.1529479475658735, 'drop_path_rate': 0.32058011555527705, 'learning_rate': 9.685019994163208e-05, 'weight_decay': 5.737166329993119e-05}. Best is trial 45 with value: 0.6049740885091787.\n"
     ]
    },
    {
     "name": "stdout",
     "output_type": "stream",
     "text": [
      "Trial 78: Test Accuracy = 0.5189\n",
      "Trial 81 hyperparameters:\n",
      "embed_dim: 128\n",
      "depths: [2, 2, 6, 2]\n",
      "num_heads: [4, 8, 16, 32]\n",
      "window_size: 14\n",
      "mlp_ratio: 3.6699088319805804\n",
      "drop_rate: 0.1627651124282007\n",
      "attn_drop_rate: 0.12384107352216067\n",
      "drop_path_rate: 0.3743298868725235\n",
      "learning_rate: 5.9407213985109955e-05\n",
      "weight_decay: 3.76920242887344e-05\n",
      "batch_size: 16\n",
      "optimizer: Adam\n",
      "label_smoothing: 0.2\n",
      "factor: 1\n"
     ]
    },
    {
     "name": "stderr",
     "output_type": "stream",
     "text": [
      "c:\\Users\\Gabriel\\anaconda3\\envs\\cudaenv\\Lib\\site-packages\\optuna\\distributions.py:515: UserWarning: Choices for a categorical distribution should be a tuple of None, bool, int, float and str for persistent storage but contains [2, 2, 6, 2] which is of type list.\n",
      "  warnings.warn(message)\n",
      "c:\\Users\\Gabriel\\anaconda3\\envs\\cudaenv\\Lib\\site-packages\\optuna\\distributions.py:515: UserWarning: Choices for a categorical distribution should be a tuple of None, bool, int, float and str for persistent storage but contains [2, 2, 18, 2] which is of type list.\n",
      "  warnings.warn(message)\n",
      "c:\\Users\\Gabriel\\anaconda3\\envs\\cudaenv\\Lib\\site-packages\\optuna\\distributions.py:515: UserWarning: Choices for a categorical distribution should be a tuple of None, bool, int, float and str for persistent storage but contains [3, 6, 12, 24] which is of type list.\n",
      "  warnings.warn(message)\n",
      "c:\\Users\\Gabriel\\anaconda3\\envs\\cudaenv\\Lib\\site-packages\\optuna\\distributions.py:515: UserWarning: Choices for a categorical distribution should be a tuple of None, bool, int, float and str for persistent storage but contains [4, 8, 16, 32] which is of type list.\n",
      "  warnings.warn(message)\n"
     ]
    },
    {
     "name": "stdout",
     "output_type": "stream",
     "text": [
      "EarlyStopping counter: 3 out of 10\n",
      "EarlyStopping counter: 4 out of 10\n",
      "EarlyStopping counter: 5 out of 10\n",
      "EarlyStopping counter: 1 out of 10\n",
      "EarlyStopping counter: 6 out of 10\n",
      "EarlyStopping counter: 7 out of 10\n",
      "EarlyStopping counter: 1 out of 10\n",
      "EarlyStopping counter: 1 out of 10\n",
      "EarlyStopping counter: 1 out of 10\n",
      "EarlyStopping counter: 2 out of 10\n",
      "EarlyStopping counter: 2 out of 10\n",
      "EarlyStopping counter: 3 out of 10\n",
      "EarlyStopping counter: 3 out of 10\n",
      "EarlyStopping counter: 4 out of 10\n",
      "EarlyStopping counter: 4 out of 10\n",
      "EarlyStopping counter: 5 out of 10\n",
      "EarlyStopping counter: 1 out of 10\n",
      "EarlyStopping counter: 1 out of 10\n",
      "EarlyStopping counter: 2 out of 10\n",
      "EarlyStopping counter: 2 out of 10\n",
      "EarlyStopping counter: 3 out of 10\n",
      "EarlyStopping counter: 3 out of 10\n",
      "EarlyStopping counter: 4 out of 10\n",
      "EarlyStopping counter: 4 out of 10\n",
      "EarlyStopping counter: 5 out of 10\n",
      "EarlyStopping counter: 5 out of 10\n",
      "EarlyStopping counter: 6 out of 10\n",
      "EarlyStopping counter: 6 out of 10\n",
      "EarlyStopping counter: 7 out of 10\n",
      "EarlyStopping counter: 7 out of 10\n",
      "EarlyStopping counter: 8 out of 10\n",
      "EarlyStopping counter: 8 out of 10\n",
      "EarlyStopping counter: 9 out of 10\n",
      "EarlyStopping counter: 9 out of 10\n",
      "EarlyStopping counter: 10 out of 10\n",
      "Early stopping at epoch 25\n",
      "Trial 80: Test Accuracy = 0.5305\n"
     ]
    },
    {
     "name": "stderr",
     "output_type": "stream",
     "text": [
      "[I 2025-06-05 11:08:57,749] Trial 80 finished with value: 0.5304711675514143 and parameters: {'embed_dim': 128, 'depths': [2, 2, 6, 2], 'num_heads': [4, 8, 16, 32], 'window_size': 14, 'mlp_ratio': 2.5984465869303093, 'drop_rate': 0.1668756217827629, 'attn_drop_rate': 0.1847433333191097, 'drop_path_rate': 0.3685407778836486, 'learning_rate': 4.092921881204715e-05, 'weight_decay': 5.99256940247432e-05}. Best is trial 45 with value: 0.6049740885091787.\n",
      "c:\\Users\\Gabriel\\anaconda3\\envs\\cudaenv\\Lib\\site-packages\\optuna\\distributions.py:515: UserWarning: Choices for a categorical distribution should be a tuple of None, bool, int, float and str for persistent storage but contains [2, 2, 6, 2] which is of type list.\n",
      "  warnings.warn(message)\n",
      "c:\\Users\\Gabriel\\anaconda3\\envs\\cudaenv\\Lib\\site-packages\\optuna\\distributions.py:515: UserWarning: Choices for a categorical distribution should be a tuple of None, bool, int, float and str for persistent storage but contains [2, 2, 18, 2] which is of type list.\n",
      "  warnings.warn(message)\n",
      "c:\\Users\\Gabriel\\anaconda3\\envs\\cudaenv\\Lib\\site-packages\\optuna\\distributions.py:515: UserWarning: Choices for a categorical distribution should be a tuple of None, bool, int, float and str for persistent storage but contains [3, 6, 12, 24] which is of type list.\n",
      "  warnings.warn(message)\n",
      "c:\\Users\\Gabriel\\anaconda3\\envs\\cudaenv\\Lib\\site-packages\\optuna\\distributions.py:515: UserWarning: Choices for a categorical distribution should be a tuple of None, bool, int, float and str for persistent storage but contains [4, 8, 16, 32] which is of type list.\n",
      "  warnings.warn(message)\n"
     ]
    },
    {
     "name": "stdout",
     "output_type": "stream",
     "text": [
      "Trial 82 hyperparameters:\n",
      "embed_dim: 96\n",
      "depths: [2, 2, 6, 2]\n",
      "num_heads: [4, 8, 16, 32]\n",
      "window_size: 14\n",
      "mlp_ratio: 3.6573024348605614\n",
      "drop_rate: 0.21624061847993317\n",
      "attn_drop_rate: 0.12106485325966654\n",
      "drop_path_rate: 0.20213682419644244\n",
      "learning_rate: 5.808328531450413e-05\n",
      "weight_decay: 3.72860020176766e-05\n",
      "batch_size: 16\n",
      "optimizer: Adam\n",
      "label_smoothing: 0.2\n",
      "factor: 1\n",
      "EarlyStopping counter: 10 out of 10\n",
      "Early stopping at epoch 21\n"
     ]
    },
    {
     "name": "stderr",
     "output_type": "stream",
     "text": [
      "[I 2025-06-05 11:09:13,978] Trial 81 finished with value: 0.5246516216549514 and parameters: {'embed_dim': 128, 'depths': [2, 2, 6, 2], 'num_heads': [4, 8, 16, 32], 'window_size': 14, 'mlp_ratio': 3.6699088319805804, 'drop_rate': 0.1627651124282007, 'attn_drop_rate': 0.12384107352216067, 'drop_path_rate': 0.3743298868725235, 'learning_rate': 5.9407213985109955e-05, 'weight_decay': 3.76920242887344e-05}. Best is trial 45 with value: 0.6049740885091787.\n"
     ]
    },
    {
     "name": "stdout",
     "output_type": "stream",
     "text": [
      "Trial 81: Test Accuracy = 0.5247\n",
      "Trial 83 hyperparameters:\n",
      "embed_dim: 96\n",
      "depths: [2, 2, 6, 2]\n",
      "num_heads: [4, 8, 16, 32]\n",
      "window_size: 7\n",
      "mlp_ratio: 3.82877762912906\n",
      "drop_rate: 0.21787456675142855\n",
      "attn_drop_rate: 0.22895529785155444\n",
      "drop_path_rate: 0.2615579724333658\n",
      "learning_rate: 0.00012269358854958732\n",
      "weight_decay: 2.8459572443414387e-05\n",
      "batch_size: 16\n",
      "optimizer: Adam\n",
      "label_smoothing: 0.2\n",
      "factor: 1\n"
     ]
    },
    {
     "name": "stderr",
     "output_type": "stream",
     "text": [
      "c:\\Users\\Gabriel\\anaconda3\\envs\\cudaenv\\Lib\\site-packages\\optuna\\distributions.py:515: UserWarning: Choices for a categorical distribution should be a tuple of None, bool, int, float and str for persistent storage but contains [2, 2, 6, 2] which is of type list.\n",
      "  warnings.warn(message)\n",
      "c:\\Users\\Gabriel\\anaconda3\\envs\\cudaenv\\Lib\\site-packages\\optuna\\distributions.py:515: UserWarning: Choices for a categorical distribution should be a tuple of None, bool, int, float and str for persistent storage but contains [2, 2, 18, 2] which is of type list.\n",
      "  warnings.warn(message)\n",
      "c:\\Users\\Gabriel\\anaconda3\\envs\\cudaenv\\Lib\\site-packages\\optuna\\distributions.py:515: UserWarning: Choices for a categorical distribution should be a tuple of None, bool, int, float and str for persistent storage but contains [3, 6, 12, 24] which is of type list.\n",
      "  warnings.warn(message)\n",
      "c:\\Users\\Gabriel\\anaconda3\\envs\\cudaenv\\Lib\\site-packages\\optuna\\distributions.py:515: UserWarning: Choices for a categorical distribution should be a tuple of None, bool, int, float and str for persistent storage but contains [4, 8, 16, 32] which is of type list.\n",
      "  warnings.warn(message)\n"
     ]
    },
    {
     "name": "stdout",
     "output_type": "stream",
     "text": [
      "EarlyStopping counter: 1 out of 10\n",
      "EarlyStopping counter: 2 out of 10\n",
      "EarlyStopping counter: 1 out of 10\n",
      "EarlyStopping counter: 3 out of 10\n",
      "EarlyStopping counter: 1 out of 10\n",
      "EarlyStopping counter: 1 out of 10\n",
      "EarlyStopping counter: 1 out of 10\n",
      "EarlyStopping counter: 1 out of 10\n",
      "EarlyStopping counter: 1 out of 10\n",
      "EarlyStopping counter: 2 out of 10\n",
      "EarlyStopping counter: 2 out of 10\n",
      "EarlyStopping counter: 3 out of 10\n",
      "EarlyStopping counter: 1 out of 10\n",
      "EarlyStopping counter: 4 out of 10\n",
      "EarlyStopping counter: 2 out of 10\n",
      "EarlyStopping counter: 5 out of 10\n",
      "EarlyStopping counter: 3 out of 10\n",
      "EarlyStopping counter: 4 out of 10\n",
      "EarlyStopping counter: 1 out of 10\n",
      "EarlyStopping counter: 5 out of 10\n",
      "EarlyStopping counter: 2 out of 10\n",
      "EarlyStopping counter: 6 out of 10\n",
      "EarlyStopping counter: 3 out of 10\n",
      "EarlyStopping counter: 7 out of 10\n",
      "EarlyStopping counter: 4 out of 10\n",
      "EarlyStopping counter: 8 out of 10\n",
      "EarlyStopping counter: 5 out of 10\n",
      "EarlyStopping counter: 9 out of 10\n",
      "EarlyStopping counter: 10 out of 10\n",
      "Early stopping at epoch 21\n",
      "EarlyStopping counter: 1 out of 10\n"
     ]
    },
    {
     "name": "stderr",
     "output_type": "stream",
     "text": [
      "[I 2025-06-05 11:13:21,859] Trial 82 finished with value: 0.5003656574520989 and parameters: {'embed_dim': 96, 'depths': [2, 2, 6, 2], 'num_heads': [4, 8, 16, 32], 'window_size': 14, 'mlp_ratio': 3.6573024348605614, 'drop_rate': 0.21624061847993317, 'attn_drop_rate': 0.12106485325966654, 'drop_path_rate': 0.20213682419644244, 'learning_rate': 5.808328531450413e-05, 'weight_decay': 3.72860020176766e-05}. Best is trial 45 with value: 0.6049740885091787.\n"
     ]
    },
    {
     "name": "stdout",
     "output_type": "stream",
     "text": [
      "Trial 82: Test Accuracy = 0.5004\n",
      "Trial 84 hyperparameters:\n",
      "embed_dim: 96\n",
      "depths: [2, 2, 6, 2]\n",
      "num_heads: [4, 8, 16, 32]\n",
      "window_size: 7\n",
      "mlp_ratio: 3.0575848165469224\n",
      "drop_rate: 0.20114789203380465\n",
      "attn_drop_rate: 0.22936826318426723\n",
      "drop_path_rate: 0.2630689087567478\n",
      "learning_rate: 0.00014671410276381066\n",
      "weight_decay: 7.745925780788962e-05\n",
      "batch_size: 16\n",
      "optimizer: Adam\n",
      "label_smoothing: 0.2\n",
      "factor: 1\n"
     ]
    },
    {
     "name": "stderr",
     "output_type": "stream",
     "text": [
      "c:\\Users\\Gabriel\\anaconda3\\envs\\cudaenv\\Lib\\site-packages\\optuna\\distributions.py:515: UserWarning: Choices for a categorical distribution should be a tuple of None, bool, int, float and str for persistent storage but contains [2, 2, 6, 2] which is of type list.\n",
      "  warnings.warn(message)\n",
      "c:\\Users\\Gabriel\\anaconda3\\envs\\cudaenv\\Lib\\site-packages\\optuna\\distributions.py:515: UserWarning: Choices for a categorical distribution should be a tuple of None, bool, int, float and str for persistent storage but contains [2, 2, 18, 2] which is of type list.\n",
      "  warnings.warn(message)\n",
      "c:\\Users\\Gabriel\\anaconda3\\envs\\cudaenv\\Lib\\site-packages\\optuna\\distributions.py:515: UserWarning: Choices for a categorical distribution should be a tuple of None, bool, int, float and str for persistent storage but contains [3, 6, 12, 24] which is of type list.\n",
      "  warnings.warn(message)\n",
      "c:\\Users\\Gabriel\\anaconda3\\envs\\cudaenv\\Lib\\site-packages\\optuna\\distributions.py:515: UserWarning: Choices for a categorical distribution should be a tuple of None, bool, int, float and str for persistent storage but contains [4, 8, 16, 32] which is of type list.\n",
      "  warnings.warn(message)\n"
     ]
    },
    {
     "name": "stdout",
     "output_type": "stream",
     "text": [
      "EarlyStopping counter: 2 out of 10\n",
      "EarlyStopping counter: 3 out of 10\n",
      "EarlyStopping counter: 4 out of 10\n",
      "EarlyStopping counter: 5 out of 10\n",
      "EarlyStopping counter: 1 out of 10\n",
      "EarlyStopping counter: 6 out of 10\n",
      "EarlyStopping counter: 2 out of 10\n",
      "EarlyStopping counter: 7 out of 10\n",
      "EarlyStopping counter: 3 out of 10\n",
      "EarlyStopping counter: 8 out of 10\n",
      "EarlyStopping counter: 9 out of 10\n",
      "EarlyStopping counter: 1 out of 10\n",
      "EarlyStopping counter: 10 out of 10\n",
      "Early stopping at epoch 30\n"
     ]
    },
    {
     "name": "stderr",
     "output_type": "stream",
     "text": [
      "[I 2025-06-05 11:14:52,659] Trial 83 finished with value: 0.5383143048063163 and parameters: {'embed_dim': 96, 'depths': [2, 2, 6, 2], 'num_heads': [4, 8, 16, 32], 'window_size': 7, 'mlp_ratio': 3.82877762912906, 'drop_rate': 0.21787456675142855, 'attn_drop_rate': 0.22895529785155444, 'drop_path_rate': 0.2615579724333658, 'learning_rate': 0.00012269358854958732, 'weight_decay': 2.8459572443414387e-05}. Best is trial 45 with value: 0.6049740885091787.\n"
     ]
    },
    {
     "name": "stdout",
     "output_type": "stream",
     "text": [
      "Trial 83: Test Accuracy = 0.5383\n",
      "Trial 85 hyperparameters:\n",
      "embed_dim: 96\n",
      "depths: [2, 2, 6, 2]\n",
      "num_heads: [4, 8, 16, 32]\n",
      "window_size: 7\n",
      "mlp_ratio: 3.71967150393925\n",
      "drop_rate: 0.1929050038099491\n",
      "attn_drop_rate: 0.0865812540146\n",
      "drop_path_rate: 0.3428913702901502\n",
      "learning_rate: 0.00023389015721137903\n",
      "weight_decay: 7.264820024656942e-05\n",
      "batch_size: 16\n",
      "optimizer: Adam\n",
      "label_smoothing: 0.2\n",
      "factor: 1\n"
     ]
    },
    {
     "name": "stderr",
     "output_type": "stream",
     "text": [
      "c:\\Users\\Gabriel\\anaconda3\\envs\\cudaenv\\Lib\\site-packages\\optuna\\distributions.py:515: UserWarning: Choices for a categorical distribution should be a tuple of None, bool, int, float and str for persistent storage but contains [2, 2, 6, 2] which is of type list.\n",
      "  warnings.warn(message)\n",
      "c:\\Users\\Gabriel\\anaconda3\\envs\\cudaenv\\Lib\\site-packages\\optuna\\distributions.py:515: UserWarning: Choices for a categorical distribution should be a tuple of None, bool, int, float and str for persistent storage but contains [2, 2, 18, 2] which is of type list.\n",
      "  warnings.warn(message)\n",
      "c:\\Users\\Gabriel\\anaconda3\\envs\\cudaenv\\Lib\\site-packages\\optuna\\distributions.py:515: UserWarning: Choices for a categorical distribution should be a tuple of None, bool, int, float and str for persistent storage but contains [3, 6, 12, 24] which is of type list.\n",
      "  warnings.warn(message)\n",
      "c:\\Users\\Gabriel\\anaconda3\\envs\\cudaenv\\Lib\\site-packages\\optuna\\distributions.py:515: UserWarning: Choices for a categorical distribution should be a tuple of None, bool, int, float and str for persistent storage but contains [4, 8, 16, 32] which is of type list.\n",
      "  warnings.warn(message)\n"
     ]
    },
    {
     "name": "stdout",
     "output_type": "stream",
     "text": [
      "EarlyStopping counter: 2 out of 10\n",
      "EarlyStopping counter: 3 out of 10\n",
      "EarlyStopping counter: 4 out of 10\n",
      "EarlyStopping counter: 1 out of 10\n",
      "EarlyStopping counter: 5 out of 10\n",
      "EarlyStopping counter: 2 out of 10\n",
      "EarlyStopping counter: 6 out of 10\n",
      "EarlyStopping counter: 3 out of 10\n",
      "EarlyStopping counter: 7 out of 10\n",
      "EarlyStopping counter: 8 out of 10\n",
      "EarlyStopping counter: 1 out of 10\n",
      "EarlyStopping counter: 9 out of 10\n",
      "EarlyStopping counter: 2 out of 10\n",
      "EarlyStopping counter: 10 out of 10\n",
      "Early stopping at epoch 16\n",
      "EarlyStopping counter: 3 out of 10\n"
     ]
    },
    {
     "name": "stderr",
     "output_type": "stream",
     "text": [
      "[I 2025-06-05 11:16:24,954] Trial 84 finished with value: 0.3333333333333333 and parameters: {'embed_dim': 96, 'depths': [2, 2, 6, 2], 'num_heads': [4, 8, 16, 32], 'window_size': 7, 'mlp_ratio': 3.0575848165469224, 'drop_rate': 0.20114789203380465, 'attn_drop_rate': 0.22936826318426723, 'drop_path_rate': 0.2630689087567478, 'learning_rate': 0.00014671410276381066, 'weight_decay': 7.745925780788962e-05}. Best is trial 45 with value: 0.6049740885091787.\n"
     ]
    },
    {
     "name": "stdout",
     "output_type": "stream",
     "text": [
      "Trial 84: Test Accuracy = 0.3333\n",
      "Trial 86 hyperparameters:\n",
      "embed_dim: 96\n",
      "depths: [2, 2, 6, 2]\n",
      "num_heads: [4, 8, 16, 32]\n",
      "window_size: 7\n",
      "mlp_ratio: 3.7202093314394182\n",
      "drop_rate: 0.18615425869627833\n",
      "attn_drop_rate: 0.19914536496326418\n",
      "drop_path_rate: 0.2234895319015834\n",
      "learning_rate: 0.0002349985717569841\n",
      "weight_decay: 4.944045781592883e-05\n",
      "batch_size: 16\n",
      "optimizer: Adam\n",
      "label_smoothing: 0.2\n",
      "factor: 1\n"
     ]
    },
    {
     "name": "stderr",
     "output_type": "stream",
     "text": [
      "c:\\Users\\Gabriel\\anaconda3\\envs\\cudaenv\\Lib\\site-packages\\optuna\\distributions.py:515: UserWarning: Choices for a categorical distribution should be a tuple of None, bool, int, float and str for persistent storage but contains [2, 2, 6, 2] which is of type list.\n",
      "  warnings.warn(message)\n",
      "c:\\Users\\Gabriel\\anaconda3\\envs\\cudaenv\\Lib\\site-packages\\optuna\\distributions.py:515: UserWarning: Choices for a categorical distribution should be a tuple of None, bool, int, float and str for persistent storage but contains [2, 2, 18, 2] which is of type list.\n",
      "  warnings.warn(message)\n",
      "c:\\Users\\Gabriel\\anaconda3\\envs\\cudaenv\\Lib\\site-packages\\optuna\\distributions.py:515: UserWarning: Choices for a categorical distribution should be a tuple of None, bool, int, float and str for persistent storage but contains [3, 6, 12, 24] which is of type list.\n",
      "  warnings.warn(message)\n",
      "c:\\Users\\Gabriel\\anaconda3\\envs\\cudaenv\\Lib\\site-packages\\optuna\\distributions.py:515: UserWarning: Choices for a categorical distribution should be a tuple of None, bool, int, float and str for persistent storage but contains [4, 8, 16, 32] which is of type list.\n",
      "  warnings.warn(message)\n"
     ]
    },
    {
     "name": "stdout",
     "output_type": "stream",
     "text": [
      "EarlyStopping counter: 4 out of 10\n",
      "EarlyStopping counter: 5 out of 10\n",
      "EarlyStopping counter: 6 out of 10\n",
      "EarlyStopping counter: 7 out of 10\n",
      "EarlyStopping counter: 8 out of 10\n",
      "EarlyStopping counter: 1 out of 10\n",
      "EarlyStopping counter: 9 out of 10\n",
      "EarlyStopping counter: 2 out of 10\n",
      "EarlyStopping counter: 10 out of 10\n",
      "Early stopping at epoch 14\n"
     ]
    },
    {
     "name": "stderr",
     "output_type": "stream",
     "text": [
      "[I 2025-06-05 11:17:35,771] Trial 85 finished with value: 0.38417836053537985 and parameters: {'embed_dim': 96, 'depths': [2, 2, 6, 2], 'num_heads': [4, 8, 16, 32], 'window_size': 7, 'mlp_ratio': 3.71967150393925, 'drop_rate': 0.1929050038099491, 'attn_drop_rate': 0.0865812540146, 'drop_path_rate': 0.3428913702901502, 'learning_rate': 0.00023389015721137903, 'weight_decay': 7.264820024656942e-05}. Best is trial 45 with value: 0.6049740885091787.\n"
     ]
    },
    {
     "name": "stdout",
     "output_type": "stream",
     "text": [
      "Trial 85: Test Accuracy = 0.3842\n",
      "Trial 87 hyperparameters:\n",
      "embed_dim: 96\n",
      "depths: [2, 2, 18, 2]\n",
      "num_heads: [4, 8, 16, 32]\n",
      "window_size: 7\n",
      "mlp_ratio: 2.0030165098457484\n",
      "drop_rate: 0.258468713139656\n",
      "attn_drop_rate: 0.1633237203867971\n",
      "drop_path_rate: 0.22130680955586135\n",
      "learning_rate: 0.00017599744269809983\n",
      "weight_decay: 7.609123502508294e-06\n",
      "batch_size: 16\n",
      "optimizer: Adam\n",
      "label_smoothing: 0.2\n",
      "factor: 1\n"
     ]
    },
    {
     "name": "stderr",
     "output_type": "stream",
     "text": [
      "c:\\Users\\Gabriel\\anaconda3\\envs\\cudaenv\\Lib\\site-packages\\optuna\\distributions.py:515: UserWarning: Choices for a categorical distribution should be a tuple of None, bool, int, float and str for persistent storage but contains [2, 2, 6, 2] which is of type list.\n",
      "  warnings.warn(message)\n",
      "c:\\Users\\Gabriel\\anaconda3\\envs\\cudaenv\\Lib\\site-packages\\optuna\\distributions.py:515: UserWarning: Choices for a categorical distribution should be a tuple of None, bool, int, float and str for persistent storage but contains [2, 2, 18, 2] which is of type list.\n",
      "  warnings.warn(message)\n",
      "c:\\Users\\Gabriel\\anaconda3\\envs\\cudaenv\\Lib\\site-packages\\optuna\\distributions.py:515: UserWarning: Choices for a categorical distribution should be a tuple of None, bool, int, float and str for persistent storage but contains [3, 6, 12, 24] which is of type list.\n",
      "  warnings.warn(message)\n",
      "c:\\Users\\Gabriel\\anaconda3\\envs\\cudaenv\\Lib\\site-packages\\optuna\\distributions.py:515: UserWarning: Choices for a categorical distribution should be a tuple of None, bool, int, float and str for persistent storage but contains [4, 8, 16, 32] which is of type list.\n",
      "  warnings.warn(message)\n"
     ]
    },
    {
     "name": "stdout",
     "output_type": "stream",
     "text": [
      "EarlyStopping counter: 1 out of 10\n",
      "EarlyStopping counter: 2 out of 10\n",
      "EarlyStopping counter: 3 out of 10\n",
      "EarlyStopping counter: 4 out of 10\n",
      "EarlyStopping counter: 1 out of 10\n",
      "EarlyStopping counter: 5 out of 10\n",
      "EarlyStopping counter: 2 out of 10\n",
      "EarlyStopping counter: 6 out of 10\n",
      "EarlyStopping counter: 7 out of 10\n",
      "EarlyStopping counter: 8 out of 10\n",
      "EarlyStopping counter: 1 out of 10\n",
      "EarlyStopping counter: 9 out of 10\n",
      "EarlyStopping counter: 2 out of 10\n",
      "EarlyStopping counter: 10 out of 10\n",
      "Early stopping at epoch 16\n"
     ]
    },
    {
     "name": "stderr",
     "output_type": "stream",
     "text": [
      "[I 2025-06-05 11:19:17,755] Trial 86 finished with value: 0.3333333333333333 and parameters: {'embed_dim': 96, 'depths': [2, 2, 6, 2], 'num_heads': [4, 8, 16, 32], 'window_size': 7, 'mlp_ratio': 3.7202093314394182, 'drop_rate': 0.18615425869627833, 'attn_drop_rate': 0.19914536496326418, 'drop_path_rate': 0.2234895319015834, 'learning_rate': 0.0002349985717569841, 'weight_decay': 4.944045781592883e-05}. Best is trial 45 with value: 0.6049740885091787.\n"
     ]
    },
    {
     "name": "stdout",
     "output_type": "stream",
     "text": [
      "Trial 86: Test Accuracy = 0.3333\n",
      "Trial 88 hyperparameters:\n",
      "embed_dim: 96\n",
      "depths: [2, 2, 18, 2]\n",
      "num_heads: [3, 6, 12, 24]\n",
      "window_size: 7\n",
      "mlp_ratio: 2.0064105579386546\n",
      "drop_rate: 0.2576288898549031\n",
      "attn_drop_rate: 0.16245068577988145\n",
      "drop_path_rate: 0.1845274623731029\n",
      "learning_rate: 0.00033473110617880463\n",
      "weight_decay: 8.55636275491219e-06\n",
      "batch_size: 16\n",
      "optimizer: Adam\n",
      "label_smoothing: 0.2\n",
      "factor: 1\n"
     ]
    },
    {
     "name": "stderr",
     "output_type": "stream",
     "text": [
      "c:\\Users\\Gabriel\\anaconda3\\envs\\cudaenv\\Lib\\site-packages\\optuna\\distributions.py:515: UserWarning: Choices for a categorical distribution should be a tuple of None, bool, int, float and str for persistent storage but contains [2, 2, 6, 2] which is of type list.\n",
      "  warnings.warn(message)\n",
      "c:\\Users\\Gabriel\\anaconda3\\envs\\cudaenv\\Lib\\site-packages\\optuna\\distributions.py:515: UserWarning: Choices for a categorical distribution should be a tuple of None, bool, int, float and str for persistent storage but contains [2, 2, 18, 2] which is of type list.\n",
      "  warnings.warn(message)\n",
      "c:\\Users\\Gabriel\\anaconda3\\envs\\cudaenv\\Lib\\site-packages\\optuna\\distributions.py:515: UserWarning: Choices for a categorical distribution should be a tuple of None, bool, int, float and str for persistent storage but contains [3, 6, 12, 24] which is of type list.\n",
      "  warnings.warn(message)\n",
      "c:\\Users\\Gabriel\\anaconda3\\envs\\cudaenv\\Lib\\site-packages\\optuna\\distributions.py:515: UserWarning: Choices for a categorical distribution should be a tuple of None, bool, int, float and str for persistent storage but contains [4, 8, 16, 32] which is of type list.\n",
      "  warnings.warn(message)\n"
     ]
    },
    {
     "name": "stdout",
     "output_type": "stream",
     "text": [
      "EarlyStopping counter: 3 out of 10\n",
      "EarlyStopping counter: 4 out of 10\n",
      "EarlyStopping counter: 5 out of 10\n",
      "EarlyStopping counter: 1 out of 10\n",
      "EarlyStopping counter: 6 out of 10\n",
      "EarlyStopping counter: 2 out of 10\n",
      "EarlyStopping counter: 7 out of 10\n",
      "EarlyStopping counter: 3 out of 10\n",
      "EarlyStopping counter: 8 out of 10\n",
      "EarlyStopping counter: 4 out of 10\n",
      "EarlyStopping counter: 9 out of 10\n",
      "EarlyStopping counter: 5 out of 10\n",
      "EarlyStopping counter: 10 out of 10\n",
      "Early stopping at epoch 14\n"
     ]
    },
    {
     "name": "stderr",
     "output_type": "stream",
     "text": [
      "[I 2025-06-05 11:20:56,133] Trial 87 finished with value: 0.3317829457364341 and parameters: {'embed_dim': 96, 'depths': [2, 2, 18, 2], 'num_heads': [4, 8, 16, 32], 'window_size': 7, 'mlp_ratio': 2.0030165098457484, 'drop_rate': 0.258468713139656, 'attn_drop_rate': 0.1633237203867971, 'drop_path_rate': 0.22130680955586135, 'learning_rate': 0.00017599744269809983, 'weight_decay': 7.609123502508294e-06}. Best is trial 45 with value: 0.6049740885091787.\n"
     ]
    },
    {
     "name": "stdout",
     "output_type": "stream",
     "text": [
      "Trial 87: Test Accuracy = 0.3318\n",
      "Trial 89 hyperparameters:\n",
      "embed_dim: 96\n",
      "depths: [2, 2, 6, 2]\n",
      "num_heads: [3, 6, 12, 24]\n",
      "window_size: 7\n",
      "mlp_ratio: 3.162328469942392\n",
      "drop_rate: 0.23575646867013142\n",
      "attn_drop_rate: 0.24830057336976508\n",
      "drop_path_rate: 0.18608717667986463\n",
      "learning_rate: 9.476406306208468e-05\n",
      "weight_decay: 9.26547250023856e-05\n",
      "batch_size: 16\n",
      "optimizer: Adam\n",
      "label_smoothing: 0.2\n",
      "factor: 1\n"
     ]
    },
    {
     "name": "stderr",
     "output_type": "stream",
     "text": [
      "c:\\Users\\Gabriel\\anaconda3\\envs\\cudaenv\\Lib\\site-packages\\optuna\\distributions.py:515: UserWarning: Choices for a categorical distribution should be a tuple of None, bool, int, float and str for persistent storage but contains [2, 2, 6, 2] which is of type list.\n",
      "  warnings.warn(message)\n",
      "c:\\Users\\Gabriel\\anaconda3\\envs\\cudaenv\\Lib\\site-packages\\optuna\\distributions.py:515: UserWarning: Choices for a categorical distribution should be a tuple of None, bool, int, float and str for persistent storage but contains [2, 2, 18, 2] which is of type list.\n",
      "  warnings.warn(message)\n",
      "c:\\Users\\Gabriel\\anaconda3\\envs\\cudaenv\\Lib\\site-packages\\optuna\\distributions.py:515: UserWarning: Choices for a categorical distribution should be a tuple of None, bool, int, float and str for persistent storage but contains [3, 6, 12, 24] which is of type list.\n",
      "  warnings.warn(message)\n",
      "c:\\Users\\Gabriel\\anaconda3\\envs\\cudaenv\\Lib\\site-packages\\optuna\\distributions.py:515: UserWarning: Choices for a categorical distribution should be a tuple of None, bool, int, float and str for persistent storage but contains [4, 8, 16, 32] which is of type list.\n",
      "  warnings.warn(message)\n"
     ]
    },
    {
     "name": "stdout",
     "output_type": "stream",
     "text": [
      "EarlyStopping counter: 6 out of 10\n",
      "EarlyStopping counter: 7 out of 10\n",
      "EarlyStopping counter: 1 out of 10\n",
      "EarlyStopping counter: 8 out of 10\n",
      "EarlyStopping counter: 2 out of 10\n",
      "EarlyStopping counter: 9 out of 10\n",
      "EarlyStopping counter: 10 out of 10\n",
      "Early stopping at epoch 11\n",
      "EarlyStopping counter: 1 out of 10\n"
     ]
    },
    {
     "name": "stderr",
     "output_type": "stream",
     "text": [
      "[I 2025-06-05 11:21:48,233] Trial 88 finished with value: 0.3333333333333333 and parameters: {'embed_dim': 96, 'depths': [2, 2, 18, 2], 'num_heads': [3, 6, 12, 24], 'window_size': 7, 'mlp_ratio': 2.0064105579386546, 'drop_rate': 0.2576288898549031, 'attn_drop_rate': 0.16245068577988145, 'drop_path_rate': 0.1845274623731029, 'learning_rate': 0.00033473110617880463, 'weight_decay': 8.55636275491219e-06}. Best is trial 45 with value: 0.6049740885091787.\n"
     ]
    },
    {
     "name": "stdout",
     "output_type": "stream",
     "text": [
      "Trial 88: Test Accuracy = 0.3333\n",
      "Trial 90 hyperparameters:\n",
      "embed_dim: 128\n",
      "depths: [2, 2, 6, 2]\n",
      "num_heads: [4, 8, 16, 32]\n",
      "window_size: 14\n",
      "mlp_ratio: 2.502677855123098\n",
      "drop_rate: 0.23302520903512153\n",
      "attn_drop_rate: 0.1386221828981738\n",
      "drop_path_rate: 0.2844188888826803\n",
      "learning_rate: 8.049131718687148e-05\n",
      "weight_decay: 1.552217007903198e-06\n",
      "batch_size: 16\n",
      "optimizer: Adam\n",
      "label_smoothing: 0.2\n",
      "factor: 1\n"
     ]
    },
    {
     "name": "stderr",
     "output_type": "stream",
     "text": [
      "c:\\Users\\Gabriel\\anaconda3\\envs\\cudaenv\\Lib\\site-packages\\optuna\\distributions.py:515: UserWarning: Choices for a categorical distribution should be a tuple of None, bool, int, float and str for persistent storage but contains [2, 2, 6, 2] which is of type list.\n",
      "  warnings.warn(message)\n",
      "c:\\Users\\Gabriel\\anaconda3\\envs\\cudaenv\\Lib\\site-packages\\optuna\\distributions.py:515: UserWarning: Choices for a categorical distribution should be a tuple of None, bool, int, float and str for persistent storage but contains [2, 2, 18, 2] which is of type list.\n",
      "  warnings.warn(message)\n",
      "c:\\Users\\Gabriel\\anaconda3\\envs\\cudaenv\\Lib\\site-packages\\optuna\\distributions.py:515: UserWarning: Choices for a categorical distribution should be a tuple of None, bool, int, float and str for persistent storage but contains [3, 6, 12, 24] which is of type list.\n",
      "  warnings.warn(message)\n",
      "c:\\Users\\Gabriel\\anaconda3\\envs\\cudaenv\\Lib\\site-packages\\optuna\\distributions.py:515: UserWarning: Choices for a categorical distribution should be a tuple of None, bool, int, float and str for persistent storage but contains [4, 8, 16, 32] which is of type list.\n",
      "  warnings.warn(message)\n"
     ]
    },
    {
     "name": "stdout",
     "output_type": "stream",
     "text": [
      "EarlyStopping counter: 1 out of 10\n",
      "EarlyStopping counter: 1 out of 10\n",
      "EarlyStopping counter: 2 out of 10\n",
      "EarlyStopping counter: 2 out of 10\n",
      "EarlyStopping counter: 3 out of 10\n",
      "EarlyStopping counter: 1 out of 10\n",
      "EarlyStopping counter: 4 out of 10\n",
      "EarlyStopping counter: 2 out of 10\n",
      "EarlyStopping counter: 5 out of 10\n",
      "EarlyStopping counter: 3 out of 10\n",
      "EarlyStopping counter: 6 out of 10\n",
      "EarlyStopping counter: 4 out of 10\n",
      "EarlyStopping counter: 7 out of 10\n",
      "EarlyStopping counter: 5 out of 10\n",
      "EarlyStopping counter: 8 out of 10\n",
      "EarlyStopping counter: 6 out of 10\n",
      "EarlyStopping counter: 9 out of 10\n",
      "EarlyStopping counter: 7 out of 10\n",
      "EarlyStopping counter: 10 out of 10\n",
      "Early stopping at epoch 10\n",
      "EarlyStopping counter: 8 out of 10\n"
     ]
    },
    {
     "name": "stderr",
     "output_type": "stream",
     "text": [
      "[I 2025-06-05 11:24:11,948] Trial 90 finished with value: 0.4928104575163399 and parameters: {'embed_dim': 128, 'depths': [2, 2, 6, 2], 'num_heads': [4, 8, 16, 32], 'window_size': 14, 'mlp_ratio': 2.502677855123098, 'drop_rate': 0.23302520903512153, 'attn_drop_rate': 0.1386221828981738, 'drop_path_rate': 0.2844188888826803, 'learning_rate': 8.049131718687148e-05, 'weight_decay': 1.552217007903198e-06}. Best is trial 45 with value: 0.6049740885091787.\n"
     ]
    },
    {
     "name": "stdout",
     "output_type": "stream",
     "text": [
      "Trial 90: Test Accuracy = 0.4928\n",
      "Trial 91 hyperparameters:\n",
      "embed_dim: 96\n",
      "depths: [2, 2, 6, 2]\n",
      "num_heads: [3, 6, 12, 24]\n",
      "window_size: 7\n",
      "mlp_ratio: 3.9322336878455073\n",
      "drop_rate: 0.2752921331032437\n",
      "attn_drop_rate: 0.2483129245620859\n",
      "drop_path_rate: 0.1664502293398118\n",
      "learning_rate: 0.00012389411399635016\n",
      "weight_decay: 0.00013442206790528747\n",
      "batch_size: 16\n",
      "optimizer: Adam\n",
      "label_smoothing: 0.2\n",
      "factor: 1\n"
     ]
    },
    {
     "name": "stderr",
     "output_type": "stream",
     "text": [
      "c:\\Users\\Gabriel\\anaconda3\\envs\\cudaenv\\Lib\\site-packages\\optuna\\distributions.py:515: UserWarning: Choices for a categorical distribution should be a tuple of None, bool, int, float and str for persistent storage but contains [2, 2, 6, 2] which is of type list.\n",
      "  warnings.warn(message)\n",
      "c:\\Users\\Gabriel\\anaconda3\\envs\\cudaenv\\Lib\\site-packages\\optuna\\distributions.py:515: UserWarning: Choices for a categorical distribution should be a tuple of None, bool, int, float and str for persistent storage but contains [2, 2, 18, 2] which is of type list.\n",
      "  warnings.warn(message)\n",
      "c:\\Users\\Gabriel\\anaconda3\\envs\\cudaenv\\Lib\\site-packages\\optuna\\distributions.py:515: UserWarning: Choices for a categorical distribution should be a tuple of None, bool, int, float and str for persistent storage but contains [3, 6, 12, 24] which is of type list.\n",
      "  warnings.warn(message)\n",
      "c:\\Users\\Gabriel\\anaconda3\\envs\\cudaenv\\Lib\\site-packages\\optuna\\distributions.py:515: UserWarning: Choices for a categorical distribution should be a tuple of None, bool, int, float and str for persistent storage but contains [4, 8, 16, 32] which is of type list.\n",
      "  warnings.warn(message)\n"
     ]
    },
    {
     "name": "stdout",
     "output_type": "stream",
     "text": [
      "EarlyStopping counter: 9 out of 10\n",
      "EarlyStopping counter: 10 out of 10\n",
      "Early stopping at epoch 18\n"
     ]
    },
    {
     "name": "stderr",
     "output_type": "stream",
     "text": [
      "[I 2025-06-05 11:24:30,348] Trial 89 finished with value: 0.5663956499668757 and parameters: {'embed_dim': 96, 'depths': [2, 2, 6, 2], 'num_heads': [3, 6, 12, 24], 'window_size': 7, 'mlp_ratio': 3.162328469942392, 'drop_rate': 0.23575646867013142, 'attn_drop_rate': 0.24830057336976508, 'drop_path_rate': 0.18608717667986463, 'learning_rate': 9.476406306208468e-05, 'weight_decay': 9.26547250023856e-05}. Best is trial 45 with value: 0.6049740885091787.\n"
     ]
    },
    {
     "name": "stdout",
     "output_type": "stream",
     "text": [
      "Trial 89: Test Accuracy = 0.5664\n",
      "Trial 92 hyperparameters:\n",
      "embed_dim: 128\n",
      "depths: [2, 2, 18, 2]\n",
      "num_heads: [3, 6, 12, 24]\n",
      "window_size: 7\n",
      "mlp_ratio: 3.8431580899320488\n",
      "drop_rate: 0.421807565705335\n",
      "attn_drop_rate: 0.21234951688432832\n",
      "drop_path_rate: 0.34393707008145935\n",
      "learning_rate: 1.5007468803221131e-05\n",
      "weight_decay: 1.5664510786533226e-05\n",
      "batch_size: 16\n",
      "optimizer: Adam\n",
      "label_smoothing: 0.2\n",
      "factor: 1\n"
     ]
    },
    {
     "name": "stderr",
     "output_type": "stream",
     "text": [
      "c:\\Users\\Gabriel\\anaconda3\\envs\\cudaenv\\Lib\\site-packages\\optuna\\distributions.py:515: UserWarning: Choices for a categorical distribution should be a tuple of None, bool, int, float and str for persistent storage but contains [2, 2, 6, 2] which is of type list.\n",
      "  warnings.warn(message)\n",
      "c:\\Users\\Gabriel\\anaconda3\\envs\\cudaenv\\Lib\\site-packages\\optuna\\distributions.py:515: UserWarning: Choices for a categorical distribution should be a tuple of None, bool, int, float and str for persistent storage but contains [2, 2, 18, 2] which is of type list.\n",
      "  warnings.warn(message)\n",
      "c:\\Users\\Gabriel\\anaconda3\\envs\\cudaenv\\Lib\\site-packages\\optuna\\distributions.py:515: UserWarning: Choices for a categorical distribution should be a tuple of None, bool, int, float and str for persistent storage but contains [3, 6, 12, 24] which is of type list.\n",
      "  warnings.warn(message)\n",
      "c:\\Users\\Gabriel\\anaconda3\\envs\\cudaenv\\Lib\\site-packages\\optuna\\distributions.py:515: UserWarning: Choices for a categorical distribution should be a tuple of None, bool, int, float and str for persistent storage but contains [4, 8, 16, 32] which is of type list.\n",
      "  warnings.warn(message)\n"
     ]
    },
    {
     "name": "stdout",
     "output_type": "stream",
     "text": [
      "EarlyStopping counter: 1 out of 10\n",
      "EarlyStopping counter: 2 out of 10\n",
      "EarlyStopping counter: 1 out of 10\n",
      "EarlyStopping counter: 1 out of 10\n",
      "EarlyStopping counter: 2 out of 10\n",
      "EarlyStopping counter: 2 out of 10\n",
      "EarlyStopping counter: 3 out of 10\n",
      "EarlyStopping counter: 4 out of 10\n",
      "EarlyStopping counter: 1 out of 10\n",
      "EarlyStopping counter: 5 out of 10\n",
      "EarlyStopping counter: 2 out of 10\n",
      "EarlyStopping counter: 6 out of 10\n",
      "EarlyStopping counter: 7 out of 10\n",
      "EarlyStopping counter: 3 out of 10\n",
      "EarlyStopping counter: 8 out of 10\n",
      "EarlyStopping counter: 4 out of 10\n",
      "EarlyStopping counter: 9 out of 10\n",
      "EarlyStopping counter: 10 out of 10\n",
      "Early stopping at epoch 14\n"
     ]
    },
    {
     "name": "stderr",
     "output_type": "stream",
     "text": [
      "[I 2025-06-05 11:27:19,919] Trial 91 finished with value: 0.3333333333333333 and parameters: {'embed_dim': 96, 'depths': [2, 2, 6, 2], 'num_heads': [3, 6, 12, 24], 'window_size': 7, 'mlp_ratio': 3.9322336878455073, 'drop_rate': 0.2752921331032437, 'attn_drop_rate': 0.2483129245620859, 'drop_path_rate': 0.1664502293398118, 'learning_rate': 0.00012389411399635016, 'weight_decay': 0.00013442206790528747}. Best is trial 45 with value: 0.6049740885091787.\n"
     ]
    },
    {
     "name": "stdout",
     "output_type": "stream",
     "text": [
      "Trial 91: Test Accuracy = 0.3333\n",
      "Trial 93 hyperparameters:\n",
      "embed_dim: 128\n",
      "depths: [2, 2, 18, 2]\n",
      "num_heads: [3, 6, 12, 24]\n",
      "window_size: 7\n",
      "mlp_ratio: 3.841113578647213\n",
      "drop_rate: 0.4355424811996022\n",
      "attn_drop_rate: 0.45493489623242167\n",
      "drop_path_rate: 0.33651439001439365\n",
      "learning_rate: 1.2076249440324521e-05\n",
      "weight_decay: 1.3261520130204676e-05\n",
      "batch_size: 16\n",
      "optimizer: Adam\n",
      "label_smoothing: 0.2\n",
      "factor: 1\n"
     ]
    },
    {
     "name": "stderr",
     "output_type": "stream",
     "text": [
      "c:\\Users\\Gabriel\\anaconda3\\envs\\cudaenv\\Lib\\site-packages\\optuna\\distributions.py:515: UserWarning: Choices for a categorical distribution should be a tuple of None, bool, int, float and str for persistent storage but contains [2, 2, 6, 2] which is of type list.\n",
      "  warnings.warn(message)\n",
      "c:\\Users\\Gabriel\\anaconda3\\envs\\cudaenv\\Lib\\site-packages\\optuna\\distributions.py:515: UserWarning: Choices for a categorical distribution should be a tuple of None, bool, int, float and str for persistent storage but contains [2, 2, 18, 2] which is of type list.\n",
      "  warnings.warn(message)\n",
      "c:\\Users\\Gabriel\\anaconda3\\envs\\cudaenv\\Lib\\site-packages\\optuna\\distributions.py:515: UserWarning: Choices for a categorical distribution should be a tuple of None, bool, int, float and str for persistent storage but contains [3, 6, 12, 24] which is of type list.\n",
      "  warnings.warn(message)\n",
      "c:\\Users\\Gabriel\\anaconda3\\envs\\cudaenv\\Lib\\site-packages\\optuna\\distributions.py:515: UserWarning: Choices for a categorical distribution should be a tuple of None, bool, int, float and str for persistent storage but contains [4, 8, 16, 32] which is of type list.\n",
      "  warnings.warn(message)\n"
     ]
    },
    {
     "name": "stdout",
     "output_type": "stream",
     "text": [
      "EarlyStopping counter: 5 out of 10\n",
      "EarlyStopping counter: 6 out of 10\n",
      "EarlyStopping counter: 7 out of 10\n",
      "EarlyStopping counter: 1 out of 10\n",
      "EarlyStopping counter: 8 out of 10\n",
      "EarlyStopping counter: 2 out of 10\n",
      "EarlyStopping counter: 9 out of 10\n",
      "EarlyStopping counter: 10 out of 10\n",
      "Early stopping at epoch 13\n",
      "EarlyStopping counter: 1 out of 10\n",
      "Trial 92: Test Accuracy = 0.4632\n"
     ]
    },
    {
     "name": "stderr",
     "output_type": "stream",
     "text": [
      "[I 2025-06-05 11:36:46,018] Trial 92 finished with value: 0.46317012105412586 and parameters: {'embed_dim': 128, 'depths': [2, 2, 18, 2], 'num_heads': [3, 6, 12, 24], 'window_size': 7, 'mlp_ratio': 3.8431580899320488, 'drop_rate': 0.421807565705335, 'attn_drop_rate': 0.21234951688432832, 'drop_path_rate': 0.34393707008145935, 'learning_rate': 1.5007468803221131e-05, 'weight_decay': 1.5664510786533226e-05}. Best is trial 45 with value: 0.6049740885091787.\n",
      "c:\\Users\\Gabriel\\anaconda3\\envs\\cudaenv\\Lib\\site-packages\\optuna\\distributions.py:515: UserWarning: Choices for a categorical distribution should be a tuple of None, bool, int, float and str for persistent storage but contains [2, 2, 6, 2] which is of type list.\n",
      "  warnings.warn(message)\n",
      "c:\\Users\\Gabriel\\anaconda3\\envs\\cudaenv\\Lib\\site-packages\\optuna\\distributions.py:515: UserWarning: Choices for a categorical distribution should be a tuple of None, bool, int, float and str for persistent storage but contains [2, 2, 18, 2] which is of type list.\n",
      "  warnings.warn(message)\n",
      "c:\\Users\\Gabriel\\anaconda3\\envs\\cudaenv\\Lib\\site-packages\\optuna\\distributions.py:515: UserWarning: Choices for a categorical distribution should be a tuple of None, bool, int, float and str for persistent storage but contains [3, 6, 12, 24] which is of type list.\n",
      "  warnings.warn(message)\n",
      "c:\\Users\\Gabriel\\anaconda3\\envs\\cudaenv\\Lib\\site-packages\\optuna\\distributions.py:515: UserWarning: Choices for a categorical distribution should be a tuple of None, bool, int, float and str for persistent storage but contains [4, 8, 16, 32] which is of type list.\n",
      "  warnings.warn(message)\n"
     ]
    },
    {
     "name": "stdout",
     "output_type": "stream",
     "text": [
      "Trial 94 hyperparameters:\n",
      "embed_dim: 128\n",
      "depths: [2, 2, 18, 2]\n",
      "num_heads: [3, 6, 12, 24]\n",
      "window_size: 7\n",
      "mlp_ratio: 3.8704415127087906\n",
      "drop_rate: 0.4545595864536073\n",
      "attn_drop_rate: 0.4566411829781626\n",
      "drop_path_rate: 0.3171517329229257\n",
      "learning_rate: 1.2136206927559726e-05\n",
      "weight_decay: 1.3343690999979262e-05\n",
      "batch_size: 16\n",
      "optimizer: Adam\n",
      "label_smoothing: 0.2\n",
      "factor: 1\n",
      "EarlyStopping counter: 2 out of 10\n",
      "EarlyStopping counter: 3 out of 10\n",
      "EarlyStopping counter: 1 out of 10\n",
      "EarlyStopping counter: 4 out of 10\n",
      "EarlyStopping counter: 5 out of 10\n",
      "EarlyStopping counter: 1 out of 10\n",
      "EarlyStopping counter: 6 out of 10\n",
      "EarlyStopping counter: 2 out of 10\n",
      "EarlyStopping counter: 7 out of 10\n",
      "EarlyStopping counter: 3 out of 10\n",
      "EarlyStopping counter: 1 out of 10\n",
      "EarlyStopping counter: 4 out of 10\n",
      "EarlyStopping counter: 2 out of 10\n",
      "EarlyStopping counter: 5 out of 10\n",
      "EarlyStopping counter: 3 out of 10\n",
      "EarlyStopping counter: 4 out of 10\n",
      "EarlyStopping counter: 6 out of 10\n",
      "EarlyStopping counter: 5 out of 10\n",
      "EarlyStopping counter: 7 out of 10\n",
      "EarlyStopping counter: 6 out of 10\n",
      "EarlyStopping counter: 8 out of 10\n",
      "EarlyStopping counter: 9 out of 10\n",
      "EarlyStopping counter: 1 out of 10\n",
      "EarlyStopping counter: 10 out of 10\n",
      "Early stopping at epoch 12\n",
      "Trial 94: Test Accuracy = 0.3657\n",
      "EarlyStopping counter: 2 out of 10\n"
     ]
    },
    {
     "name": "stderr",
     "output_type": "stream",
     "text": [
      "[I 2025-06-05 12:06:47,644] Trial 94 finished with value: 0.3657062064258203 and parameters: {'embed_dim': 128, 'depths': [2, 2, 18, 2], 'num_heads': [3, 6, 12, 24], 'window_size': 7, 'mlp_ratio': 3.8704415127087906, 'drop_rate': 0.4545595864536073, 'attn_drop_rate': 0.4566411829781626, 'drop_path_rate': 0.3171517329229257, 'learning_rate': 1.2136206927559726e-05, 'weight_decay': 1.3343690999979262e-05}. Best is trial 45 with value: 0.6049740885091787.\n",
      "c:\\Users\\Gabriel\\anaconda3\\envs\\cudaenv\\Lib\\site-packages\\optuna\\distributions.py:515: UserWarning: Choices for a categorical distribution should be a tuple of None, bool, int, float and str for persistent storage but contains [2, 2, 6, 2] which is of type list.\n",
      "  warnings.warn(message)\n",
      "c:\\Users\\Gabriel\\anaconda3\\envs\\cudaenv\\Lib\\site-packages\\optuna\\distributions.py:515: UserWarning: Choices for a categorical distribution should be a tuple of None, bool, int, float and str for persistent storage but contains [2, 2, 18, 2] which is of type list.\n",
      "  warnings.warn(message)\n",
      "c:\\Users\\Gabriel\\anaconda3\\envs\\cudaenv\\Lib\\site-packages\\optuna\\distributions.py:515: UserWarning: Choices for a categorical distribution should be a tuple of None, bool, int, float and str for persistent storage but contains [3, 6, 12, 24] which is of type list.\n",
      "  warnings.warn(message)\n",
      "c:\\Users\\Gabriel\\anaconda3\\envs\\cudaenv\\Lib\\site-packages\\optuna\\distributions.py:515: UserWarning: Choices for a categorical distribution should be a tuple of None, bool, int, float and str for persistent storage but contains [4, 8, 16, 32] which is of type list.\n",
      "  warnings.warn(message)\n"
     ]
    },
    {
     "name": "stdout",
     "output_type": "stream",
     "text": [
      "Trial 95 hyperparameters:\n",
      "embed_dim: 128\n",
      "depths: [2, 2, 18, 2]\n",
      "num_heads: [3, 6, 12, 24]\n",
      "window_size: 7\n",
      "mlp_ratio: 3.0079506330082046\n",
      "drop_rate: 0.14990399567452586\n",
      "attn_drop_rate: 0.2077783421778936\n",
      "drop_path_rate: 0.3826614496342332\n",
      "learning_rate: 2.3788240453646526e-05\n",
      "weight_decay: 1.1838072932950614e-05\n",
      "batch_size: 16\n",
      "optimizer: Adam\n",
      "label_smoothing: 0.2\n",
      "factor: 1\n",
      "EarlyStopping counter: 3 out of 10\n",
      "EarlyStopping counter: 4 out of 10\n",
      "EarlyStopping counter: 5 out of 10\n",
      "EarlyStopping counter: 6 out of 10\n",
      "EarlyStopping counter: 1 out of 10\n",
      "EarlyStopping counter: 7 out of 10\n",
      "EarlyStopping counter: 2 out of 10\n",
      "EarlyStopping counter: 8 out of 10\n",
      "EarlyStopping counter: 9 out of 10\n",
      "EarlyStopping counter: 1 out of 10\n",
      "EarlyStopping counter: 10 out of 10\n",
      "Early stopping at epoch 29\n",
      "EarlyStopping counter: 2 out of 10\n",
      "Trial 93: Test Accuracy = 0.5265\n"
     ]
    },
    {
     "name": "stderr",
     "output_type": "stream",
     "text": [
      "[I 2025-06-05 12:15:51,122] Trial 93 finished with value: 0.5265323915144529 and parameters: {'embed_dim': 128, 'depths': [2, 2, 18, 2], 'num_heads': [3, 6, 12, 24], 'window_size': 7, 'mlp_ratio': 3.841113578647213, 'drop_rate': 0.4355424811996022, 'attn_drop_rate': 0.45493489623242167, 'drop_path_rate': 0.33651439001439365, 'learning_rate': 1.2076249440324521e-05, 'weight_decay': 1.3261520130204676e-05}. Best is trial 45 with value: 0.6049740885091787.\n",
      "c:\\Users\\Gabriel\\anaconda3\\envs\\cudaenv\\Lib\\site-packages\\optuna\\distributions.py:515: UserWarning: Choices for a categorical distribution should be a tuple of None, bool, int, float and str for persistent storage but contains [2, 2, 6, 2] which is of type list.\n",
      "  warnings.warn(message)\n",
      "c:\\Users\\Gabriel\\anaconda3\\envs\\cudaenv\\Lib\\site-packages\\optuna\\distributions.py:515: UserWarning: Choices for a categorical distribution should be a tuple of None, bool, int, float and str for persistent storage but contains [2, 2, 18, 2] which is of type list.\n",
      "  warnings.warn(message)\n",
      "c:\\Users\\Gabriel\\anaconda3\\envs\\cudaenv\\Lib\\site-packages\\optuna\\distributions.py:515: UserWarning: Choices for a categorical distribution should be a tuple of None, bool, int, float and str for persistent storage but contains [3, 6, 12, 24] which is of type list.\n",
      "  warnings.warn(message)\n",
      "c:\\Users\\Gabriel\\anaconda3\\envs\\cudaenv\\Lib\\site-packages\\optuna\\distributions.py:515: UserWarning: Choices for a categorical distribution should be a tuple of None, bool, int, float and str for persistent storage but contains [4, 8, 16, 32] which is of type list.\n",
      "  warnings.warn(message)\n"
     ]
    },
    {
     "name": "stdout",
     "output_type": "stream",
     "text": [
      "Trial 96 hyperparameters:\n",
      "embed_dim: 128\n",
      "depths: [2, 2, 18, 2]\n",
      "num_heads: [3, 6, 12, 24]\n",
      "window_size: 7\n",
      "mlp_ratio: 3.9806706400491505\n",
      "drop_rate: 0.15247622558178325\n",
      "attn_drop_rate: 0.26965455555057816\n",
      "drop_path_rate: 0.3551285335943277\n",
      "learning_rate: 2.3161862002481748e-05\n",
      "weight_decay: 5.316058949642454e-06\n",
      "batch_size: 16\n",
      "optimizer: Adam\n",
      "label_smoothing: 0.2\n",
      "factor: 1\n",
      "EarlyStopping counter: 3 out of 10\n",
      "EarlyStopping counter: 4 out of 10\n",
      "EarlyStopping counter: 1 out of 10\n",
      "EarlyStopping counter: 5 out of 10\n",
      "EarlyStopping counter: 6 out of 10\n",
      "EarlyStopping counter: 1 out of 10\n",
      "EarlyStopping counter: 7 out of 10\n",
      "EarlyStopping counter: 2 out of 10\n",
      "EarlyStopping counter: 3 out of 10\n",
      "EarlyStopping counter: 1 out of 10\n",
      "EarlyStopping counter: 4 out of 10\n",
      "EarlyStopping counter: 2 out of 10\n",
      "EarlyStopping counter: 5 out of 10\n",
      "EarlyStopping counter: 3 out of 10\n",
      "EarlyStopping counter: 6 out of 10\n",
      "EarlyStopping counter: 4 out of 10\n",
      "EarlyStopping counter: 7 out of 10\n",
      "EarlyStopping counter: 5 out of 10\n",
      "EarlyStopping counter: 8 out of 10\n",
      "EarlyStopping counter: 6 out of 10\n",
      "EarlyStopping counter: 9 out of 10\n",
      "EarlyStopping counter: 7 out of 10\n",
      "EarlyStopping counter: 10 out of 10\n",
      "Early stopping at epoch 13\n",
      "Trial 96: Test Accuracy = 0.4960\n"
     ]
    },
    {
     "name": "stderr",
     "output_type": "stream",
     "text": [
      "[I 2025-06-05 12:43:24,781] Trial 96 finished with value: 0.49597031148279114 and parameters: {'embed_dim': 128, 'depths': [2, 2, 18, 2], 'num_heads': [3, 6, 12, 24], 'window_size': 7, 'mlp_ratio': 3.9806706400491505, 'drop_rate': 0.15247622558178325, 'attn_drop_rate': 0.26965455555057816, 'drop_path_rate': 0.3551285335943277, 'learning_rate': 2.3161862002481748e-05, 'weight_decay': 5.316058949642454e-06}. Best is trial 45 with value: 0.6049740885091787.\n",
      "c:\\Users\\Gabriel\\anaconda3\\envs\\cudaenv\\Lib\\site-packages\\optuna\\distributions.py:515: UserWarning: Choices for a categorical distribution should be a tuple of None, bool, int, float and str for persistent storage but contains [2, 2, 6, 2] which is of type list.\n",
      "  warnings.warn(message)\n",
      "c:\\Users\\Gabriel\\anaconda3\\envs\\cudaenv\\Lib\\site-packages\\optuna\\distributions.py:515: UserWarning: Choices for a categorical distribution should be a tuple of None, bool, int, float and str for persistent storage but contains [2, 2, 18, 2] which is of type list.\n",
      "  warnings.warn(message)\n",
      "c:\\Users\\Gabriel\\anaconda3\\envs\\cudaenv\\Lib\\site-packages\\optuna\\distributions.py:515: UserWarning: Choices for a categorical distribution should be a tuple of None, bool, int, float and str for persistent storage but contains [3, 6, 12, 24] which is of type list.\n",
      "  warnings.warn(message)\n",
      "c:\\Users\\Gabriel\\anaconda3\\envs\\cudaenv\\Lib\\site-packages\\optuna\\distributions.py:515: UserWarning: Choices for a categorical distribution should be a tuple of None, bool, int, float and str for persistent storage but contains [4, 8, 16, 32] which is of type list.\n",
      "  warnings.warn(message)\n"
     ]
    },
    {
     "name": "stdout",
     "output_type": "stream",
     "text": [
      "Trial 97 hyperparameters:\n",
      "embed_dim: 128\n",
      "depths: [2, 2, 18, 2]\n",
      "num_heads: [3, 6, 12, 24]\n",
      "window_size: 7\n",
      "mlp_ratio: 3.5899637637842234\n",
      "drop_rate: 0.474231885729396\n",
      "attn_drop_rate: 0.2940666456462646\n",
      "drop_path_rate: 0.4163699143034676\n",
      "learning_rate: 0.00010915794328477264\n",
      "weight_decay: 1.204564542174317e-06\n",
      "batch_size: 16\n",
      "optimizer: Adam\n",
      "label_smoothing: 0.2\n",
      "factor: 1\n",
      "EarlyStopping counter: 8 out of 10\n",
      "EarlyStopping counter: 9 out of 10\n",
      "EarlyStopping counter: 10 out of 10\n",
      "Early stopping at epoch 23\n",
      "Trial 95: Test Accuracy = 0.5418\n"
     ]
    },
    {
     "name": "stderr",
     "output_type": "stream",
     "text": [
      "[I 2025-06-05 12:46:23,721] Trial 95 finished with value: 0.5418309257299526 and parameters: {'embed_dim': 128, 'depths': [2, 2, 18, 2], 'num_heads': [3, 6, 12, 24], 'window_size': 7, 'mlp_ratio': 3.0079506330082046, 'drop_rate': 0.14990399567452586, 'attn_drop_rate': 0.2077783421778936, 'drop_path_rate': 0.3826614496342332, 'learning_rate': 2.3788240453646526e-05, 'weight_decay': 1.1838072932950614e-05}. Best is trial 45 with value: 0.6049740885091787.\n",
      "c:\\Users\\Gabriel\\anaconda3\\envs\\cudaenv\\Lib\\site-packages\\optuna\\distributions.py:515: UserWarning: Choices for a categorical distribution should be a tuple of None, bool, int, float and str for persistent storage but contains [2, 2, 6, 2] which is of type list.\n",
      "  warnings.warn(message)\n",
      "c:\\Users\\Gabriel\\anaconda3\\envs\\cudaenv\\Lib\\site-packages\\optuna\\distributions.py:515: UserWarning: Choices for a categorical distribution should be a tuple of None, bool, int, float and str for persistent storage but contains [2, 2, 18, 2] which is of type list.\n",
      "  warnings.warn(message)\n",
      "c:\\Users\\Gabriel\\anaconda3\\envs\\cudaenv\\Lib\\site-packages\\optuna\\distributions.py:515: UserWarning: Choices for a categorical distribution should be a tuple of None, bool, int, float and str for persistent storage but contains [3, 6, 12, 24] which is of type list.\n",
      "  warnings.warn(message)\n",
      "c:\\Users\\Gabriel\\anaconda3\\envs\\cudaenv\\Lib\\site-packages\\optuna\\distributions.py:515: UserWarning: Choices for a categorical distribution should be a tuple of None, bool, int, float and str for persistent storage but contains [4, 8, 16, 32] which is of type list.\n",
      "  warnings.warn(message)\n"
     ]
    },
    {
     "name": "stdout",
     "output_type": "stream",
     "text": [
      "Trial 98 hyperparameters:\n",
      "embed_dim: 128\n",
      "depths: [2, 2, 18, 2]\n",
      "num_heads: [4, 8, 16, 32]\n",
      "window_size: 7\n",
      "mlp_ratio: 3.6075861673947895\n",
      "drop_rate: 0.17429422371667622\n",
      "attn_drop_rate: 0.1910862407568946\n",
      "drop_path_rate: 0.40349475732703477\n",
      "learning_rate: 1.0126152216909991e-05\n",
      "weight_decay: 1.0924764976896903e-06\n",
      "batch_size: 16\n",
      "optimizer: Adam\n",
      "label_smoothing: 0.2\n",
      "factor: 1\n",
      "EarlyStopping counter: 1 out of 10\n",
      "EarlyStopping counter: 2 out of 10\n",
      "EarlyStopping counter: 1 out of 10\n",
      "EarlyStopping counter: 1 out of 10\n",
      "EarlyStopping counter: 1 out of 10\n",
      "EarlyStopping counter: 2 out of 10\n",
      "EarlyStopping counter: 2 out of 10\n",
      "EarlyStopping counter: 3 out of 10\n",
      "EarlyStopping counter: 3 out of 10\n",
      "EarlyStopping counter: 4 out of 10\n",
      "EarlyStopping counter: 5 out of 10\n",
      "EarlyStopping counter: 1 out of 10\n",
      "EarlyStopping counter: 6 out of 10\n",
      "EarlyStopping counter: 2 out of 10\n",
      "EarlyStopping counter: 7 out of 10\n",
      "EarlyStopping counter: 3 out of 10\n",
      "EarlyStopping counter: 8 out of 10\n",
      "EarlyStopping counter: 4 out of 10\n",
      "EarlyStopping counter: 9 out of 10\n",
      "EarlyStopping counter: 5 out of 10\n",
      "EarlyStopping counter: 10 out of 10\n",
      "Early stopping at epoch 14\n",
      "Trial 97: Test Accuracy = 0.3333\n"
     ]
    },
    {
     "name": "stderr",
     "output_type": "stream",
     "text": [
      "[I 2025-06-05 13:16:00,598] Trial 97 finished with value: 0.3333333333333333 and parameters: {'embed_dim': 128, 'depths': [2, 2, 18, 2], 'num_heads': [3, 6, 12, 24], 'window_size': 7, 'mlp_ratio': 3.5899637637842234, 'drop_rate': 0.474231885729396, 'attn_drop_rate': 0.2940666456462646, 'drop_path_rate': 0.4163699143034676, 'learning_rate': 0.00010915794328477264, 'weight_decay': 1.204564542174317e-06}. Best is trial 45 with value: 0.6049740885091787.\n",
      "c:\\Users\\Gabriel\\anaconda3\\envs\\cudaenv\\Lib\\site-packages\\optuna\\distributions.py:515: UserWarning: Choices for a categorical distribution should be a tuple of None, bool, int, float and str for persistent storage but contains [2, 2, 6, 2] which is of type list.\n",
      "  warnings.warn(message)\n",
      "c:\\Users\\Gabriel\\anaconda3\\envs\\cudaenv\\Lib\\site-packages\\optuna\\distributions.py:515: UserWarning: Choices for a categorical distribution should be a tuple of None, bool, int, float and str for persistent storage but contains [2, 2, 18, 2] which is of type list.\n",
      "  warnings.warn(message)\n",
      "c:\\Users\\Gabriel\\anaconda3\\envs\\cudaenv\\Lib\\site-packages\\optuna\\distributions.py:515: UserWarning: Choices for a categorical distribution should be a tuple of None, bool, int, float and str for persistent storage but contains [3, 6, 12, 24] which is of type list.\n",
      "  warnings.warn(message)\n",
      "c:\\Users\\Gabriel\\anaconda3\\envs\\cudaenv\\Lib\\site-packages\\optuna\\distributions.py:515: UserWarning: Choices for a categorical distribution should be a tuple of None, bool, int, float and str for persistent storage but contains [4, 8, 16, 32] which is of type list.\n",
      "  warnings.warn(message)\n"
     ]
    },
    {
     "name": "stdout",
     "output_type": "stream",
     "text": [
      "Trial 99 hyperparameters:\n",
      "embed_dim: 128\n",
      "depths: [2, 2, 6, 2]\n",
      "num_heads: [4, 8, 16, 32]\n",
      "window_size: 7\n",
      "mlp_ratio: 2.0937610892112084\n",
      "drop_rate: 0.37939182219978396\n",
      "attn_drop_rate: 0.18494635040531934\n",
      "drop_path_rate: 0.2792717169836775\n",
      "learning_rate: 1.4502434444368453e-05\n",
      "weight_decay: 3.135194960495595e-05\n",
      "batch_size: 16\n",
      "optimizer: Adam\n",
      "label_smoothing: 0.2\n",
      "factor: 1\n",
      "EarlyStopping counter: 6 out of 10\n",
      "EarlyStopping counter: 7 out of 10\n",
      "EarlyStopping counter: 1 out of 10\n",
      "EarlyStopping counter: 2 out of 10\n",
      "EarlyStopping counter: 8 out of 10\n",
      "EarlyStopping counter: 3 out of 10\n",
      "EarlyStopping counter: 9 out of 10\n",
      "EarlyStopping counter: 4 out of 10\n",
      "EarlyStopping counter: 5 out of 10\n",
      "EarlyStopping counter: 10 out of 10\n",
      "Early stopping at epoch 16\n",
      "Trial 98: Test Accuracy = 0.3862\n"
     ]
    },
    {
     "name": "stderr",
     "output_type": "stream",
     "text": [
      "[I 2025-06-05 13:21:25,044] Trial 98 finished with value: 0.3861669634944807 and parameters: {'embed_dim': 128, 'depths': [2, 2, 18, 2], 'num_heads': [4, 8, 16, 32], 'window_size': 7, 'mlp_ratio': 3.6075861673947895, 'drop_rate': 0.17429422371667622, 'attn_drop_rate': 0.1910862407568946, 'drop_path_rate': 0.40349475732703477, 'learning_rate': 1.0126152216909991e-05, 'weight_decay': 1.0924764976896903e-06}. Best is trial 45 with value: 0.6049740885091787.\n"
     ]
    },
    {
     "name": "stdout",
     "output_type": "stream",
     "text": [
      "EarlyStopping counter: 6 out of 10\n",
      "EarlyStopping counter: 7 out of 10\n",
      "EarlyStopping counter: 8 out of 10\n",
      "EarlyStopping counter: 1 out of 10\n",
      "EarlyStopping counter: 2 out of 10\n",
      "EarlyStopping counter: 3 out of 10\n",
      "EarlyStopping counter: 4 out of 10\n",
      "EarlyStopping counter: 5 out of 10\n",
      "EarlyStopping counter: 6 out of 10\n",
      "EarlyStopping counter: 7 out of 10\n",
      "EarlyStopping counter: 8 out of 10\n",
      "EarlyStopping counter: 9 out of 10\n",
      "EarlyStopping counter: 10 out of 10\n",
      "Early stopping at epoch 19\n"
     ]
    },
    {
     "name": "stderr",
     "output_type": "stream",
     "text": [
      "[I 2025-06-05 13:23:14,037] Trial 99 finished with value: 0.49006013989623937 and parameters: {'embed_dim': 128, 'depths': [2, 2, 6, 2], 'num_heads': [4, 8, 16, 32], 'window_size': 7, 'mlp_ratio': 2.0937610892112084, 'drop_rate': 0.37939182219978396, 'attn_drop_rate': 0.18494635040531934, 'drop_path_rate': 0.2792717169836775, 'learning_rate': 1.4502434444368453e-05, 'weight_decay': 3.135194960495595e-05}. Best is trial 45 with value: 0.6049740885091787.\n"
     ]
    },
    {
     "name": "stdout",
     "output_type": "stream",
     "text": [
      "Trial 99: Test Accuracy = 0.4901\n",
      "Best hyperparameters: {'embed_dim': 96, 'depths': [2, 2, 6, 2], 'num_heads': [4, 8, 16, 32], 'window_size': 7, 'mlp_ratio': 2.9861220360810963, 'drop_rate': 0.16216076879292074, 'attn_drop_rate': 0.44612154316009744, 'drop_path_rate': 0.25685583296677783, 'learning_rate': 2.8627670095715348e-05, 'weight_decay': 1.4466694509421081e-06}\n",
      "Best value: 0.6049740885091787\n"
     ]
    }
   ],
   "source": [
    "import optuna\n",
    "import torch\n",
    "import torch.optim as optim\n",
    "import torch.nn as nn\n",
    "import numpy as np\n",
    "from torch.utils.data import DataLoader, TensorDataset\n",
    "from sklearn.metrics import balanced_accuracy_score\n",
    "from sklearn.model_selection import StratifiedKFold\n",
    "from timm.models.swin_transformer import SwinTransformer\n",
    "\n",
    "class EarlyStopping:\n",
    "    def __init__(self, patience=7, verbose=False, delta=0):\n",
    "        self.patience = patience\n",
    "        self.verbose = verbose\n",
    "        self.counter = 0\n",
    "        self.best_score = None\n",
    "        self.early_stop = False\n",
    "        self.val_loss_min = np.inf\n",
    "        self.delta = delta\n",
    "        self.best_model_weights = None\n",
    "\n",
    "    def __call__(self, val_loss, model):\n",
    "        score = -val_loss\n",
    "\n",
    "        if self.best_score is None:\n",
    "            self.best_score = score\n",
    "            self.best_model_weights = model.state_dict()\n",
    "        elif score < self.best_score + self.delta:\n",
    "            self.counter += 1\n",
    "            if self.verbose:\n",
    "                print(f'EarlyStopping counter: {self.counter} out of {self.patience}')\n",
    "            if self.counter >= self.patience:\n",
    "                self.early_stop = True\n",
    "        else:\n",
    "            self.best_score = score\n",
    "            self.best_model_weights = model.state_dict()\n",
    "            self.counter = 0\n",
    "\n",
    "    def load_best_model(self, model):\n",
    "        model.load_state_dict(self.best_model_weights)\n",
    "\n",
    "def objective(trial):\n",
    "    # Hyperparameter suggestions\n",
    "    config = {\n",
    "        'embed_dim': trial.suggest_categorical('embed_dim', [96, 128]),\n",
    "        'depths': trial.suggest_categorical('depths', [[2, 2, 6, 2], [2, 2, 18, 2]]),\n",
    "        'num_heads': trial.suggest_categorical('num_heads', [[3, 6, 12, 24], [4, 8, 16, 32]]),\n",
    "        'window_size': trial.suggest_categorical('window_size', [7, 14]),\n",
    "        'mlp_ratio': trial.suggest_float('mlp_ratio', 2.0, 4.0),\n",
    "        'drop_rate': trial.suggest_float('drop_rate', 0.0, 0.5),\n",
    "        'attn_drop_rate': trial.suggest_float('attn_drop_rate', 0.0, 0.5),\n",
    "        'drop_path_rate': trial.suggest_float('drop_path_rate', 0.0, 0.5),\n",
    "        'learning_rate': trial.suggest_float('learning_rate', 1e-5, 1e-3, log=True),\n",
    "        'weight_decay': trial.suggest_float('weight_decay', 1e-6, 1e-3, log=True),\n",
    "        'batch_size': 16,\n",
    "        'optimizer': \"Adam\",\n",
    "        'label_smoothing': 0.2,\n",
    "        'factor': 1\n",
    "    }\n",
    "    \n",
    "    print(f\"Trial {trial.number} hyperparameters:\")\n",
    "    for key, value in config.items():\n",
    "        print(f\"{key}: {value}\")\n",
    "    \n",
    "    device = torch.device('cuda' if torch.cuda.is_available() else 'cpu')\n",
    "\n",
    "    # Use only first fold as test fold\n",
    "    test_fold_idx = 0\n",
    "    test_fold = fold_indices[test_fold_idx]\n",
    "    remaining_folds = [fold_indices[i] for i in range(5) if i != test_fold_idx]\n",
    "    val_fold_idx = 0\n",
    "    val_fold = remaining_folds[val_fold_idx]\n",
    "    train_folds = [fold for fold in remaining_folds if fold != val_fold]\n",
    "\n",
    "    train_data = np.concatenate([eeg_folds[j] for j in train_folds]).transpose(0, 3, 1, 2)\n",
    "    train_labels = np.concatenate([labels_folds[j] for j in train_folds])\n",
    "\n",
    "    val_data = eeg_folds[val_fold].transpose(0, 3, 1, 2)\n",
    "    val_labels = labels_folds[val_fold]\n",
    "\n",
    "    test_data = eeg_folds[test_fold].transpose(0, 3, 1, 2)\n",
    "    test_labels = labels_folds[test_fold]\n",
    "\n",
    "    balanced_train_data, balanced_train_labels = data_balancer(train_data, train_labels, factor=config['factor'])\n",
    "\n",
    "    train_dataset = TensorDataset(\n",
    "        torch.tensor(balanced_train_data, dtype=torch.float32),\n",
    "        torch.tensor(balanced_train_labels, dtype=torch.long)\n",
    "    )\n",
    "    train_loader = DataLoader(\n",
    "        train_dataset, \n",
    "        batch_size=config['batch_size'], \n",
    "        shuffle=True, \n",
    "        num_workers=1, \n",
    "        pin_memory=True\n",
    "    )\n",
    "\n",
    "    val_dataset = TensorDataset(\n",
    "        torch.tensor(val_data, dtype=torch.float32),\n",
    "        torch.tensor(val_labels, dtype=torch.long)\n",
    "    )\n",
    "    val_loader = DataLoader(\n",
    "        val_dataset, \n",
    "        batch_size=config['batch_size'], \n",
    "        shuffle=False, \n",
    "        num_workers=1, \n",
    "        pin_memory=True\n",
    "    )\n",
    "\n",
    "    test_dataset = TensorDataset(\n",
    "        torch.tensor(test_data, dtype=torch.float32),\n",
    "        torch.tensor(test_labels, dtype=torch.long)\n",
    "    )\n",
    "    test_loader = DataLoader(\n",
    "        test_dataset, \n",
    "        batch_size=config['batch_size'], \n",
    "        shuffle=False, \n",
    "        num_workers=1, \n",
    "        pin_memory=True\n",
    "    )\n",
    "\n",
    "    model = SwinTransformer(\n",
    "        img_size=224,\n",
    "        patch_size=4,\n",
    "        in_chans=3,\n",
    "        num_classes=num_classes,\n",
    "        embed_dim=config['embed_dim'],\n",
    "        depths=config['depths'],\n",
    "        num_heads=config['num_heads'],\n",
    "        window_size=config['window_size'],\n",
    "        mlp_ratio=config['mlp_ratio'],\n",
    "        qkv_bias=True,\n",
    "        drop_rate=config['drop_rate'],\n",
    "        attn_drop_rate=config['attn_drop_rate'],\n",
    "        drop_path_rate=config['drop_path_rate'],\n",
    "        norm_layer=nn.LayerNorm\n",
    "    ).to(device)\n",
    "\n",
    "    criterion = nn.CrossEntropyLoss(label_smoothing=config['label_smoothing'])\n",
    "    optimizer_cls = getattr(optim, config['optimizer'])\n",
    "    optimizer = optimizer_cls(\n",
    "        model.parameters(), \n",
    "        lr=config['learning_rate'], \n",
    "        weight_decay=config['weight_decay']\n",
    "    )\n",
    "\n",
    "    early_stopping = EarlyStopping(patience=10, verbose=True)\n",
    "\n",
    "    epochs = 100\n",
    "    for epoch in range(epochs):\n",
    "        model.train()\n",
    "        running_loss = 0.0\n",
    "        for inputs, labels in train_loader:\n",
    "            inputs, labels = inputs.to(device, non_blocking=True), labels.to(device, non_blocking=True)\n",
    "            optimizer.zero_grad()\n",
    "            outputs = model(inputs)\n",
    "            loss = criterion(outputs, labels)\n",
    "            loss.backward()\n",
    "            optimizer.step()\n",
    "            running_loss += loss.item()\n",
    "\n",
    "        model.eval()\n",
    "        val_loss = 0.0\n",
    "        with torch.no_grad():\n",
    "            for val_inputs, val_labels in val_loader:\n",
    "                val_inputs, val_labels = val_inputs.to(device, non_blocking=True), val_labels.to(device, non_blocking=True)\n",
    "                val_outputs = model(val_inputs)\n",
    "                loss = criterion(val_outputs, val_labels)\n",
    "                val_loss += loss.item()\n",
    "\n",
    "        val_loss /= len(val_loader)\n",
    "        early_stopping(val_loss, model)\n",
    "        \n",
    "        if early_stopping.early_stop:\n",
    "            print(f\"Early stopping at epoch {epoch}\")\n",
    "            break\n",
    "\n",
    "    early_stopping.load_best_model(model)\n",
    "\n",
    "    model.eval()\n",
    "    all_preds, all_labels = [], []\n",
    "    with torch.no_grad():\n",
    "        for inputs, labels in test_loader:\n",
    "            inputs, labels = inputs.to(device, non_blocking=True), labels.to(device, non_blocking=True)\n",
    "            outputs = model(inputs)\n",
    "            _, preds = torch.max(outputs, 1)\n",
    "            all_preds.extend(preds.cpu().numpy())\n",
    "            all_labels.extend(labels.cpu().numpy())\n",
    "\n",
    "    test_accuracy = balanced_accuracy_score(all_labels, all_preds)\n",
    "    print(f\"Trial {trial.number}: Test Accuracy = {test_accuracy:.4f}\")\n",
    "\n",
    "    del model\n",
    "    torch.cuda.empty_cache()\n",
    "\n",
    "    trial.report(test_accuracy, step=0)\n",
    "\n",
    "    if trial.should_prune():\n",
    "        raise optuna.TrialPruned()\n",
    "    \n",
    "    return test_accuracy\n",
    "\n",
    "# Start Optuna Study\n",
    "study = optuna.create_study(\n",
    "    direction=\"maximize\",\n",
    "    sampler=optuna.samplers.TPESampler(),\n",
    "    pruner=optuna.pruners.MedianPruner(n_warmup_steps=5)\n",
    ")\n",
    "\n",
    "study.optimize(objective, n_trials=100, n_jobs=2)\n",
    "\n",
    "# Best result\n",
    "print(\"Best hyperparameters:\", study.best_params)\n",
    "print(\"Best value:\", study.best_value)\n"
   ]
  },
  {
   "cell_type": "code",
   "execution_count": null,
   "id": "c7513c74-6abe-48e5-a9b6-ddd3cf087a06",
   "metadata": {},
   "outputs": [
    {
     "name": "stdout",
     "output_type": "stream",
     "text": [
      "Using device: cuda\n",
      "GPU name: NVIDIA GeForce RTX 4060\n"
     ]
    },
    {
     "ename": "",
     "evalue": "",
     "output_type": "error",
     "traceback": [
      "\u001b[1;31mThe Kernel crashed while executing code in the current cell or a previous cell. \n",
      "\u001b[1;31mPlease review the code in the cell(s) to identify a possible cause of the failure. \n",
      "\u001b[1;31mClick <a href='https://aka.ms/vscodeJupyterKernelCrash'>here</a> for more info. \n",
      "\u001b[1;31mView Jupyter <a href='command:jupyter.viewOutput'>log</a> for further details."
     ]
    }
   ],
   "source": [
    "print(f\"Using device: {device}\")\n",
    "print(f\"GPU name: {torch.cuda.get_device_name(0)}\")"
   ]
  },
  {
   "cell_type": "code",
   "execution_count": null,
   "id": "e30fd67c-49e6-46e4-b9a6-fb18fd3d3703",
   "metadata": {},
   "outputs": [],
   "source": []
  }
 ],
 "metadata": {
  "kernelspec": {
   "display_name": "cudaenv",
   "language": "python",
   "name": "python3"
  },
  "language_info": {
   "codemirror_mode": {
    "name": "ipython",
    "version": 3
   },
   "file_extension": ".py",
   "mimetype": "text/x-python",
   "name": "python",
   "nbconvert_exporter": "python",
   "pygments_lexer": "ipython3",
   "version": "3.13.1"
  }
 },
 "nbformat": 4,
 "nbformat_minor": 5
}
