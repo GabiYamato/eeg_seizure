{
 "cells": [
  {
   "cell_type": "code",
   "execution_count": 1,
   "id": "626d84bd",
   "metadata": {},
   "outputs": [],
   "source": [
    "import torch\n",
    "import torch.nn as nn\n",
    "import torch.optim as optim\n",
    "from torch.utils.data import DataLoader, TensorDataset\n",
    "from sklearn.model_selection import train_test_split\n",
    "from sklearn.preprocessing import StandardScaler\n",
    "import torch\n",
    "import torch.nn as nn\n",
    "import torch.optim as optim\n",
    "from torch.utils.data import DataLoader, TensorDataset\n",
    "from sklearn.preprocessing import StandardScaler\n",
    "from sklearn.model_selection import GroupKFold\n",
    "import numpy as np\n",
    "import matplotlib.pyplot as plt\n",
    "\n",
    "from sklearn.metrics import precision_score, recall_score, f1_score, balanced_accuracy_score\n",
    "import pickle\n",
    "from collections import defaultdict\n",
    "from sklearn.utils import shuffle\n",
    "import os\n",
    "import cv2\n",
    "from torch.utils.data import Dataset, DataLoader\n",
    "import torchvision.transforms as transforms\n",
    "import pandas as pd\n",
    "\n",
    "from torchinfo import summary\n",
    "from sklearn.metrics import confusion_matrix\n",
    "import seaborn as sns\n",
    "\n"
   ]
  },
  {
   "cell_type": "code",
   "execution_count": 2,
   "id": "29ad51f8",
   "metadata": {},
   "outputs": [],
   "source": [
    "import numpy as np\n",
    "import os\n",
    "\n",
    "# Define the folder path\n",
    "folder_path = r\"D:\\PYTHONIG\\newwindow\\NOTEBOOKS_2025\\aprilmay2025\\data\\numpy\\optunadata\\mel\"\n",
    "\n",
    "# Load the numpy files into the respective arrays with the correct capitalized naming\n",
    "eeg_fold_1 = np.load(os.path.join(folder_path, 'MEL_DATA_FOLD_fold_1.npy'))\n",
    "labels_fold_1 = np.load(os.path.join(folder_path, 'MEL_LABELS_FOLD_fold_1.npy'))\n",
    "patients_fold_1 = np.load(os.path.join(folder_path, 'MEL_PATIENTS_FOLD_fold_1.npy'))\n",
    "\n",
    "eeg_fold_2 = np.load(os.path.join(folder_path, 'MEL_DATA_FOLD_fold_2.npy'))\n",
    "labels_fold_2 = np.load(os.path.join(folder_path, 'MEL_LABELS_FOLD_fold_2.npy'))\n",
    "patients_fold_2 = np.load(os.path.join(folder_path, 'MEL_PATIENTS_FOLD_fold_2.npy'))\n",
    "\n",
    "eeg_fold_3 = np.load(os.path.join(folder_path, 'MEL_DATA_FOLD_fold_3.npy'))\n",
    "labels_fold_3 = np.load(os.path.join(folder_path, 'MEL_LABELS_FOLD_fold_3.npy'))\n",
    "patients_fold_3 = np.load(os.path.join(folder_path, 'MEL_PATIENTS_FOLD_fold_3.npy'))\n",
    "\n",
    "eeg_fold_4 = np.load(os.path.join(folder_path, 'MEL_DATA_FOLD_fold_4.npy'))\n",
    "labels_fold_4 = np.load(os.path.join(folder_path, 'MEL_LABELS_FOLD_fold_4.npy'))\n",
    "patients_fold_4 = np.load(os.path.join(folder_path, 'MEL_PATIENTS_FOLD_fold_4.npy'))\n",
    "\n",
    "eeg_fold_5 = np.load(os.path.join(folder_path, 'MEL_DATA_FOLD_fold_5.npy'))\n",
    "labels_fold_5 = np.load(os.path.join(folder_path, 'MEL_LABELS_FOLD_fold_5.npy'))\n",
    "patients_fold_5 = np.load(os.path.join(folder_path, 'MEL_PATIENTS_FOLD_fold_5.npy'))\n",
    "\n",
    "eeg_folds = [eeg_fold_1, eeg_fold_2, eeg_fold_3, eeg_fold_4, eeg_fold_5]\n",
    "labels_folds = [labels_fold_1, labels_fold_2, labels_fold_3, labels_fold_4, labels_fold_5]\n",
    "patients_folds = [patients_fold_1, patients_fold_2, patients_fold_3, patients_fold_4, patients_fold_5]\n",
    "\n",
    "for i in range(len(eeg_folds)):\n",
    "    eeg_folds[i] = eeg_folds[i].astype(np.float16)"
   ]
  },
  {
   "cell_type": "code",
   "execution_count": 3,
   "id": "f9831e02",
   "metadata": {},
   "outputs": [],
   "source": [
    "def data_balancer(data, labels, factor):\n",
    "    # Count the number of samples in each class\n",
    "    num_class_0 = np.sum(labels == 0)\n",
    "    num_class_1 = np.sum(labels == 1)\n",
    "    num_class_2 = np.sum(labels == 2)\n",
    "\n",
    "    # Find the minimum number of samples across all classes\n",
    "    min_samples = min(num_class_0, num_class_1, num_class_2)\n",
    "\n",
    "    # Calculate the number of samples to take from each class\n",
    "    samples_per_class = min_samples // factor\n",
    "\n",
    "    # Randomly sample 'samples_per_class' from each class\n",
    "    class_0_indices = np.random.choice(np.where(labels == 0)[0], samples_per_class, replace=False)\n",
    "    class_1_indices = np.random.choice(np.where(labels == 1)[0], samples_per_class, replace=False)\n",
    "    class_2_indices = np.random.choice(np.where(labels == 2)[0], samples_per_class, replace=False)\n",
    "\n",
    "    # Combine balanced indices\n",
    "    balanced_indices = np.concatenate((class_0_indices, class_1_indices, class_2_indices))\n",
    "\n",
    "    # Shuffle the balanced indices\n",
    "    np.random.shuffle(balanced_indices)\n",
    "\n",
    "    # Create balanced training data and labels\n",
    "    balanced_data = data[balanced_indices]\n",
    "    balanced_labels = labels[balanced_indices]\n",
    "\n",
    "    return balanced_data, balanced_labels"
   ]
  },
  {
   "cell_type": "code",
   "execution_count": 4,
   "id": "0497bd4e",
   "metadata": {},
   "outputs": [],
   "source": [
    "class EarlyStopping:\n",
    "    def __init__(self, patience=5):\n",
    "        \"\"\"\n",
    "        Initializes the early stopping mechanism based on divergence detection.\n",
    "\n",
    "        Args:\n",
    "            patience (int): Number of consecutive epochs with increasing validation loss\n",
    "                            before stopping.\n",
    "        \"\"\"\n",
    "        self.patience = patience\n",
    "        self.best_loss = None\n",
    "        self.counter = 0\n",
    "        self.early_stop = False\n",
    "        self.best_model_state = None\n",
    "\n",
    "    def __call__(self, val_loss, model):\n",
    "        \"\"\"\n",
    "        Checks if the validation loss is diverging and updates the state accordingly.\n",
    "\n",
    "        Args:\n",
    "            val_loss (float): Current epoch's validation loss.\n",
    "            model (torch.nn.Module): The model being trained.\n",
    "        \"\"\"\n",
    "        if self.best_loss is None or val_loss < self.best_loss:\n",
    "            # Improvement detected\n",
    "            self.best_loss = val_loss\n",
    "            self.best_model_state = model.state_dict()\n",
    "            self.counter = 0\n",
    "        else:\n",
    "            # Validation loss increased\n",
    "            self.counter += 1\n",
    "            if self.counter >= self.patience:\n",
    "                print(f\"Divergence detected. Stopping training after {self.counter} epochs.\")\n",
    "                self.early_stop = True\n",
    "\n",
    "    def load_best_model(self, model):\n",
    "        \"\"\"\n",
    "        Restores the model to the state with the lowest validation loss.\n",
    "\n",
    "        Args:\n",
    "            model (torch.nn.Module): The model to restore.\n",
    "        \"\"\"\n",
    "        model.load_state_dict(self.best_model_state)\n",
    "\n",
    "\n"
   ]
  },
  {
   "cell_type": "code",
   "execution_count": 5,
   "id": "04c9bba8",
   "metadata": {},
   "outputs": [],
   "source": [
    "import torch\n",
    "import torch.nn as nn\n",
    "\n",
    "debug_mode_flag = False\n",
    "# Set the device to GPU if available, otherwise use CPU\n",
    "device = torch.device(\"cuda\" if torch.cuda.is_available() else \"cpu\")\n",
    "\n",
    "#set random seed for reproducibility\n",
    "torch.manual_seed(42)\n",
    "debug_mode_flag = False\n",
    "\n",
    "\n",
    "def patchify(data, n_patches):\n",
    "    n, c, h, w = data.shape\n",
    "    # Create tensor on the same device as input data\n",
    "    patches = torch.zeros(n, n_patches**2, (c*h*w) // (n_patches**2), device=data.device)\n",
    "    patch_size = h // n_patches\n",
    "    for idx, d in enumerate(data):\n",
    "        for i in range(n_patches):\n",
    "            for j in range(n_patches):\n",
    "                patch = d[:, i*patch_size: (i+1)*patch_size, j*patch_size: (j+1) * patch_size]\n",
    "                patches[idx, i*n_patches + j] = patch.flatten()\n",
    "    return patches\n",
    "\n",
    "def get_positional_embeddings(sequence_length, d, device='cpu'):\n",
    "    result = torch.ones(sequence_length, d, device=device)\n",
    "    for i in range(sequence_length):\n",
    "        for j in range(d):\n",
    "            result[i][j] = np.sin(i / (10000 ** (j / d))) if j % 2 == 0 else np.cos(i / (10000 ** ((j - 1) / d)))\n",
    "    return result\n",
    "class vit(nn.Module):\n",
    "    def __init__(self, input_size, n_patches, hidden_size, num_classes, num_transformer_blocks=2, num_heads=4):\n",
    "        super().__init__()\n",
    "        self.chw = input_size\n",
    "        self.n_patches = n_patches\n",
    "        self.patch_size = ((self.chw[1] // n_patches) ** 2) * self.chw[0]\n",
    "        \n",
    "        # Core components\n",
    "        self.linear_mapper = nn.Linear(self.patch_size, hidden_size)\n",
    "        self.class_token = nn.Parameter(torch.rand(1, hidden_size))\n",
    "        \n",
    "        # Simplified positional embedding\n",
    "        self.register_buffer('pos_embed', get_positional_embeddings(self.n_patches ** 2 + 1, hidden_size))\n",
    "        \n",
    "        # Normalization and Transformer\n",
    "        self.layer_norm = nn.LayerNorm(hidden_size)\n",
    "        self.transformer = nn.TransformerEncoder(\n",
    "            nn.TransformerEncoderLayer(d_model=hidden_size, nhead=num_heads, batch_first=True),\n",
    "            num_layers=num_transformer_blocks\n",
    "        )\n",
    "        \n",
    "        # Classification head\n",
    "        self.classifier = nn.Linear(hidden_size, num_classes)\n",
    "\n",
    "    def forward(self, x):\n",
    "        # Create patches\n",
    "        patches = patchify(x, self.n_patches)\n",
    "        \n",
    "        # Project patches to embedding dimension\n",
    "        x = self.linear_mapper(patches)\n",
    "        \n",
    "        # Add class token\n",
    "        batch_size = x.shape[0]\n",
    "        cls_tokens = self.class_token.expand(batch_size, -1, -1)\n",
    "        x = torch.cat((cls_tokens, x), dim=1)\n",
    "        \n",
    "        # Add positional embeddings\n",
    "        x = x + self.pos_embed\n",
    "        x = self.layer_norm(x)\n",
    "        \n",
    "        # Apply transformer\n",
    "        x = self.transformer(x)\n",
    "        \n",
    "        # Classification based on CLS token\n",
    "        x = x[:, 0]\n",
    "        return self.classifier(x)"
   ]
  },
  {
   "cell_type": "code",
   "execution_count": 6,
   "id": "eb53c211",
   "metadata": {},
   "outputs": [
    {
     "data": {
      "text/plain": [
       "==========================================================================================\n",
       "Layer (type:depth-idx)                                            Param #\n",
       "==========================================================================================\n",
       "vit                                                               256\n",
       "├─Linear: 1-1                                                     196,864\n",
       "├─LayerNorm: 1-2                                                  512\n",
       "├─TransformerEncoder: 1-3                                         --\n",
       "│    └─ModuleList: 2-1                                            --\n",
       "│    │    └─TransformerEncoderLayer: 3-1                          1,315,072\n",
       "│    │    └─TransformerEncoderLayer: 3-2                          1,315,072\n",
       "│    │    └─TransformerEncoderLayer: 3-3                          1,315,072\n",
       "│    │    └─TransformerEncoderLayer: 3-4                          1,315,072\n",
       "│    │    └─TransformerEncoderLayer: 3-5                          1,315,072\n",
       "│    │    └─TransformerEncoderLayer: 3-6                          1,315,072\n",
       "│    │    └─TransformerEncoderLayer: 3-7                          1,315,072\n",
       "│    │    └─TransformerEncoderLayer: 3-8                          1,315,072\n",
       "│    │    └─TransformerEncoderLayer: 3-9                          1,315,072\n",
       "│    │    └─TransformerEncoderLayer: 3-10                         1,315,072\n",
       "│    │    └─TransformerEncoderLayer: 3-11                         1,315,072\n",
       "│    │    └─TransformerEncoderLayer: 3-12                         1,315,072\n",
       "├─Linear: 1-4                                                     771\n",
       "==========================================================================================\n",
       "Total params: 15,979,267\n",
       "Trainable params: 15,979,267\n",
       "Non-trainable params: 0\n",
       "=========================================================================================="
      ]
     },
     "execution_count": 6,
     "metadata": {},
     "output_type": "execute_result"
    }
   ],
   "source": [
    "from torchinfo import summary\n",
    "model = vit(input_size=(3, 224, 224), n_patches=14, hidden_size=256, num_classes=3,num_transformer_blocks=12)\n",
    "summary(model)"
   ]
  },
  {
   "cell_type": "code",
   "execution_count": 7,
   "id": "c5c4cb8f",
   "metadata": {},
   "outputs": [],
   "source": [
    "torch.manual_seed(42)\n",
    "device = torch.device('cuda' if torch.cuda.is_available() else 'cpu')\n",
    "\n",
    "# pca = sklearn.decomposition.PCA(3)\n",
    "epochs = 100\n",
    "\n",
    "\n",
    "fold_indices = np.arange(5)\n",
    "fold_indices = np.random.permutation(fold_indices)\n",
    "val_fold_indices = np.roll(fold_indices, 1)\n",
    "\n",
    "input_shape = (3,224,224)\n",
    "num_classes = 3\n"
   ]
  },
  {
   "cell_type": "code",
   "execution_count": 8,
   "id": "a5f665b8",
   "metadata": {},
   "outputs": [],
   "source": [
    "def objective(trial):\n",
    "    # Focused hyperparameter space\n",
    "    n_patches = trial.suggest_categorical(\"n_patches\", [14, 28])\n",
    "    embed_dim = trial.suggest_categorical(\"embed_dim\", [64, 128, 256])\n",
    "    learning_rate = trial.suggest_float(\"learning_rate\", 1e-5, 1e-3, log=True)\n",
    "    weight_decay = trial.suggest_float(\"weight_decay\", 1e-5, 1e-4, log=True)\n",
    "    batch_size = trial.suggest_categorical(\"batch_size\", [16, 32])\n",
    "    num_transformer_blocks = trial.suggest_int(\"num_transformer_blocks\", 2, 8, step=2)\n",
    "    num_heads = trial.suggest_categorical(\"num_heads\", [4, 8])\n",
    "    \n",
    "    # Fixed parameters to reduce search space\n",
    "    optimizer_name = \"Adam\"\n",
    "    label_smoothing = 0.1\n",
    "    factor = 1\n",
    "    \n",
    "    print(f\"Trial {trial.number} params: n_patches={n_patches}, embed_dim={embed_dim}, lr={learning_rate}, \"\n",
    "          f\"blocks={num_transformer_blocks}, heads={num_heads}, batch_size={batch_size}\")\n",
    "    \n",
    "    fold_accuracies = []\n",
    "\n",
    "    for test_fold_idx in range(5):\n",
    "        # Get train/val/test folds (keeping existing logic)\n",
    "        test_fold = fold_indices[test_fold_idx]\n",
    "        remaining_folds = [fold_indices[i] for i in range(5) if i != test_fold_idx]\n",
    "        val_fold = remaining_folds[test_fold_idx % 4]\n",
    "        train_folds = [fold for fold in remaining_folds if fold != val_fold]\n",
    "        \n",
    "        # Prepare data\n",
    "        train_data = np.concatenate([eeg_folds[j] for j in train_folds]).transpose(0, 3, 1, 2)\n",
    "        train_labels = np.concatenate([labels_folds[j] for j in train_folds])\n",
    "        val_data = eeg_folds[val_fold].transpose(0, 3, 1, 2)\n",
    "        val_labels = labels_folds[val_fold]\n",
    "        test_data = eeg_folds[test_fold].transpose(0, 3, 1, 2)\n",
    "        test_labels = labels_folds[test_fold]\n",
    "        \n",
    "        # Balance training data\n",
    "        balanced_train_data, balanced_train_labels = data_balancer(train_data, train_labels, factor)\n",
    "        \n",
    "        # Create data loaders\n",
    "        train_loader = DataLoader(\n",
    "            TensorDataset(torch.tensor(balanced_train_data, dtype=torch.float32),\n",
    "                          torch.tensor(balanced_train_labels, dtype=torch.long)),\n",
    "            batch_size=batch_size, shuffle=True, pin_memory=True\n",
    "        )\n",
    "        \n",
    "        val_loader = DataLoader(\n",
    "            TensorDataset(torch.tensor(val_data, dtype=torch.float32),\n",
    "                          torch.tensor(val_labels, dtype=torch.long)),\n",
    "            batch_size=batch_size, shuffle=False, pin_memory=True\n",
    "        )\n",
    "        \n",
    "        test_loader = DataLoader(\n",
    "            TensorDataset(torch.tensor(test_data, dtype=torch.float32),\n",
    "                          torch.tensor(test_labels, dtype=torch.long)),\n",
    "            batch_size=batch_size, shuffle=False, pin_memory=True\n",
    "        )\n",
    "        \n",
    "        # Initialize model\n",
    "        device = torch.device(\"cuda\" if torch.cuda.is_available() else \"cpu\")\n",
    "        model = vit(input_size=input_shape, n_patches=n_patches, hidden_size=embed_dim,\n",
    "                    num_classes=num_classes, num_transformer_blocks=num_transformer_blocks,\n",
    "                    num_heads=num_heads).to(device)\n",
    "        \n",
    "        # Set up training\n",
    "        criterion = nn.CrossEntropyLoss(label_smoothing=label_smoothing)\n",
    "        optimizer = optim.Adam(model.parameters(), lr=learning_rate, weight_decay=weight_decay)\n",
    "        early_stopping = EarlyStopping(patience=5)  # Reduced patience\n",
    "        \n",
    "        # Training loop\n",
    "        for epoch in range(25):  # Reduced max epochs\n",
    "            # Train\n",
    "            model.train()\n",
    "            for inputs, labels in train_loader:\n",
    "                inputs, labels = inputs.to(device), labels.to(device)\n",
    "                optimizer.zero_grad()\n",
    "                outputs = model(inputs)\n",
    "                loss = criterion(outputs, labels)\n",
    "                loss.backward()\n",
    "                optimizer.step()\n",
    "            \n",
    "            # Validate\n",
    "            model.eval()\n",
    "            val_loss = 0.0\n",
    "            with torch.no_grad():\n",
    "                for val_inputs, val_labels in val_loader:\n",
    "                    val_inputs, val_labels = val_inputs.to(device), val_labels.to(device)\n",
    "                    val_outputs = model(val_inputs)\n",
    "                    val_loss += criterion(val_outputs, val_labels).item()\n",
    "            \n",
    "            val_loss /= len(val_loader)\n",
    "            early_stopping(val_loss, model)\n",
    "            \n",
    "            if early_stopping.early_stop:\n",
    "                break\n",
    "        \n",
    "        # Load best model and evaluate\n",
    "        early_stopping.load_best_model(model)\n",
    "        model.eval()\n",
    "        all_preds, all_labels = [], []\n",
    "        \n",
    "        with torch.no_grad():\n",
    "            for inputs, labels in test_loader:\n",
    "                inputs, labels = inputs.to(device), labels.to(device)\n",
    "                outputs = model(inputs)\n",
    "                _, preds = torch.max(outputs, 1)\n",
    "                all_preds.extend(preds.cpu().numpy())\n",
    "                all_labels.extend(labels.cpu().numpy())\n",
    "        \n",
    "        fold_acc = balanced_accuracy_score(all_labels, all_preds)\n",
    "        fold_accuracies.append(fold_acc)\n",
    "        print(f\"Fold {test_fold_idx+1}: Accuracy = {fold_acc:.4f}\")\n",
    "        \n",
    "        # Clean up\n",
    "        del model\n",
    "        torch.cuda.empty_cache()\n",
    "    \n",
    "    mean_accuracy = np.mean(fold_accuracies)\n",
    "    print(f\"Trial {trial.number} mean accuracy: {mean_accuracy:.4f}\")\n",
    "    \n",
    "    return mean_accuracy"
   ]
  },
  {
   "cell_type": "code",
   "execution_count": 9,
   "id": "dfba9f72",
   "metadata": {},
   "outputs": [
    {
     "name": "stderr",
     "output_type": "stream",
     "text": [
      "c:\\Users\\Gabriel\\anaconda3\\envs\\cudaenv\\Lib\\site-packages\\tqdm\\auto.py:21: TqdmWarning: IProgress not found. Please update jupyter and ipywidgets. See https://ipywidgets.readthedocs.io/en/stable/user_install.html\n",
      "  from .autonotebook import tqdm as notebook_tqdm\n",
      "[I 2025-05-05 02:23:49,748] A new study created in memory with name: no-name-c636610a-b1f0-488e-9865-d46557ffa0fc\n"
     ]
    },
    {
     "name": "stdout",
     "output_type": "stream",
     "text": [
      "Trial 0 params: n_patches=14, embed_dim=256, lr=0.0001113753290591893, blocks=2, heads=8, batch_size=32Trial 1 params: n_patches=28, embed_dim=64, lr=2.8167148948507208e-05, blocks=4, heads=4, batch_size=32\n",
      "\n",
      "Divergence detected. Stopping training after 5 epochs.\n",
      "Fold 1: Accuracy = 0.4255\n",
      "Divergence detected. Stopping training after 5 epochs.\n",
      "Fold 2: Accuracy = 0.3531\n",
      "Divergence detected. Stopping training after 5 epochs.\n",
      "Fold 1: Accuracy = 0.3842\n",
      "Divergence detected. Stopping training after 5 epochs.\n",
      "Fold 3: Accuracy = 0.3462\n",
      "Divergence detected. Stopping training after 5 epochs.\n",
      "Fold 4: Accuracy = 0.5272\n",
      "Divergence detected. Stopping training after 5 epochs.\n",
      "Fold 2: Accuracy = 0.3444\n",
      "Divergence detected. Stopping training after 5 epochs.\n"
     ]
    },
    {
     "name": "stderr",
     "output_type": "stream",
     "text": [
      "[I 2025-05-05 02:30:16,380] Trial 0 finished with value: 0.4326567967259911 and parameters: {'n_patches': 14, 'embed_dim': 256, 'learning_rate': 0.0001113753290591893, 'weight_decay': 2.0818818082475494e-05, 'batch_size': 32, 'num_transformer_blocks': 2, 'num_heads': 8}. Best is trial 0 with value: 0.4326567967259911.\n"
     ]
    },
    {
     "name": "stdout",
     "output_type": "stream",
     "text": [
      "Fold 5: Accuracy = 0.5113\n",
      "Trial 0 mean accuracy: 0.4327\n",
      "Trial 2 params: n_patches=28, embed_dim=256, lr=0.00019769906034741944, blocks=4, heads=4, batch_size=16\n",
      "Divergence detected. Stopping training after 5 epochs.\n",
      "Fold 3: Accuracy = 0.3383\n",
      "Divergence detected. Stopping training after 5 epochs.\n",
      "Fold 1: Accuracy = 0.3657\n",
      "Divergence detected. Stopping training after 5 epochs.\n",
      "Fold 4: Accuracy = 0.4807\n",
      "Divergence detected. Stopping training after 5 epochs.\n",
      "Fold 2: Accuracy = 0.3362\n",
      "Divergence detected. Stopping training after 5 epochs.\n",
      "Fold 3: Accuracy = 0.3935\n",
      "Divergence detected. Stopping training after 5 epochs.\n",
      "Fold 4: Accuracy = 0.5044\n",
      "Divergence detected. Stopping training after 5 epochs.\n"
     ]
    },
    {
     "name": "stderr",
     "output_type": "stream",
     "text": [
      "[I 2025-05-05 02:48:11,987] Trial 1 finished with value: 0.3971686061386811 and parameters: {'n_patches': 28, 'embed_dim': 64, 'learning_rate': 2.8167148948507208e-05, 'weight_decay': 3.0096891700188963e-05, 'batch_size': 32, 'num_transformer_blocks': 4, 'num_heads': 4}. Best is trial 0 with value: 0.4326567967259911.\n"
     ]
    },
    {
     "name": "stdout",
     "output_type": "stream",
     "text": [
      "Fold 5: Accuracy = 0.4382\n",
      "Trial 1 mean accuracy: 0.3972\n",
      "Trial 3 params: n_patches=28, embed_dim=128, lr=8.454614997675583e-05, blocks=6, heads=8, batch_size=32\n",
      "Divergence detected. Stopping training after 5 epochs.\n"
     ]
    },
    {
     "name": "stderr",
     "output_type": "stream",
     "text": [
      "[I 2025-05-05 02:50:40,183] Trial 2 finished with value: 0.39456580244173456 and parameters: {'n_patches': 28, 'embed_dim': 256, 'learning_rate': 0.00019769906034741944, 'weight_decay': 2.558805163099489e-05, 'batch_size': 16, 'num_transformer_blocks': 4, 'num_heads': 4}. Best is trial 0 with value: 0.4326567967259911.\n"
     ]
    },
    {
     "name": "stdout",
     "output_type": "stream",
     "text": [
      "Fold 5: Accuracy = 0.3730\n",
      "Trial 2 mean accuracy: 0.3946\n",
      "Trial 4 params: n_patches=14, embed_dim=128, lr=8.156279231323662e-05, blocks=6, heads=4, batch_size=32\n",
      "Divergence detected. Stopping training after 5 epochs.\n",
      "Fold 1: Accuracy = 0.3515\n",
      "Divergence detected. Stopping training after 5 epochs.\n",
      "Divergence detected. Stopping training after 5 epochs.\n",
      "Fold 1: Accuracy = 0.3218\n",
      "Fold 2: Accuracy = 0.3360\n",
      "Divergence detected. Stopping training after 5 epochs.\n",
      "Fold 3: Accuracy = 0.3211\n",
      "Divergence detected. Stopping training after 5 epochs.\n",
      "Fold 4: Accuracy = 0.4739\n",
      "Divergence detected. Stopping training after 5 epochs.\n"
     ]
    },
    {
     "name": "stderr",
     "output_type": "stream",
     "text": [
      "[I 2025-05-05 02:57:16,338] Trial 4 finished with value: 0.38945535039513807 and parameters: {'n_patches': 14, 'embed_dim': 128, 'learning_rate': 8.156279231323662e-05, 'weight_decay': 3.8481892822547034e-05, 'batch_size': 32, 'num_transformer_blocks': 6, 'num_heads': 4}. Best is trial 0 with value: 0.4326567967259911.\n"
     ]
    },
    {
     "name": "stdout",
     "output_type": "stream",
     "text": [
      "Fold 5: Accuracy = 0.4647\n",
      "Trial 4 mean accuracy: 0.3895\n",
      "Trial 5 params: n_patches=28, embed_dim=256, lr=0.0003071984109481154, blocks=8, heads=4, batch_size=32\n",
      "Divergence detected. Stopping training after 5 epochs.\n",
      "Fold 2: Accuracy = 0.4070\n",
      "Divergence detected. Stopping training after 5 epochs.\n",
      "Fold 1: Accuracy = 0.3333\n",
      "Divergence detected. Stopping training after 5 epochs.\n",
      "Fold 3: Accuracy = 0.3744\n",
      "Divergence detected. Stopping training after 5 epochs.\n",
      "Fold 2: Accuracy = 0.3333\n",
      "Divergence detected. Stopping training after 5 epochs.\n",
      "Fold 4: Accuracy = 0.4911\n",
      "Divergence detected. Stopping training after 5 epochs.\n",
      "Fold 5: Accuracy = 0.4433\n"
     ]
    },
    {
     "name": "stderr",
     "output_type": "stream",
     "text": [
      "[I 2025-05-05 03:25:06,822] Trial 3 finished with value: 0.4075109164204405 and parameters: {'n_patches': 28, 'embed_dim': 128, 'learning_rate': 8.454614997675583e-05, 'weight_decay': 1.2378058615538514e-05, 'batch_size': 32, 'num_transformer_blocks': 6, 'num_heads': 8}. Best is trial 0 with value: 0.4326567967259911.\n"
     ]
    },
    {
     "name": "stdout",
     "output_type": "stream",
     "text": [
      "Trial 3 mean accuracy: 0.4075\n",
      "Trial 6 params: n_patches=28, embed_dim=64, lr=0.00017239200332293053, blocks=2, heads=8, batch_size=32\n",
      "Divergence detected. Stopping training after 5 epochs.\n",
      "Fold 3: Accuracy = 0.3333\n",
      "Divergence detected. Stopping training after 5 epochs.\n",
      "Fold 1: Accuracy = 0.3016\n",
      "Divergence detected. Stopping training after 5 epochs.\n",
      "Fold 2: Accuracy = 0.4006\n",
      "Divergence detected. Stopping training after 5 epochs.\n",
      "Fold 4: Accuracy = 0.3333\n",
      "Divergence detected. Stopping training after 5 epochs.\n",
      "Fold 3: Accuracy = 0.3789\n",
      "Divergence detected. Stopping training after 5 epochs.\n",
      "Fold 4: Accuracy = 0.4924\n",
      "Divergence detected. Stopping training after 5 epochs.\n"
     ]
    },
    {
     "name": "stderr",
     "output_type": "stream",
     "text": [
      "[I 2025-05-05 03:58:34,982] Trial 5 finished with value: 0.3333333333333333 and parameters: {'n_patches': 28, 'embed_dim': 256, 'learning_rate': 0.0003071984109481154, 'weight_decay': 1.9683384875524162e-05, 'batch_size': 32, 'num_transformer_blocks': 8, 'num_heads': 4}. Best is trial 0 with value: 0.4326567967259911.\n"
     ]
    },
    {
     "name": "stdout",
     "output_type": "stream",
     "text": [
      "Fold 5: Accuracy = 0.3333\n",
      "Trial 5 mean accuracy: 0.3333\n",
      "Trial 7 params: n_patches=28, embed_dim=128, lr=3.852435819933398e-05, blocks=8, heads=4, batch_size=32\n",
      "Divergence detected. Stopping training after 5 epochs.\n",
      "Fold 1: Accuracy = 0.3227\n",
      "Divergence detected. Stopping training after 5 epochs.\n"
     ]
    },
    {
     "name": "stderr",
     "output_type": "stream",
     "text": [
      "[I 2025-05-05 04:03:06,617] Trial 6 finished with value: 0.40871372175958776 and parameters: {'n_patches': 28, 'embed_dim': 64, 'learning_rate': 0.00017239200332293053, 'weight_decay': 9.659900476047298e-05, 'batch_size': 32, 'num_transformer_blocks': 2, 'num_heads': 8}. Best is trial 0 with value: 0.4326567967259911.\n"
     ]
    },
    {
     "name": "stdout",
     "output_type": "stream",
     "text": [
      "Fold 5: Accuracy = 0.4701\n",
      "Trial 6 mean accuracy: 0.4087\n",
      "Trial 8 params: n_patches=28, embed_dim=128, lr=0.00010881308888262903, blocks=8, heads=4, batch_size=32\n",
      "Divergence detected. Stopping training after 5 epochs.\n",
      "Fold 2: Accuracy = 0.4167\n",
      "Divergence detected. Stopping training after 5 epochs.\n",
      "Fold 1: Accuracy = 0.3273\n",
      "Divergence detected. Stopping training after 5 epochs.\n",
      "Divergence detected. Stopping training after 5 epochs.\n",
      "Fold 2: Accuracy = 0.3887\n",
      "Fold 3: Accuracy = 0.3261\n",
      "Divergence detected. Stopping training after 5 epochs.\n",
      "Fold 4: Accuracy = 0.4205\n",
      "Divergence detected. Stopping training after 5 epochs.\n",
      "Fold 3: Accuracy = 0.3811\n",
      "Divergence detected. Stopping training after 5 epochs.\n",
      "Fold 4: Accuracy = 0.4897\n",
      "Divergence detected. Stopping training after 5 epochs.\n"
     ]
    },
    {
     "name": "stderr",
     "output_type": "stream",
     "text": [
      "[I 2025-05-05 05:23:51,804] Trial 8 finished with value: 0.40586877651959147 and parameters: {'n_patches': 28, 'embed_dim': 128, 'learning_rate': 0.00010881308888262903, 'weight_decay': 3.547454638484653e-05, 'batch_size': 32, 'num_transformer_blocks': 8, 'num_heads': 4}. Best is trial 0 with value: 0.4326567967259911.\n"
     ]
    },
    {
     "name": "stdout",
     "output_type": "stream",
     "text": [
      "Fold 5: Accuracy = 0.4425\n",
      "Trial 8 mean accuracy: 0.4059\n",
      "Trial 9 params: n_patches=14, embed_dim=128, lr=1.6001007681863875e-05, blocks=2, heads=8, batch_size=32\n",
      "Divergence detected. Stopping training after 5 epochs.\n",
      "Fold 1: Accuracy = 0.3112\n",
      "Divergence detected. Stopping training after 5 epochs.\n",
      "Fold 2: Accuracy = 0.3783\n",
      "Divergence detected. Stopping training after 5 epochs.\n"
     ]
    },
    {
     "name": "stderr",
     "output_type": "stream",
     "text": [
      "[I 2025-05-05 05:27:09,166] Trial 7 finished with value: 0.3907931052408988 and parameters: {'n_patches': 28, 'embed_dim': 128, 'learning_rate': 3.852435819933398e-05, 'weight_decay': 4.958115001681111e-05, 'batch_size': 32, 'num_transformer_blocks': 8, 'num_heads': 4}. Best is trial 0 with value: 0.4326567967259911.\n"
     ]
    },
    {
     "name": "stdout",
     "output_type": "stream",
     "text": [
      "Fold 5: Accuracy = 0.4680\n",
      "Trial 7 mean accuracy: 0.3908\n",
      "Trial 10 params: n_patches=28, embed_dim=256, lr=0.0008783892582712605, blocks=6, heads=4, batch_size=16\n",
      "Fold 3: Accuracy = 0.4263\n",
      "Divergence detected. Stopping training after 5 epochs.\n",
      "Fold 4: Accuracy = 0.4216\n",
      "Divergence detected. Stopping training after 5 epochs.\n"
     ]
    },
    {
     "name": "stderr",
     "output_type": "stream",
     "text": [
      "[I 2025-05-05 05:31:04,438] Trial 9 finished with value: 0.38825527461296155 and parameters: {'n_patches': 14, 'embed_dim': 128, 'learning_rate': 1.6001007681863875e-05, 'weight_decay': 3.9712791283735525e-05, 'batch_size': 32, 'num_transformer_blocks': 2, 'num_heads': 8}. Best is trial 0 with value: 0.4326567967259911.\n"
     ]
    },
    {
     "name": "stdout",
     "output_type": "stream",
     "text": [
      "Fold 5: Accuracy = 0.4039\n",
      "Trial 9 mean accuracy: 0.3883\n",
      "Trial 11 params: n_patches=14, embed_dim=256, lr=0.0009107027321580435, blocks=2, heads=8, batch_size=16\n",
      "Divergence detected. Stopping training after 5 epochs.\n",
      "Fold 1: Accuracy = 0.2408\n",
      "Divergence detected. Stopping training after 5 epochs.\n",
      "Fold 1: Accuracy = 0.3333\n",
      "Divergence detected. Stopping training after 5 epochs.\n",
      "Fold 2: Accuracy = 0.3333\n",
      "Divergence detected. Stopping training after 5 epochs.\n",
      "Fold 3: Accuracy = 0.3333\n",
      "Divergence detected. Stopping training after 5 epochs.\n",
      "Fold 2: Accuracy = 0.3333\n",
      "Divergence detected. Stopping training after 5 epochs.\n",
      "Fold 4: Accuracy = 0.3333\n",
      "Divergence detected. Stopping training after 5 epochs.\n"
     ]
    },
    {
     "name": "stderr",
     "output_type": "stream",
     "text": [
      "[I 2025-05-05 05:36:28,119] Trial 11 finished with value: 0.3334087209087209 and parameters: {'n_patches': 14, 'embed_dim': 256, 'learning_rate': 0.0009107027321580435, 'weight_decay': 1.0183286621897564e-05, 'batch_size': 16, 'num_transformer_blocks': 2, 'num_heads': 8}. Best is trial 0 with value: 0.4326567967259911.\n"
     ]
    },
    {
     "name": "stdout",
     "output_type": "stream",
     "text": [
      "Fold 5: Accuracy = 0.4262\n",
      "Trial 11 mean accuracy: 0.3334\n",
      "Trial 12 params: n_patches=14, embed_dim=64, lr=0.0003785723614276676, blocks=2, heads=8, batch_size=16\n",
      "Divergence detected. Stopping training after 5 epochs.\n",
      "Fold 1: Accuracy = 0.3300\n",
      "Divergence detected. Stopping training after 5 epochs.\n",
      "Fold 2: Accuracy = 0.3362\n",
      "Divergence detected. Stopping training after 5 epochs.\n",
      "Fold 3: Accuracy = 0.3333\n",
      "Divergence detected. Stopping training after 5 epochs.\n",
      "Fold 3: Accuracy = 0.3767\n",
      "Divergence detected. Stopping training after 5 epochs.\n",
      "Fold 4: Accuracy = 0.4633\n",
      "Divergence detected. Stopping training after 5 epochs.\n",
      "Fold 4: Accuracy = 0.3333\n",
      "Divergence detected. Stopping training after 5 epochs.\n"
     ]
    },
    {
     "name": "stderr",
     "output_type": "stream",
     "text": [
      "[I 2025-05-05 05:43:30,421] Trial 12 finished with value: 0.38156002608755174 and parameters: {'n_patches': 14, 'embed_dim': 64, 'learning_rate': 0.0003785723614276676, 'weight_decay': 8.628468271150379e-05, 'batch_size': 16, 'num_transformer_blocks': 2, 'num_heads': 8}. Best is trial 0 with value: 0.4326567967259911.\n"
     ]
    },
    {
     "name": "stdout",
     "output_type": "stream",
     "text": [
      "Fold 5: Accuracy = 0.4015\n",
      "Trial 12 mean accuracy: 0.3816\n",
      "Trial 13 params: n_patches=14, embed_dim=64, lr=0.0001690785171506265, blocks=4, heads=8, batch_size=32\n",
      "Divergence detected. Stopping training after 5 epochs.\n",
      "Fold 1: Accuracy = 0.3924\n",
      "Divergence detected. Stopping training after 5 epochs.\n",
      "Fold 2: Accuracy = 0.4078\n",
      "Divergence detected. Stopping training after 5 epochs.\n",
      "Divergence detected. Stopping training after 5 epochs.\n",
      "Fold 3: Accuracy = 0.4543\n"
     ]
    },
    {
     "name": "stderr",
     "output_type": "stream",
     "text": [
      "[I 2025-05-05 05:47:03,324] Trial 10 finished with value: 0.3333333333333333 and parameters: {'n_patches': 28, 'embed_dim': 256, 'learning_rate': 0.0008783892582712605, 'weight_decay': 3.1881246606256596e-05, 'batch_size': 16, 'num_transformer_blocks': 6, 'num_heads': 4}. Best is trial 0 with value: 0.4326567967259911.\n"
     ]
    },
    {
     "name": "stdout",
     "output_type": "stream",
     "text": [
      "Fold 5: Accuracy = 0.3333\n",
      "Trial 10 mean accuracy: 0.3333\n",
      "Trial 14 params: n_patches=14, embed_dim=64, lr=0.00017912902630946333, blocks=4, heads=8, batch_size=32\n",
      "Divergence detected. Stopping training after 5 epochs.\n",
      "Fold 4: Accuracy = 0.4650\n",
      "Divergence detected. Stopping training after 5 epochs.\n",
      "Fold 1: Accuracy = 0.3243\n",
      "Divergence detected. Stopping training after 5 epochs.\n",
      "Divergence detected. Stopping training after 5 epochs.\n"
     ]
    },
    {
     "name": "stderr",
     "output_type": "stream",
     "text": [
      "[I 2025-05-05 05:49:11,301] Trial 13 finished with value: 0.42756050264823464 and parameters: {'n_patches': 14, 'embed_dim': 64, 'learning_rate': 0.0001690785171506265, 'weight_decay': 9.222393435032144e-05, 'batch_size': 32, 'num_transformer_blocks': 4, 'num_heads': 8}. Best is trial 0 with value: 0.4326567967259911.\n"
     ]
    },
    {
     "name": "stdout",
     "output_type": "stream",
     "text": [
      "Fold 5: Accuracy = 0.4183\n",
      "Trial 13 mean accuracy: 0.4276\n",
      "Trial 15 params: n_patches=14, embed_dim=64, lr=4.435517562531469e-05, blocks=4, heads=8, batch_size=32\n",
      "Fold 2: Accuracy = 0.3753\n",
      "Divergence detected. Stopping training after 5 epochs.\n",
      "Fold 3: Accuracy = 0.4485\n",
      "Divergence detected. Stopping training after 5 epochs.\n",
      "Fold 1: Accuracy = 0.3655\n",
      "Divergence detected. Stopping training after 5 epochs.\n",
      "Fold 2: Accuracy = 0.3443\n",
      "Divergence detected. Stopping training after 5 epochs.\n",
      "Fold 4: Accuracy = 0.4621\n",
      "Divergence detected. Stopping training after 5 epochs.\n"
     ]
    },
    {
     "name": "stderr",
     "output_type": "stream",
     "text": [
      "[I 2025-05-05 05:52:26,803] Trial 14 finished with value: 0.399947883185418 and parameters: {'n_patches': 14, 'embed_dim': 64, 'learning_rate': 0.00017912902630946333, 'weight_decay': 8.672081628535334e-05, 'batch_size': 32, 'num_transformer_blocks': 4, 'num_heads': 8}. Best is trial 0 with value: 0.4326567967259911.\n"
     ]
    },
    {
     "name": "stdout",
     "output_type": "stream",
     "text": [
      "Fold 5: Accuracy = 0.3896\n",
      "Trial 14 mean accuracy: 0.3999\n",
      "Trial 16 params: n_patches=14, embed_dim=256, lr=6.119722586258259e-05, blocks=4, heads=8, batch_size=32\n",
      "Divergence detected. Stopping training after 5 epochs.\n",
      "Fold 1: Accuracy = 0.3387\n",
      "Divergence detected. Stopping training after 5 epochs.\n",
      "Fold 3: Accuracy = 0.3552\n",
      "Divergence detected. Stopping training after 5 epochs.\n",
      "Fold 2: Accuracy = 0.3353\n",
      "Divergence detected. Stopping training after 5 epochs.\n",
      "Fold 4: Accuracy = 0.4738\n",
      "Divergence detected. Stopping training after 5 epochs.\n"
     ]
    },
    {
     "name": "stderr",
     "output_type": "stream",
     "text": [
      "[I 2025-05-05 05:55:47,918] Trial 15 finished with value: 0.3985811632399788 and parameters: {'n_patches': 14, 'embed_dim': 64, 'learning_rate': 4.435517562531469e-05, 'weight_decay': 6.410424150659056e-05, 'batch_size': 32, 'num_transformer_blocks': 4, 'num_heads': 8}. Best is trial 0 with value: 0.4326567967259911.\n"
     ]
    },
    {
     "name": "stdout",
     "output_type": "stream",
     "text": [
      "Fold 5: Accuracy = 0.4542\n",
      "Trial 15 mean accuracy: 0.3986\n",
      "Trial 17 params: n_patches=14, embed_dim=256, lr=0.0004041244820623277, blocks=2, heads=8, batch_size=32\n",
      "Divergence detected. Stopping training after 5 epochs.\n",
      "Fold 3: Accuracy = 0.3535\n",
      "Divergence detected. Stopping training after 5 epochs.\n",
      "Fold 1: Accuracy = 0.3817\n",
      "Divergence detected. Stopping training after 5 epochs.\n",
      "Fold 2: Accuracy = 0.3387\n",
      "Divergence detected. Stopping training after 5 epochs.\n",
      "Fold 4: Accuracy = 0.4489\n",
      "Divergence detected. Stopping training after 5 epochs.\n",
      "Fold 3: Accuracy = 0.3305\n",
      "Divergence detected. Stopping training after 5 epochs.\n",
      "Divergence detected. Stopping training after 5 epochs.\n",
      "Fold 4: Accuracy = 0.5038\n"
     ]
    },
    {
     "name": "stderr",
     "output_type": "stream",
     "text": [
      "[I 2025-05-05 06:00:20,314] Trial 16 finished with value: 0.39842299510117224 and parameters: {'n_patches': 14, 'embed_dim': 256, 'learning_rate': 6.119722586258259e-05, 'weight_decay': 1.8336318658806836e-05, 'batch_size': 32, 'num_transformer_blocks': 4, 'num_heads': 8}. Best is trial 0 with value: 0.4326567967259911.\n"
     ]
    },
    {
     "name": "stdout",
     "output_type": "stream",
     "text": [
      "Fold 5: Accuracy = 0.5158\n",
      "Trial 16 mean accuracy: 0.3984\n",
      "Trial 18 params: n_patches=14, embed_dim=256, lr=0.0005378090089690783, blocks=2, heads=8, batch_size=32\n",
      "Divergence detected. Stopping training after 5 epochs.\n",
      "Fold 1: Accuracy = 0.4089\n",
      "Divergence detected. Stopping training after 5 epochs.\n",
      "Divergence detected. Stopping training after 5 epochs.\n",
      "Fold 2: Accuracy = 0.3245\n"
     ]
    },
    {
     "name": "stderr",
     "output_type": "stream",
     "text": [
      "[I 2025-05-05 06:01:59,489] Trial 17 finished with value: 0.3988210967263184 and parameters: {'n_patches': 14, 'embed_dim': 256, 'learning_rate': 0.0004041244820623277, 'weight_decay': 1.7728251392520608e-05, 'batch_size': 32, 'num_transformer_blocks': 2, 'num_heads': 8}. Best is trial 0 with value: 0.4326567967259911.\n"
     ]
    },
    {
     "name": "stdout",
     "output_type": "stream",
     "text": [
      "Fold 5: Accuracy = 0.4394\n",
      "Trial 17 mean accuracy: 0.3988\n",
      "Trial 19 params: n_patches=14, embed_dim=64, lr=1.60336949386292e-05, blocks=2, heads=8, batch_size=16\n",
      "Divergence detected. Stopping training after 5 epochs.\n",
      "Fold 1: Accuracy = 0.3130\n",
      "Divergence detected. Stopping training after 5 epochs.\n",
      "Fold 3: Accuracy = 0.3264\n",
      "Divergence detected. Stopping training after 5 epochs.\n",
      "Fold 2: Accuracy = 0.3394\n",
      "Divergence detected. Stopping training after 5 epochs.\n",
      "Fold 4: Accuracy = 0.5169\n",
      "Divergence detected. Stopping training after 5 epochs.\n"
     ]
    },
    {
     "name": "stderr",
     "output_type": "stream",
     "text": [
      "[I 2025-05-05 06:04:54,425] Trial 18 finished with value: 0.382021194249056 and parameters: {'n_patches': 14, 'embed_dim': 256, 'learning_rate': 0.0005378090089690783, 'weight_decay': 1.787891790747654e-05, 'batch_size': 32, 'num_transformer_blocks': 2, 'num_heads': 8}. Best is trial 0 with value: 0.4326567967259911.\n"
     ]
    },
    {
     "name": "stdout",
     "output_type": "stream",
     "text": [
      "Fold 5: Accuracy = 0.3333\n",
      "Trial 18 mean accuracy: 0.3820\n",
      "Trial 20 params: n_patches=14, embed_dim=64, lr=0.00012944502892703823, blocks=4, heads=8, batch_size=16\n",
      "Divergence detected. Stopping training after 5 epochs.\n",
      "Fold 1: Accuracy = 0.3322\n",
      "Fold 3: Accuracy = 0.4152\n",
      "Divergence detected. Stopping training after 5 epochs.\n",
      "Fold 2: Accuracy = 0.3908\n",
      "Divergence detected. Stopping training after 5 epochs.\n",
      "Fold 4: Accuracy = 0.5348\n",
      "Divergence detected. Stopping training after 5 epochs.\n",
      "Fold 3: Accuracy = 0.3505\n",
      "Divergence detected. Stopping training after 5 epochs.\n"
     ]
    },
    {
     "name": "stderr",
     "output_type": "stream",
     "text": [
      "[I 2025-05-05 06:08:33,329] Trial 19 finished with value: 0.401290244423686 and parameters: {'n_patches': 14, 'embed_dim': 64, 'learning_rate': 1.60336949386292e-05, 'weight_decay': 5.7244153825181e-05, 'batch_size': 16, 'num_transformer_blocks': 2, 'num_heads': 8}. Best is trial 0 with value: 0.4326567967259911.\n"
     ]
    },
    {
     "name": "stdout",
     "output_type": "stream",
     "text": [
      "Fold 5: Accuracy = 0.4041\n",
      "Trial 19 mean accuracy: 0.4013\n",
      "Trial 21 params: n_patches=14, embed_dim=64, lr=0.00012537556565580193, blocks=4, heads=8, batch_size=32\n",
      "Divergence detected. Stopping training after 5 epochs.\n",
      "Fold 4: Accuracy = 0.5524\n",
      "Divergence detected. Stopping training after 5 epochs.\n",
      "Fold 1: Accuracy = 0.3098\n",
      "Divergence detected. Stopping training after 5 epochs.\n",
      "Fold 2: Accuracy = 0.3754\n",
      "Divergence detected. Stopping training after 5 epochs.\n"
     ]
    },
    {
     "name": "stderr",
     "output_type": "stream",
     "text": [
      "[I 2025-05-05 06:10:06,818] Trial 20 finished with value: 0.41560613756729053 and parameters: {'n_patches': 14, 'embed_dim': 64, 'learning_rate': 0.00012944502892703823, 'weight_decay': 5.6688014876814234e-05, 'batch_size': 16, 'num_transformer_blocks': 4, 'num_heads': 8}. Best is trial 0 with value: 0.4326567967259911.\n"
     ]
    },
    {
     "name": "stdout",
     "output_type": "stream",
     "text": [
      "Fold 5: Accuracy = 0.4520\n",
      "Trial 20 mean accuracy: 0.4156\n",
      "Trial 22 params: n_patches=14, embed_dim=64, lr=0.00014307068043572496, blocks=4, heads=8, batch_size=16\n",
      "Divergence detected. Stopping training after 5 epochs.\n",
      "Fold 3: Accuracy = 0.3561\n",
      "Divergence detected. Stopping training after 5 epochs.\n",
      "Fold 1: Accuracy = 0.3511\n",
      "Divergence detected. Stopping training after 5 epochs.\n",
      "Fold 4: Accuracy = 0.4636\n",
      "Divergence detected. Stopping training after 5 epochs.\n",
      "Fold 2: Accuracy = 0.3372\n",
      "Divergence detected. Stopping training after 5 epochs.\n"
     ]
    },
    {
     "name": "stderr",
     "output_type": "stream",
     "text": [
      "[I 2025-05-05 06:14:26,762] Trial 21 finished with value: 0.39538969528338397 and parameters: {'n_patches': 14, 'embed_dim': 64, 'learning_rate': 0.00012537556565580193, 'weight_decay': 2.4717075781463994e-05, 'batch_size': 32, 'num_transformer_blocks': 4, 'num_heads': 8}. Best is trial 0 with value: 0.4326567967259911.\n"
     ]
    },
    {
     "name": "stdout",
     "output_type": "stream",
     "text": [
      "Fold 5: Accuracy = 0.4720\n",
      "Trial 21 mean accuracy: 0.3954\n",
      "Trial 23 params: n_patches=14, embed_dim=64, lr=0.00022273715908157921, blocks=6, heads=8, batch_size=16\n",
      "Divergence detected. Stopping training after 5 epochs.\n",
      "Fold 3: Accuracy = 0.3047\n",
      "Divergence detected. Stopping training after 5 epochs.\n",
      "Fold 1: Accuracy = 0.3404\n",
      "Divergence detected. Stopping training after 5 epochs.\n",
      "Fold 4: Accuracy = 0.5014\n",
      "Divergence detected. Stopping training after 5 epochs.\n",
      "Fold 2: Accuracy = 0.3345\n",
      "Divergence detected. Stopping training after 5 epochs.\n",
      "Fold 3: Accuracy = 0.4003\n",
      "Divergence detected. Stopping training after 5 epochs.\n"
     ]
    },
    {
     "name": "stderr",
     "output_type": "stream",
     "text": [
      "[I 2025-05-05 06:18:56,294] Trial 22 finished with value: 0.37450700871840936 and parameters: {'n_patches': 14, 'embed_dim': 64, 'learning_rate': 0.00014307068043572496, 'weight_decay': 6.87412459347007e-05, 'batch_size': 16, 'num_transformer_blocks': 4, 'num_heads': 8}. Best is trial 0 with value: 0.4326567967259911.\n"
     ]
    },
    {
     "name": "stdout",
     "output_type": "stream",
     "text": [
      "Fold 5: Accuracy = 0.3781\n",
      "Trial 22 mean accuracy: 0.3745\n",
      "Trial 24 params: n_patches=14, embed_dim=64, lr=0.00023163492938958424, blocks=6, heads=8, batch_size=16\n",
      "Divergence detected. Stopping training after 5 epochs.\n",
      "Fold 4: Accuracy = 0.3333\n",
      "Divergence detected. Stopping training after 5 epochs.\n",
      "Fold 1: Accuracy = 0.3396\n",
      "Divergence detected. Stopping training after 5 epochs.\n",
      "Fold 2: Accuracy = 0.3441\n",
      "Divergence detected. Stopping training after 5 epochs.\n"
     ]
    },
    {
     "name": "stderr",
     "output_type": "stream",
     "text": [
      "[I 2025-05-05 06:21:35,512] Trial 23 finished with value: 0.3477910879400049 and parameters: {'n_patches': 14, 'embed_dim': 64, 'learning_rate': 0.00022273715908157921, 'weight_decay': 7.089249171276439e-05, 'batch_size': 16, 'num_transformer_blocks': 6, 'num_heads': 8}. Best is trial 0 with value: 0.4326567967259911.\n"
     ]
    },
    {
     "name": "stdout",
     "output_type": "stream",
     "text": [
      "Fold 5: Accuracy = 0.3304\n",
      "Trial 23 mean accuracy: 0.3478\n",
      "Trial 25 params: n_patches=14, embed_dim=64, lr=6.806441964587907e-05, blocks=4, heads=8, batch_size=16\n",
      "Divergence detected. Stopping training after 5 epochs.\n",
      "Fold 3: Accuracy = 0.3272\n",
      "Divergence detected. Stopping training after 5 epochs.\n",
      "Fold 1: Accuracy = 0.3085\n",
      "Divergence detected. Stopping training after 5 epochs.\n",
      "Fold 4: Accuracy = 0.3333\n",
      "Divergence detected. Stopping training after 5 epochs.\n",
      "Fold 2: Accuracy = 0.4190\n",
      "Divergence detected. Stopping training after 5 epochs.\n"
     ]
    },
    {
     "name": "stderr",
     "output_type": "stream",
     "text": [
      "[I 2025-05-05 06:24:45,694] Trial 24 finished with value: 0.3404666521694199 and parameters: {'n_patches': 14, 'embed_dim': 64, 'learning_rate': 0.00023163492938958424, 'weight_decay': 4.561721320692604e-05, 'batch_size': 16, 'num_transformer_blocks': 6, 'num_heads': 8}. Best is trial 0 with value: 0.4326567967259911.\n"
     ]
    },
    {
     "name": "stdout",
     "output_type": "stream",
     "text": [
      "Fold 5: Accuracy = 0.3581\n",
      "Trial 24 mean accuracy: 0.3405\n",
      "Trial 26 params: n_patches=14, embed_dim=64, lr=6.476583956073382e-05, blocks=4, heads=8, batch_size=16\n",
      "Divergence detected. Stopping training after 5 epochs.\n",
      "Fold 3: Accuracy = 0.4191\n",
      "Divergence detected. Stopping training after 5 epochs.\n",
      "Fold 1: Accuracy = 0.3194\n",
      "Divergence detected. Stopping training after 5 epochs.\n",
      "Fold 4: Accuracy = 0.5293\n",
      "Divergence detected. Stopping training after 5 epochs.\n",
      "Fold 2: Accuracy = 0.3910\n",
      "Divergence detected. Stopping training after 5 epochs.\n",
      "Fold 3: Accuracy = 0.3934\n",
      "Divergence detected. Stopping training after 5 epochs.\n"
     ]
    },
    {
     "name": "stderr",
     "output_type": "stream",
     "text": [
      "[I 2025-05-05 06:28:41,019] Trial 25 finished with value: 0.427092859161126 and parameters: {'n_patches': 14, 'embed_dim': 64, 'learning_rate': 6.806441964587907e-05, 'weight_decay': 4.917186330941611e-05, 'batch_size': 16, 'num_transformer_blocks': 4, 'num_heads': 8}. Best is trial 0 with value: 0.4326567967259911.\n"
     ]
    },
    {
     "name": "stdout",
     "output_type": "stream",
     "text": [
      "Fold 5: Accuracy = 0.4595\n",
      "Trial 25 mean accuracy: 0.4271\n",
      "Trial 27 params: n_patches=14, embed_dim=256, lr=6.126413789715565e-05, blocks=4, heads=8, batch_size=16\n",
      "Divergence detected. Stopping training after 5 epochs.\n",
      "Fold 4: Accuracy = 0.4775\n",
      "Divergence detected. Stopping training after 5 epochs.\n",
      "Fold 1: Accuracy = 0.3964\n",
      "Divergence detected. Stopping training after 5 epochs.\n"
     ]
    },
    {
     "name": "stderr",
     "output_type": "stream",
     "text": [
      "[I 2025-05-05 06:31:07,229] Trial 26 finished with value: 0.40712584332964397 and parameters: {'n_patches': 14, 'embed_dim': 64, 'learning_rate': 6.476583956073382e-05, 'weight_decay': 1.3821998654108316e-05, 'batch_size': 16, 'num_transformer_blocks': 4, 'num_heads': 8}. Best is trial 0 with value: 0.4326567967259911.\n"
     ]
    },
    {
     "name": "stdout",
     "output_type": "stream",
     "text": [
      "Fold 5: Accuracy = 0.4543\n",
      "Trial 26 mean accuracy: 0.4071\n",
      "Trial 28 params: n_patches=14, embed_dim=256, lr=2.480203252981459e-05, blocks=2, heads=8, batch_size=32\n",
      "Divergence detected. Stopping training after 5 epochs.\n",
      "Fold 2: Accuracy = 0.3404\n",
      "Divergence detected. Stopping training after 5 epochs.\n",
      "Fold 1: Accuracy = 0.3016\n",
      "Divergence detected. Stopping training after 5 epochs.\n",
      "Fold 2: Accuracy = 0.3496\n",
      "Divergence detected. Stopping training after 5 epochs.\n",
      "Fold 3: Accuracy = 0.4209\n",
      "Divergence detected. Stopping training after 5 epochs.\n",
      "Fold 3: Accuracy = 0.3934\n",
      "Divergence detected. Stopping training after 5 epochs.\n",
      "Fold 4: Accuracy = 0.5189\n",
      "Divergence detected. Stopping training after 5 epochs.\n",
      "Fold 4: Accuracy = 0.4573\n",
      "Divergence detected. Stopping training after 5 epochs.\n"
     ]
    },
    {
     "name": "stderr",
     "output_type": "stream",
     "text": [
      "[I 2025-05-05 06:35:40,899] Trial 28 finished with value: 0.40307545152869945 and parameters: {'n_patches': 14, 'embed_dim': 256, 'learning_rate': 2.480203252981459e-05, 'weight_decay': 7.855070224730716e-05, 'batch_size': 32, 'num_transformer_blocks': 2, 'num_heads': 8}. Best is trial 0 with value: 0.4326567967259911.\n"
     ]
    },
    {
     "name": "stdout",
     "output_type": "stream",
     "text": [
      "Fold 5: Accuracy = 0.4244\n",
      "Trial 28 mean accuracy: 0.4031\n",
      "Trial 29 params: n_patches=14, embed_dim=64, lr=5.3045714802442827e-05, blocks=4, heads=8, batch_size=16\n",
      "Divergence detected. Stopping training after 5 epochs.\n",
      "Fold 1: Accuracy = 0.3420\n",
      "Divergence detected. Stopping training after 5 epochs.\n"
     ]
    },
    {
     "name": "stderr",
     "output_type": "stream",
     "text": [
      "[I 2025-05-05 06:37:10,562] Trial 27 finished with value: 0.42254906356339444 and parameters: {'n_patches': 14, 'embed_dim': 256, 'learning_rate': 6.126413789715565e-05, 'weight_decay': 1.3743858155456227e-05, 'batch_size': 16, 'num_transformer_blocks': 4, 'num_heads': 8}. Best is trial 0 with value: 0.4326567967259911.\n"
     ]
    },
    {
     "name": "stdout",
     "output_type": "stream",
     "text": [
      "Fold 5: Accuracy = 0.5253\n",
      "Trial 27 mean accuracy: 0.4225\n",
      "Trial 30 params: n_patches=14, embed_dim=64, lr=5.0369579266432156e-05, blocks=6, heads=8, batch_size=32\n",
      "Divergence detected. Stopping training after 5 epochs.\n",
      "Fold 2: Accuracy = 0.3849\n",
      "Divergence detected. Stopping training after 5 epochs.\n",
      "Fold 1: Accuracy = 0.3516\n",
      "Divergence detected. Stopping training after 5 epochs.\n",
      "Fold 2: Accuracy = 0.4235\n",
      "Divergence detected. Stopping training after 5 epochs.\n",
      "Fold 3: Accuracy = 0.3901\n",
      "Divergence detected. Stopping training after 5 epochs.\n",
      "Fold 3: Accuracy = 0.4445\n",
      "Divergence detected. Stopping training after 5 epochs.\n",
      "Fold 4: Accuracy = 0.4995\n",
      "Divergence detected. Stopping training after 5 epochs.\n",
      "Fold 4: Accuracy = 0.4443\n",
      "Divergence detected. Stopping training after 5 epochs.\n"
     ]
    },
    {
     "name": "stderr",
     "output_type": "stream",
     "text": [
      "[I 2025-05-05 06:42:50,137] Trial 29 finished with value: 0.3933478392320087 and parameters: {'n_patches': 14, 'embed_dim': 64, 'learning_rate': 5.3045714802442827e-05, 'weight_decay': 2.2694667099801065e-05, 'batch_size': 16, 'num_transformer_blocks': 4, 'num_heads': 8}. Best is trial 0 with value: 0.4326567967259911.\n"
     ]
    },
    {
     "name": "stdout",
     "output_type": "stream",
     "text": [
      "Fold 5: Accuracy = 0.4054\n",
      "Trial 29 mean accuracy: 0.3933\n",
      "Trial 31 params: n_patches=14, embed_dim=64, lr=2.7540450166679064e-05, blocks=6, heads=8, batch_size=32\n",
      "Divergence detected. Stopping training after 5 epochs.\n"
     ]
    },
    {
     "name": "stderr",
     "output_type": "stream",
     "text": [
      "[I 2025-05-05 06:42:54,436] Trial 30 finished with value: 0.4205071034003113 and parameters: {'n_patches': 14, 'embed_dim': 64, 'learning_rate': 5.0369579266432156e-05, 'weight_decay': 2.6288948877501498e-05, 'batch_size': 32, 'num_transformer_blocks': 6, 'num_heads': 8}. Best is trial 0 with value: 0.4326567967259911.\n"
     ]
    },
    {
     "name": "stdout",
     "output_type": "stream",
     "text": [
      "Fold 5: Accuracy = 0.3834\n",
      "Trial 30 mean accuracy: 0.4205\n",
      "Trial 32 params: n_patches=14, embed_dim=256, lr=2.4444848010022956e-05, blocks=4, heads=8, batch_size=16\n",
      "Divergence detected. Stopping training after 5 epochs.\n",
      "Fold 1: Accuracy = 0.3482\n",
      "Divergence detected. Stopping training after 5 epochs.\n",
      "Fold 2: Accuracy = 0.3438\n",
      "Divergence detected. Stopping training after 5 epochs.\n",
      "Fold 3: Accuracy = 0.3673\n",
      "Divergence detected. Stopping training after 5 epochs.\n",
      "Fold 1: Accuracy = 0.3352\n",
      "Divergence detected. Stopping training after 5 epochs.\n",
      "Fold 4: Accuracy = 0.4606\n",
      "Divergence detected. Stopping training after 5 epochs.\n",
      "Fold 2: Accuracy = 0.3295\n",
      "Divergence detected. Stopping training after 5 epochs.\n"
     ]
    },
    {
     "name": "stderr",
     "output_type": "stream",
     "text": [
      "[I 2025-05-05 06:47:34,765] Trial 31 finished with value: 0.3919318449628838 and parameters: {'n_patches': 14, 'embed_dim': 64, 'learning_rate': 2.7540450166679064e-05, 'weight_decay': 2.9922368569009845e-05, 'batch_size': 32, 'num_transformer_blocks': 6, 'num_heads': 8}. Best is trial 0 with value: 0.4326567967259911.\n"
     ]
    },
    {
     "name": "stdout",
     "output_type": "stream",
     "text": [
      "Fold 5: Accuracy = 0.4398\n",
      "Trial 31 mean accuracy: 0.3919\n",
      "Trial 33 params: n_patches=14, embed_dim=256, lr=8.15305748280929e-05, blocks=4, heads=8, batch_size=16\n",
      "Divergence detected. Stopping training after 5 epochs.\n",
      "Fold 3: Accuracy = 0.4323\n",
      "Divergence detected. Stopping training after 5 epochs.\n",
      "Fold 4: Accuracy = 0.5518\n",
      "Divergence detected. Stopping training after 5 epochs.\n",
      "Fold 1: Accuracy = 0.4262\n",
      "Divergence detected. Stopping training after 5 epochs.\n",
      "Divergence detected. Stopping training after 5 epochs.\n"
     ]
    },
    {
     "name": "stderr",
     "output_type": "stream",
     "text": [
      "[I 2025-05-05 06:50:34,588] Trial 32 finished with value: 0.41307086088397976 and parameters: {'n_patches': 14, 'embed_dim': 256, 'learning_rate': 2.4444848010022956e-05, 'weight_decay': 1.4303634103233012e-05, 'batch_size': 16, 'num_transformer_blocks': 4, 'num_heads': 8}. Best is trial 0 with value: 0.4326567967259911.\n"
     ]
    },
    {
     "name": "stdout",
     "output_type": "stream",
     "text": [
      "Fold 5: Accuracy = 0.4165\n",
      "Trial 32 mean accuracy: 0.4131\n",
      "Trial 34 params: n_patches=14, embed_dim=256, lr=8.282414038529744e-05, blocks=4, heads=8, batch_size=16\n",
      "Fold 2: Accuracy = 0.3410\n",
      "Divergence detected. Stopping training after 5 epochs.\n",
      "Fold 3: Accuracy = 0.4131\n",
      "Divergence detected. Stopping training after 5 epochs.\n",
      "Fold 1: Accuracy = 0.3499\n",
      "Divergence detected. Stopping training after 5 epochs.\n",
      "Fold 4: Accuracy = 0.3981\n",
      "Divergence detected. Stopping training after 5 epochs.\n",
      "Fold 2: Accuracy = 0.3120\n",
      "Divergence detected. Stopping training after 5 epochs.\n",
      "Fold 3: Accuracy = 0.4088\n",
      "Divergence detected. Stopping training after 5 epochs.\n"
     ]
    },
    {
     "name": "stderr",
     "output_type": "stream",
     "text": [
      "[I 2025-05-05 06:55:25,539] Trial 33 finished with value: 0.3916915028568092 and parameters: {'n_patches': 14, 'embed_dim': 256, 'learning_rate': 8.15305748280929e-05, 'weight_decay': 1.1985301487023014e-05, 'batch_size': 16, 'num_transformer_blocks': 4, 'num_heads': 8}. Best is trial 0 with value: 0.4326567967259911.\n"
     ]
    },
    {
     "name": "stdout",
     "output_type": "stream",
     "text": [
      "Fold 5: Accuracy = 0.3801\n",
      "Trial 33 mean accuracy: 0.3917\n",
      "Trial 35 params: n_patches=14, embed_dim=256, lr=3.478808518295714e-05, blocks=4, heads=4, batch_size=16\n",
      "Divergence detected. Stopping training after 5 epochs.\n",
      "Fold 4: Accuracy = 0.3478\n",
      "Divergence detected. Stopping training after 5 epochs.\n",
      "Fold 1: Accuracy = 0.3262\n",
      "Divergence detected. Stopping training after 5 epochs.\n",
      "Divergence detected. Stopping training after 5 epochs.\n"
     ]
    },
    {
     "name": "stderr",
     "output_type": "stream",
     "text": [
      "[I 2025-05-05 06:56:55,176] Trial 34 finished with value: 0.37078450902932775 and parameters: {'n_patches': 14, 'embed_dim': 256, 'learning_rate': 8.282414038529744e-05, 'weight_decay': 1.0842486155053311e-05, 'batch_size': 16, 'num_transformer_blocks': 4, 'num_heads': 8}. Best is trial 0 with value: 0.4326567967259911.\n"
     ]
    },
    {
     "name": "stdout",
     "output_type": "stream",
     "text": [
      "Fold 5: Accuracy = 0.4354\n",
      "Trial 34 mean accuracy: 0.3708\n",
      "Trial 36 params: n_patches=14, embed_dim=256, lr=3.398532843480431e-05, blocks=4, heads=4, batch_size=16\n",
      "Fold 2: Accuracy = 0.3432\n",
      "Divergence detected. Stopping training after 5 epochs.\n",
      "Fold 1: Accuracy = 0.3313\n",
      "Divergence detected. Stopping training after 5 epochs.\n",
      "Fold 2: Accuracy = 0.3566\n",
      "Divergence detected. Stopping training after 5 epochs.\n",
      "Fold 3: Accuracy = 0.3405\n",
      "Divergence detected. Stopping training after 5 epochs.\n",
      "Fold 4: Accuracy = 0.5013\n",
      "Divergence detected. Stopping training after 5 epochs.\n",
      "Fold 3: Accuracy = 0.3465\n",
      "Divergence detected. Stopping training after 5 epochs.\n",
      "Fold 4: Accuracy = 0.4840\n",
      "Divergence detected. Stopping training after 5 epochs.\n"
     ]
    },
    {
     "name": "stderr",
     "output_type": "stream",
     "text": [
      "[I 2025-05-05 07:02:59,110] Trial 35 finished with value: 0.39950071060879366 and parameters: {'n_patches': 14, 'embed_dim': 256, 'learning_rate': 3.478808518295714e-05, 'weight_decay': 1.3778519817950195e-05, 'batch_size': 16, 'num_transformer_blocks': 4, 'num_heads': 4}. Best is trial 0 with value: 0.4326567967259911.\n"
     ]
    },
    {
     "name": "stdout",
     "output_type": "stream",
     "text": [
      "Fold 5: Accuracy = 0.4863\n",
      "Trial 35 mean accuracy: 0.3995\n",
      "Trial 37 params: n_patches=28, embed_dim=256, lr=9.904559111325139e-05, blocks=2, heads=8, batch_size=16\n",
      "Divergence detected. Stopping training after 5 epochs.\n"
     ]
    },
    {
     "name": "stderr",
     "output_type": "stream",
     "text": [
      "[I 2025-05-05 07:04:19,772] Trial 36 finished with value: 0.40570751723236453 and parameters: {'n_patches': 14, 'embed_dim': 256, 'learning_rate': 3.398532843480431e-05, 'weight_decay': 1.5342045024345275e-05, 'batch_size': 16, 'num_transformer_blocks': 4, 'num_heads': 4}. Best is trial 0 with value: 0.4326567967259911.\n"
     ]
    },
    {
     "name": "stdout",
     "output_type": "stream",
     "text": [
      "Fold 5: Accuracy = 0.5101\n",
      "Trial 36 mean accuracy: 0.4057\n",
      "Trial 38 params: n_patches=28, embed_dim=128, lr=9.436717637004732e-05, blocks=2, heads=8, batch_size=32\n",
      "Divergence detected. Stopping training after 5 epochs.\n",
      "Fold 1: Accuracy = 0.3039\n",
      "Divergence detected. Stopping training after 5 epochs.\n",
      "Fold 2: Accuracy = 0.3647\n",
      "Divergence detected. Stopping training after 5 epochs.\n",
      "Fold 1: Accuracy = 0.3793\n",
      "Divergence detected. Stopping training after 5 epochs.\n",
      "Fold 2: Accuracy = 0.3709\n",
      "Divergence detected. Stopping training after 5 epochs.\n",
      "Fold 3: Accuracy = 0.3281\n",
      "Divergence detected. Stopping training after 5 epochs.\n",
      "Fold 3: Accuracy = 0.4442\n",
      "Divergence detected. Stopping training after 5 epochs.\n",
      "Fold 4: Accuracy = 0.4271\n",
      "Divergence detected. Stopping training after 5 epochs.\n",
      "Fold 4: Accuracy = 0.4618\n",
      "Divergence detected. Stopping training after 5 epochs.\n"
     ]
    },
    {
     "name": "stderr",
     "output_type": "stream",
     "text": [
      "[I 2025-05-05 07:26:35,382] Trial 37 finished with value: 0.36713594707234676 and parameters: {'n_patches': 28, 'embed_dim': 256, 'learning_rate': 9.904559111325139e-05, 'weight_decay': 2.1177374145808404e-05, 'batch_size': 16, 'num_transformer_blocks': 2, 'num_heads': 8}. Best is trial 0 with value: 0.4326567967259911.\n"
     ]
    },
    {
     "name": "stdout",
     "output_type": "stream",
     "text": [
      "Fold 5: Accuracy = 0.4120\n",
      "Trial 37 mean accuracy: 0.3671\n",
      "Trial 39 params: n_patches=28, embed_dim=128, lr=1.1107919187839068e-05, blocks=6, heads=8, batch_size=32\n",
      "Divergence detected. Stopping training after 5 epochs.\n",
      "Fold 1: Accuracy = 0.3738\n",
      "Divergence detected. Stopping training after 5 epochs.\n"
     ]
    },
    {
     "name": "stderr",
     "output_type": "stream",
     "text": [
      "[I 2025-05-05 07:31:27,336] Trial 38 finished with value: 0.41530194457728137 and parameters: {'n_patches': 28, 'embed_dim': 128, 'learning_rate': 9.436717637004732e-05, 'weight_decay': 2.079864063881844e-05, 'batch_size': 32, 'num_transformer_blocks': 2, 'num_heads': 8}. Best is trial 0 with value: 0.4326567967259911.\n"
     ]
    },
    {
     "name": "stdout",
     "output_type": "stream",
     "text": [
      "Fold 5: Accuracy = 0.4204\n",
      "Trial 38 mean accuracy: 0.4153\n",
      "Trial 40 params: n_patches=14, embed_dim=128, lr=0.00027525883575364756, blocks=6, heads=4, batch_size=32\n",
      "Divergence detected. Stopping training after 5 epochs.\n",
      "Fold 1: Accuracy = 0.3333\n",
      "Divergence detected. Stopping training after 5 epochs.\n",
      "Fold 2: Accuracy = 0.3333\n",
      "Divergence detected. Stopping training after 5 epochs.\n",
      "Fold 3: Accuracy = 0.3333\n",
      "Divergence detected. Stopping training after 5 epochs.\n",
      "Fold 2: Accuracy = 0.3794\n",
      "Divergence detected. Stopping training after 5 epochs.\n",
      "Fold 4: Accuracy = 0.3333\n",
      "Divergence detected. Stopping training after 5 epochs.\n"
     ]
    },
    {
     "name": "stderr",
     "output_type": "stream",
     "text": [
      "[I 2025-05-05 07:37:36,248] Trial 40 finished with value: 0.3333333333333333 and parameters: {'n_patches': 14, 'embed_dim': 128, 'learning_rate': 0.00027525883575364756, 'weight_decay': 4.455813025016959e-05, 'batch_size': 32, 'num_transformer_blocks': 6, 'num_heads': 4}. Best is trial 0 with value: 0.4326567967259911.\n"
     ]
    },
    {
     "name": "stdout",
     "output_type": "stream",
     "text": [
      "Fold 5: Accuracy = 0.3333\n",
      "Trial 40 mean accuracy: 0.3333\n",
      "Trial 41 params: n_patches=28, embed_dim=256, lr=1.0252467651577669e-05, blocks=4, heads=8, batch_size=32\n",
      "Divergence detected. Stopping training after 5 epochs.\n",
      "Fold 1: Accuracy = 0.2905\n",
      "Divergence detected. Stopping training after 5 epochs.\n",
      "Fold 2: Accuracy = 0.3660\n",
      "Divergence detected. Stopping training after 5 epochs.\n",
      "Fold 3: Accuracy = 0.4215\n",
      "Divergence detected. Stopping training after 5 epochs.\n",
      "Fold 3: Accuracy = 0.3848\n",
      "Divergence detected. Stopping training after 5 epochs.\n",
      "Fold 4: Accuracy = 0.5130\n",
      "Divergence detected. Stopping training after 5 epochs.\n",
      "Fold 4: Accuracy = 0.4800\n",
      "Divergence detected. Stopping training after 5 epochs.\n"
     ]
    },
    {
     "name": "stderr",
     "output_type": "stream",
     "text": [
      "[I 2025-05-05 08:00:05,904] Trial 41 finished with value: 0.392938891191814 and parameters: {'n_patches': 28, 'embed_dim': 256, 'learning_rate': 1.0252467651577669e-05, 'weight_decay': 9.837740204418967e-05, 'batch_size': 32, 'num_transformer_blocks': 4, 'num_heads': 8}. Best is trial 0 with value: 0.4326567967259911.\n"
     ]
    },
    {
     "name": "stdout",
     "output_type": "stream",
     "text": [
      "Fold 5: Accuracy = 0.4434\n",
      "Trial 41 mean accuracy: 0.3929\n",
      "Trial 42 params: n_patches=14, embed_dim=64, lr=6.727652148444381e-05, blocks=6, heads=8, batch_size=32\n",
      "Divergence detected. Stopping training after 5 epochs.\n"
     ]
    },
    {
     "name": "stderr",
     "output_type": "stream",
     "text": [
      "[I 2025-05-05 08:00:36,580] Trial 39 finished with value: 0.4196420502293801 and parameters: {'n_patches': 28, 'embed_dim': 128, 'learning_rate': 1.1107919187839068e-05, 'weight_decay': 9.912828466429914e-05, 'batch_size': 32, 'num_transformer_blocks': 6, 'num_heads': 8}. Best is trial 0 with value: 0.4326567967259911.\n"
     ]
    },
    {
     "name": "stdout",
     "output_type": "stream",
     "text": [
      "Fold 5: Accuracy = 0.4105\n",
      "Trial 39 mean accuracy: 0.4196\n",
      "Trial 43 params: n_patches=14, embed_dim=64, lr=6.447930905498037e-05, blocks=6, heads=8, batch_size=32\n",
      "Divergence detected. Stopping training after 5 epochs.\n",
      "Fold 1: Accuracy = 0.3368\n",
      "Divergence detected. Stopping training after 5 epochs.\n",
      "Fold 2: Accuracy = 0.4156\n",
      "Divergence detected. Stopping training after 5 epochs.\n",
      "Fold 1: Accuracy = 0.3541\n",
      "Divergence detected. Stopping training after 5 epochs.\n",
      "Fold 2: Accuracy = 0.3567\n",
      "Divergence detected. Stopping training after 5 epochs.\n",
      "Fold 3: Accuracy = 0.4061\n",
      "Divergence detected. Stopping training after 5 epochs.\n",
      "Fold 3: Accuracy = 0.3481\n",
      "Divergence detected. Stopping training after 5 epochs.\n",
      "Fold 4: Accuracy = 0.5441\n",
      "Divergence detected. Stopping training after 5 epochs.\n"
     ]
    },
    {
     "name": "stderr",
     "output_type": "stream",
     "text": [
      "[I 2025-05-05 08:06:24,284] Trial 42 finished with value: 0.42996516544553665 and parameters: {'n_patches': 14, 'embed_dim': 64, 'learning_rate': 6.727652148444381e-05, 'weight_decay': 2.747950681597482e-05, 'batch_size': 32, 'num_transformer_blocks': 6, 'num_heads': 8}. Best is trial 0 with value: 0.4326567967259911.\n"
     ]
    },
    {
     "name": "stdout",
     "output_type": "stream",
     "text": [
      "Fold 5: Accuracy = 0.4473\n",
      "Trial 42 mean accuracy: 0.4300\n",
      "Trial 44 params: n_patches=14, embed_dim=64, lr=6.499325877966269e-05, blocks=6, heads=8, batch_size=32\n",
      "Divergence detected. Stopping training after 5 epochs.\n",
      "Fold 4: Accuracy = 0.4550\n",
      "Divergence detected. Stopping training after 5 epochs.\n",
      "Fold 1: Accuracy = 0.3687\n",
      "Divergence detected. Stopping training after 5 epochs.\n",
      "Divergence detected. Stopping training after 5 epochs.\n",
      "Fold 2: Accuracy = 0.4187\n"
     ]
    },
    {
     "name": "stderr",
     "output_type": "stream",
     "text": [
      "[I 2025-05-05 08:08:22,555] Trial 43 finished with value: 0.3928762665642635 and parameters: {'n_patches': 14, 'embed_dim': 64, 'learning_rate': 6.447930905498037e-05, 'weight_decay': 2.8199379097960386e-05, 'batch_size': 32, 'num_transformer_blocks': 6, 'num_heads': 8}. Best is trial 0 with value: 0.4326567967259911.\n"
     ]
    },
    {
     "name": "stdout",
     "output_type": "stream",
     "text": [
      "Fold 5: Accuracy = 0.4505\n",
      "Trial 43 mean accuracy: 0.3929\n",
      "Trial 45 params: n_patches=14, embed_dim=64, lr=7.387230687674851e-05, blocks=8, heads=8, batch_size=32\n",
      "Divergence detected. Stopping training after 5 epochs.\n",
      "Fold 3: Accuracy = 0.3912\n",
      "Divergence detected. Stopping training after 5 epochs.\n",
      "Fold 1: Accuracy = 0.3828\n",
      "Divergence detected. Stopping training after 5 epochs.\n",
      "Fold 4: Accuracy = 0.4250\n",
      "Divergence detected. Stopping training after 5 epochs.\n",
      "Fold 2: Accuracy = 0.3481\n",
      "Divergence detected. Stopping training after 5 epochs.\n"
     ]
    },
    {
     "name": "stderr",
     "output_type": "stream",
     "text": [
      "[I 2025-05-05 08:12:33,433] Trial 44 finished with value: 0.41676777150343813 and parameters: {'n_patches': 14, 'embed_dim': 64, 'learning_rate': 6.499325877966269e-05, 'weight_decay': 2.9516359127670344e-05, 'batch_size': 32, 'num_transformer_blocks': 6, 'num_heads': 8}. Best is trial 0 with value: 0.4326567967259911.\n"
     ]
    },
    {
     "name": "stdout",
     "output_type": "stream",
     "text": [
      "Fold 5: Accuracy = 0.4802\n",
      "Trial 44 mean accuracy: 0.4168\n",
      "Trial 46 params: n_patches=14, embed_dim=64, lr=0.0001594834374304363, blocks=8, heads=4, batch_size=32\n",
      "Divergence detected. Stopping training after 5 epochs.\n",
      "Fold 1: Accuracy = 0.3170\n",
      "Divergence detected. Stopping training after 5 epochs.\n",
      "Fold 3: Accuracy = 0.4022\n",
      "Divergence detected. Stopping training after 5 epochs.\n",
      "Fold 2: Accuracy = 0.3466\n",
      "Divergence detected. Stopping training after 5 epochs.\n",
      "Fold 4: Accuracy = 0.4968\n",
      "Divergence detected. Stopping training after 5 epochs.\n",
      "Fold 3: Accuracy = 0.3885\n",
      "Divergence detected. Stopping training after 5 epochs.\n"
     ]
    },
    {
     "name": "stderr",
     "output_type": "stream",
     "text": [
      "[I 2025-05-05 08:18:59,013] Trial 45 finished with value: 0.411543089561096 and parameters: {'n_patches': 14, 'embed_dim': 64, 'learning_rate': 7.387230687674851e-05, 'weight_decay': 3.7533862192333914e-05, 'batch_size': 32, 'num_transformer_blocks': 8, 'num_heads': 8}. Best is trial 0 with value: 0.4326567967259911.\n"
     ]
    },
    {
     "name": "stdout",
     "output_type": "stream",
     "text": [
      "Fold 5: Accuracy = 0.4278\n",
      "Trial 45 mean accuracy: 0.4115\n",
      "Trial 47 params: n_patches=14, embed_dim=64, lr=0.00014825195863369452, blocks=8, heads=4, batch_size=32\n",
      "Divergence detected. Stopping training after 5 epochs.\n",
      "Fold 4: Accuracy = 0.5475\n",
      "Divergence detected. Stopping training after 5 epochs.\n",
      "Fold 1: Accuracy = 0.3353\n",
      "Divergence detected. Stopping training after 5 epochs.\n"
     ]
    },
    {
     "name": "stderr",
     "output_type": "stream",
     "text": [
      "[I 2025-05-05 08:20:07,046] Trial 46 finished with value: 0.39294284835793103 and parameters: {'n_patches': 14, 'embed_dim': 64, 'learning_rate': 0.0001594834374304363, 'weight_decay': 3.4008925713652384e-05, 'batch_size': 32, 'num_transformer_blocks': 8, 'num_heads': 4}. Best is trial 0 with value: 0.4326567967259911.\n"
     ]
    },
    {
     "name": "stdout",
     "output_type": "stream",
     "text": [
      "Fold 5: Accuracy = 0.3651\n",
      "Trial 46 mean accuracy: 0.3929\n",
      "Trial 48 params: n_patches=14, embed_dim=256, lr=0.00011481064092284406, blocks=6, heads=8, batch_size=32\n",
      "Divergence detected. Stopping training after 5 epochs.\n",
      "Fold 2: Accuracy = 0.3414\n",
      "Divergence detected. Stopping training after 5 epochs.\n",
      "Fold 1: Accuracy = 0.3803\n",
      "Divergence detected. Stopping training after 5 epochs.\n",
      "Fold 3: Accuracy = 0.3916\n",
      "Divergence detected. Stopping training after 5 epochs.\n",
      "Fold 2: Accuracy = 0.3782\n",
      "Divergence detected. Stopping training after 5 epochs.\n",
      "Fold 4: Accuracy = 0.4550\n",
      "Divergence detected. Stopping training after 5 epochs.\n",
      "Fold 3: Accuracy = 0.3628\n",
      "Divergence detected. Stopping training after 5 epochs.\n"
     ]
    },
    {
     "name": "stderr",
     "output_type": "stream",
     "text": [
      "[I 2025-05-05 08:24:24,498] Trial 47 finished with value: 0.3906695852659987 and parameters: {'n_patches': 14, 'embed_dim': 64, 'learning_rate': 0.00014825195863369452, 'weight_decay': 3.452599095285597e-05, 'batch_size': 32, 'num_transformer_blocks': 8, 'num_heads': 4}. Best is trial 0 with value: 0.4326567967259911.\n"
     ]
    },
    {
     "name": "stdout",
     "output_type": "stream",
     "text": [
      "Fold 5: Accuracy = 0.4300\n",
      "Trial 47 mean accuracy: 0.3907\n",
      "Trial 49 params: n_patches=14, embed_dim=256, lr=0.00011731994850278735, blocks=6, heads=8, batch_size=32\n",
      "Divergence detected. Stopping training after 5 epochs.\n",
      "Fold 4: Accuracy = 0.3403\n",
      "Divergence detected. Stopping training after 5 epochs.\n",
      "Fold 1: Accuracy = 0.3466\n",
      "Divergence detected. Stopping training after 5 epochs.\n",
      "Fold 2: Accuracy = 0.3317\n",
      "Divergence detected. Stopping training after 5 epochs.\n",
      "Fold 3: Accuracy = 0.3902\n",
      "Divergence detected. Stopping training after 5 epochs.\n",
      "Divergence detected. Stopping training after 5 epochs.\n"
     ]
    },
    {
     "name": "stderr",
     "output_type": "stream",
     "text": [
      "[I 2025-05-05 08:28:52,478] Trial 48 finished with value: 0.38296915093030653 and parameters: {'n_patches': 14, 'embed_dim': 256, 'learning_rate': 0.00011481064092284406, 'weight_decay': 4.290473647265609e-05, 'batch_size': 32, 'num_transformer_blocks': 6, 'num_heads': 8}. Best is trial 0 with value: 0.4326567967259911.\n"
     ]
    },
    {
     "name": "stdout",
     "output_type": "stream",
     "text": [
      "Fold 5: Accuracy = 0.4533\n",
      "Trial 48 mean accuracy: 0.3830\n",
      "Trial 50 params: n_patches=14, embed_dim=256, lr=4.303989680758064e-05, blocks=2, heads=8, batch_size=16\n",
      "Fold 4: Accuracy = 0.5103\n",
      "Divergence detected. Stopping training after 5 epochs.\n",
      "Fold 1: Accuracy = 0.3348\n",
      "Divergence detected. Stopping training after 5 epochs.\n"
     ]
    },
    {
     "name": "stderr",
     "output_type": "stream",
     "text": [
      "[I 2025-05-05 08:30:12,637] Trial 49 finished with value: 0.3982523781517224 and parameters: {'n_patches': 14, 'embed_dim': 256, 'learning_rate': 0.00011731994850278735, 'weight_decay': 1.6221099196245364e-05, 'batch_size': 32, 'num_transformer_blocks': 6, 'num_heads': 8}. Best is trial 0 with value: 0.4326567967259911.\n"
     ]
    },
    {
     "name": "stdout",
     "output_type": "stream",
     "text": [
      "Fold 5: Accuracy = 0.4125\n",
      "Trial 49 mean accuracy: 0.3983\n",
      "Trial 51 params: n_patches=14, embed_dim=128, lr=5.3036507300038516e-05, blocks=2, heads=8, batch_size=16\n",
      "Divergence detected. Stopping training after 5 epochs.\n",
      "Fold 2: Accuracy = 0.3376\n",
      "Divergence detected. Stopping training after 5 epochs.\n",
      "Fold 1: Accuracy = 0.3565\n",
      "Divergence detected. Stopping training after 5 epochs.\n",
      "Fold 2: Accuracy = 0.3648\n",
      "Divergence detected. Stopping training after 5 epochs.\n",
      "Fold 3: Accuracy = 0.3400\n",
      "Divergence detected. Stopping training after 5 epochs.\n",
      "Fold 4: Accuracy = 0.5175\n",
      "Divergence detected. Stopping training after 5 epochs.\n",
      "Fold 3: Accuracy = 0.3404\n",
      "Divergence detected. Stopping training after 5 epochs.\n"
     ]
    },
    {
     "name": "stderr",
     "output_type": "stream",
     "text": [
      "[I 2025-05-05 08:35:43,035] Trial 50 finished with value: 0.3938310691611455 and parameters: {'n_patches': 14, 'embed_dim': 256, 'learning_rate': 4.303989680758064e-05, 'weight_decay': 2.2923247252548826e-05, 'batch_size': 16, 'num_transformer_blocks': 2, 'num_heads': 8}. Best is trial 0 with value: 0.4326567967259911.\n"
     ]
    },
    {
     "name": "stdout",
     "output_type": "stream",
     "text": [
      "Fold 5: Accuracy = 0.4392\n",
      "Trial 50 mean accuracy: 0.3938\n",
      "Trial 52 params: n_patches=14, embed_dim=64, lr=4.889184664618055e-05, blocks=6, heads=8, batch_size=32\n",
      "Divergence detected. Stopping training after 5 epochs.\n",
      "Fold 4: Accuracy = 0.5126\n",
      "Divergence detected. Stopping training after 5 epochs.\n",
      "Fold 1: Accuracy = 0.3039\n",
      "Divergence detected. Stopping training after 5 epochs.\n",
      "Fold 2: Accuracy = 0.3852\n",
      "Divergence detected. Stopping training after 5 epochs.\n"
     ]
    },
    {
     "name": "stderr",
     "output_type": "stream",
     "text": [
      "[I 2025-05-05 08:38:07,572] Trial 51 finished with value: 0.4125993714614945 and parameters: {'n_patches': 14, 'embed_dim': 128, 'learning_rate': 5.3036507300038516e-05, 'weight_decay': 2.3523643620446193e-05, 'batch_size': 16, 'num_transformer_blocks': 2, 'num_heads': 8}. Best is trial 0 with value: 0.4326567967259911.\n"
     ]
    },
    {
     "name": "stdout",
     "output_type": "stream",
     "text": [
      "Fold 5: Accuracy = 0.4887\n",
      "Trial 51 mean accuracy: 0.4126\n",
      "Trial 53 params: n_patches=14, embed_dim=64, lr=5.269932728681416e-05, blocks=6, heads=8, batch_size=32\n",
      "Divergence detected. Stopping training after 5 epochs.\n",
      "Fold 1: Accuracy = 0.3642\n",
      "Divergence detected. Stopping training after 5 epochs.\n",
      "Fold 2: Accuracy = 0.4198\n",
      "Divergence detected. Stopping training after 5 epochs.\n",
      "Fold 3: Accuracy = 0.4274\n",
      "Fold 3: Accuracy = 0.3163\n",
      "Divergence detected. Stopping training after 5 epochs.\n",
      "Fold 4: Accuracy = 0.4365\n",
      "Divergence detected. Stopping training after 5 epochs.\n",
      "Fold 4: Accuracy = 0.4633\n",
      "Divergence detected. Stopping training after 5 epochs.\n"
     ]
    },
    {
     "name": "stderr",
     "output_type": "stream",
     "text": [
      "[I 2025-05-05 08:43:29,167] Trial 53 finished with value: 0.42111489135699076 and parameters: {'n_patches': 14, 'embed_dim': 64, 'learning_rate': 5.269932728681416e-05, 'weight_decay': 2.7319285371986472e-05, 'batch_size': 32, 'num_transformer_blocks': 6, 'num_heads': 8}. Best is trial 0 with value: 0.4326567967259911.\n"
     ]
    },
    {
     "name": "stdout",
     "output_type": "stream",
     "text": [
      "Fold 5: Accuracy = 0.4576\n",
      "Trial 53 mean accuracy: 0.4211\n",
      "Trial 54 params: n_patches=14, embed_dim=64, lr=9.592776111351475e-05, blocks=6, heads=8, batch_size=32\n",
      "Divergence detected. Stopping training after 5 epochs.\n",
      "Fold 1: Accuracy = 0.3142\n",
      "Divergence detected. Stopping training after 5 epochs.\n",
      "Fold 2: Accuracy = 0.4058\n",
      "Divergence detected. Stopping training after 5 epochs.\n"
     ]
    },
    {
     "name": "stderr",
     "output_type": "stream",
     "text": [
      "[I 2025-05-05 08:45:08,390] Trial 52 finished with value: 0.3988220177451606 and parameters: {'n_patches': 14, 'embed_dim': 64, 'learning_rate': 4.889184664618055e-05, 'weight_decay': 2.5754474220330347e-05, 'batch_size': 32, 'num_transformer_blocks': 6, 'num_heads': 8}. Best is trial 0 with value: 0.4326567967259911.\n"
     ]
    },
    {
     "name": "stdout",
     "output_type": "stream",
     "text": [
      "Fold 5: Accuracy = 0.5255\n",
      "Trial 52 mean accuracy: 0.3988\n",
      "Trial 55 params: n_patches=14, embed_dim=64, lr=9.188652792605404e-05, blocks=4, heads=8, batch_size=32\n",
      "Divergence detected. Stopping training after 5 epochs.\n",
      "Fold 1: Accuracy = 0.3101\n",
      "Divergence detected. Stopping training after 5 epochs.\n",
      "Fold 3: Accuracy = 0.4225\n",
      "Divergence detected. Stopping training after 5 epochs.\n",
      "Fold 2: Accuracy = 0.3677\n",
      "Divergence detected. Stopping training after 5 epochs.\n",
      "Fold 4: Accuracy = 0.4751\n",
      "Divergence detected. Stopping training after 5 epochs.\n",
      "Fold 3: Accuracy = 0.4008\n",
      "Divergence detected. Stopping training after 5 epochs.\n",
      "Fold 4: Accuracy = 0.4603\n",
      "Divergence detected. Stopping training after 5 epochs.\n"
     ]
    },
    {
     "name": "stderr",
     "output_type": "stream",
     "text": [
      "[I 2025-05-05 08:49:36,034] Trial 54 finished with value: 0.41795366435110815 and parameters: {'n_patches': 14, 'embed_dim': 64, 'learning_rate': 9.592776111351475e-05, 'weight_decay': 5.051151235214214e-05, 'batch_size': 32, 'num_transformer_blocks': 6, 'num_heads': 8}. Best is trial 0 with value: 0.4326567967259911.\n"
     ]
    },
    {
     "name": "stdout",
     "output_type": "stream",
     "text": [
      "Fold 5: Accuracy = 0.4723\n",
      "Trial 54 mean accuracy: 0.4180\n",
      "Trial 56 params: n_patches=14, embed_dim=64, lr=0.00018877007978600362, blocks=4, heads=8, batch_size=32\n",
      "Divergence detected. Stopping training after 5 epochs.\n",
      "Fold 1: Accuracy = 0.4111\n",
      "Divergence detected. Stopping training after 5 epochs.\n",
      "Divergence detected. Stopping training after 5 epochs.\n",
      "Fold 2: Accuracy = 0.4080\n"
     ]
    },
    {
     "name": "stderr",
     "output_type": "stream",
     "text": [
      "[I 2025-05-05 08:50:59,325] Trial 55 finished with value: 0.39932412292978403 and parameters: {'n_patches': 14, 'embed_dim': 64, 'learning_rate': 9.188652792605404e-05, 'weight_decay': 5.2189219931246444e-05, 'batch_size': 32, 'num_transformer_blocks': 4, 'num_heads': 8}. Best is trial 0 with value: 0.4326567967259911.\n"
     ]
    },
    {
     "name": "stdout",
     "output_type": "stream",
     "text": [
      "Fold 5: Accuracy = 0.4578\n",
      "Trial 55 mean accuracy: 0.3993\n",
      "Trial 57 params: n_patches=14, embed_dim=64, lr=0.00019157932553572304, blocks=4, heads=8, batch_size=32\n",
      "Divergence detected. Stopping training after 5 epochs.\n",
      "Fold 3: Accuracy = 0.4646\n",
      "Divergence detected. Stopping training after 5 epochs.\n",
      "Fold 1: Accuracy = 0.3326\n",
      "Divergence detected. Stopping training after 5 epochs.\n",
      "Fold 2: Accuracy = 0.3987\n",
      "Divergence detected. Stopping training after 5 epochs.\n",
      "Fold 4: Accuracy = 0.4600\n",
      "Divergence detected. Stopping training after 5 epochs.\n",
      "Fold 3: Accuracy = 0.4028\n",
      "Divergence detected. Stopping training after 5 epochs.\n"
     ]
    },
    {
     "name": "stderr",
     "output_type": "stream",
     "text": [
      "[I 2025-05-05 08:54:34,658] Trial 56 finished with value: 0.42476789025159584 and parameters: {'n_patches': 14, 'embed_dim': 64, 'learning_rate': 0.00018877007978600362, 'weight_decay': 1.9750714979205133e-05, 'batch_size': 32, 'num_transformer_blocks': 4, 'num_heads': 8}. Best is trial 0 with value: 0.4326567967259911.\n"
     ]
    },
    {
     "name": "stdout",
     "output_type": "stream",
     "text": [
      "Fold 5: Accuracy = 0.3801\n",
      "Trial 56 mean accuracy: 0.4248\n",
      "Trial 58 params: n_patches=28, embed_dim=64, lr=0.00020512664320378624, blocks=4, heads=8, batch_size=32\n",
      "Divergence detected. Stopping training after 5 epochs.\n",
      "Fold 4: Accuracy = 0.5217\n",
      "Divergence detected. Stopping training after 5 epochs.\n"
     ]
    },
    {
     "name": "stderr",
     "output_type": "stream",
     "text": [
      "[I 2025-05-05 08:57:26,357] Trial 57 finished with value: 0.40751932144401504 and parameters: {'n_patches': 14, 'embed_dim': 64, 'learning_rate': 0.00019157932553572304, 'weight_decay': 3.187982463371814e-05, 'batch_size': 32, 'num_transformer_blocks': 4, 'num_heads': 8}. Best is trial 0 with value: 0.4326567967259911.\n"
     ]
    },
    {
     "name": "stdout",
     "output_type": "stream",
     "text": [
      "Fold 5: Accuracy = 0.3819\n",
      "Trial 57 mean accuracy: 0.4075\n",
      "Trial 59 params: n_patches=28, embed_dim=64, lr=0.00031554884196324725, blocks=4, heads=8, batch_size=32\n",
      "Divergence detected. Stopping training after 5 epochs.\n",
      "Fold 1: Accuracy = 0.3406\n",
      "Divergence detected. Stopping training after 5 epochs.\n",
      "Fold 1: Accuracy = 0.2977\n",
      "Divergence detected. Stopping training after 5 epochs.\n",
      "Fold 2: Accuracy = 0.3542\n",
      "Divergence detected. Stopping training after 5 epochs.\n",
      "Fold 2: Accuracy = 0.3329\n",
      "Divergence detected. Stopping training after 5 epochs.\n",
      "Fold 3: Accuracy = 0.3572\n",
      "Divergence detected. Stopping training after 5 epochs.\n",
      "Fold 3: Accuracy = 0.4412\n",
      "Divergence detected. Stopping training after 5 epochs.\n",
      "Fold 4: Accuracy = 0.3944\n",
      "Divergence detected. Stopping training after 5 epochs.\n",
      "Divergence detected. Stopping training after 5 epochs.\n"
     ]
    },
    {
     "name": "stderr",
     "output_type": "stream",
     "text": [
      "[I 2025-05-05 09:17:11,208] Trial 58 finished with value: 0.3596962119145618 and parameters: {'n_patches': 28, 'embed_dim': 64, 'learning_rate': 0.00020512664320378624, 'weight_decay': 1.9504755619405677e-05, 'batch_size': 32, 'num_transformer_blocks': 4, 'num_heads': 8}. Best is trial 0 with value: 0.4326567967259911.\n"
     ]
    },
    {
     "name": "stdout",
     "output_type": "stream",
     "text": [
      "Fold 5: Accuracy = 0.3522\n",
      "Trial 58 mean accuracy: 0.3597\n",
      "Trial 60 params: n_patches=14, embed_dim=64, lr=0.0003078203752579825, blocks=4, heads=8, batch_size=16\n",
      "Fold 4: Accuracy = 0.4899\n",
      "Divergence detected. Stopping training after 5 epochs.\n",
      "Fold 1: Accuracy = 0.4017\n",
      "Divergence detected. Stopping training after 5 epochs.\n",
      "Fold 2: Accuracy = 0.3410\n",
      "Divergence detected. Stopping training after 5 epochs.\n"
     ]
    },
    {
     "name": "stderr",
     "output_type": "stream",
     "text": [
      "[I 2025-05-05 09:20:50,323] Trial 59 finished with value: 0.4049198022116978 and parameters: {'n_patches': 28, 'embed_dim': 64, 'learning_rate': 0.00031554884196324725, 'weight_decay': 1.7199454971536732e-05, 'batch_size': 32, 'num_transformer_blocks': 4, 'num_heads': 8}. Best is trial 0 with value: 0.4326567967259911.\n"
     ]
    },
    {
     "name": "stdout",
     "output_type": "stream",
     "text": [
      "Fold 5: Accuracy = 0.4628\n",
      "Trial 59 mean accuracy: 0.4049\n",
      "Trial 61 params: n_patches=14, embed_dim=64, lr=0.00046328681591899684, blocks=4, heads=8, batch_size=16\n",
      "Divergence detected. Stopping training after 5 epochs.\n",
      "Fold 3: Accuracy = 0.3953\n",
      "Divergence detected. Stopping training after 5 epochs.\n",
      "Fold 1: Accuracy = 0.3333\n",
      "Divergence detected. Stopping training after 5 epochs.\n",
      "Fold 4: Accuracy = 0.3333\n",
      "Divergence detected. Stopping training after 5 epochs.\n",
      "Fold 2: Accuracy = 0.3335\n",
      "Divergence detected. Stopping training after 5 epochs.\n"
     ]
    },
    {
     "name": "stderr",
     "output_type": "stream",
     "text": [
      "[I 2025-05-05 09:24:03,233] Trial 60 finished with value: 0.37899123851590755 and parameters: {'n_patches': 14, 'embed_dim': 64, 'learning_rate': 0.0003078203752579825, 'weight_decay': 1.6464490424318462e-05, 'batch_size': 16, 'num_transformer_blocks': 4, 'num_heads': 8}. Best is trial 0 with value: 0.4326567967259911.\n"
     ]
    },
    {
     "name": "stdout",
     "output_type": "stream",
     "text": [
      "Fold 5: Accuracy = 0.4235\n",
      "Trial 60 mean accuracy: 0.3790\n",
      "Trial 62 params: n_patches=14, embed_dim=64, lr=7.553633365981953e-05, blocks=4, heads=8, batch_size=32\n",
      "Divergence detected. Stopping training after 5 epochs.\n",
      "Fold 3: Accuracy = 0.4059\n",
      "Divergence detected. Stopping training after 5 epochs.\n",
      "Divergence detected. Stopping training after 5 epochs.\n",
      "Fold 4: Accuracy = 0.3333\n",
      "Fold 1: Accuracy = 0.2725\n",
      "Divergence detected. Stopping training after 5 epochs.\n",
      "Fold 2: Accuracy = 0.3372\n",
      "Divergence detected. Stopping training after 5 epochs.\n"
     ]
    },
    {
     "name": "stderr",
     "output_type": "stream",
     "text": [
      "[I 2025-05-05 09:26:54,969] Trial 61 finished with value: 0.3546376257880418 and parameters: {'n_patches': 14, 'embed_dim': 64, 'learning_rate': 0.00046328681591899684, 'weight_decay': 1.9428162313016266e-05, 'batch_size': 16, 'num_transformer_blocks': 4, 'num_heads': 8}. Best is trial 0 with value: 0.4326567967259911.\n"
     ]
    },
    {
     "name": "stdout",
     "output_type": "stream",
     "text": [
      "Fold 5: Accuracy = 0.3671\n",
      "Trial 61 mean accuracy: 0.3546\n",
      "Trial 63 params: n_patches=14, embed_dim=64, lr=7.366642426994959e-05, blocks=6, heads=8, batch_size=32\n",
      "Divergence detected. Stopping training after 5 epochs.\n",
      "Fold 3: Accuracy = 0.4065\n",
      "Divergence detected. Stopping training after 5 epochs.\n",
      "Fold 1: Accuracy = 0.3748\n",
      "Divergence detected. Stopping training after 5 epochs.\n",
      "Divergence detected. Stopping training after 5 epochs.\n",
      "Fold 4: Accuracy = 0.3784\n",
      "Fold 2: Accuracy = 0.3475\n",
      "Divergence detected. Stopping training after 5 epochs.\n",
      "Fold 3: Accuracy = 0.3909\n",
      "Divergence detected. Stopping training after 5 epochs.\n"
     ]
    },
    {
     "name": "stderr",
     "output_type": "stream",
     "text": [
      "[I 2025-05-05 09:29:55,586] Trial 62 finished with value: 0.3590126425983565 and parameters: {'n_patches': 14, 'embed_dim': 64, 'learning_rate': 7.553633365981953e-05, 'weight_decay': 1.9240228326826022e-05, 'batch_size': 32, 'num_transformer_blocks': 4, 'num_heads': 8}. Best is trial 0 with value: 0.4326567967259911.\n"
     ]
    },
    {
     "name": "stdout",
     "output_type": "stream",
     "text": [
      "Fold 5: Accuracy = 0.4005\n",
      "Trial 62 mean accuracy: 0.3590\n",
      "Trial 64 params: n_patches=14, embed_dim=64, lr=0.0001308463934258534, blocks=6, heads=8, batch_size=32\n",
      "Divergence detected. Stopping training after 5 epochs.\n",
      "Fold 1: Accuracy = 0.3645\n",
      "Divergence detected. Stopping training after 5 epochs.\n",
      "Fold 2: Accuracy = 0.3667\n",
      "Divergence detected. Stopping training after 5 epochs.\n",
      "Fold 4: Accuracy = 0.5101\n",
      "Divergence detected. Stopping training after 5 epochs.\n",
      "Fold 3: Accuracy = 0.4086\n",
      "Divergence detected. Stopping training after 5 epochs.\n"
     ]
    },
    {
     "name": "stderr",
     "output_type": "stream",
     "text": [
      "[I 2025-05-05 09:33:28,141] Trial 63 finished with value: 0.39868231948425614 and parameters: {'n_patches': 14, 'embed_dim': 64, 'learning_rate': 7.366642426994959e-05, 'weight_decay': 2.6647760343226352e-05, 'batch_size': 32, 'num_transformer_blocks': 6, 'num_heads': 8}. Best is trial 0 with value: 0.4326567967259911.\n"
     ]
    },
    {
     "name": "stdout",
     "output_type": "stream",
     "text": [
      "Fold 5: Accuracy = 0.3700\n",
      "Trial 63 mean accuracy: 0.3987\n",
      "Trial 65 params: n_patches=14, embed_dim=64, lr=0.00013243153714837005, blocks=6, heads=8, batch_size=32\n",
      "Divergence detected. Stopping training after 5 epochs.\n",
      "Fold 4: Accuracy = 0.4754\n",
      "Divergence detected. Stopping training after 5 epochs.\n",
      "Fold 1: Accuracy = 0.2963\n",
      "Divergence detected. Stopping training after 5 epochs.\n",
      "Fold 2: Accuracy = 0.3285\n",
      "Divergence detected. Stopping training after 5 epochs.\n",
      "Fold 3: Accuracy = 0.3878\n",
      "Divergence detected. Stopping training after 5 epochs.\n",
      "Fold 4: Accuracy = 0.4835\n",
      "Divergence detected. Stopping training after 5 epochs.\n"
     ]
    },
    {
     "name": "stderr",
     "output_type": "stream",
     "text": [
      "[I 2025-05-05 09:38:09,470] Trial 64 finished with value: 0.4121807628139672 and parameters: {'n_patches': 14, 'embed_dim': 64, 'learning_rate': 0.0001308463934258534, 'weight_decay': 2.843152601786163e-05, 'batch_size': 32, 'num_transformer_blocks': 6, 'num_heads': 8}. Best is trial 0 with value: 0.4326567967259911.\n"
     ]
    },
    {
     "name": "stdout",
     "output_type": "stream",
     "text": [
      "Fold 5: Accuracy = 0.4457\n",
      "Trial 64 mean accuracy: 0.4122\n",
      "Trial 66 params: n_patches=14, embed_dim=64, lr=3.956102997509084e-05, blocks=2, heads=8, batch_size=32\n",
      "Divergence detected. Stopping training after 5 epochs.\n"
     ]
    },
    {
     "name": "stderr",
     "output_type": "stream",
     "text": [
      "[I 2025-05-05 09:38:21,749] Trial 65 finished with value: 0.37117580479381773 and parameters: {'n_patches': 14, 'embed_dim': 64, 'learning_rate': 0.00013243153714837005, 'weight_decay': 2.1601132790126096e-05, 'batch_size': 32, 'num_transformer_blocks': 6, 'num_heads': 8}. Best is trial 0 with value: 0.4326567967259911.\n"
     ]
    },
    {
     "name": "stdout",
     "output_type": "stream",
     "text": [
      "Fold 5: Accuracy = 0.3598\n",
      "Trial 65 mean accuracy: 0.3712\n",
      "Trial 67 params: n_patches=14, embed_dim=256, lr=5.7046763566862586e-05, blocks=2, heads=8, batch_size=32\n",
      "Divergence detected. Stopping training after 5 epochs.\n",
      "Fold 1: Accuracy = 0.3254\n",
      "Divergence detected. Stopping training after 5 epochs.\n",
      "Fold 1: Accuracy = 0.3003\n",
      "Divergence detected. Stopping training after 5 epochs.\n",
      "Fold 2: Accuracy = 0.3837\n",
      "Divergence detected. Stopping training after 5 epochs.\n",
      "Fold 2: Accuracy = 0.3419\n",
      "Divergence detected. Stopping training after 5 epochs.\n",
      "Fold 3: Accuracy = 0.4179\n",
      "Divergence detected. Stopping training after 5 epochs.\n",
      "Fold 4: Accuracy = 0.4522\n",
      "Fold 3: Accuracy = 0.3456\n",
      "Divergence detected. Stopping training after 5 epochs.\n"
     ]
    },
    {
     "name": "stderr",
     "output_type": "stream",
     "text": [
      "[I 2025-05-05 09:42:13,254] Trial 67 finished with value: 0.37849725571061527 and parameters: {'n_patches': 14, 'embed_dim': 256, 'learning_rate': 5.7046763566862586e-05, 'weight_decay': 1.2553940924998901e-05, 'batch_size': 32, 'num_transformer_blocks': 2, 'num_heads': 8}. Best is trial 0 with value: 0.4326567967259911.\n"
     ]
    },
    {
     "name": "stdout",
     "output_type": "stream",
     "text": [
      "Fold 5: Accuracy = 0.3801\n",
      "Trial 67 mean accuracy: 0.3785\n",
      "Trial 68 params: n_patches=14, embed_dim=64, lr=4.133616904875483e-05, blocks=4, heads=8, batch_size=32\n",
      "Divergence detected. Stopping training after 5 epochs.\n",
      "Fold 1: Accuracy = 0.3127\n",
      "Divergence detected. Stopping training after 5 epochs.\n",
      "Fold 2: Accuracy = 0.3770\n",
      "Divergence detected. Stopping training after 5 epochs.\n",
      "Fold 4: Accuracy = 0.4503\n",
      "Divergence detected. Stopping training after 5 epochs.\n"
     ]
    },
    {
     "name": "stderr",
     "output_type": "stream",
     "text": [
      "[I 2025-05-05 09:45:08,814] Trial 66 finished with value: 0.39575838046007433 and parameters: {'n_patches': 14, 'embed_dim': 64, 'learning_rate': 3.956102997509084e-05, 'weight_decay': 2.1342490972710587e-05, 'batch_size': 32, 'num_transformer_blocks': 2, 'num_heads': 8}. Best is trial 0 with value: 0.4326567967259911.\n"
     ]
    },
    {
     "name": "stdout",
     "output_type": "stream",
     "text": [
      "Fold 5: Accuracy = 0.4739\n",
      "Trial 66 mean accuracy: 0.3958\n",
      "Trial 69 params: n_patches=14, embed_dim=64, lr=0.00016581909648395008, blocks=4, heads=8, batch_size=16\n",
      "Divergence detected. Stopping training after 5 epochs.\n",
      "Fold 3: Accuracy = 0.2841\n",
      "Divergence detected. Stopping training after 5 epochs.\n",
      "Fold 1: Accuracy = 0.3858\n",
      "Divergence detected. Stopping training after 5 epochs.\n",
      "Fold 2: Accuracy = 0.3290\n",
      "Divergence detected. Stopping training after 5 epochs.\n",
      "Fold 4: Accuracy = 0.5704\n",
      "Divergence detected. Stopping training after 5 epochs.\n",
      "Divergence detected. Stopping training after 5 epochs.\n"
     ]
    },
    {
     "name": "stderr",
     "output_type": "stream",
     "text": [
      "[I 2025-05-05 09:48:27,664] Trial 68 finished with value: 0.40239726716735885 and parameters: {'n_patches': 14, 'embed_dim': 64, 'learning_rate': 4.133616904875483e-05, 'weight_decay': 8.284763456719405e-05, 'batch_size': 32, 'num_transformer_blocks': 4, 'num_heads': 8}. Best is trial 0 with value: 0.4326567967259911.\n"
     ]
    },
    {
     "name": "stdout",
     "output_type": "stream",
     "text": [
      "Fold 5: Accuracy = 0.4678\n",
      "Trial 68 mean accuracy: 0.4024\n",
      "Trial 70 params: n_patches=14, embed_dim=256, lr=0.00022955439198945728, blocks=4, heads=4, batch_size=16\n",
      "Fold 3: Accuracy = 0.4420\n",
      "Divergence detected. Stopping training after 5 epochs.\n",
      "Fold 1: Accuracy = 0.3565\n",
      "Divergence detected. Stopping training after 5 epochs.\n",
      "Fold 4: Accuracy = 0.4976\n",
      "Divergence detected. Stopping training after 5 epochs.\n",
      "Fold 2: Accuracy = 0.3728\n",
      "Divergence detected. Stopping training after 5 epochs.\n"
     ]
    },
    {
     "name": "stderr",
     "output_type": "stream",
     "text": [
      "[I 2025-05-05 09:51:01,848] Trial 69 finished with value: 0.4042457292831639 and parameters: {'n_patches': 14, 'embed_dim': 64, 'learning_rate': 0.00016581909648395008, 'weight_decay': 8.648898130781145e-05, 'batch_size': 16, 'num_transformer_blocks': 4, 'num_heads': 8}. Best is trial 0 with value: 0.4326567967259911.\n"
     ]
    },
    {
     "name": "stdout",
     "output_type": "stream",
     "text": [
      "Fold 5: Accuracy = 0.3668\n",
      "Trial 69 mean accuracy: 0.4042\n",
      "Trial 71 params: n_patches=14, embed_dim=256, lr=0.00024561373915675327, blocks=4, heads=4, batch_size=16\n",
      "Divergence detected. Stopping training after 5 epochs.\n",
      "Fold 3: Accuracy = 0.3333\n",
      "Divergence detected. Stopping training after 5 epochs.\n",
      "Fold 4: Accuracy = 0.3333\n",
      "Divergence detected. Stopping training after 5 epochs.\n",
      "Fold 1: Accuracy = 0.3585\n",
      "Divergence detected. Stopping training after 5 epochs.\n",
      "Fold 2: Accuracy = 0.3477\n",
      "Divergence detected. Stopping training after 5 epochs.\n"
     ]
    },
    {
     "name": "stderr",
     "output_type": "stream",
     "text": [
      "[I 2025-05-05 09:53:28,636] Trial 70 finished with value: 0.3532083343524021 and parameters: {'n_patches': 14, 'embed_dim': 256, 'learning_rate': 0.00022955439198945728, 'weight_decay': 6.113818339673478e-05, 'batch_size': 16, 'num_transformer_blocks': 4, 'num_heads': 4}. Best is trial 0 with value: 0.4326567967259911.\n"
     ]
    },
    {
     "name": "stdout",
     "output_type": "stream",
     "text": [
      "Fold 5: Accuracy = 0.3701\n",
      "Trial 70 mean accuracy: 0.3532\n",
      "Trial 72 params: n_patches=14, embed_dim=64, lr=3.29495677832827e-05, blocks=6, heads=8, batch_size=32\n",
      "Divergence detected. Stopping training after 5 epochs.\n",
      "Fold 3: Accuracy = 0.3774\n",
      "Divergence detected. Stopping training after 5 epochs.\n",
      "Fold 1: Accuracy = 0.3456\n",
      "Divergence detected. Stopping training after 5 epochs.\n",
      "Fold 2: Accuracy = 0.3873\n",
      "Divergence detected. Stopping training after 5 epochs.\n",
      "Fold 4: Accuracy = 0.3333\n",
      "Divergence detected. Stopping training after 5 epochs.\n",
      "Fold 3: Accuracy = 0.3606\n",
      "Divergence detected. Stopping training after 5 epochs.\n",
      "Fold 4: Accuracy = 0.4227\n",
      "Divergence detected. Stopping training after 5 epochs.\n"
     ]
    },
    {
     "name": "stderr",
     "output_type": "stream",
     "text": [
      "[I 2025-05-05 09:59:14,258] Trial 71 finished with value: 0.36944865856991843 and parameters: {'n_patches': 14, 'embed_dim': 256, 'learning_rate': 0.00024561373915675327, 'weight_decay': 6.189593296038756e-05, 'batch_size': 16, 'num_transformer_blocks': 4, 'num_heads': 4}. Best is trial 0 with value: 0.4326567967259911.\n"
     ]
    },
    {
     "name": "stdout",
     "output_type": "stream",
     "text": [
      "Fold 5: Accuracy = 0.4304\n",
      "Trial 71 mean accuracy: 0.3694\n",
      "Trial 73 params: n_patches=14, embed_dim=64, lr=4.779330578818504e-05, blocks=6, heads=8, batch_size=32\n",
      "Divergence detected. Stopping training after 5 epochs.\n",
      "Fold 1: Accuracy = 0.3505\n",
      "Divergence detected. Stopping training after 5 epochs.\n",
      "Fold 2: Accuracy = 0.3697\n",
      "Divergence detected. Stopping training after 5 epochs.\n"
     ]
    },
    {
     "name": "stderr",
     "output_type": "stream",
     "text": [
      "[I 2025-05-05 10:00:57,743] Trial 72 finished with value: 0.3891005590978245 and parameters: {'n_patches': 14, 'embed_dim': 64, 'learning_rate': 3.29495677832827e-05, 'weight_decay': 2.4323407404242775e-05, 'batch_size': 32, 'num_transformer_blocks': 6, 'num_heads': 8}. Best is trial 0 with value: 0.4326567967259911.\n"
     ]
    },
    {
     "name": "stdout",
     "output_type": "stream",
     "text": [
      "Fold 5: Accuracy = 0.4293\n",
      "Trial 72 mean accuracy: 0.3891\n",
      "Trial 74 params: n_patches=14, embed_dim=64, lr=4.791527211534685e-05, blocks=6, heads=8, batch_size=32\n",
      "Divergence detected. Stopping training after 5 epochs.\n",
      "Fold 3: Accuracy = 0.4006\n",
      "Divergence detected. Stopping training after 5 epochs.\n",
      "Fold 4: Accuracy = 0.4536\n",
      "Divergence detected. Stopping training after 5 epochs.\n",
      "Fold 1: Accuracy = 0.3880\n",
      "Divergence detected. Stopping training after 5 epochs.\n"
     ]
    },
    {
     "name": "stderr",
     "output_type": "stream",
     "text": [
      "[I 2025-05-05 10:03:36,601] Trial 73 finished with value: 0.4109401663784794 and parameters: {'n_patches': 14, 'embed_dim': 64, 'learning_rate': 4.779330578818504e-05, 'weight_decay': 2.508506018502862e-05, 'batch_size': 32, 'num_transformer_blocks': 6, 'num_heads': 8}. Best is trial 0 with value: 0.4326567967259911.\n"
     ]
    },
    {
     "name": "stdout",
     "output_type": "stream",
     "text": [
      "Fold 5: Accuracy = 0.4803\n",
      "Trial 73 mean accuracy: 0.4109\n",
      "Trial 75 params: n_patches=14, embed_dim=64, lr=0.00010936778707329494, blocks=6, heads=8, batch_size=32\n",
      "Divergence detected. Stopping training after 5 epochs.\n",
      "Fold 1: Accuracy = 0.3160\n",
      "Divergence detected. Stopping training after 5 epochs.\n",
      "Fold 2: Accuracy = 0.4011\n",
      "Divergence detected. Stopping training after 5 epochs.\n",
      "Fold 3: Accuracy = 0.4338\n",
      "Divergence detected. Stopping training after 5 epochs.\n",
      "Fold 2: Accuracy = 0.4015\n",
      "Divergence detected. Stopping training after 5 epochs.\n",
      "Fold 4: Accuracy = 0.4635\n",
      "Divergence detected. Stopping training after 5 epochs.\n",
      "Fold 3: Accuracy = 0.2832\n",
      "Divergence detected. Stopping training after 5 epochs.\n",
      "Fold 4: Accuracy = 0.4639\n",
      "Divergence detected. Stopping training after 5 epochs.\n"
     ]
    },
    {
     "name": "stderr",
     "output_type": "stream",
     "text": [
      "[I 2025-05-05 10:09:18,427] Trial 74 finished with value: 0.4339657674596612 and parameters: {'n_patches': 14, 'embed_dim': 64, 'learning_rate': 4.791527211534685e-05, 'weight_decay': 2.723389186594195e-05, 'batch_size': 32, 'num_transformer_blocks': 6, 'num_heads': 8}. Best is trial 74 with value: 0.4339657674596612.\n"
     ]
    },
    {
     "name": "stdout",
     "output_type": "stream",
     "text": [
      "Fold 5: Accuracy = 0.4835\n",
      "Trial 74 mean accuracy: 0.4340\n",
      "Trial 76 params: n_patches=14, embed_dim=128, lr=6.746054996955972e-05, blocks=6, heads=8, batch_size=32\n",
      "Divergence detected. Stopping training after 5 epochs.\n",
      "Fold 1: Accuracy = 0.3300\n",
      "Divergence detected. Stopping training after 5 epochs.\n"
     ]
    },
    {
     "name": "stderr",
     "output_type": "stream",
     "text": [
      "[I 2025-05-05 10:11:02,801] Trial 75 finished with value: 0.37081189592900055 and parameters: {'n_patches': 14, 'embed_dim': 64, 'learning_rate': 0.00010936778707329494, 'weight_decay': 3.812026936269349e-05, 'batch_size': 32, 'num_transformer_blocks': 6, 'num_heads': 8}. Best is trial 74 with value: 0.4339657674596612.\n"
     ]
    },
    {
     "name": "stdout",
     "output_type": "stream",
     "text": [
      "Fold 5: Accuracy = 0.3894\n",
      "Trial 75 mean accuracy: 0.3708\n",
      "Trial 77 params: n_patches=14, embed_dim=128, lr=6.010092925814494e-05, blocks=6, heads=8, batch_size=32\n",
      "Divergence detected. Stopping training after 5 epochs.\n",
      "Fold 2: Accuracy = 0.3389\n",
      "Divergence detected. Stopping training after 5 epochs.\n",
      "Fold 1: Accuracy = 0.2857\n",
      "Divergence detected. Stopping training after 5 epochs.\n",
      "Fold 3: Accuracy = 0.4152\n",
      "Divergence detected. Stopping training after 5 epochs.\n",
      "Fold 2: Accuracy = 0.4038\n",
      "Divergence detected. Stopping training after 5 epochs.\n",
      "Fold 3: Accuracy = 0.3307\n",
      "Divergence detected. Stopping training after 5 epochs.\n",
      "Fold 4: Accuracy = 0.4472\n",
      "Divergence detected. Stopping training after 5 epochs.\n",
      "Fold 4: Accuracy = 0.4510\n",
      "Divergence detected. Stopping training after 5 epochs.\n",
      "Divergence detected. Stopping training after 5 epochs.\n"
     ]
    },
    {
     "name": "stderr",
     "output_type": "stream",
     "text": [
      "[I 2025-05-05 10:15:18,218] Trial 77 finished with value: 0.3746431360839537 and parameters: {'n_patches': 14, 'embed_dim': 128, 'learning_rate': 6.010092925814494e-05, 'weight_decay': 2.757339619795553e-05, 'batch_size': 32, 'num_transformer_blocks': 6, 'num_heads': 8}. Best is trial 74 with value: 0.4339657674596612.\n"
     ]
    },
    {
     "name": "stdout",
     "output_type": "stream",
     "text": [
      "Fold 5: Accuracy = 0.4021\n",
      "Trial 77 mean accuracy: 0.3746\n",
      "Trial 78 params: n_patches=14, embed_dim=64, lr=7.229001856660741e-05, blocks=8, heads=8, batch_size=32\n"
     ]
    },
    {
     "name": "stderr",
     "output_type": "stream",
     "text": [
      "[I 2025-05-05 10:15:19,751] Trial 76 finished with value: 0.3929860374438938 and parameters: {'n_patches': 14, 'embed_dim': 128, 'learning_rate': 6.746054996955972e-05, 'weight_decay': 3.2786879694655513e-05, 'batch_size': 32, 'num_transformer_blocks': 6, 'num_heads': 8}. Best is trial 74 with value: 0.4339657674596612.\n"
     ]
    },
    {
     "name": "stdout",
     "output_type": "stream",
     "text": [
      "Fold 5: Accuracy = 0.4335\n",
      "Trial 76 mean accuracy: 0.3930\n",
      "Trial 79 params: n_patches=14, embed_dim=64, lr=5.5832423292191354e-05, blocks=8, heads=8, batch_size=32\n",
      "Divergence detected. Stopping training after 5 epochs.\n",
      "Fold 1: Accuracy = 0.3688\n",
      "Divergence detected. Stopping training after 5 epochs.\n",
      "Fold 1: Accuracy = 0.3574\n",
      "Divergence detected. Stopping training after 5 epochs.\n",
      "Divergence detected. Stopping training after 5 epochs.\n",
      "Fold 2: Accuracy = 0.3462\n",
      "Fold 2: Accuracy = 0.3977\n",
      "Divergence detected. Stopping training after 5 epochs.\n",
      "Fold 3: Accuracy = 0.4312\n",
      "Divergence detected. Stopping training after 5 epochs.\n",
      "Fold 4: Accuracy = 0.5180\n",
      "Fold 3: Accuracy = 0.2896\n",
      "Divergence detected. Stopping training after 5 epochs.\n"
     ]
    },
    {
     "name": "stderr",
     "output_type": "stream",
     "text": [
      "[I 2025-05-05 10:20:32,434] Trial 79 finished with value: 0.43090638770516454 and parameters: {'n_patches': 14, 'embed_dim': 64, 'learning_rate': 5.5832423292191354e-05, 'weight_decay': 7.139534466914747e-05, 'batch_size': 32, 'num_transformer_blocks': 8, 'num_heads': 8}. Best is trial 74 with value: 0.4339657674596612.\n"
     ]
    },
    {
     "name": "stdout",
     "output_type": "stream",
     "text": [
      "Fold 5: Accuracy = 0.4503\n",
      "Trial 79 mean accuracy: 0.4309\n",
      "Trial 80 params: n_patches=14, embed_dim=64, lr=8.63813224086604e-05, blocks=8, heads=8, batch_size=32\n",
      "Divergence detected. Stopping training after 5 epochs.\n",
      "Fold 1: Accuracy = 0.3467\n",
      "Divergence detected. Stopping training after 5 epochs.\n",
      "Fold 4: Accuracy = 0.4965\n",
      "Divergence detected. Stopping training after 5 epochs.\n",
      "Fold 2: Accuracy = 0.3813\n",
      "Divergence detected. Stopping training after 5 epochs.\n",
      "Fold 3: Accuracy = 0.3709\n",
      "Divergence detected. Stopping training after 5 epochs.\n"
     ]
    },
    {
     "name": "stderr",
     "output_type": "stream",
     "text": [
      "[I 2025-05-05 10:24:00,882] Trial 78 finished with value: 0.39119426465488955 and parameters: {'n_patches': 14, 'embed_dim': 64, 'learning_rate': 7.229001856660741e-05, 'weight_decay': 3.0925234565317656e-05, 'batch_size': 32, 'num_transformer_blocks': 8, 'num_heads': 8}. Best is trial 74 with value: 0.4339657674596612.\n"
     ]
    },
    {
     "name": "stdout",
     "output_type": "stream",
     "text": [
      "Fold 5: Accuracy = 0.4549\n",
      "Trial 78 mean accuracy: 0.3912\n",
      "Trial 81 params: n_patches=14, embed_dim=256, lr=8.724125633149822e-05, blocks=8, heads=8, batch_size=16\n",
      "Divergence detected. Stopping training after 5 epochs.\n",
      "Fold 4: Accuracy = 0.4654\n",
      "Divergence detected. Stopping training after 5 epochs.\n",
      "Fold 1: Accuracy = 0.3502\n",
      "Divergence detected. Stopping training after 5 epochs.\n"
     ]
    },
    {
     "name": "stderr",
     "output_type": "stream",
     "text": [
      "[I 2025-05-05 10:26:20,154] Trial 80 finished with value: 0.3734643087969701 and parameters: {'n_patches': 14, 'embed_dim': 64, 'learning_rate': 8.63813224086604e-05, 'weight_decay': 7.894864435046741e-05, 'batch_size': 32, 'num_transformer_blocks': 8, 'num_heads': 8}. Best is trial 74 with value: 0.4339657674596612.\n"
     ]
    },
    {
     "name": "stdout",
     "output_type": "stream",
     "text": [
      "Fold 5: Accuracy = 0.3030\n",
      "Trial 80 mean accuracy: 0.3735\n",
      "Trial 82 params: n_patches=14, embed_dim=64, lr=2.970764144910841e-05, blocks=8, heads=8, batch_size=32\n",
      "Divergence detected. Stopping training after 5 epochs.\n",
      "Fold 2: Accuracy = 0.3106\n",
      "Divergence detected. Stopping training after 5 epochs.\n",
      "Fold 1: Accuracy = 0.3729\n",
      "Divergence detected. Stopping training after 5 epochs.\n",
      "Fold 2: Accuracy = 0.3607\n",
      "Divergence detected. Stopping training after 5 epochs.\n",
      "Fold 3: Accuracy = 0.3757\n",
      "Divergence detected. Stopping training after 5 epochs.\n",
      "Fold 3: Accuracy = 0.3420\n",
      "Divergence detected. Stopping training after 5 epochs.\n",
      "Fold 4: Accuracy = 0.4599\n",
      "Divergence detected. Stopping training after 5 epochs.\n",
      "Fold 4: Accuracy = 0.4615\n",
      "Divergence detected. Stopping training after 5 epochs.\n"
     ]
    },
    {
     "name": "stderr",
     "output_type": "stream",
     "text": [
      "[I 2025-05-05 10:32:51,125] Trial 81 finished with value: 0.3562252983204691 and parameters: {'n_patches': 14, 'embed_dim': 256, 'learning_rate': 8.724125633149822e-05, 'weight_decay': 7.339567800549818e-05, 'batch_size': 16, 'num_transformer_blocks': 8, 'num_heads': 8}. Best is trial 74 with value: 0.4339657674596612.\n"
     ]
    },
    {
     "name": "stdout",
     "output_type": "stream",
     "text": [
      "Fold 5: Accuracy = 0.3169\n",
      "Trial 81 mean accuracy: 0.3562\n",
      "Trial 83 params: n_patches=14, embed_dim=64, lr=5.7525466138481176e-05, blocks=8, heads=8, batch_size=32\n",
      "Divergence detected. Stopping training after 5 epochs.\n",
      "Fold 1: Accuracy = 0.3069\n",
      "Divergence detected. Stopping training after 5 epochs.\n",
      "Divergence detected. Stopping training after 5 epochs.\n",
      "Fold 2: Accuracy = 0.4115\n"
     ]
    },
    {
     "name": "stderr",
     "output_type": "stream",
     "text": [
      "[I 2025-05-05 10:34:43,446] Trial 82 finished with value: 0.4011811332455249 and parameters: {'n_patches': 14, 'embed_dim': 64, 'learning_rate': 2.970764144910841e-05, 'weight_decay': 7.217647800757259e-05, 'batch_size': 32, 'num_transformer_blocks': 8, 'num_heads': 8}. Best is trial 74 with value: 0.4339657674596612.\n"
     ]
    },
    {
     "name": "stdout",
     "output_type": "stream",
     "text": [
      "Fold 5: Accuracy = 0.4368\n",
      "Trial 82 mean accuracy: 0.4012\n",
      "Trial 84 params: n_patches=14, embed_dim=64, lr=5.693659354992117e-05, blocks=4, heads=8, batch_size=32\n",
      "Divergence detected. Stopping training after 5 epochs.\n",
      "Fold 1: Accuracy = 0.3165\n",
      "Divergence detected. Stopping training after 5 epochs.\n",
      "Fold 2: Accuracy = 0.3209\n",
      "Divergence detected. Stopping training after 5 epochs.\n",
      "Fold 3: Accuracy = 0.2944\n",
      "Divergence detected. Stopping training after 5 epochs.\n",
      "Fold 3: Accuracy = 0.3881\n",
      "Divergence detected. Stopping training after 5 epochs.\n",
      "Fold 4: Accuracy = 0.5214\n",
      "Divergence detected. Stopping training after 5 epochs.\n",
      "Fold 4: Accuracy = 0.4934\n",
      "Divergence detected. Stopping training after 5 epochs.\n"
     ]
    },
    {
     "name": "stderr",
     "output_type": "stream",
     "text": [
      "[I 2025-05-05 10:39:35,367] Trial 83 finished with value: 0.3850116562528593 and parameters: {'n_patches': 14, 'embed_dim': 64, 'learning_rate': 5.7525466138481176e-05, 'weight_decay': 1.4804980861281898e-05, 'batch_size': 32, 'num_transformer_blocks': 8, 'num_heads': 8}. Best is trial 74 with value: 0.4339657674596612.\n"
     ]
    },
    {
     "name": "stdout",
     "output_type": "stream",
     "text": [
      "Fold 5: Accuracy = 0.3909\n",
      "Trial 83 mean accuracy: 0.3850\n",
      "Trial 85 params: n_patches=14, embed_dim=64, lr=3.768841573323402e-05, blocks=4, heads=8, batch_size=32\n",
      "Divergence detected. Stopping training after 5 epochs.\n",
      "Fold 1: Accuracy = 0.2576\n",
      "Divergence detected. Stopping training after 5 epochs.\n"
     ]
    },
    {
     "name": "stderr",
     "output_type": "stream",
     "text": [
      "[I 2025-05-05 10:41:43,457] Trial 84 finished with value: 0.3914112230384255 and parameters: {'n_patches': 14, 'embed_dim': 64, 'learning_rate': 5.693659354992117e-05, 'weight_decay': 9.356205125578378e-05, 'batch_size': 32, 'num_transformer_blocks': 4, 'num_heads': 8}. Best is trial 74 with value: 0.4339657674596612.\n"
     ]
    },
    {
     "name": "stdout",
     "output_type": "stream",
     "text": [
      "Fold 5: Accuracy = 0.4383\n",
      "Trial 84 mean accuracy: 0.3914\n",
      "Trial 86 params: n_patches=14, embed_dim=64, lr=4.641023097774094e-05, blocks=4, heads=8, batch_size=32\n",
      "Divergence detected. Stopping training after 5 epochs.\n",
      "Fold 2: Accuracy = 0.3568\n",
      "Divergence detected. Stopping training after 5 epochs.\n",
      "Fold 1: Accuracy = 0.3766\n",
      "Divergence detected. Stopping training after 5 epochs.\n",
      "Fold 3: Accuracy = 0.3334\n",
      "Divergence detected. Stopping training after 5 epochs.\n",
      "Fold 2: Accuracy = 0.4233\n",
      "Divergence detected. Stopping training after 5 epochs.\n",
      "Fold 4: Accuracy = 0.4327\n",
      "Divergence detected. Stopping training after 5 epochs.\n"
     ]
    },
    {
     "name": "stderr",
     "output_type": "stream",
     "text": [
      "[I 2025-05-05 10:53:18,159] Trial 85 finished with value: 0.35549704644079466 and parameters: {'n_patches': 14, 'embed_dim': 64, 'learning_rate': 3.768841573323402e-05, 'weight_decay': 1.256591502019696e-05, 'batch_size': 32, 'num_transformer_blocks': 4, 'num_heads': 8}. Best is trial 74 with value: 0.4339657674596612.\n"
     ]
    },
    {
     "name": "stdout",
     "output_type": "stream",
     "text": [
      "Fold 5: Accuracy = 0.3970\n",
      "Trial 85 mean accuracy: 0.3555\n",
      "Trial 87 params: n_patches=28, embed_dim=64, lr=2.2207391749825334e-05, blocks=4, heads=8, batch_size=32\n",
      "Fold 3: Accuracy = 0.3419\n",
      "Divergence detected. Stopping training after 5 epochs.\n",
      "Fold 1: Accuracy = 0.3199\n",
      "Divergence detected. Stopping training after 5 epochs.\n",
      "Fold 4: Accuracy = 0.4723\n",
      "Divergence detected. Stopping training after 5 epochs.\n"
     ]
    },
    {
     "name": "stderr",
     "output_type": "stream",
     "text": [
      "[I 2025-05-05 11:02:32,995] Trial 86 finished with value: 0.4135775835840449 and parameters: {'n_patches': 14, 'embed_dim': 64, 'learning_rate': 4.641023097774094e-05, 'weight_decay': 4.172147802282676e-05, 'batch_size': 32, 'num_transformer_blocks': 4, 'num_heads': 8}. Best is trial 74 with value: 0.4339657674596612.\n"
     ]
    },
    {
     "name": "stdout",
     "output_type": "stream",
     "text": [
      "Fold 5: Accuracy = 0.4538\n",
      "Trial 86 mean accuracy: 0.4136\n",
      "Trial 88 params: n_patches=28, embed_dim=256, lr=0.00010639460520943286, blocks=2, heads=8, batch_size=32\n",
      "Divergence detected. Stopping training after 5 epochs.\n",
      "Fold 2: Accuracy = 0.4134\n",
      "Divergence detected. Stopping training after 5 epochs.\n",
      "Fold 1: Accuracy = 0.2950\n",
      "Divergence detected. Stopping training after 5 epochs.\n",
      "Fold 2: Accuracy = 0.3497\n",
      "Divergence detected. Stopping training after 5 epochs.\n",
      "Fold 3: Accuracy = 0.4153\n",
      "Divergence detected. Stopping training after 5 epochs.\n",
      "Fold 4: Accuracy = 0.5464\n",
      "Fold 3: Accuracy = 0.3800\n",
      "Divergence detected. Stopping training after 5 epochs.\n"
     ]
    },
    {
     "name": "stderr",
     "output_type": "stream",
     "text": [
      "[I 2025-05-05 11:21:15,689] Trial 88 finished with value: 0.4145428002120769 and parameters: {'n_patches': 28, 'embed_dim': 256, 'learning_rate': 0.00010639460520943286, 'weight_decay': 9.127612419083566e-05, 'batch_size': 32, 'num_transformer_blocks': 2, 'num_heads': 8}. Best is trial 74 with value: 0.4339657674596612.\n"
     ]
    },
    {
     "name": "stdout",
     "output_type": "stream",
     "text": [
      "Fold 5: Accuracy = 0.4663\n",
      "Trial 88 mean accuracy: 0.4145\n",
      "Trial 89 params: n_patches=14, embed_dim=64, lr=0.00014200274936991192, blocks=6, heads=8, batch_size=16\n",
      "Divergence detected. Stopping training after 5 epochs.\n",
      "Fold 1: Accuracy = 0.3968\n",
      "Divergence detected. Stopping training after 5 epochs.\n",
      "Fold 2: Accuracy = 0.4280\n",
      "Divergence detected. Stopping training after 5 epochs.\n",
      "Fold 3: Accuracy = 0.3199\n",
      "Divergence detected. Stopping training after 5 epochs.\n",
      "Fold 4: Accuracy = 0.4208\n",
      "Divergence detected. Stopping training after 5 epochs.\n",
      "Fold 4: Accuracy = 0.4842\n",
      "Divergence detected. Stopping training after 5 epochs.\n"
     ]
    },
    {
     "name": "stderr",
     "output_type": "stream",
     "text": [
      "[I 2025-05-05 11:28:22,906] Trial 89 finished with value: 0.38676873480685464 and parameters: {'n_patches': 14, 'embed_dim': 64, 'learning_rate': 0.00014200274936991192, 'weight_decay': 1.847081779058582e-05, 'batch_size': 16, 'num_transformer_blocks': 6, 'num_heads': 8}. Best is trial 74 with value: 0.4339657674596612.\n"
     ]
    },
    {
     "name": "stdout",
     "output_type": "stream",
     "text": [
      "Fold 5: Accuracy = 0.3684\n",
      "Trial 89 mean accuracy: 0.3868\n",
      "Trial 90 params: n_patches=14, embed_dim=64, lr=2.0947119755454103e-05, blocks=4, heads=8, batch_size=32\n",
      "Divergence detected. Stopping training after 5 epochs.\n",
      "Fold 1: Accuracy = 0.3276\n",
      "Divergence detected. Stopping training after 5 epochs.\n",
      "Fold 2: Accuracy = 0.4378\n",
      "Divergence detected. Stopping training after 5 epochs.\n",
      "Fold 3: Accuracy = 0.4051\n",
      "Divergence detected. Stopping training after 5 epochs.\n",
      "Fold 4: Accuracy = 0.4824\n",
      "Divergence detected. Stopping training after 5 epochs.\n",
      "Divergence detected. Stopping training after 5 epochs.\n"
     ]
    },
    {
     "name": "stderr",
     "output_type": "stream",
     "text": [
      "[I 2025-05-05 11:33:46,722] Trial 90 finished with value: 0.42708254073646296 and parameters: {'n_patches': 14, 'embed_dim': 64, 'learning_rate': 2.0947119755454103e-05, 'weight_decay': 1.0971600691032106e-05, 'batch_size': 32, 'num_transformer_blocks': 4, 'num_heads': 8}. Best is trial 74 with value: 0.4339657674596612.\n"
     ]
    },
    {
     "name": "stdout",
     "output_type": "stream",
     "text": [
      "Fold 5: Accuracy = 0.4826\n",
      "Trial 90 mean accuracy: 0.4271\n",
      "Trial 91 params: n_patches=14, embed_dim=256, lr=8.020636242180841e-05, blocks=4, heads=8, batch_size=32\n"
     ]
    },
    {
     "name": "stderr",
     "output_type": "stream",
     "text": [
      "[I 2025-05-05 11:33:47,767] Trial 87 finished with value: 0.4090592852378646 and parameters: {'n_patches': 28, 'embed_dim': 64, 'learning_rate': 2.2207391749825334e-05, 'weight_decay': 6.660496786480316e-05, 'batch_size': 32, 'num_transformer_blocks': 4, 'num_heads': 8}. Best is trial 74 with value: 0.4339657674596612.\n"
     ]
    },
    {
     "name": "stdout",
     "output_type": "stream",
     "text": [
      "Fold 5: Accuracy = 0.4478\n",
      "Trial 87 mean accuracy: 0.4091\n",
      "Trial 92 params: n_patches=14, embed_dim=64, lr=1.6181509371684205e-05, blocks=4, heads=8, batch_size=32\n",
      "Divergence detected. Stopping training after 5 epochs.\n",
      "Fold 1: Accuracy = 0.2963\n",
      "Divergence detected. Stopping training after 5 epochs.\n",
      "Fold 1: Accuracy = 0.3003\n",
      "Divergence detected. Stopping training after 5 epochs.\n",
      "Fold 2: Accuracy = 0.3949\n",
      "Divergence detected. Stopping training after 5 epochs.\n",
      "Fold 2: Accuracy = 0.3433\n",
      "Divergence detected. Stopping training after 5 epochs.\n",
      "Fold 3: Accuracy = 0.3914\n",
      "Divergence detected. Stopping training after 5 epochs.\n",
      "Fold 3: Accuracy = 0.4024\n",
      "Divergence detected. Stopping training after 5 epochs.\n",
      "Fold 4: Accuracy = 0.3646\n",
      "Fold 4: Accuracy = 0.4698\n",
      "Divergence detected. Stopping training after 5 epochs.\n"
     ]
    },
    {
     "name": "stderr",
     "output_type": "stream",
     "text": [
      "[I 2025-05-05 11:40:07,419] Trial 91 finished with value: 0.37412997926956504 and parameters: {'n_patches': 14, 'embed_dim': 256, 'learning_rate': 8.020636242180841e-05, 'weight_decay': 1.1331010452095416e-05, 'batch_size': 32, 'num_transformer_blocks': 4, 'num_heads': 8}. Best is trial 74 with value: 0.4339657674596612.\n"
     ]
    },
    {
     "name": "stdout",
     "output_type": "stream",
     "text": [
      "Fold 5: Accuracy = 0.4235\n",
      "Trial 91 mean accuracy: 0.3741\n",
      "Trial 93 params: n_patches=14, embed_dim=64, lr=1.8370750933198062e-05, blocks=4, heads=8, batch_size=32\n",
      "Divergence detected. Stopping training after 5 epochs.\n"
     ]
    },
    {
     "name": "stderr",
     "output_type": "stream",
     "text": [
      "[I 2025-05-05 11:40:49,217] Trial 92 finished with value: 0.3920712355616675 and parameters: {'n_patches': 14, 'embed_dim': 64, 'learning_rate': 1.6181509371684205e-05, 'weight_decay': 3.5658998282186214e-05, 'batch_size': 32, 'num_transformer_blocks': 4, 'num_heads': 8}. Best is trial 74 with value: 0.4339657674596612.\n"
     ]
    },
    {
     "name": "stdout",
     "output_type": "stream",
     "text": [
      "Fold 5: Accuracy = 0.4445\n",
      "Trial 92 mean accuracy: 0.3921\n",
      "Trial 94 params: n_patches=14, embed_dim=64, lr=1.8706175040097387e-05, blocks=4, heads=8, batch_size=32\n",
      "Divergence detected. Stopping training after 5 epochs.\n",
      "Fold 1: Accuracy = 0.3251\n",
      "Divergence detected. Stopping training after 5 epochs.\n",
      "Fold 1: Accuracy = 0.3280\n",
      "Divergence detected. Stopping training after 5 epochs.\n",
      "Fold 2: Accuracy = 0.4068\n",
      "Divergence detected. Stopping training after 5 epochs.\n",
      "Fold 2: Accuracy = 0.3522\n",
      "Divergence detected. Stopping training after 5 epochs.\n",
      "Fold 3: Accuracy = 0.3861\n",
      "Divergence detected. Stopping training after 5 epochs.\n",
      "Fold 3: Accuracy = 0.3779\n",
      "Divergence detected. Stopping training after 5 epochs.\n",
      "Fold 4: Accuracy = 0.5012\n",
      "Divergence detected. Stopping training after 5 epochs.\n",
      "Fold 4: Accuracy = 0.5159\n",
      "Divergence detected. Stopping training after 5 epochs.\n"
     ]
    },
    {
     "name": "stderr",
     "output_type": "stream",
     "text": [
      "[I 2025-05-05 11:44:07,143] Trial 93 finished with value: 0.401793960139795 and parameters: {'n_patches': 14, 'embed_dim': 64, 'learning_rate': 1.8370750933198062e-05, 'weight_decay': 1.0179894705546082e-05, 'batch_size': 32, 'num_transformer_blocks': 4, 'num_heads': 8}. Best is trial 74 with value: 0.4339657674596612.\n"
     ]
    },
    {
     "name": "stdout",
     "output_type": "stream",
     "text": [
      "Fold 5: Accuracy = 0.3899\n",
      "Trial 93 mean accuracy: 0.4018\n",
      "Trial 95 params: n_patches=14, embed_dim=64, lr=6.940528071571648e-05, blocks=4, heads=8, batch_size=32\n",
      "Divergence detected. Stopping training after 5 epochs.\n",
      "Fold 1: Accuracy = 0.3078\n",
      "Divergence detected. Stopping training after 5 epochs.\n",
      "Fold 2: Accuracy = 0.3976\n",
      "Divergence detected. Stopping training after 5 epochs.\n"
     ]
    },
    {
     "name": "stderr",
     "output_type": "stream",
     "text": [
      "[I 2025-05-05 11:45:39,319] Trial 94 finished with value: 0.4018913602252999 and parameters: {'n_patches': 14, 'embed_dim': 64, 'learning_rate': 1.8706175040097387e-05, 'weight_decay': 1.0672122389980273e-05, 'batch_size': 32, 'num_transformer_blocks': 4, 'num_heads': 8}. Best is trial 74 with value: 0.4339657674596612.\n"
     ]
    },
    {
     "name": "stdout",
     "output_type": "stream",
     "text": [
      "Fold 5: Accuracy = 0.4353\n",
      "Trial 94 mean accuracy: 0.4019\n",
      "Trial 96 params: n_patches=14, embed_dim=64, lr=5.249760849367228e-05, blocks=6, heads=8, batch_size=32\n",
      "Divergence detected. Stopping training after 5 epochs.\n",
      "Fold 1: Accuracy = 0.2873\n",
      "Divergence detected. Stopping training after 5 epochs.\n",
      "Fold 2: Accuracy = 0.3436\n",
      "Divergence detected. Stopping training after 5 epochs.\n",
      "Fold 3: Accuracy = 0.4751\n",
      "Divergence detected. Stopping training after 5 epochs.\n",
      "Fold 3: Accuracy = 0.2920\n",
      "Divergence detected. Stopping training after 5 epochs.\n",
      "Fold 4: Accuracy = 0.4713\n",
      "Divergence detected. Stopping training after 5 epochs.\n",
      "Fold 4: Accuracy = 0.4500\n",
      "Divergence detected. Stopping training after 5 epochs.\n"
     ]
    },
    {
     "name": "stderr",
     "output_type": "stream",
     "text": [
      "[I 2025-05-05 11:52:27,972] Trial 95 finished with value: 0.4109300579869717 and parameters: {'n_patches': 14, 'embed_dim': 64, 'learning_rate': 6.940528071571648e-05, 'weight_decay': 1.3116124981214943e-05, 'batch_size': 32, 'num_transformer_blocks': 4, 'num_heads': 8}. Best is trial 74 with value: 0.4339657674596612.\n"
     ]
    },
    {
     "name": "stdout",
     "output_type": "stream",
     "text": [
      "Fold 5: Accuracy = 0.4029\n",
      "Trial 95 mean accuracy: 0.4109\n",
      "Trial 97 params: n_patches=14, embed_dim=64, lr=1.3401405071919073e-05, blocks=6, heads=8, batch_size=16\n",
      "Divergence detected. Stopping training after 5 epochs.\n"
     ]
    },
    {
     "name": "stderr",
     "output_type": "stream",
     "text": [
      "[I 2025-05-05 11:52:41,937] Trial 96 finished with value: 0.36183884347100526 and parameters: {'n_patches': 14, 'embed_dim': 64, 'learning_rate': 5.249760849367228e-05, 'weight_decay': 1.3109559927999307e-05, 'batch_size': 32, 'num_transformer_blocks': 6, 'num_heads': 8}. Best is trial 74 with value: 0.4339657674596612.\n"
     ]
    },
    {
     "name": "stdout",
     "output_type": "stream",
     "text": [
      "Fold 5: Accuracy = 0.4363\n",
      "Trial 96 mean accuracy: 0.3618\n",
      "Trial 98 params: n_patches=14, embed_dim=64, lr=0.00018754594073935283, blocks=2, heads=4, batch_size=16\n",
      "Divergence detected. Stopping training after 5 epochs.\n",
      "Fold 1: Accuracy = 0.3113\n",
      "Divergence detected. Stopping training after 5 epochs.\n",
      "Fold 1: Accuracy = 0.3279\n",
      "Divergence detected. Stopping training after 5 epochs.\n",
      "Fold 2: Accuracy = 0.3285\n",
      "Divergence detected. Stopping training after 5 epochs.\n",
      "Fold 2: Accuracy = 0.3792\n",
      "Divergence detected. Stopping training after 5 epochs.\n",
      "Fold 3: Accuracy = 0.3871\n",
      "Divergence detected. Stopping training after 5 epochs.\n",
      "Fold 3: Accuracy = 0.3819\n",
      "Divergence detected. Stopping training after 5 epochs.\n",
      "Fold 4: Accuracy = 0.3984\n",
      "Divergence detected. Stopping training after 5 epochs.\n",
      "Fold 4: Accuracy = 0.4927\n",
      "Divergence detected. Stopping training after 5 epochs.\n"
     ]
    },
    {
     "name": "stderr",
     "output_type": "stream",
     "text": [
      "[I 2025-05-05 11:58:43,755] Trial 98 finished with value: 0.375493920463967 and parameters: {'n_patches': 14, 'embed_dim': 64, 'learning_rate': 0.00018754594073935283, 'weight_decay': 5.62329182881202e-05, 'batch_size': 16, 'num_transformer_blocks': 2, 'num_heads': 4}. Best is trial 74 with value: 0.4339657674596612.\n"
     ]
    },
    {
     "name": "stdout",
     "output_type": "stream",
     "text": [
      "Fold 5: Accuracy = 0.3848\n",
      "Trial 98 mean accuracy: 0.3755\n",
      "Trial 99 params: n_patches=14, embed_dim=64, lr=1.2342942482714458e-05, blocks=4, heads=8, batch_size=32\n",
      "Divergence detected. Stopping training after 5 epochs.\n",
      "Fold 1: Accuracy = 0.3038\n",
      "Divergence detected. Stopping training after 5 epochs.\n"
     ]
    },
    {
     "name": "stderr",
     "output_type": "stream",
     "text": [
      "[I 2025-05-05 12:00:06,601] Trial 97 finished with value: 0.3813560293846473 and parameters: {'n_patches': 14, 'embed_dim': 64, 'learning_rate': 1.3401405071919073e-05, 'weight_decay': 5.700083076772603e-05, 'batch_size': 16, 'num_transformer_blocks': 6, 'num_heads': 8}. Best is trial 74 with value: 0.4339657674596612.\n"
     ]
    },
    {
     "name": "stdout",
     "output_type": "stream",
     "text": [
      "Fold 5: Accuracy = 0.3925\n",
      "Trial 97 mean accuracy: 0.3814\n",
      "Divergence detected. Stopping training after 5 epochs.\n",
      "Fold 2: Accuracy = 0.4459\n",
      "Divergence detected. Stopping training after 5 epochs.\n",
      "Fold 3: Accuracy = 0.3605\n",
      "Divergence detected. Stopping training after 5 epochs.\n",
      "Fold 4: Accuracy = 0.5069\n",
      "Divergence detected. Stopping training after 5 epochs.\n"
     ]
    },
    {
     "name": "stderr",
     "output_type": "stream",
     "text": [
      "[I 2025-05-05 12:02:33,777] Trial 99 finished with value: 0.4139751453665611 and parameters: {'n_patches': 14, 'embed_dim': 64, 'learning_rate': 1.2342942482714458e-05, 'weight_decay': 2.3932751754652317e-05, 'batch_size': 32, 'num_transformer_blocks': 4, 'num_heads': 8}. Best is trial 74 with value: 0.4339657674596612.\n"
     ]
    },
    {
     "name": "stdout",
     "output_type": "stream",
     "text": [
      "Fold 5: Accuracy = 0.4528\n",
      "Trial 99 mean accuracy: 0.4140\n",
      "Best hyperparameters: {'n_patches': 14, 'embed_dim': 64, 'learning_rate': 4.791527211534685e-05, 'weight_decay': 2.723389186594195e-05, 'batch_size': 32, 'num_transformer_blocks': 6, 'num_heads': 8}\n",
      "Best accuracy: 0.4340\n"
     ]
    }
   ],
   "source": [
    "import optuna\n",
    "# Streamlined Optuna configuration\n",
    "study = optuna.create_study(\n",
    "    direction=\"maximize\",\n",
    "    sampler=optuna.samplers.TPESampler(),\n",
    "    pruner=optuna.pruners.MedianPruner(n_warmup_steps=2)\n",
    ")\n",
    "\n",
    "# Reduced number of trials for faster convergence\n",
    "study.optimize(objective, n_trials=100, n_jobs=2)\n",
    "\n",
    "print(\"Best hyperparameters:\", study.best_params)\n",
    "print(f\"Best accuracy: {study.best_value:.4f}\")"
   ]
  },
  {
   "cell_type": "code",
   "execution_count": null,
   "id": "c219a64c",
   "metadata": {},
   "outputs": [],
   "source": []
  }
 ],
 "metadata": {
  "kernelspec": {
   "display_name": "cudaenv",
   "language": "python",
   "name": "python3"
  },
  "language_info": {
   "codemirror_mode": {
    "name": "ipython",
    "version": 3
   },
   "file_extension": ".py",
   "mimetype": "text/x-python",
   "name": "python",
   "nbconvert_exporter": "python",
   "pygments_lexer": "ipython3",
   "version": "3.13.1"
  }
 },
 "nbformat": 4,
 "nbformat_minor": 5
}
