{
 "cells": [
  {
   "cell_type": "code",
   "execution_count": 1,
   "id": "626d84bd",
   "metadata": {},
   "outputs": [],
   "source": [
    "import torch\n",
    "import torch.nn as nn\n",
    "import torch.optim as optim\n",
    "from torch.utils.data import DataLoader, TensorDataset\n",
    "from sklearn.model_selection import train_test_split\n",
    "from sklearn.preprocessing import StandardScaler\n",
    "import torch\n",
    "import torch.nn as nn\n",
    "import torch.optim as optim\n",
    "from torch.utils.data import DataLoader, TensorDataset\n",
    "from sklearn.preprocessing import StandardScaler\n",
    "from sklearn.model_selection import GroupKFold\n",
    "import numpy as np\n",
    "import matplotlib.pyplot as plt\n",
    "\n",
    "from sklearn.metrics import precision_score, recall_score, f1_score, balanced_accuracy_score\n",
    "import pickle\n",
    "from collections import defaultdict\n",
    "from sklearn.utils import shuffle\n",
    "import os\n",
    "import cv2\n",
    "from torch.utils.data import Dataset, DataLoader\n",
    "import torchvision.transforms as transforms\n",
    "import pandas as pd\n",
    "\n",
    "from torchinfo import summary\n",
    "from sklearn.metrics import confusion_matrix\n",
    "import seaborn as sns\n",
    "\n"
   ]
  },
  {
   "cell_type": "code",
   "execution_count": 2,
   "id": "29ad51f8",
   "metadata": {},
   "outputs": [],
   "source": [
    "import numpy as np\n",
    "import os\n",
    "\n",
    "# Define the folder path\n",
    "folder_path = r\"D:\\PYTHONIG\\newwindow\\NOTEBOOKS_2025\\aprilmay2025\\data\\numpy\\optunadata\\cwt\"\n",
    "\n",
    "# Load the numpy files into the respective arrays with the correct capitalized naming\n",
    "eeg_fold_1 = np.load(os.path.join(folder_path, 'CWT_DATA_FOLD_fold_1.npy'))\n",
    "labels_fold_1 = np.load(os.path.join(folder_path, 'CWT_LABELS_FOLD_fold_1.npy'))\n",
    "patients_fold_1 = np.load(os.path.join(folder_path, 'CWT_PATIENTS_FOLD_fold_1.npy'))\n",
    "\n",
    "eeg_fold_2 = np.load(os.path.join(folder_path, 'CWT_DATA_FOLD_fold_2.npy'))\n",
    "labels_fold_2 = np.load(os.path.join(folder_path, 'CWT_LABELS_FOLD_fold_2.npy'))\n",
    "patients_fold_2 = np.load(os.path.join(folder_path, 'CWT_PATIENTS_FOLD_fold_2.npy'))\n",
    "\n",
    "eeg_fold_3 = np.load(os.path.join(folder_path, 'CWT_DATA_FOLD_fold_3.npy'))\n",
    "labels_fold_3 = np.load(os.path.join(folder_path, 'CWT_LABELS_FOLD_fold_3.npy'))\n",
    "patients_fold_3 = np.load(os.path.join(folder_path, 'CWT_PATIENTS_FOLD_fold_3.npy'))\n",
    "\n",
    "eeg_fold_4 = np.load(os.path.join(folder_path, 'CWT_DATA_FOLD_fold_4.npy'))\n",
    "labels_fold_4 = np.load(os.path.join(folder_path, 'CWT_LABELS_FOLD_fold_4.npy'))\n",
    "patients_fold_4 = np.load(os.path.join(folder_path, 'CWT_PATIENTS_FOLD_fold_4.npy'))\n",
    "\n",
    "eeg_fold_5 = np.load(os.path.join(folder_path, 'CWT_DATA_FOLD_fold_5.npy'))\n",
    "labels_fold_5 = np.load(os.path.join(folder_path, 'CWT_LABELS_FOLD_fold_5.npy'))\n",
    "patients_fold_5 = np.load(os.path.join(folder_path, 'CWT_PATIENTS_FOLD_fold_5.npy'))\n",
    "\n",
    "eeg_folds = [eeg_fold_1, eeg_fold_2, eeg_fold_3, eeg_fold_4, eeg_fold_5]\n",
    "labels_folds = [labels_fold_1, labels_fold_2, labels_fold_3, labels_fold_4, labels_fold_5]\n",
    "patients_folds = [patients_fold_1, patients_fold_2, patients_fold_3, patients_fold_4, patients_fold_5]\n",
    "\n",
    "for i in range(len(eeg_folds)):\n",
    "    eeg_folds[i] = eeg_folds[i].astype(np.float16)"
   ]
  },
  {
   "cell_type": "code",
   "execution_count": 3,
   "id": "f9831e02",
   "metadata": {},
   "outputs": [],
   "source": [
    "def data_balancer(data, labels, factor):\n",
    "    # Count the number of samples in each class\n",
    "    num_class_0 = np.sum(labels == 0)\n",
    "    num_class_1 = np.sum(labels == 1)\n",
    "    num_class_2 = np.sum(labels == 2)\n",
    "\n",
    "    # Find the minimum number of samples across all classes\n",
    "    min_samples = min(num_class_0, num_class_1, num_class_2)\n",
    "\n",
    "    # Calculate the number of samples to take from each class\n",
    "    samples_per_class = min_samples // factor\n",
    "\n",
    "    # Randomly sample 'samples_per_class' from each class\n",
    "    class_0_indices = np.random.choice(np.where(labels == 0)[0], samples_per_class, replace=False)\n",
    "    class_1_indices = np.random.choice(np.where(labels == 1)[0], samples_per_class, replace=False)\n",
    "    class_2_indices = np.random.choice(np.where(labels == 2)[0], samples_per_class, replace=False)\n",
    "\n",
    "    # Combine balanced indices\n",
    "    balanced_indices = np.concatenate((class_0_indices, class_1_indices, class_2_indices))\n",
    "\n",
    "    # Shuffle the balanced indices\n",
    "    np.random.shuffle(balanced_indices)\n",
    "\n",
    "    # Create balanced training data and labels\n",
    "    balanced_data = data[balanced_indices]\n",
    "    balanced_labels = labels[balanced_indices]\n",
    "\n",
    "    return balanced_data, balanced_labels"
   ]
  },
  {
   "cell_type": "code",
   "execution_count": 4,
   "id": "0497bd4e",
   "metadata": {},
   "outputs": [],
   "source": [
    "class EarlyStopping:\n",
    "    def __init__(self, patience=5):\n",
    "        \"\"\"\n",
    "        Initializes the early stopping mechanism based on divergence detection.\n",
    "\n",
    "        Args:\n",
    "            patience (int): Number of consecutive epochs with increasing validation loss\n",
    "                            before stopping.\n",
    "        \"\"\"\n",
    "        self.patience = patience\n",
    "        self.best_loss = None\n",
    "        self.counter = 0\n",
    "        self.early_stop = False\n",
    "        self.best_model_state = None\n",
    "\n",
    "    def __call__(self, val_loss, model):\n",
    "        \"\"\"\n",
    "        Checks if the validation loss is diverging and updates the state accordingly.\n",
    "\n",
    "        Args:\n",
    "            val_loss (float): Current epoch's validation loss.\n",
    "            model (torch.nn.Module): The model being trained.\n",
    "        \"\"\"\n",
    "        if self.best_loss is None or val_loss < self.best_loss:\n",
    "            # Improvement detected\n",
    "            self.best_loss = val_loss\n",
    "            self.best_model_state = model.state_dict()\n",
    "            self.counter = 0\n",
    "        else:\n",
    "            # Validation loss increased\n",
    "            self.counter += 1\n",
    "            if self.counter >= self.patience:\n",
    "                print(f\"Divergence detected. Stopping training after {self.counter} epochs.\")\n",
    "                self.early_stop = True\n",
    "\n",
    "    def load_best_model(self, model):\n",
    "        \"\"\"\n",
    "        Restores the model to the state with the lowest validation loss.\n",
    "\n",
    "        Args:\n",
    "            model (torch.nn.Module): The model to restore.\n",
    "        \"\"\"\n",
    "        model.load_state_dict(self.best_model_state)\n",
    "\n",
    "\n"
   ]
  },
  {
   "cell_type": "code",
   "execution_count": 5,
   "id": "04c9bba8",
   "metadata": {},
   "outputs": [],
   "source": [
    "import torch\n",
    "import torch.nn as nn\n",
    "\n",
    "debug_mode_flag = False\n",
    "# Set the device to GPU if available, otherwise use CPU\n",
    "device = torch.device(\"cuda\" if torch.cuda.is_available() else \"cpu\")\n",
    "\n",
    "#set random seed for reproducibility\n",
    "torch.manual_seed(42)\n",
    "debug_mode_flag = False\n",
    "\n",
    "\n",
    "def patchify(data, n_patches):\n",
    "    n, c, h, w = data.shape\n",
    "    # Create tensor on the same device as input data\n",
    "    patches = torch.zeros(n, n_patches**2, (c*h*w) // (n_patches**2), device=data.device)\n",
    "    patch_size = h // n_patches\n",
    "    for idx, d in enumerate(data):\n",
    "        for i in range(n_patches):\n",
    "            for j in range(n_patches):\n",
    "                patch = d[:, i*patch_size: (i+1)*patch_size, j*patch_size: (j+1) * patch_size]\n",
    "                patches[idx, i*n_patches + j] = patch.flatten()\n",
    "    return patches\n",
    "\n",
    "def get_positional_embeddings(sequence_length, d, device='cpu'):\n",
    "    result = torch.ones(sequence_length, d, device=device)\n",
    "    for i in range(sequence_length):\n",
    "        for j in range(d):\n",
    "            result[i][j] = np.sin(i / (10000 ** (j / d))) if j % 2 == 0 else np.cos(i / (10000 ** ((j - 1) / d)))\n",
    "    return result\n",
    "class vit(nn.Module):\n",
    "    def __init__(self, input_size, n_patches, hidden_size, num_classes, num_transformer_blocks=2, num_heads=4):\n",
    "        super().__init__()\n",
    "        self.chw = input_size\n",
    "        self.n_patches = n_patches\n",
    "        self.patch_size = ((self.chw[1] // n_patches) ** 2) * self.chw[0]\n",
    "        \n",
    "        # Core components\n",
    "        self.linear_mapper = nn.Linear(self.patch_size, hidden_size)\n",
    "        self.class_token = nn.Parameter(torch.rand(1, hidden_size))\n",
    "        \n",
    "        # Simplified positional embedding\n",
    "        self.register_buffer('pos_embed', get_positional_embeddings(self.n_patches ** 2 + 1, hidden_size))\n",
    "        \n",
    "        # Normalization and Transformer\n",
    "        self.layer_norm = nn.LayerNorm(hidden_size)\n",
    "        self.transformer = nn.TransformerEncoder(\n",
    "            nn.TransformerEncoderLayer(d_model=hidden_size, nhead=num_heads, batch_first=True),\n",
    "            num_layers=num_transformer_blocks\n",
    "        )\n",
    "        \n",
    "        # Classification head\n",
    "        self.classifier = nn.Linear(hidden_size, num_classes)\n",
    "\n",
    "    def forward(self, x):\n",
    "        # Create patches\n",
    "        patches = patchify(x, self.n_patches)\n",
    "        \n",
    "        # Project patches to embedding dimension\n",
    "        x = self.linear_mapper(patches)\n",
    "        \n",
    "        # Add class token\n",
    "        batch_size = x.shape[0]\n",
    "        cls_tokens = self.class_token.expand(batch_size, -1, -1)\n",
    "        x = torch.cat((cls_tokens, x), dim=1)\n",
    "        \n",
    "        # Add positional embeddings\n",
    "        x = x + self.pos_embed\n",
    "        x = self.layer_norm(x)\n",
    "        \n",
    "        # Apply transformer\n",
    "        x = self.transformer(x)\n",
    "        \n",
    "        # Classification based on CLS token\n",
    "        x = x[:, 0]\n",
    "        return self.classifier(x)"
   ]
  },
  {
   "cell_type": "code",
   "execution_count": 6,
   "id": "eb53c211",
   "metadata": {},
   "outputs": [
    {
     "data": {
      "text/plain": [
       "==========================================================================================\n",
       "Layer (type:depth-idx)                                            Param #\n",
       "==========================================================================================\n",
       "vit                                                               256\n",
       "├─Linear: 1-1                                                     196,864\n",
       "├─LayerNorm: 1-2                                                  512\n",
       "├─TransformerEncoder: 1-3                                         --\n",
       "│    └─ModuleList: 2-1                                            --\n",
       "│    │    └─TransformerEncoderLayer: 3-1                          1,315,072\n",
       "│    │    └─TransformerEncoderLayer: 3-2                          1,315,072\n",
       "│    │    └─TransformerEncoderLayer: 3-3                          1,315,072\n",
       "│    │    └─TransformerEncoderLayer: 3-4                          1,315,072\n",
       "│    │    └─TransformerEncoderLayer: 3-5                          1,315,072\n",
       "│    │    └─TransformerEncoderLayer: 3-6                          1,315,072\n",
       "│    │    └─TransformerEncoderLayer: 3-7                          1,315,072\n",
       "│    │    └─TransformerEncoderLayer: 3-8                          1,315,072\n",
       "│    │    └─TransformerEncoderLayer: 3-9                          1,315,072\n",
       "│    │    └─TransformerEncoderLayer: 3-10                         1,315,072\n",
       "│    │    └─TransformerEncoderLayer: 3-11                         1,315,072\n",
       "│    │    └─TransformerEncoderLayer: 3-12                         1,315,072\n",
       "├─Linear: 1-4                                                     771\n",
       "==========================================================================================\n",
       "Total params: 15,979,267\n",
       "Trainable params: 15,979,267\n",
       "Non-trainable params: 0\n",
       "=========================================================================================="
      ]
     },
     "execution_count": 6,
     "metadata": {},
     "output_type": "execute_result"
    }
   ],
   "source": [
    "from torchinfo import summary\n",
    "model = vit(input_size=(3, 224, 224), n_patches=14, hidden_size=256, num_classes=3,num_transformer_blocks=12)\n",
    "summary(model)"
   ]
  },
  {
   "cell_type": "code",
   "execution_count": 7,
   "id": "c5c4cb8f",
   "metadata": {},
   "outputs": [],
   "source": [
    "torch.manual_seed(42)\n",
    "device = torch.device('cuda' if torch.cuda.is_available() else 'cpu')\n",
    "\n",
    "# pca = sklearn.decomposition.PCA(3)\n",
    "epochs = 100\n",
    "\n",
    "\n",
    "fold_indices = np.arange(5)\n",
    "fold_indices = np.random.permutation(fold_indices)\n",
    "val_fold_indices = np.roll(fold_indices, 1)\n",
    "\n",
    "input_shape = (3,224,224)\n",
    "num_classes = 3\n"
   ]
  },
  {
   "cell_type": "code",
   "execution_count": 8,
   "id": "a5f665b8",
   "metadata": {},
   "outputs": [],
   "source": [
    "def objective(trial):\n",
    "    # Focused hyperparameter space\n",
    "    n_patches = trial.suggest_categorical(\"n_patches\", [14, 28])\n",
    "    embed_dim = trial.suggest_categorical(\"embed_dim\", [64, 128, 256])\n",
    "    learning_rate = trial.suggest_float(\"learning_rate\", 1e-5, 1e-3, log=True)\n",
    "    weight_decay = trial.suggest_float(\"weight_decay\", 1e-5, 1e-4, log=True)\n",
    "    batch_size = trial.suggest_categorical(\"batch_size\", [16, 32])\n",
    "    num_transformer_blocks = trial.suggest_int(\"num_transformer_blocks\", 2, 8, step=2)\n",
    "    num_heads = trial.suggest_categorical(\"num_heads\", [4, 8])\n",
    "    \n",
    "    # Fixed parameters to reduce search space\n",
    "    optimizer_name = \"Adam\"\n",
    "    label_smoothing = 0.1\n",
    "    factor = 1\n",
    "    \n",
    "    print(f\"Trial {trial.number} params: n_patches={n_patches}, embed_dim={embed_dim}, lr={learning_rate}, \"\n",
    "          f\"blocks={num_transformer_blocks}, heads={num_heads}, batch_size={batch_size}\")\n",
    "    \n",
    "    fold_accuracies = []\n",
    "\n",
    "    for test_fold_idx in range(5):\n",
    "        # Get train/val/test folds (keeping existing logic)\n",
    "        test_fold = fold_indices[test_fold_idx]\n",
    "        remaining_folds = [fold_indices[i] for i in range(5) if i != test_fold_idx]\n",
    "        val_fold = remaining_folds[test_fold_idx % 4]\n",
    "        train_folds = [fold for fold in remaining_folds if fold != val_fold]\n",
    "        \n",
    "        # Prepare data\n",
    "        train_data = np.concatenate([eeg_folds[j] for j in train_folds]).transpose(0, 3, 1, 2)\n",
    "        train_labels = np.concatenate([labels_folds[j] for j in train_folds])\n",
    "        val_data = eeg_folds[val_fold].transpose(0, 3, 1, 2)\n",
    "        val_labels = labels_folds[val_fold]\n",
    "        test_data = eeg_folds[test_fold].transpose(0, 3, 1, 2)\n",
    "        test_labels = labels_folds[test_fold]\n",
    "        \n",
    "        # Balance training data\n",
    "        balanced_train_data, balanced_train_labels = data_balancer(train_data, train_labels, factor)\n",
    "        \n",
    "        # Create data loaders\n",
    "        train_loader = DataLoader(\n",
    "            TensorDataset(torch.tensor(balanced_train_data, dtype=torch.float32),\n",
    "                          torch.tensor(balanced_train_labels, dtype=torch.long)),\n",
    "            batch_size=batch_size, shuffle=True, pin_memory=True\n",
    "        )\n",
    "        \n",
    "        val_loader = DataLoader(\n",
    "            TensorDataset(torch.tensor(val_data, dtype=torch.float32),\n",
    "                          torch.tensor(val_labels, dtype=torch.long)),\n",
    "            batch_size=batch_size, shuffle=False, pin_memory=True\n",
    "        )\n",
    "        \n",
    "        test_loader = DataLoader(\n",
    "            TensorDataset(torch.tensor(test_data, dtype=torch.float32),\n",
    "                          torch.tensor(test_labels, dtype=torch.long)),\n",
    "            batch_size=batch_size, shuffle=False, pin_memory=True\n",
    "        )\n",
    "        \n",
    "        # Initialize model\n",
    "        device = torch.device(\"cuda\" if torch.cuda.is_available() else \"cpu\")\n",
    "        model = vit(input_size=input_shape, n_patches=n_patches, hidden_size=embed_dim,\n",
    "                    num_classes=num_classes, num_transformer_blocks=num_transformer_blocks,\n",
    "                    num_heads=num_heads).to(device)\n",
    "        \n",
    "        # Set up training\n",
    "        criterion = nn.CrossEntropyLoss(label_smoothing=label_smoothing)\n",
    "        optimizer = optim.Adam(model.parameters(), lr=learning_rate, weight_decay=weight_decay)\n",
    "        early_stopping = EarlyStopping(patience=5)  # Reduced patience\n",
    "        \n",
    "        # Training loop\n",
    "        for epoch in range(25):  # Reduced max epochs\n",
    "            # Train\n",
    "            model.train()\n",
    "            for inputs, labels in train_loader:\n",
    "                inputs, labels = inputs.to(device), labels.to(device)\n",
    "                optimizer.zero_grad()\n",
    "                outputs = model(inputs)\n",
    "                loss = criterion(outputs, labels)\n",
    "                loss.backward()\n",
    "                optimizer.step()\n",
    "            \n",
    "            # Validate\n",
    "            model.eval()\n",
    "            val_loss = 0.0\n",
    "            with torch.no_grad():\n",
    "                for val_inputs, val_labels in val_loader:\n",
    "                    val_inputs, val_labels = val_inputs.to(device), val_labels.to(device)\n",
    "                    val_outputs = model(val_inputs)\n",
    "                    val_loss += criterion(val_outputs, val_labels).item()\n",
    "            \n",
    "            val_loss /= len(val_loader)\n",
    "            early_stopping(val_loss, model)\n",
    "            \n",
    "            if early_stopping.early_stop:\n",
    "                break\n",
    "        \n",
    "        # Load best model and evaluate\n",
    "        early_stopping.load_best_model(model)\n",
    "        model.eval()\n",
    "        all_preds, all_labels = [], []\n",
    "        \n",
    "        with torch.no_grad():\n",
    "            for inputs, labels in test_loader:\n",
    "                inputs, labels = inputs.to(device), labels.to(device)\n",
    "                outputs = model(inputs)\n",
    "                _, preds = torch.max(outputs, 1)\n",
    "                all_preds.extend(preds.cpu().numpy())\n",
    "                all_labels.extend(labels.cpu().numpy())\n",
    "        \n",
    "        fold_acc = balanced_accuracy_score(all_labels, all_preds)\n",
    "        fold_accuracies.append(fold_acc)\n",
    "        print(f\"Fold {test_fold_idx+1}: Accuracy = {fold_acc:.4f}\")\n",
    "        \n",
    "        # Clean up\n",
    "        del model\n",
    "        torch.cuda.empty_cache()\n",
    "    \n",
    "    mean_accuracy = np.mean(fold_accuracies)\n",
    "    print(f\"Trial {trial.number} mean accuracy: {mean_accuracy:.4f}\")\n",
    "    \n",
    "    return mean_accuracy"
   ]
  },
  {
   "cell_type": "code",
   "execution_count": null,
   "id": "ef16055e",
   "metadata": {},
   "outputs": [],
   "source": []
  },
  {
   "cell_type": "code",
   "execution_count": 9,
   "id": "dfba9f72",
   "metadata": {},
   "outputs": [
    {
     "name": "stderr",
     "output_type": "stream",
     "text": [
      "c:\\Users\\Gabriel\\anaconda3\\envs\\cudaenv\\Lib\\site-packages\\tqdm\\auto.py:21: TqdmWarning: IProgress not found. Please update jupyter and ipywidgets. See https://ipywidgets.readthedocs.io/en/stable/user_install.html\n",
      "  from .autonotebook import tqdm as notebook_tqdm\n",
      "[I 2025-05-05 12:28:14,669] A new study created in memory with name: no-name-b98b833d-82cb-4e84-b5e3-eda44cc0675b\n"
     ]
    },
    {
     "name": "stdout",
     "output_type": "stream",
     "text": [
      "Trial 0 params: n_patches=28, embed_dim=64, lr=0.00024109179122706715, blocks=2, heads=8, batch_size=16Trial 1 params: n_patches=28, embed_dim=256, lr=0.00022144681752434854, blocks=2, heads=4, batch_size=16\n",
      "\n",
      "Divergence detected. Stopping training after 5 epochs.\n",
      "Fold 1: Accuracy = 0.4406\n",
      "Divergence detected. Stopping training after 5 epochs.\n",
      "Fold 1: Accuracy = 0.3989\n",
      "Divergence detected. Stopping training after 5 epochs.\n",
      "Fold 2: Accuracy = 0.3612\n",
      "Divergence detected. Stopping training after 5 epochs.\n",
      "Fold 2: Accuracy = 0.4214\n",
      "Divergence detected. Stopping training after 5 epochs.\n",
      "Fold 3: Accuracy = 0.3734\n",
      "Divergence detected. Stopping training after 5 epochs.\n",
      "Fold 3: Accuracy = 0.4518\n",
      "Divergence detected. Stopping training after 5 epochs.\n",
      "Fold 4: Accuracy = 0.5052\n",
      "Divergence detected. Stopping training after 5 epochs.\n",
      "Fold 4: Accuracy = 0.4789\n",
      "Divergence detected. Stopping training after 5 epochs.\n"
     ]
    },
    {
     "name": "stderr",
     "output_type": "stream",
     "text": [
      "[I 2025-05-05 13:01:17,532] Trial 0 finished with value: 0.4008513562255051 and parameters: {'n_patches': 28, 'embed_dim': 64, 'learning_rate': 0.00024109179122706715, 'weight_decay': 4.3079103399536544e-05, 'batch_size': 16, 'num_transformer_blocks': 2, 'num_heads': 8}. Best is trial 0 with value: 0.4008513562255051.\n"
     ]
    },
    {
     "name": "stdout",
     "output_type": "stream",
     "text": [
      "Fold 5: Accuracy = 0.3656\n",
      "Trial 0 mean accuracy: 0.4009\n",
      "Trial 2 params: n_patches=14, embed_dim=128, lr=3.202182339757166e-05, blocks=2, heads=8, batch_size=16\n",
      "Divergence detected. Stopping training after 5 epochs.\n",
      "Divergence detected. Stopping training after 5 epochs.\n",
      "Fold 1: Accuracy = 0.4422\n"
     ]
    },
    {
     "name": "stderr",
     "output_type": "stream",
     "text": [
      "[I 2025-05-05 13:02:28,218] Trial 1 finished with value: 0.44684862621653665 and parameters: {'n_patches': 28, 'embed_dim': 256, 'learning_rate': 0.00022144681752434854, 'weight_decay': 2.76473698063652e-05, 'batch_size': 16, 'num_transformer_blocks': 2, 'num_heads': 4}. Best is trial 1 with value: 0.44684862621653665.\n"
     ]
    },
    {
     "name": "stdout",
     "output_type": "stream",
     "text": [
      "Fold 5: Accuracy = 0.4416\n",
      "Trial 1 mean accuracy: 0.4468\n",
      "Trial 3 params: n_patches=14, embed_dim=256, lr=2.5269851423659276e-05, blocks=4, heads=4, batch_size=32\n",
      "Divergence detected. Stopping training after 5 epochs.\n",
      "Fold 2: Accuracy = 0.4664\n",
      "Divergence detected. Stopping training after 5 epochs.\n",
      "Fold 1: Accuracy = 0.4504\n",
      "Divergence detected. Stopping training after 5 epochs.\n",
      "Fold 3: Accuracy = 0.4164\n",
      "Divergence detected. Stopping training after 5 epochs.\n",
      "Fold 2: Accuracy = 0.5201\n",
      "Divergence detected. Stopping training after 5 epochs.\n",
      "Fold 4: Accuracy = 0.4363\n",
      "Divergence detected. Stopping training after 5 epochs.\n"
     ]
    },
    {
     "name": "stderr",
     "output_type": "stream",
     "text": [
      "[I 2025-05-05 13:08:12,691] Trial 2 finished with value: 0.4271525076783319 and parameters: {'n_patches': 14, 'embed_dim': 128, 'learning_rate': 3.202182339757166e-05, 'weight_decay': 5.933525357122377e-05, 'batch_size': 16, 'num_transformer_blocks': 2, 'num_heads': 8}. Best is trial 1 with value: 0.44684862621653665.\n"
     ]
    },
    {
     "name": "stdout",
     "output_type": "stream",
     "text": [
      "Fold 5: Accuracy = 0.3744\n",
      "Trial 2 mean accuracy: 0.4272\n",
      "Trial 4 params: n_patches=28, embed_dim=256, lr=8.869667926378683e-05, blocks=6, heads=8, batch_size=32\n",
      "Divergence detected. Stopping training after 5 epochs.\n",
      "Fold 3: Accuracy = 0.4517\n",
      "Divergence detected. Stopping training after 5 epochs.\n",
      "Fold 4: Accuracy = 0.4126\n",
      "Divergence detected. Stopping training after 5 epochs.\n"
     ]
    },
    {
     "name": "stderr",
     "output_type": "stream",
     "text": [
      "[I 2025-05-05 13:11:53,922] Trial 3 finished with value: 0.44546074422859877 and parameters: {'n_patches': 14, 'embed_dim': 256, 'learning_rate': 2.5269851423659276e-05, 'weight_decay': 2.6208063952869493e-05, 'batch_size': 32, 'num_transformer_blocks': 4, 'num_heads': 4}. Best is trial 1 with value: 0.44684862621653665.\n"
     ]
    },
    {
     "name": "stdout",
     "output_type": "stream",
     "text": [
      "Fold 5: Accuracy = 0.3924\n",
      "Trial 3 mean accuracy: 0.4455\n",
      "Trial 5 params: n_patches=28, embed_dim=128, lr=6.93245435067876e-05, blocks=8, heads=4, batch_size=32\n",
      "Divergence detected. Stopping training after 5 epochs.\n",
      "Fold 1: Accuracy = 0.4272\n",
      "Divergence detected. Stopping training after 5 epochs.\n",
      "Fold 1: Accuracy = 0.3516\n",
      "Divergence detected. Stopping training after 5 epochs.\n",
      "Fold 2: Accuracy = 0.4596\n",
      "Divergence detected. Stopping training after 5 epochs.\n",
      "Fold 3: Accuracy = 0.4253\n",
      "Divergence detected. Stopping training after 5 epochs.\n",
      "Fold 2: Accuracy = 0.4361\n",
      "Divergence detected. Stopping training after 5 epochs.\n",
      "Fold 3: Accuracy = 0.3616\n",
      "Divergence detected. Stopping training after 5 epochs.\n",
      "Fold 4: Accuracy = 0.4875\n",
      "Divergence detected. Stopping training after 5 epochs.\n",
      "Fold 4: Accuracy = 0.4748\n",
      "Divergence detected. Stopping training after 5 epochs.\n"
     ]
    },
    {
     "name": "stderr",
     "output_type": "stream",
     "text": [
      "[I 2025-05-05 14:51:19,382] Trial 4 finished with value: 0.42887252195871345 and parameters: {'n_patches': 28, 'embed_dim': 256, 'learning_rate': 8.869667926378683e-05, 'weight_decay': 4.9636234557183494e-05, 'batch_size': 32, 'num_transformer_blocks': 6, 'num_heads': 8}. Best is trial 1 with value: 0.44684862621653665.\n"
     ]
    },
    {
     "name": "stdout",
     "output_type": "stream",
     "text": [
      "Fold 5: Accuracy = 0.3447\n",
      "Trial 4 mean accuracy: 0.4289\n",
      "Trial 6 params: n_patches=14, embed_dim=128, lr=0.0004877503680721462, blocks=4, heads=8, batch_size=32\n",
      "Divergence detected. Stopping training after 5 epochs.\n",
      "Fold 1: Accuracy = 0.3333\n",
      "Divergence detected. Stopping training after 5 epochs.\n",
      "Fold 2: Accuracy = 0.3333\n",
      "Divergence detected. Stopping training after 5 epochs.\n",
      "Fold 3: Accuracy = 0.3333\n",
      "Divergence detected. Stopping training after 5 epochs.\n",
      "Fold 4: Accuracy = 0.3333\n",
      "Divergence detected. Stopping training after 5 epochs.\n"
     ]
    },
    {
     "name": "stderr",
     "output_type": "stream",
     "text": [
      "[I 2025-05-05 14:57:12,351] Trial 5 finished with value: 0.3971261604432675 and parameters: {'n_patches': 28, 'embed_dim': 128, 'learning_rate': 6.93245435067876e-05, 'weight_decay': 1.3523989089531245e-05, 'batch_size': 32, 'num_transformer_blocks': 8, 'num_heads': 4}. Best is trial 1 with value: 0.44684862621653665.\n"
     ]
    },
    {
     "name": "stdout",
     "output_type": "stream",
     "text": [
      "Fold 5: Accuracy = 0.3616\n",
      "Trial 5 mean accuracy: 0.3971\n",
      "Trial 7 params: n_patches=28, embed_dim=64, lr=1.8463820327522466e-05, blocks=2, heads=4, batch_size=32\n",
      "Divergence detected. Stopping training after 5 epochs.\n"
     ]
    },
    {
     "name": "stderr",
     "output_type": "stream",
     "text": [
      "[I 2025-05-05 14:59:15,468] Trial 6 finished with value: 0.3333333333333333 and parameters: {'n_patches': 14, 'embed_dim': 128, 'learning_rate': 0.0004877503680721462, 'weight_decay': 7.686651064402699e-05, 'batch_size': 32, 'num_transformer_blocks': 4, 'num_heads': 8}. Best is trial 1 with value: 0.44684862621653665.\n"
     ]
    },
    {
     "name": "stdout",
     "output_type": "stream",
     "text": [
      "Fold 5: Accuracy = 0.3333\n",
      "Trial 6 mean accuracy: 0.3333\n",
      "Trial 8 params: n_patches=28, embed_dim=64, lr=0.0008870756392423518, blocks=2, heads=8, batch_size=32\n",
      "Divergence detected. Stopping training after 5 epochs.\n",
      "Fold 1: Accuracy = 0.3877\n",
      "Divergence detected. Stopping training after 5 epochs.\n",
      "Fold 2: Accuracy = 0.3657\n",
      "Divergence detected. Stopping training after 5 epochs.\n",
      "Fold 1: Accuracy = 0.4269\n",
      "Divergence detected. Stopping training after 5 epochs.\n",
      "Fold 3: Accuracy = 0.3970\n",
      "Divergence detected. Stopping training after 5 epochs.\n",
      "Fold 2: Accuracy = 0.4868\n",
      "Divergence detected. Stopping training after 5 epochs.\n",
      "Fold 3: Accuracy = 0.3333\n",
      "Divergence detected. Stopping training after 5 epochs.\n",
      "Fold 4: Accuracy = 0.4242\n",
      "Divergence detected. Stopping training after 5 epochs.\n"
     ]
    },
    {
     "name": "stderr",
     "output_type": "stream",
     "text": [
      "[I 2025-05-05 15:23:02,410] Trial 7 finished with value: 0.3877131111111907 and parameters: {'n_patches': 28, 'embed_dim': 64, 'learning_rate': 1.8463820327522466e-05, 'weight_decay': 8.210210062883992e-05, 'batch_size': 32, 'num_transformer_blocks': 2, 'num_heads': 4}. Best is trial 1 with value: 0.44684862621653665.\n"
     ]
    },
    {
     "name": "stdout",
     "output_type": "stream",
     "text": [
      "Fold 5: Accuracy = 0.3640\n",
      "Trial 7 mean accuracy: 0.3877\n",
      "Trial 9 params: n_patches=28, embed_dim=128, lr=1.8274907806358672e-05, blocks=6, heads=8, batch_size=32\n",
      "Divergence detected. Stopping training after 5 epochs.\n",
      "Fold 4: Accuracy = 0.4913\n",
      "Divergence detected. Stopping training after 5 epochs.\n"
     ]
    },
    {
     "name": "stderr",
     "output_type": "stream",
     "text": [
      "[I 2025-05-05 15:29:22,681] Trial 8 finished with value: 0.4188487946649597 and parameters: {'n_patches': 28, 'embed_dim': 64, 'learning_rate': 0.0008870756392423518, 'weight_decay': 2.6348139711753836e-05, 'batch_size': 32, 'num_transformer_blocks': 2, 'num_heads': 8}. Best is trial 1 with value: 0.44684862621653665.\n"
     ]
    },
    {
     "name": "stdout",
     "output_type": "stream",
     "text": [
      "Fold 5: Accuracy = 0.3558\n",
      "Trial 8 mean accuracy: 0.4188\n",
      "Trial 10 params: n_patches=28, embed_dim=64, lr=2.542467583545316e-05, blocks=4, heads=4, batch_size=32\n",
      "Divergence detected. Stopping training after 5 epochs.\n",
      "Fold 1: Accuracy = 0.4374\n",
      "Divergence detected. Stopping training after 5 epochs.\n",
      "Fold 2: Accuracy = 0.4294\n",
      "Divergence detected. Stopping training after 5 epochs.\n",
      "Fold 1: Accuracy = 0.4429\n",
      "Divergence detected. Stopping training after 5 epochs.\n",
      "Fold 3: Accuracy = 0.4149\n",
      "Divergence detected. Stopping training after 5 epochs.\n",
      "Fold 2: Accuracy = 0.4926\n",
      "Divergence detected. Stopping training after 5 epochs.\n",
      "Fold 4: Accuracy = 0.5111\n",
      "Divergence detected. Stopping training after 5 epochs.\n"
     ]
    },
    {
     "name": "stderr",
     "output_type": "stream",
     "text": [
      "[I 2025-05-05 16:00:09,291] Trial 9 finished with value: 0.43947956338504435 and parameters: {'n_patches': 28, 'embed_dim': 128, 'learning_rate': 1.8274907806358672e-05, 'weight_decay': 1.5604708337155503e-05, 'batch_size': 32, 'num_transformer_blocks': 6, 'num_heads': 8}. Best is trial 1 with value: 0.44684862621653665.\n"
     ]
    },
    {
     "name": "stdout",
     "output_type": "stream",
     "text": [
      "Fold 5: Accuracy = 0.4045\n",
      "Trial 9 mean accuracy: 0.4395\n",
      "Trial 11 params: n_patches=14, embed_dim=256, lr=0.00021684724873318164, blocks=4, heads=4, batch_size=16\n",
      "Divergence detected. Stopping training after 5 epochs.\n",
      "Fold 3: Accuracy = 0.4300\n",
      "Divergence detected. Stopping training after 5 epochs.\n",
      "Fold 1: Accuracy = 0.3333\n",
      "Divergence detected. Stopping training after 5 epochs.\n",
      "Fold 2: Accuracy = 0.4829\n",
      "Divergence detected. Stopping training after 5 epochs.\n",
      "Divergence detected. Stopping training after 5 epochs.\n",
      "Fold 3: Accuracy = 0.3218\n",
      "Fold 4: Accuracy = 0.4251\n",
      "Divergence detected. Stopping training after 5 epochs.\n",
      "Fold 4: Accuracy = 0.4754\n",
      "Divergence detected. Stopping training after 5 epochs.\n"
     ]
    },
    {
     "name": "stderr",
     "output_type": "stream",
     "text": [
      "[I 2025-05-05 16:09:29,969] Trial 11 finished with value: 0.4063104462464918 and parameters: {'n_patches': 14, 'embed_dim': 256, 'learning_rate': 0.00021684724873318164, 'weight_decay': 2.0129063254539478e-05, 'batch_size': 16, 'num_transformer_blocks': 4, 'num_heads': 4}. Best is trial 1 with value: 0.44684862621653665.\n"
     ]
    },
    {
     "name": "stdout",
     "output_type": "stream",
     "text": [
      "Fold 5: Accuracy = 0.4181\n",
      "Trial 11 mean accuracy: 0.4063\n",
      "Trial 12 params: n_patches=14, embed_dim=256, lr=1.0212468114329766e-05, blocks=4, heads=4, batch_size=16\n",
      "Divergence detected. Stopping training after 5 epochs.\n",
      "Fold 1: Accuracy = 0.4167\n",
      "Divergence detected. Stopping training after 5 epochs.\n",
      "Fold 2: Accuracy = 0.4231\n",
      "Divergence detected. Stopping training after 5 epochs.\n",
      "Fold 3: Accuracy = 0.4002\n",
      "Divergence detected. Stopping training after 5 epochs.\n"
     ]
    },
    {
     "name": "stderr",
     "output_type": "stream",
     "text": [
      "[I 2025-05-05 16:15:46,805] Trial 10 finished with value: 0.4331928279803191 and parameters: {'n_patches': 28, 'embed_dim': 64, 'learning_rate': 2.542467583545316e-05, 'weight_decay': 1.0603121888544891e-05, 'batch_size': 32, 'num_transformer_blocks': 4, 'num_heads': 4}. Best is trial 1 with value: 0.44684862621653665.\n"
     ]
    },
    {
     "name": "stdout",
     "output_type": "stream",
     "text": [
      "Fold 5: Accuracy = 0.3753\n",
      "Trial 10 mean accuracy: 0.4332\n",
      "Trial 13 params: n_patches=14, embed_dim=256, lr=4.592243576200923e-05, blocks=4, heads=4, batch_size=16\n",
      "Divergence detected. Stopping training after 5 epochs.\n",
      "Fold 4: Accuracy = 0.4739\n",
      "Divergence detected. Stopping training after 5 epochs.\n",
      "Fold 1: Accuracy = 0.4672\n",
      "Divergence detected. Stopping training after 5 epochs.\n"
     ]
    },
    {
     "name": "stderr",
     "output_type": "stream",
     "text": [
      "[I 2025-05-05 16:18:49,024] Trial 12 finished with value: 0.40762186673666106 and parameters: {'n_patches': 14, 'embed_dim': 256, 'learning_rate': 1.0212468114329766e-05, 'weight_decay': 2.7858958472776776e-05, 'batch_size': 16, 'num_transformer_blocks': 4, 'num_heads': 4}. Best is trial 1 with value: 0.44684862621653665.\n"
     ]
    },
    {
     "name": "stdout",
     "output_type": "stream",
     "text": [
      "Fold 5: Accuracy = 0.3242\n",
      "Trial 12 mean accuracy: 0.4076\n",
      "Trial 14 params: n_patches=14, embed_dim=256, lr=0.00019807138512665097, blocks=6, heads=4, batch_size=16\n",
      "Divergence detected. Stopping training after 5 epochs.\n",
      "Fold 1: Accuracy = 0.3333\n",
      "Divergence detected. Stopping training after 5 epochs.\n",
      "Fold 2: Accuracy = 0.4396\n",
      "Divergence detected. Stopping training after 5 epochs.\n",
      "Fold 2: Accuracy = 0.3333\n",
      "Divergence detected. Stopping training after 5 epochs.\n",
      "Fold 3: Accuracy = 0.4025\n",
      "Divergence detected. Stopping training after 5 epochs.\n",
      "Fold 4: Accuracy = 0.3450\n",
      "Divergence detected. Stopping training after 5 epochs.\n",
      "Fold 3: Accuracy = 0.3333\n",
      "Divergence detected. Stopping training after 5 epochs.\n"
     ]
    },
    {
     "name": "stderr",
     "output_type": "stream",
     "text": [
      "[I 2025-05-05 16:26:32,552] Trial 13 finished with value: 0.40125285216965 and parameters: {'n_patches': 14, 'embed_dim': 256, 'learning_rate': 4.592243576200923e-05, 'weight_decay': 3.1218862555649e-05, 'batch_size': 16, 'num_transformer_blocks': 4, 'num_heads': 4}. Best is trial 1 with value: 0.44684862621653665.\n"
     ]
    },
    {
     "name": "stdout",
     "output_type": "stream",
     "text": [
      "Fold 5: Accuracy = 0.3519\n",
      "Trial 13 mean accuracy: 0.4013\n",
      "Trial 15 params: n_patches=14, embed_dim=256, lr=0.00016025004619930455, blocks=6, heads=4, batch_size=16\n",
      "Divergence detected. Stopping training after 5 epochs.\n",
      "Fold 4: Accuracy = 0.3333\n",
      "Divergence detected. Stopping training after 5 epochs.\n",
      "Fold 1: Accuracy = 0.3333\n",
      "Divergence detected. Stopping training after 5 epochs.\n"
     ]
    },
    {
     "name": "stderr",
     "output_type": "stream",
     "text": [
      "[I 2025-05-05 16:28:15,945] Trial 14 finished with value: 0.3333333333333333 and parameters: {'n_patches': 14, 'embed_dim': 256, 'learning_rate': 0.00019807138512665097, 'weight_decay': 3.3307601766854234e-05, 'batch_size': 16, 'num_transformer_blocks': 6, 'num_heads': 4}. Best is trial 1 with value: 0.44684862621653665.\n"
     ]
    },
    {
     "name": "stdout",
     "output_type": "stream",
     "text": [
      "Fold 5: Accuracy = 0.3333\n",
      "Trial 14 mean accuracy: 0.3333\n",
      "Trial 16 params: n_patches=14, embed_dim=256, lr=0.00015743496906896523, blocks=2, heads=4, batch_size=16\n",
      "Divergence detected. Stopping training after 5 epochs.\n",
      "Fold 1: Accuracy = 0.3521\n",
      "Divergence detected. Stopping training after 5 epochs.\n",
      "Fold 2: Accuracy = 0.3491\n",
      "Divergence detected. Stopping training after 5 epochs.\n",
      "Fold 3: Accuracy = 0.3322\n",
      "Divergence detected. Stopping training after 5 epochs.\n",
      "Fold 2: Accuracy = 0.4086\n",
      "Divergence detected. Stopping training after 5 epochs.\n",
      "Fold 4: Accuracy = 0.4048\n",
      "Divergence detected. Stopping training after 5 epochs.\n",
      "Fold 3: Accuracy = 0.4380\n",
      "Divergence detected. Stopping training after 5 epochs.\n"
     ]
    },
    {
     "name": "stderr",
     "output_type": "stream",
     "text": [
      "[I 2025-05-05 16:34:49,374] Trial 15 finished with value: 0.3505635402347601 and parameters: {'n_patches': 14, 'embed_dim': 256, 'learning_rate': 0.00016025004619930455, 'weight_decay': 2.0340263147660334e-05, 'batch_size': 16, 'num_transformer_blocks': 6, 'num_heads': 4}. Best is trial 1 with value: 0.44684862621653665.\n"
     ]
    },
    {
     "name": "stdout",
     "output_type": "stream",
     "text": [
      "Fold 5: Accuracy = 0.3333\n",
      "Trial 15 mean accuracy: 0.3506\n",
      "Trial 17 params: n_patches=28, embed_dim=256, lr=0.0004360437852050326, blocks=2, heads=4, batch_size=32\n",
      "Divergence detected. Stopping training after 5 epochs.\n",
      "Fold 4: Accuracy = 0.4056\n",
      "Divergence detected. Stopping training after 5 epochs.\n"
     ]
    },
    {
     "name": "stderr",
     "output_type": "stream",
     "text": [
      "[I 2025-05-05 16:36:07,495] Trial 16 finished with value: 0.38517650505713036 and parameters: {'n_patches': 14, 'embed_dim': 256, 'learning_rate': 0.00015743496906896523, 'weight_decay': 1.9905706685682127e-05, 'batch_size': 16, 'num_transformer_blocks': 2, 'num_heads': 4}. Best is trial 1 with value: 0.44684862621653665.\n"
     ]
    },
    {
     "name": "stdout",
     "output_type": "stream",
     "text": [
      "Fold 5: Accuracy = 0.3216\n",
      "Trial 16 mean accuracy: 0.3852\n",
      "Trial 18 params: n_patches=28, embed_dim=256, lr=0.0003866929190541784, blocks=8, heads=4, batch_size=32\n",
      "Divergence detected. Stopping training after 5 epochs.\n",
      "Fold 1: Accuracy = 0.4166\n",
      "Divergence detected. Stopping training after 5 epochs.\n",
      "Fold 1: Accuracy = 0.3333\n",
      "Divergence detected. Stopping training after 5 epochs.\n",
      "Fold 2: Accuracy = 0.4310\n",
      "Divergence detected. Stopping training after 5 epochs.\n",
      "Fold 2: Accuracy = 0.3333\n",
      "Divergence detected. Stopping training after 5 epochs.\n",
      "Fold 3: Accuracy = 0.3333\n",
      "Divergence detected. Stopping training after 5 epochs.\n",
      "Fold 3: Accuracy = 0.4135\n",
      "Divergence detected. Stopping training after 5 epochs.\n",
      "Fold 4: Accuracy = 0.3333\n",
      "Divergence detected. Stopping training after 5 epochs.\n"
     ]
    },
    {
     "name": "stderr",
     "output_type": "stream",
     "text": [
      "[I 2025-05-05 17:50:59,602] Trial 18 finished with value: 0.3333333333333333 and parameters: {'n_patches': 28, 'embed_dim': 256, 'learning_rate': 0.0003866929190541784, 'weight_decay': 3.91721156103235e-05, 'batch_size': 32, 'num_transformer_blocks': 8, 'num_heads': 4}. Best is trial 1 with value: 0.44684862621653665.\n"
     ]
    },
    {
     "name": "stdout",
     "output_type": "stream",
     "text": [
      "Fold 5: Accuracy = 0.3333\n",
      "Trial 18 mean accuracy: 0.3333\n",
      "Trial 19 params: n_patches=14, embed_dim=256, lr=5.2531420677629344e-05, blocks=2, heads=4, batch_size=16\n",
      "Divergence detected. Stopping training after 5 epochs.\n",
      "Fold 4: Accuracy = 0.4440\n",
      "Divergence detected. Stopping training after 5 epochs.\n",
      "Fold 1: Accuracy = 0.4080\n",
      "Divergence detected. Stopping training after 5 epochs.\n",
      "Fold 2: Accuracy = 0.4425\n",
      "Divergence detected. Stopping training after 5 epochs.\n",
      "Divergence detected. Stopping training after 5 epochs.\n"
     ]
    },
    {
     "name": "stderr",
     "output_type": "stream",
     "text": [
      "[I 2025-05-05 17:56:35,367] Trial 17 finished with value: 0.4137599192554572 and parameters: {'n_patches': 28, 'embed_dim': 256, 'learning_rate': 0.0004360437852050326, 'weight_decay': 2.082117285554542e-05, 'batch_size': 32, 'num_transformer_blocks': 2, 'num_heads': 4}. Best is trial 1 with value: 0.44684862621653665.\n"
     ]
    },
    {
     "name": "stdout",
     "output_type": "stream",
     "text": [
      "Fold 5: Accuracy = 0.3638\n",
      "Trial 17 mean accuracy: 0.4138\n",
      "Trial 20 params: n_patches=14, embed_dim=256, lr=6.210720531291553e-05, blocks=4, heads=4, batch_size=16\n",
      "Fold 3: Accuracy = 0.4499\n",
      "Divergence detected. Stopping training after 5 epochs.\n",
      "Fold 4: Accuracy = 0.4765\n",
      "Divergence detected. Stopping training after 5 epochs.\n",
      "Fold 1: Accuracy = 0.3902\n",
      "Divergence detected. Stopping training after 5 epochs.\n"
     ]
    },
    {
     "name": "stderr",
     "output_type": "stream",
     "text": [
      "[I 2025-05-05 17:59:56,570] Trial 19 finished with value: 0.4352313371023889 and parameters: {'n_patches': 14, 'embed_dim': 256, 'learning_rate': 5.2531420677629344e-05, 'weight_decay': 2.44952111040067e-05, 'batch_size': 16, 'num_transformer_blocks': 2, 'num_heads': 4}. Best is trial 1 with value: 0.44684862621653665.\n"
     ]
    },
    {
     "name": "stdout",
     "output_type": "stream",
     "text": [
      "Fold 5: Accuracy = 0.3992\n",
      "Trial 19 mean accuracy: 0.4352\n",
      "Trial 21 params: n_patches=14, embed_dim=256, lr=1.040136412492255e-05, blocks=4, heads=4, batch_size=16\n",
      "Divergence detected. Stopping training after 5 epochs.\n",
      "Fold 2: Accuracy = 0.4281\n",
      "Divergence detected. Stopping training after 5 epochs.\n",
      "Fold 1: Accuracy = 0.4154\n",
      "Divergence detected. Stopping training after 5 epochs.\n",
      "Fold 2: Accuracy = 0.4855\n",
      "Divergence detected. Stopping training after 5 epochs.\n",
      "Fold 3: Accuracy = 0.3629\n",
      "Divergence detected. Stopping training after 5 epochs.\n",
      "Fold 3: Accuracy = 0.3830\n",
      "Divergence detected. Stopping training after 5 epochs.\n",
      "Fold 4: Accuracy = 0.4548\n",
      "Divergence detected. Stopping training after 5 epochs.\n",
      "Fold 4: Accuracy = 0.4661\n",
      "Divergence detected. Stopping training after 5 epochs.\n"
     ]
    },
    {
     "name": "stderr",
     "output_type": "stream",
     "text": [
      "[I 2025-05-05 18:07:18,566] Trial 20 finished with value: 0.39436906840554464 and parameters: {'n_patches': 14, 'embed_dim': 256, 'learning_rate': 6.210720531291553e-05, 'weight_decay': 5.98899033680429e-05, 'batch_size': 16, 'num_transformer_blocks': 4, 'num_heads': 4}. Best is trial 1 with value: 0.44684862621653665.\n"
     ]
    },
    {
     "name": "stdout",
     "output_type": "stream",
     "text": [
      "Fold 5: Accuracy = 0.3359\n",
      "Trial 20 mean accuracy: 0.3944\n",
      "Trial 22 params: n_patches=28, embed_dim=128, lr=1.355037027011047e-05, blocks=6, heads=8, batch_size=32\n",
      "Divergence detected. Stopping training after 5 epochs.\n"
     ]
    },
    {
     "name": "stderr",
     "output_type": "stream",
     "text": [
      "[I 2025-05-05 18:07:57,524] Trial 21 finished with value: 0.4166446680652263 and parameters: {'n_patches': 14, 'embed_dim': 256, 'learning_rate': 1.040136412492255e-05, 'weight_decay': 1.4539062956569944e-05, 'batch_size': 16, 'num_transformer_blocks': 4, 'num_heads': 4}. Best is trial 1 with value: 0.44684862621653665.\n"
     ]
    },
    {
     "name": "stdout",
     "output_type": "stream",
     "text": [
      "Fold 5: Accuracy = 0.3332\n",
      "Trial 21 mean accuracy: 0.4166\n",
      "Trial 23 params: n_patches=28, embed_dim=128, lr=1.7090443742384093e-05, blocks=6, heads=8, batch_size=32\n",
      "Divergence detected. Stopping training after 5 epochs.\n",
      "Fold 1: Accuracy = 0.4222\n",
      "Divergence detected. Stopping training after 5 epochs.\n",
      "Fold 1: Accuracy = 0.4306\n",
      "Divergence detected. Stopping training after 5 epochs.\n",
      "Fold 2: Accuracy = 0.4542\n",
      "Divergence detected. Stopping training after 5 epochs.\n",
      "Fold 2: Accuracy = 0.5096\n",
      "Divergence detected. Stopping training after 5 epochs.\n",
      "Divergence detected. Stopping training after 5 epochs.\n",
      "Fold 3: Accuracy = 0.3810\n",
      "Fold 3: Accuracy = 0.4095\n",
      "Divergence detected. Stopping training after 5 epochs.\n",
      "Fold 4: Accuracy = 0.4183\n",
      "Divergence detected. Stopping training after 5 epochs.\n",
      "Fold 4: Accuracy = 0.3589\n",
      "Divergence detected. Stopping training after 5 epochs.\n"
     ]
    },
    {
     "name": "stderr",
     "output_type": "stream",
     "text": [
      "[I 2025-05-05 19:58:07,632] Trial 23 finished with value: 0.41458542849720725 and parameters: {'n_patches': 28, 'embed_dim': 128, 'learning_rate': 1.7090443742384093e-05, 'weight_decay': 1.5226309120810825e-05, 'batch_size': 32, 'num_transformer_blocks': 6, 'num_heads': 8}. Best is trial 1 with value: 0.44684862621653665.\n"
     ]
    },
    {
     "name": "stdout",
     "output_type": "stream",
     "text": [
      "Fold 5: Accuracy = 0.3687\n",
      "Trial 23 mean accuracy: 0.4146\n",
      "Trial 24 params: n_patches=28, embed_dim=128, lr=3.6467910524712975e-05, blocks=6, heads=8, batch_size=32\n",
      "Divergence detected. Stopping training after 5 epochs.\n"
     ]
    },
    {
     "name": "stderr",
     "output_type": "stream",
     "text": [
      "[I 2025-05-05 20:00:25,164] Trial 22 finished with value: 0.414544668580575 and parameters: {'n_patches': 28, 'embed_dim': 128, 'learning_rate': 1.355037027011047e-05, 'weight_decay': 1.4531755897919487e-05, 'batch_size': 32, 'num_transformer_blocks': 6, 'num_heads': 8}. Best is trial 1 with value: 0.44684862621653665.\n"
     ]
    },
    {
     "name": "stdout",
     "output_type": "stream",
     "text": [
      "Fold 5: Accuracy = 0.3926\n",
      "Trial 22 mean accuracy: 0.4145\n",
      "Trial 25 params: n_patches=28, embed_dim=128, lr=3.7252386854440865e-05, blocks=8, heads=8, batch_size=32\n",
      "Divergence detected. Stopping training after 5 epochs.\n",
      "Fold 1: Accuracy = 0.3765\n",
      "Divergence detected. Stopping training after 5 epochs.\n",
      "Fold 2: Accuracy = 0.4842\n",
      "Fold 1: Accuracy = 0.4474\n",
      "Divergence detected. Stopping training after 5 epochs.\n",
      "Fold 3: Accuracy = 0.3893\n",
      "Divergence detected. Stopping training after 5 epochs.\n",
      "Fold 2: Accuracy = 0.5076\n",
      "Divergence detected. Stopping training after 5 epochs.\n",
      "Fold 4: Accuracy = 0.3957\n",
      "Divergence detected. Stopping training after 5 epochs.\n",
      "Fold 3: Accuracy = 0.4423\n",
      "Divergence detected. Stopping training after 5 epochs.\n"
     ]
    },
    {
     "name": "stderr",
     "output_type": "stream",
     "text": [
      "[I 2025-05-05 21:13:45,957] Trial 25 finished with value: 0.4006711492333962 and parameters: {'n_patches': 28, 'embed_dim': 128, 'learning_rate': 3.7252386854440865e-05, 'weight_decay': 1.1518137965112881e-05, 'batch_size': 32, 'num_transformer_blocks': 8, 'num_heads': 8}. Best is trial 1 with value: 0.44684862621653665.\n"
     ]
    },
    {
     "name": "stdout",
     "output_type": "stream",
     "text": [
      "Fold 5: Accuracy = 0.3576\n",
      "Trial 25 mean accuracy: 0.4007\n",
      "Trial 26 params: n_patches=28, embed_dim=128, lr=0.00010856024198277994, blocks=6, heads=8, batch_size=32\n",
      "Divergence detected. Stopping training after 5 epochs.\n",
      "Fold 4: Accuracy = 0.5016\n",
      "Divergence detected. Stopping training after 5 epochs.\n",
      "Fold 1: Accuracy = 0.3532\n",
      "Divergence detected. Stopping training after 5 epochs.\n"
     ]
    },
    {
     "name": "stderr",
     "output_type": "stream",
     "text": [
      "[I 2025-05-05 21:36:32,007] Trial 24 finished with value: 0.45553976793185547 and parameters: {'n_patches': 28, 'embed_dim': 128, 'learning_rate': 3.6467910524712975e-05, 'weight_decay': 1.1407515349694686e-05, 'batch_size': 32, 'num_transformer_blocks': 6, 'num_heads': 8}. Best is trial 24 with value: 0.45553976793185547.\n"
     ]
    },
    {
     "name": "stdout",
     "output_type": "stream",
     "text": [
      "Fold 5: Accuracy = 0.3788\n",
      "Trial 24 mean accuracy: 0.4555\n",
      "Trial 27 params: n_patches=28, embed_dim=128, lr=0.00010482448385154494, blocks=6, heads=8, batch_size=32\n",
      "Divergence detected. Stopping training after 5 epochs.\n",
      "Fold 2: Accuracy = 0.3405\n",
      "Divergence detected. Stopping training after 5 epochs.\n",
      "Fold 1: Accuracy = 0.3790\n",
      "Divergence detected. Stopping training after 5 epochs.\n",
      "Fold 3: Accuracy = 0.3689\n",
      "Divergence detected. Stopping training after 5 epochs.\n",
      "Fold 2: Accuracy = 0.3338\n",
      "Divergence detected. Stopping training after 5 epochs.\n",
      "Fold 4: Accuracy = 0.4909\n",
      "Divergence detected. Stopping training after 5 epochs.\n",
      "Fold 3: Accuracy = 0.4177\n",
      "Divergence detected. Stopping training after 5 epochs.\n"
     ]
    },
    {
     "name": "stderr",
     "output_type": "stream",
     "text": [
      "[I 2025-05-05 22:02:39,399] Trial 26 finished with value: 0.3896055057029132 and parameters: {'n_patches': 28, 'embed_dim': 128, 'learning_rate': 0.00010856024198277994, 'weight_decay': 1.837561418434991e-05, 'batch_size': 32, 'num_transformer_blocks': 6, 'num_heads': 8}. Best is trial 24 with value: 0.45553976793185547.\n"
     ]
    },
    {
     "name": "stdout",
     "output_type": "stream",
     "text": [
      "Fold 5: Accuracy = 0.3945\n",
      "Trial 26 mean accuracy: 0.3896\n",
      "Trial 28 params: n_patches=28, embed_dim=256, lr=2.4012527424474944e-05, blocks=4, heads=4, batch_size=32\n",
      "Divergence detected. Stopping training after 5 epochs.\n",
      "Fold 4: Accuracy = 0.4018\n",
      "Divergence detected. Stopping training after 5 epochs.\n",
      "Fold 1: Accuracy = 0.4400\n",
      "Divergence detected. Stopping training after 5 epochs.\n"
     ]
    },
    {
     "name": "stderr",
     "output_type": "stream",
     "text": [
      "[I 2025-05-05 22:15:38,596] Trial 27 finished with value: 0.3866301142744267 and parameters: {'n_patches': 28, 'embed_dim': 128, 'learning_rate': 0.00010482448385154494, 'weight_decay': 3.652846460631091e-05, 'batch_size': 32, 'num_transformer_blocks': 6, 'num_heads': 8}. Best is trial 24 with value: 0.45553976793185547.\n"
     ]
    },
    {
     "name": "stdout",
     "output_type": "stream",
     "text": [
      "Fold 5: Accuracy = 0.4008\n",
      "Trial 27 mean accuracy: 0.3866\n",
      "Trial 29 params: n_patches=28, embed_dim=64, lr=2.5737053066867958e-05, blocks=4, heads=4, batch_size=32\n",
      "Divergence detected. Stopping training after 5 epochs.\n",
      "Fold 2: Accuracy = 0.5017\n",
      "Divergence detected. Stopping training after 5 epochs.\n",
      "Fold 3: Accuracy = 0.4264\n",
      "Divergence detected. Stopping training after 5 epochs.\n",
      "Fold 1: Accuracy = 0.4403\n",
      "Divergence detected. Stopping training after 5 epochs.\n",
      "Fold 4: Accuracy = 0.3544\n",
      "Divergence detected. Stopping training after 5 epochs.\n",
      "Fold 2: Accuracy = 0.4927\n",
      "Divergence detected. Stopping training after 5 epochs.\n"
     ]
    },
    {
     "name": "stderr",
     "output_type": "stream",
     "text": [
      "[I 2025-05-05 22:32:13,338] Trial 28 finished with value: 0.424271658293023 and parameters: {'n_patches': 28, 'embed_dim': 256, 'learning_rate': 2.4012527424474944e-05, 'weight_decay': 9.993118750705299e-05, 'batch_size': 32, 'num_transformer_blocks': 4, 'num_heads': 4}. Best is trial 24 with value: 0.45553976793185547.\n"
     ]
    },
    {
     "name": "stdout",
     "output_type": "stream",
     "text": [
      "Fold 5: Accuracy = 0.3988\n",
      "Trial 28 mean accuracy: 0.4243\n",
      "Trial 30 params: n_patches=28, embed_dim=64, lr=0.0003245706252578721, blocks=2, heads=8, batch_size=16\n",
      "Divergence detected. Stopping training after 5 epochs.\n",
      "Fold 3: Accuracy = 0.2838\n",
      "Divergence detected. Stopping training after 5 epochs.\n",
      "Fold 1: Accuracy = 0.3854\n",
      "Divergence detected. Stopping training after 5 epochs.\n",
      "Fold 4: Accuracy = 0.4722\n",
      "Divergence detected. Stopping training after 5 epochs.\n"
     ]
    },
    {
     "name": "stderr",
     "output_type": "stream",
     "text": [
      "[I 2025-05-05 22:42:43,528] Trial 29 finished with value: 0.42133627531180873 and parameters: {'n_patches': 28, 'embed_dim': 64, 'learning_rate': 2.5737053066867958e-05, 'weight_decay': 2.5221796644089063e-05, 'batch_size': 32, 'num_transformer_blocks': 4, 'num_heads': 4}. Best is trial 24 with value: 0.45553976793185547.\n"
     ]
    },
    {
     "name": "stdout",
     "output_type": "stream",
     "text": [
      "Fold 5: Accuracy = 0.4177\n",
      "Trial 29 mean accuracy: 0.4213\n",
      "Trial 31 params: n_patches=28, embed_dim=64, lr=0.000322424400914185, blocks=2, heads=8, batch_size=16\n",
      "Divergence detected. Stopping training after 5 epochs.\n",
      "Fold 2: Accuracy = 0.4590\n",
      "Divergence detected. Stopping training after 5 epochs.\n",
      "Fold 1: Accuracy = 0.3897\n",
      "Divergence detected. Stopping training after 5 epochs.\n",
      "Fold 3: Accuracy = 0.4002\n",
      "Divergence detected. Stopping training after 5 epochs.\n",
      "Fold 2: Accuracy = 0.4751\n",
      "Fold 4: Accuracy = 0.4642\n",
      "Divergence detected. Stopping training after 5 epochs.\n",
      "Fold 3: Accuracy = 0.4685\n",
      "Divergence detected. Stopping training after 5 epochs.\n",
      "Fold 4: Accuracy = 0.4096\n",
      "Divergence detected. Stopping training after 5 epochs.\n"
     ]
    },
    {
     "name": "stderr",
     "output_type": "stream",
     "text": [
      "[I 2025-05-05 23:10:16,666] Trial 30 finished with value: 0.4192468095687499 and parameters: {'n_patches': 28, 'embed_dim': 64, 'learning_rate': 0.0003245706252578721, 'weight_decay': 4.481968840535867e-05, 'batch_size': 16, 'num_transformer_blocks': 2, 'num_heads': 8}. Best is trial 24 with value: 0.45553976793185547.\n"
     ]
    },
    {
     "name": "stdout",
     "output_type": "stream",
     "text": [
      "Fold 5: Accuracy = 0.3874\n",
      "Trial 30 mean accuracy: 0.4192\n",
      "Trial 32 params: n_patches=28, embed_dim=128, lr=1.643909556460266e-05, blocks=6, heads=8, batch_size=32\n",
      "Divergence detected. Stopping training after 5 epochs.\n"
     ]
    },
    {
     "name": "stderr",
     "output_type": "stream",
     "text": [
      "[I 2025-05-05 23:10:42,681] Trial 31 finished with value: 0.4217667816316145 and parameters: {'n_patches': 28, 'embed_dim': 64, 'learning_rate': 0.000322424400914185, 'weight_decay': 4.431761343088002e-05, 'batch_size': 16, 'num_transformer_blocks': 2, 'num_heads': 8}. Best is trial 24 with value: 0.45553976793185547.\n"
     ]
    },
    {
     "name": "stdout",
     "output_type": "stream",
     "text": [
      "Fold 5: Accuracy = 0.3659\n",
      "Trial 31 mean accuracy: 0.4218\n",
      "Trial 33 params: n_patches=28, embed_dim=128, lr=3.7252850925212916e-05, blocks=6, heads=8, batch_size=32\n",
      "Divergence detected. Stopping training after 5 epochs.\n",
      "Fold 1: Accuracy = 0.4962\n",
      "Divergence detected. Stopping training after 5 epochs.\n",
      "Fold 1: Accuracy = 0.4411\n",
      "Divergence detected. Stopping training after 5 epochs.\n",
      "Fold 2: Accuracy = 0.4873\n",
      "Divergence detected. Stopping training after 5 epochs.\n",
      "Fold 2: Accuracy = 0.5062\n",
      "Divergence detected. Stopping training after 5 epochs.\n",
      "Fold 3: Accuracy = 0.4077\n",
      "Divergence detected. Stopping training after 5 epochs.\n",
      "Fold 3: Accuracy = 0.4155\n",
      "Divergence detected. Stopping training after 5 epochs.\n",
      "Divergence detected. Stopping training after 5 epochs.\n",
      "Fold 4: Accuracy = 0.4309\n",
      "Fold 4: Accuracy = 0.4162\n",
      "Divergence detected. Stopping training after 5 epochs.\n"
     ]
    },
    {
     "name": "stderr",
     "output_type": "stream",
     "text": [
      "[I 2025-05-06 00:54:49,116] Trial 33 finished with value: 0.4220654866114845 and parameters: {'n_patches': 28, 'embed_dim': 128, 'learning_rate': 3.7252850925212916e-05, 'weight_decay': 1.658722150541791e-05, 'batch_size': 32, 'num_transformer_blocks': 6, 'num_heads': 8}. Best is trial 24 with value: 0.45553976793185547.\n"
     ]
    },
    {
     "name": "stdout",
     "output_type": "stream",
     "text": [
      "Fold 5: Accuracy = 0.3166\n",
      "Trial 33 mean accuracy: 0.4221\n",
      "Trial 34 params: n_patches=28, embed_dim=128, lr=1.6605916871248345e-05, blocks=8, heads=8, batch_size=32\n",
      "Divergence detected. Stopping training after 5 epochs.\n"
     ]
    },
    {
     "name": "stderr",
     "output_type": "stream",
     "text": [
      "[I 2025-05-06 00:56:05,575] Trial 32 finished with value: 0.43806136296669684 and parameters: {'n_patches': 28, 'embed_dim': 128, 'learning_rate': 1.643909556460266e-05, 'weight_decay': 1.2612288721859882e-05, 'batch_size': 32, 'num_transformer_blocks': 6, 'num_heads': 8}. Best is trial 24 with value: 0.45553976793185547.\n"
     ]
    },
    {
     "name": "stdout",
     "output_type": "stream",
     "text": [
      "Fold 5: Accuracy = 0.3830\n",
      "Trial 32 mean accuracy: 0.4381\n",
      "Trial 35 params: n_patches=28, embed_dim=128, lr=7.993037669067511e-05, blocks=8, heads=8, batch_size=32\n",
      "Divergence detected. Stopping training after 5 epochs.\n",
      "Fold 1: Accuracy = 0.3900\n",
      "Divergence detected. Stopping training after 5 epochs.\n",
      "Fold 1: Accuracy = 0.3997\n",
      "Divergence detected. Stopping training after 5 epochs.\n",
      "Fold 2: Accuracy = 0.4362\n",
      "Divergence detected. Stopping training after 5 epochs.\n",
      "Fold 2: Accuracy = 0.4673\n",
      "Divergence detected. Stopping training after 5 epochs.\n",
      "Fold 3: Accuracy = 0.4247\n",
      "Divergence detected. Stopping training after 5 epochs.\n",
      "Fold 4: Accuracy = 0.4007\n",
      "Divergence detected. Stopping training after 5 epochs.\n",
      "Fold 3: Accuracy = 0.3232\n",
      "Divergence detected. Stopping training after 5 epochs.\n"
     ]
    },
    {
     "name": "stderr",
     "output_type": "stream",
     "text": [
      "[I 2025-05-06 03:00:19,264] Trial 34 finished with value: 0.399350938632992 and parameters: {'n_patches': 28, 'embed_dim': 128, 'learning_rate': 1.6605916871248345e-05, 'weight_decay': 1.1871764181932191e-05, 'batch_size': 32, 'num_transformer_blocks': 8, 'num_heads': 8}. Best is trial 24 with value: 0.45553976793185547.\n"
     ]
    },
    {
     "name": "stdout",
     "output_type": "stream",
     "text": [
      "Fold 5: Accuracy = 0.3452\n",
      "Trial 34 mean accuracy: 0.3994\n",
      "Trial 36 params: n_patches=28, embed_dim=128, lr=8.38392285698327e-05, blocks=6, heads=8, batch_size=32\n",
      "Divergence detected. Stopping training after 5 epochs.\n",
      "Fold 4: Accuracy = 0.4614\n",
      "Divergence detected. Stopping training after 5 epochs.\n",
      "Fold 1: Accuracy = 0.4522\n",
      "Divergence detected. Stopping training after 5 epochs.\n",
      "Fold 2: Accuracy = 0.5062\n",
      "Divergence detected. Stopping training after 5 epochs.\n"
     ]
    },
    {
     "name": "stderr",
     "output_type": "stream",
     "text": [
      "[I 2025-05-06 03:34:45,821] Trial 35 finished with value: 0.41076707248633626 and parameters: {'n_patches': 28, 'embed_dim': 128, 'learning_rate': 7.993037669067511e-05, 'weight_decay': 1.0241768842906585e-05, 'batch_size': 32, 'num_transformer_blocks': 8, 'num_heads': 8}. Best is trial 24 with value: 0.45553976793185547.\n"
     ]
    },
    {
     "name": "stdout",
     "output_type": "stream",
     "text": [
      "Fold 5: Accuracy = 0.4023\n",
      "Trial 35 mean accuracy: 0.4108\n",
      "Trial 37 params: n_patches=28, embed_dim=128, lr=3.0710002331213316e-05, blocks=6, heads=8, batch_size=32\n",
      "Divergence detected. Stopping training after 5 epochs.\n",
      "Fold 3: Accuracy = 0.4138\n",
      "Divergence detected. Stopping training after 5 epochs.\n",
      "Fold 1: Accuracy = 0.4567\n",
      "Divergence detected. Stopping training after 5 epochs.\n",
      "Fold 2: Accuracy = 0.4814\n",
      "Divergence detected. Stopping training after 5 epochs.\n",
      "Fold 4: Accuracy = 0.5066\n",
      "Divergence detected. Stopping training after 5 epochs.\n",
      "Fold 3: Accuracy = 0.4269\n",
      "Divergence detected. Stopping training after 5 epochs.\n",
      "Fold 4: Accuracy = 0.3653\n",
      "Divergence detected. Stopping training after 5 epochs.\n"
     ]
    },
    {
     "name": "stderr",
     "output_type": "stream",
     "text": [
      "[I 2025-05-06 04:44:58,473] Trial 37 finished with value: 0.43068998142474363 and parameters: {'n_patches': 28, 'embed_dim': 128, 'learning_rate': 3.0710002331213316e-05, 'weight_decay': 1.6937278075543173e-05, 'batch_size': 32, 'num_transformer_blocks': 6, 'num_heads': 8}. Best is trial 24 with value: 0.45553976793185547.\n"
     ]
    },
    {
     "name": "stdout",
     "output_type": "stream",
     "text": [
      "Fold 5: Accuracy = 0.4232\n",
      "Trial 37 mean accuracy: 0.4307\n",
      "Trial 38 params: n_patches=14, embed_dim=128, lr=0.0009018906416065101, blocks=6, heads=8, batch_size=32\n",
      "Divergence detected. Stopping training after 5 epochs.\n",
      "Fold 1: Accuracy = 0.3333\n",
      "Divergence detected. Stopping training after 5 epochs.\n",
      "Fold 2: Accuracy = 0.3333\n",
      "Divergence detected. Stopping training after 5 epochs.\n"
     ]
    },
    {
     "name": "stderr",
     "output_type": "stream",
     "text": [
      "[I 2025-05-06 04:49:15,392] Trial 36 finished with value: 0.44444005436702944 and parameters: {'n_patches': 28, 'embed_dim': 128, 'learning_rate': 8.38392285698327e-05, 'weight_decay': 1.702821394879826e-05, 'batch_size': 32, 'num_transformer_blocks': 6, 'num_heads': 8}. Best is trial 24 with value: 0.45553976793185547.\n"
     ]
    },
    {
     "name": "stdout",
     "output_type": "stream",
     "text": [
      "Fold 5: Accuracy = 0.3434\n",
      "Trial 36 mean accuracy: 0.4444\n",
      "Trial 39 params: n_patches=14, embed_dim=128, lr=0.00013976664393249933, blocks=6, heads=8, batch_size=32\n",
      "Divergence detected. Stopping training after 5 epochs.\n",
      "Fold 3: Accuracy = 0.3333\n",
      "Divergence detected. Stopping training after 5 epochs.\n",
      "Fold 1: Accuracy = 0.4303\n",
      "Divergence detected. Stopping training after 5 epochs.\n",
      "Fold 4: Accuracy = 0.3333\n",
      "Divergence detected. Stopping training after 5 epochs.\n"
     ]
    },
    {
     "name": "stderr",
     "output_type": "stream",
     "text": [
      "[I 2025-05-06 04:52:13,163] Trial 38 finished with value: 0.3333333333333333 and parameters: {'n_patches': 14, 'embed_dim': 128, 'learning_rate': 0.0009018906416065101, 'weight_decay': 2.3019592819369966e-05, 'batch_size': 32, 'num_transformer_blocks': 6, 'num_heads': 8}. Best is trial 24 with value: 0.45553976793185547.\n"
     ]
    },
    {
     "name": "stdout",
     "output_type": "stream",
     "text": [
      "Fold 5: Accuracy = 0.3333\n",
      "Trial 38 mean accuracy: 0.3333\n",
      "Trial 40 params: n_patches=28, embed_dim=256, lr=0.0006124949470605994, blocks=4, heads=4, batch_size=32\n",
      "Divergence detected. Stopping training after 5 epochs.\n",
      "Fold 2: Accuracy = 0.4609\n",
      "Divergence detected. Stopping training after 5 epochs.\n",
      "Fold 3: Accuracy = 0.4572\n",
      "Divergence detected. Stopping training after 5 epochs.\n",
      "Fold 4: Accuracy = 0.4074\n",
      "Divergence detected. Stopping training after 5 epochs.\n"
     ]
    },
    {
     "name": "stderr",
     "output_type": "stream",
     "text": [
      "[I 2025-05-06 04:58:53,167] Trial 39 finished with value: 0.42439087321098673 and parameters: {'n_patches': 14, 'embed_dim': 128, 'learning_rate': 0.00013976664393249933, 'weight_decay': 5.634317648057783e-05, 'batch_size': 32, 'num_transformer_blocks': 6, 'num_heads': 8}. Best is trial 24 with value: 0.45553976793185547.\n"
     ]
    },
    {
     "name": "stdout",
     "output_type": "stream",
     "text": [
      "Fold 5: Accuracy = 0.3661\n",
      "Trial 39 mean accuracy: 0.4244\n",
      "Trial 41 params: n_patches=28, embed_dim=256, lr=0.000583566323078532, blocks=4, heads=4, batch_size=32\n",
      "Divergence detected. Stopping training after 5 epochs.\n",
      "Fold 1: Accuracy = 0.3333\n",
      "Divergence detected. Stopping training after 5 epochs.\n",
      "Fold 2: Accuracy = 0.3333\n",
      "Divergence detected. Stopping training after 5 epochs.\n",
      "Fold 1: Accuracy = 0.3333\n",
      "Divergence detected. Stopping training after 5 epochs.\n",
      "Fold 2: Accuracy = 0.3333\n",
      "Divergence detected. Stopping training after 5 epochs.\n",
      "Fold 3: Accuracy = 0.3333\n",
      "Divergence detected. Stopping training after 5 epochs.\n",
      "Fold 3: Accuracy = 0.3333\n",
      "Divergence detected. Stopping training after 5 epochs.\n",
      "Fold 4: Accuracy = 0.3333\n",
      "Divergence detected. Stopping training after 5 epochs.\n",
      "Fold 4: Accuracy = 0.3333\n",
      "Divergence detected. Stopping training after 5 epochs.\n"
     ]
    },
    {
     "name": "stderr",
     "output_type": "stream",
     "text": [
      "[I 2025-05-06 05:22:09,931] Trial 40 finished with value: 0.3333333333333333 and parameters: {'n_patches': 28, 'embed_dim': 256, 'learning_rate': 0.0006124949470605994, 'weight_decay': 3.139250115001249e-05, 'batch_size': 32, 'num_transformer_blocks': 4, 'num_heads': 4}. Best is trial 24 with value: 0.45553976793185547.\n"
     ]
    },
    {
     "name": "stdout",
     "output_type": "stream",
     "text": [
      "Fold 5: Accuracy = 0.3333\n",
      "Trial 40 mean accuracy: 0.3333\n",
      "Trial 42 params: n_patches=28, embed_dim=128, lr=2.2158627890185578e-05, blocks=6, heads=8, batch_size=32\n",
      "Divergence detected. Stopping training after 5 epochs.\n"
     ]
    },
    {
     "name": "stderr",
     "output_type": "stream",
     "text": [
      "[I 2025-05-06 05:23:44,193] Trial 41 finished with value: 0.3333333333333333 and parameters: {'n_patches': 28, 'embed_dim': 256, 'learning_rate': 0.000583566323078532, 'weight_decay': 3.054941325433209e-05, 'batch_size': 32, 'num_transformer_blocks': 4, 'num_heads': 4}. Best is trial 24 with value: 0.45553976793185547.\n"
     ]
    },
    {
     "name": "stdout",
     "output_type": "stream",
     "text": [
      "Fold 5: Accuracy = 0.3333\n",
      "Trial 41 mean accuracy: 0.3333\n",
      "Trial 43 params: n_patches=28, embed_dim=128, lr=2.0283059326266825e-05, blocks=6, heads=8, batch_size=32\n",
      "Divergence detected. Stopping training after 5 epochs.\n",
      "Fold 1: Accuracy = 0.4071\n",
      "Divergence detected. Stopping training after 5 epochs.\n",
      "Fold 1: Accuracy = 0.4067\n",
      "Divergence detected. Stopping training after 5 epochs.\n",
      "Fold 2: Accuracy = 0.4115\n",
      "Divergence detected. Stopping training after 5 epochs.\n",
      "Fold 3: Accuracy = 0.4104\n",
      "Divergence detected. Stopping training after 5 epochs.\n",
      "Fold 2: Accuracy = 0.5203\n",
      "Divergence detected. Stopping training after 5 epochs.\n",
      "Fold 3: Accuracy = 0.4169\n",
      "Divergence detected. Stopping training after 5 epochs.\n",
      "Fold 4: Accuracy = 0.4843\n",
      "Divergence detected. Stopping training after 5 epochs.\n",
      "Fold 4: Accuracy = 0.4687\n",
      "Divergence detected. Stopping training after 5 epochs.\n",
      "Divergence detected. Stopping training after 5 epochs.\n"
     ]
    },
    {
     "name": "stderr",
     "output_type": "stream",
     "text": [
      "[I 2025-05-06 06:33:07,444] Trial 43 finished with value: 0.43928027529648717 and parameters: {'n_patches': 28, 'embed_dim': 128, 'learning_rate': 2.0283059326266825e-05, 'weight_decay': 1.704275910515804e-05, 'batch_size': 32, 'num_transformer_blocks': 6, 'num_heads': 8}. Best is trial 24 with value: 0.45553976793185547.\n"
     ]
    },
    {
     "name": "stdout",
     "output_type": "stream",
     "text": [
      "Fold 5: Accuracy = 0.3839\n",
      "Trial 43 mean accuracy: 0.4393\n",
      "Trial 44 params: n_patches=28, embed_dim=128, lr=5.2314923481080154e-05, blocks=8, heads=8, batch_size=32\n"
     ]
    },
    {
     "name": "stderr",
     "output_type": "stream",
     "text": [
      "[I 2025-05-06 06:33:09,919] Trial 42 finished with value: 0.41910863115071406 and parameters: {'n_patches': 28, 'embed_dim': 128, 'learning_rate': 2.2158627890185578e-05, 'weight_decay': 1.2933244605507996e-05, 'batch_size': 32, 'num_transformer_blocks': 6, 'num_heads': 8}. Best is trial 24 with value: 0.45553976793185547.\n"
     ]
    },
    {
     "name": "stdout",
     "output_type": "stream",
     "text": [
      "Fold 5: Accuracy = 0.3822\n",
      "Trial 42 mean accuracy: 0.4191\n",
      "Trial 45 params: n_patches=28, embed_dim=128, lr=4.636674161201214e-05, blocks=8, heads=8, batch_size=32\n",
      "Divergence detected. Stopping training after 5 epochs.\n",
      "Fold 1: Accuracy = 0.3746\n",
      "Divergence detected. Stopping training after 5 epochs.\n",
      "Fold 1: Accuracy = 0.3626\n",
      "Divergence detected. Stopping training after 5 epochs.\n",
      "Fold 2: Accuracy = 0.4427\n",
      "Divergence detected. Stopping training after 5 epochs.\n",
      "Fold 2: Accuracy = 0.5037\n",
      "Divergence detected. Stopping training after 5 epochs.\n",
      "Fold 3: Accuracy = 0.3536\n",
      "Divergence detected. Stopping training after 5 epochs.\n",
      "Divergence detected. Stopping training after 5 epochs.\n",
      "Fold 3: Accuracy = 0.4241\n",
      "Fold 4: Accuracy = 0.4306\n",
      "Divergence detected. Stopping training after 5 epochs.\n",
      "Fold 4: Accuracy = 0.4800\n",
      "Divergence detected. Stopping training after 5 epochs.\n",
      "Fold 5: Accuracy = 0.3733\n",
      "Trial 45 mean accuracy: 0.3926\n"
     ]
    },
    {
     "name": "stderr",
     "output_type": "stream",
     "text": [
      "[I 2025-05-06 08:30:30,835] Trial 45 finished with value: 0.392570218380225 and parameters: {'n_patches': 28, 'embed_dim': 128, 'learning_rate': 4.636674161201214e-05, 'weight_decay': 2.3113774776082667e-05, 'batch_size': 32, 'num_transformer_blocks': 8, 'num_heads': 8}. Best is trial 24 with value: 0.45553976793185547.\n"
     ]
    },
    {
     "name": "stdout",
     "output_type": "stream",
     "text": [
      "Trial 46 params: n_patches=28, embed_dim=128, lr=3.287507274975897e-05, blocks=6, heads=8, batch_size=16\n",
      "Divergence detected. Stopping training after 5 epochs.\n"
     ]
    },
    {
     "name": "stderr",
     "output_type": "stream",
     "text": [
      "[I 2025-05-06 08:35:38,279] Trial 44 finished with value: 0.429114503816643 and parameters: {'n_patches': 28, 'embed_dim': 128, 'learning_rate': 5.2314923481080154e-05, 'weight_decay': 1.3341840842364643e-05, 'batch_size': 32, 'num_transformer_blocks': 8, 'num_heads': 8}. Best is trial 24 with value: 0.45553976793185547.\n"
     ]
    },
    {
     "name": "stdout",
     "output_type": "stream",
     "text": [
      "Fold 5: Accuracy = 0.3631\n",
      "Trial 44 mean accuracy: 0.4291\n",
      "Trial 47 params: n_patches=14, embed_dim=256, lr=3.149919687012669e-05, blocks=6, heads=4, batch_size=16\n",
      "Divergence detected. Stopping training after 5 epochs.\n",
      "Fold 1: Accuracy = 0.3844\n",
      "Divergence detected. Stopping training after 5 epochs.\n",
      "Fold 1: Accuracy = 0.4304\n",
      "Divergence detected. Stopping training after 5 epochs.\n",
      "Fold 2: Accuracy = 0.4023\n",
      "Divergence detected. Stopping training after 5 epochs.\n",
      "Fold 3: Accuracy = 0.4361\n",
      "Divergence detected. Stopping training after 5 epochs.\n",
      "Fold 4: Accuracy = 0.4556\n",
      "Divergence detected. Stopping training after 5 epochs.\n"
     ]
    },
    {
     "name": "stderr",
     "output_type": "stream",
     "text": [
      "[I 2025-05-06 08:45:46,617] Trial 47 finished with value: 0.4103703502830086 and parameters: {'n_patches': 14, 'embed_dim': 256, 'learning_rate': 3.149919687012669e-05, 'weight_decay': 2.7248234934125557e-05, 'batch_size': 16, 'num_transformer_blocks': 6, 'num_heads': 4}. Best is trial 24 with value: 0.45553976793185547.\n"
     ]
    },
    {
     "name": "stdout",
     "output_type": "stream",
     "text": [
      "Fold 5: Accuracy = 0.3274\n",
      "Trial 47 mean accuracy: 0.4104\n",
      "Trial 48 params: n_patches=28, embed_dim=64, lr=7.228609166859384e-05, blocks=2, heads=8, batch_size=32\n",
      "Divergence detected. Stopping training after 5 epochs.\n",
      "Fold 2: Accuracy = 0.4085\n",
      "Divergence detected. Stopping training after 5 epochs.\n",
      "Fold 1: Accuracy = 0.4477\n",
      "Divergence detected. Stopping training after 5 epochs.\n",
      "Divergence detected. Stopping training after 5 epochs.\n",
      "Fold 2: Accuracy = 0.4087\n",
      "Fold 3: Accuracy = 0.4349\n",
      "Divergence detected. Stopping training after 5 epochs.\n",
      "Divergence detected. Stopping training after 5 epochs.\n",
      "Fold 3: Accuracy = 0.4277\n",
      "Fold 4: Accuracy = 0.4595\n",
      "Divergence detected. Stopping training after 5 epochs.\n"
     ]
    },
    {
     "name": "stderr",
     "output_type": "stream",
     "text": [
      "[I 2025-05-06 09:09:54,439] Trial 46 finished with value: 0.4239180255452292 and parameters: {'n_patches': 28, 'embed_dim': 128, 'learning_rate': 3.287507274975897e-05, 'weight_decay': 1.1310795624044443e-05, 'batch_size': 16, 'num_transformer_blocks': 6, 'num_heads': 8}. Best is trial 24 with value: 0.45553976793185547.\n"
     ]
    },
    {
     "name": "stdout",
     "output_type": "stream",
     "text": [
      "Fold 5: Accuracy = 0.4323\n",
      "Trial 46 mean accuracy: 0.4239\n",
      "Trial 49 params: n_patches=14, embed_dim=64, lr=1.2819361607509736e-05, blocks=2, heads=4, batch_size=32\n",
      "Divergence detected. Stopping training after 5 epochs.\n",
      "Divergence detected. Stopping training after 5 epochs.\n",
      "Fold 1: Accuracy = 0.4498\n",
      "Fold 4: Accuracy = 0.4480\n",
      "Divergence detected. Stopping training after 5 epochs.\n",
      "Fold 2: Accuracy = 0.4970\n",
      "Divergence detected. Stopping training after 5 epochs.\n",
      "Fold 3: Accuracy = 0.4254\n",
      "Divergence detected. Stopping training after 5 epochs.\n"
     ]
    },
    {
     "name": "stderr",
     "output_type": "stream",
     "text": [
      "[I 2025-05-06 09:15:24,977] Trial 48 finished with value: 0.4226649366054101 and parameters: {'n_patches': 28, 'embed_dim': 64, 'learning_rate': 7.228609166859384e-05, 'weight_decay': 1.8395401734416854e-05, 'batch_size': 32, 'num_transformer_blocks': 2, 'num_heads': 8}. Best is trial 24 with value: 0.45553976793185547.\n"
     ]
    },
    {
     "name": "stdout",
     "output_type": "stream",
     "text": [
      "Fold 5: Accuracy = 0.3812\n",
      "Trial 48 mean accuracy: 0.4227\n",
      "Trial 50 params: n_patches=14, embed_dim=256, lr=1.3364623240163822e-05, blocks=4, heads=4, batch_size=32\n",
      "Divergence detected. Stopping training after 5 epochs.\n",
      "Fold 1: Accuracy = 0.4573\n",
      "Divergence detected. Stopping training after 5 epochs.\n",
      "Fold 4: Accuracy = 0.4897\n",
      "Divergence detected. Stopping training after 5 epochs.\n",
      "Fold 2: Accuracy = 0.5143\n",
      "Divergence detected. Stopping training after 5 epochs.\n"
     ]
    },
    {
     "name": "stderr",
     "output_type": "stream",
     "text": [
      "[I 2025-05-06 09:18:37,460] Trial 49 finished with value: 0.4449421930179822 and parameters: {'n_patches': 14, 'embed_dim': 64, 'learning_rate': 1.2819361607509736e-05, 'weight_decay': 1.868601265552523e-05, 'batch_size': 32, 'num_transformer_blocks': 2, 'num_heads': 4}. Best is trial 24 with value: 0.45553976793185547.\n"
     ]
    },
    {
     "name": "stdout",
     "output_type": "stream",
     "text": [
      "Fold 5: Accuracy = 0.3628\n",
      "Trial 49 mean accuracy: 0.4449\n",
      "Trial 51 params: n_patches=14, embed_dim=64, lr=1.303548468658277e-05, blocks=2, heads=4, batch_size=32\n",
      "Divergence detected. Stopping training after 5 epochs.\n",
      "Fold 1: Accuracy = 0.4480\n",
      "Divergence detected. Stopping training after 5 epochs.\n",
      "Fold 3: Accuracy = 0.4210\n",
      "Divergence detected. Stopping training after 5 epochs.\n",
      "Fold 4: Accuracy = 0.4654\n",
      "Divergence detected. Stopping training after 5 epochs.\n",
      "Fold 2: Accuracy = 0.4962\n",
      "Divergence detected. Stopping training after 5 epochs.\n"
     ]
    },
    {
     "name": "stderr",
     "output_type": "stream",
     "text": [
      "[I 2025-05-06 09:22:40,459] Trial 50 finished with value: 0.4489900370453522 and parameters: {'n_patches': 14, 'embed_dim': 256, 'learning_rate': 1.3364623240163822e-05, 'weight_decay': 2.2322296514555606e-05, 'batch_size': 32, 'num_transformer_blocks': 4, 'num_heads': 4}. Best is trial 24 with value: 0.45553976793185547.\n"
     ]
    },
    {
     "name": "stdout",
     "output_type": "stream",
     "text": [
      "Fold 5: Accuracy = 0.3869\n",
      "Trial 50 mean accuracy: 0.4490\n",
      "Trial 52 params: n_patches=14, embed_dim=64, lr=1.315380674560353e-05, blocks=2, heads=4, batch_size=32\n",
      "Divergence detected. Stopping training after 5 epochs.\n",
      "Fold 3: Accuracy = 0.4320\n",
      "Divergence detected. Stopping training after 5 epochs.\n",
      "Fold 1: Accuracy = 0.4497\n",
      "Divergence detected. Stopping training after 5 epochs.\n",
      "Fold 4: Accuracy = 0.4637\n",
      "Divergence detected. Stopping training after 5 epochs.\n",
      "Fold 2: Accuracy = 0.4876\n",
      "Divergence detected. Stopping training after 5 epochs.\n"
     ]
    },
    {
     "name": "stderr",
     "output_type": "stream",
     "text": [
      "[I 2025-05-06 09:25:21,186] Trial 51 finished with value: 0.4496852814334737 and parameters: {'n_patches': 14, 'embed_dim': 64, 'learning_rate': 1.303548468658277e-05, 'weight_decay': 2.2203605523088946e-05, 'batch_size': 32, 'num_transformer_blocks': 2, 'num_heads': 4}. Best is trial 24 with value: 0.45553976793185547.\n"
     ]
    },
    {
     "name": "stdout",
     "output_type": "stream",
     "text": [
      "Fold 5: Accuracy = 0.4085\n",
      "Trial 51 mean accuracy: 0.4497\n",
      "Trial 53 params: n_patches=14, embed_dim=64, lr=1.2905866035370015e-05, blocks=2, heads=4, batch_size=32\n",
      "Divergence detected. Stopping training after 5 epochs.\n",
      "Fold 3: Accuracy = 0.3938\n",
      "Divergence detected. Stopping training after 5 epochs.\n",
      "Fold 1: Accuracy = 0.4365\n",
      "Divergence detected. Stopping training after 5 epochs.\n",
      "Fold 2: Accuracy = 0.3275\n",
      "Divergence detected. Stopping training after 5 epochs.\n",
      "Fold 4: Accuracy = 0.4589\n",
      "Divergence detected. Stopping training after 5 epochs.\n"
     ]
    },
    {
     "name": "stderr",
     "output_type": "stream",
     "text": [
      "[I 2025-05-06 09:28:24,426] Trial 52 finished with value: 0.4290078629350055 and parameters: {'n_patches': 14, 'embed_dim': 64, 'learning_rate': 1.315380674560353e-05, 'weight_decay': 2.1618812843625652e-05, 'batch_size': 32, 'num_transformer_blocks': 2, 'num_heads': 4}. Best is trial 24 with value: 0.45553976793185547.\n"
     ]
    },
    {
     "name": "stdout",
     "output_type": "stream",
     "text": [
      "Fold 5: Accuracy = 0.3551\n",
      "Trial 52 mean accuracy: 0.4290\n",
      "Trial 54 params: n_patches=14, embed_dim=64, lr=1.2920325750626868e-05, blocks=2, heads=4, batch_size=32\n",
      "Divergence detected. Stopping training after 5 epochs.\n",
      "Fold 3: Accuracy = 0.4290\n",
      "Divergence detected. Stopping training after 5 epochs.\n",
      "Fold 1: Accuracy = 0.4483\n",
      "Divergence detected. Stopping training after 5 epochs.\n",
      "Fold 4: Accuracy = 0.4860\n",
      "Divergence detected. Stopping training after 5 epochs.\n",
      "Fold 2: Accuracy = 0.5025\n",
      "Divergence detected. Stopping training after 5 epochs.\n"
     ]
    },
    {
     "name": "stderr",
     "output_type": "stream",
     "text": [
      "[I 2025-05-06 09:32:23,598] Trial 53 finished with value: 0.3987453633559967 and parameters: {'n_patches': 14, 'embed_dim': 64, 'learning_rate': 1.2905866035370015e-05, 'weight_decay': 2.1972172233231623e-05, 'batch_size': 32, 'num_transformer_blocks': 2, 'num_heads': 4}. Best is trial 24 with value: 0.45553976793185547.\n"
     ]
    },
    {
     "name": "stdout",
     "output_type": "stream",
     "text": [
      "Fold 5: Accuracy = 0.3147\n",
      "Trial 53 mean accuracy: 0.3987\n",
      "Trial 55 params: n_patches=14, embed_dim=64, lr=1.0552207115981524e-05, blocks=2, heads=4, batch_size=32\n",
      "Divergence detected. Stopping training after 5 epochs.\n",
      "Fold 3: Accuracy = 0.4063\n",
      "Divergence detected. Stopping training after 5 epochs.\n",
      "Fold 1: Accuracy = 0.4200\n",
      "Divergence detected. Stopping training after 5 epochs.\n",
      "Fold 4: Accuracy = 0.4722\n",
      "Divergence detected. Stopping training after 5 epochs.\n",
      "Fold 2: Accuracy = 0.5021\n",
      "Divergence detected. Stopping training after 5 epochs.\n"
     ]
    },
    {
     "name": "stderr",
     "output_type": "stream",
     "text": [
      "[I 2025-05-06 09:36:15,011] Trial 54 finished with value: 0.447120938127539 and parameters: {'n_patches': 14, 'embed_dim': 64, 'learning_rate': 1.2920325750626868e-05, 'weight_decay': 2.2583332026858028e-05, 'batch_size': 32, 'num_transformer_blocks': 2, 'num_heads': 4}. Best is trial 24 with value: 0.45553976793185547.\n"
     ]
    },
    {
     "name": "stdout",
     "output_type": "stream",
     "text": [
      "Fold 5: Accuracy = 0.4063\n",
      "Trial 54 mean accuracy: 0.4471\n",
      "Trial 56 params: n_patches=14, embed_dim=64, lr=1.445757242286123e-05, blocks=2, heads=4, batch_size=16\n",
      "Divergence detected. Stopping training after 5 epochs.\n",
      "Fold 3: Accuracy = 0.3087\n",
      "Divergence detected. Stopping training after 5 epochs.\n",
      "Fold 1: Accuracy = 0.4206\n",
      "Divergence detected. Stopping training after 5 epochs.\n",
      "Fold 4: Accuracy = 0.4210\n",
      "Divergence detected. Stopping training after 5 epochs.\n",
      "Fold 2: Accuracy = 0.5197\n",
      "Divergence detected. Stopping training after 5 epochs.\n"
     ]
    },
    {
     "name": "stderr",
     "output_type": "stream",
     "text": [
      "[I 2025-05-06 09:39:36,915] Trial 55 finished with value: 0.41273263486112854 and parameters: {'n_patches': 14, 'embed_dim': 64, 'learning_rate': 1.0552207115981524e-05, 'weight_decay': 2.9085929151857237e-05, 'batch_size': 32, 'num_transformer_blocks': 2, 'num_heads': 4}. Best is trial 24 with value: 0.45553976793185547.\n"
     ]
    },
    {
     "name": "stdout",
     "output_type": "stream",
     "text": [
      "Fold 5: Accuracy = 0.4118\n",
      "Trial 55 mean accuracy: 0.4127\n",
      "Trial 57 params: n_patches=14, embed_dim=256, lr=1.935509203166336e-05, blocks=2, heads=4, batch_size=16\n",
      "Divergence detected. Stopping training after 5 epochs.\n",
      "Fold 1: Accuracy = 0.4393\n",
      "Divergence detected. Stopping training after 5 epochs.\n",
      "Fold 3: Accuracy = 0.4327\n",
      "Divergence detected. Stopping training after 5 epochs.\n",
      "Fold 2: Accuracy = 0.4932\n",
      "Divergence detected. Stopping training after 5 epochs.\n",
      "Fold 4: Accuracy = 0.4585\n",
      "Divergence detected. Stopping training after 5 epochs.\n",
      "Fold 3: Accuracy = 0.4120\n",
      "Divergence detected. Stopping training after 5 epochs.\n"
     ]
    },
    {
     "name": "stderr",
     "output_type": "stream",
     "text": [
      "[I 2025-05-06 09:43:14,568] Trial 56 finished with value: 0.4434578382829111 and parameters: {'n_patches': 14, 'embed_dim': 64, 'learning_rate': 1.445757242286123e-05, 'weight_decay': 2.9748640939719576e-05, 'batch_size': 16, 'num_transformer_blocks': 2, 'num_heads': 4}. Best is trial 24 with value: 0.45553976793185547.\n"
     ]
    },
    {
     "name": "stdout",
     "output_type": "stream",
     "text": [
      "Fold 5: Accuracy = 0.3857\n",
      "Trial 56 mean accuracy: 0.4435\n",
      "Trial 58 params: n_patches=14, embed_dim=256, lr=1.985109159020941e-05, blocks=4, heads=4, batch_size=32\n",
      "Divergence detected. Stopping training after 5 epochs.\n",
      "Fold 4: Accuracy = 0.4535\n",
      "Divergence detected. Stopping training after 5 epochs.\n",
      "Fold 1: Accuracy = 0.4608\n",
      "Divergence detected. Stopping training after 5 epochs.\n",
      "Fold 2: Accuracy = 0.4635\n",
      "Divergence detected. Stopping training after 5 epochs.\n"
     ]
    },
    {
     "name": "stderr",
     "output_type": "stream",
     "text": [
      "[I 2025-05-06 09:45:38,555] Trial 57 finished with value: 0.4356433441200799 and parameters: {'n_patches': 14, 'embed_dim': 256, 'learning_rate': 1.935509203166336e-05, 'weight_decay': 3.530732830478272e-05, 'batch_size': 16, 'num_transformer_blocks': 2, 'num_heads': 4}. Best is trial 24 with value: 0.45553976793185547.\n"
     ]
    },
    {
     "name": "stdout",
     "output_type": "stream",
     "text": [
      "Fold 5: Accuracy = 0.3802\n",
      "Trial 57 mean accuracy: 0.4356\n",
      "Trial 59 params: n_patches=14, embed_dim=256, lr=2.745743387362987e-05, blocks=4, heads=4, batch_size=32\n",
      "Divergence detected. Stopping training after 5 epochs.\n",
      "Fold 1: Accuracy = 0.4555\n",
      "Divergence detected. Stopping training after 5 epochs.\n",
      "Fold 2: Accuracy = 0.4814\n",
      "Divergence detected. Stopping training after 5 epochs.\n",
      "Fold 3: Accuracy = 0.3880\n",
      "Divergence detected. Stopping training after 5 epochs.\n",
      "Fold 3: Accuracy = 0.4240\n",
      "Divergence detected. Stopping training after 5 epochs.\n",
      "Fold 4: Accuracy = 0.4571\n",
      "Divergence detected. Stopping training after 5 epochs.\n",
      "Fold 4: Accuracy = 0.4931\n",
      "Divergence detected. Stopping training after 5 epochs.\n"
     ]
    },
    {
     "name": "stderr",
     "output_type": "stream",
     "text": [
      "[I 2025-05-06 09:51:49,842] Trial 58 finished with value: 0.4379538480923064 and parameters: {'n_patches': 14, 'embed_dim': 256, 'learning_rate': 1.985109159020941e-05, 'weight_decay': 3.75312718314791e-05, 'batch_size': 32, 'num_transformer_blocks': 4, 'num_heads': 4}. Best is trial 24 with value: 0.45553976793185547.\n"
     ]
    },
    {
     "name": "stdout",
     "output_type": "stream",
     "text": [
      "Fold 5: Accuracy = 0.4204\n",
      "Trial 58 mean accuracy: 0.4380\n",
      "Trial 60 params: n_patches=14, embed_dim=256, lr=1.144307900301085e-05, blocks=4, heads=4, batch_size=32\n",
      "Divergence detected. Stopping training after 5 epochs.\n"
     ]
    },
    {
     "name": "stderr",
     "output_type": "stream",
     "text": [
      "[I 2025-05-06 09:53:19,396] Trial 59 finished with value: 0.44616322103840494 and parameters: {'n_patches': 14, 'embed_dim': 256, 'learning_rate': 2.745743387362987e-05, 'weight_decay': 2.5826876972597843e-05, 'batch_size': 32, 'num_transformer_blocks': 4, 'num_heads': 4}. Best is trial 24 with value: 0.45553976793185547.\n"
     ]
    },
    {
     "name": "stdout",
     "output_type": "stream",
     "text": [
      "Fold 5: Accuracy = 0.3768\n",
      "Trial 59 mean accuracy: 0.4462\n",
      "Trial 61 params: n_patches=14, embed_dim=256, lr=1.123989416689388e-05, blocks=4, heads=4, batch_size=32\n",
      "Divergence detected. Stopping training after 5 epochs.\n",
      "Fold 1: Accuracy = 0.4357\n",
      "Divergence detected. Stopping training after 5 epochs.\n",
      "Divergence detected. Stopping training after 5 epochs.\n",
      "Fold 1: Accuracy = 0.4181\n",
      "Fold 2: Accuracy = 0.5169\n",
      "Divergence detected. Stopping training after 5 epochs.\n",
      "Fold 2: Accuracy = 0.4710\n",
      "Divergence detected. Stopping training after 5 epochs.\n",
      "Fold 3: Accuracy = 0.4215\n",
      "Divergence detected. Stopping training after 5 epochs.\n",
      "Fold 3: Accuracy = 0.4230\n",
      "Divergence detected. Stopping training after 5 epochs.\n",
      "Fold 4: Accuracy = 0.4008\n",
      "Divergence detected. Stopping training after 5 epochs.\n",
      "Divergence detected. Stopping training after 5 epochs.\n",
      "Fold 4: Accuracy = 0.4750\n"
     ]
    },
    {
     "name": "stderr",
     "output_type": "stream",
     "text": [
      "[I 2025-05-06 10:01:13,162] Trial 60 finished with value: 0.43741748369696776 and parameters: {'n_patches': 14, 'embed_dim': 256, 'learning_rate': 1.144307900301085e-05, 'weight_decay': 2.686520532883228e-05, 'batch_size': 32, 'num_transformer_blocks': 4, 'num_heads': 4}. Best is trial 24 with value: 0.45553976793185547.\n"
     ]
    },
    {
     "name": "stdout",
     "output_type": "stream",
     "text": [
      "Fold 5: Accuracy = 0.4122\n",
      "Trial 60 mean accuracy: 0.4374\n",
      "Trial 62 params: n_patches=14, embed_dim=256, lr=2.5647497039169402e-05, blocks=4, heads=4, batch_size=32\n",
      "Divergence detected. Stopping training after 5 epochs.\n"
     ]
    },
    {
     "name": "stderr",
     "output_type": "stream",
     "text": [
      "[I 2025-05-06 10:02:29,977] Trial 61 finished with value: 0.4356228717862246 and parameters: {'n_patches': 14, 'embed_dim': 256, 'learning_rate': 1.123989416689388e-05, 'weight_decay': 2.4323095627359883e-05, 'batch_size': 32, 'num_transformer_blocks': 4, 'num_heads': 4}. Best is trial 24 with value: 0.45553976793185547.\n"
     ]
    },
    {
     "name": "stdout",
     "output_type": "stream",
     "text": [
      "Fold 5: Accuracy = 0.3910\n",
      "Trial 61 mean accuracy: 0.4356\n",
      "Trial 63 params: n_patches=14, embed_dim=256, lr=2.5893793649076787e-05, blocks=4, heads=4, batch_size=32\n",
      "Divergence detected. Stopping training after 5 epochs.\n",
      "Fold 1: Accuracy = 0.4692\n",
      "Divergence detected. Stopping training after 5 epochs.\n",
      "Fold 1: Accuracy = 0.4467\n",
      "Divergence detected. Stopping training after 5 epochs.\n",
      "Fold 2: Accuracy = 0.4401\n",
      "Divergence detected. Stopping training after 5 epochs.\n",
      "Fold 2: Accuracy = 0.5130\n",
      "Divergence detected. Stopping training after 5 epochs.\n",
      "Fold 3: Accuracy = 0.3355\n",
      "Divergence detected. Stopping training after 5 epochs.\n",
      "Fold 3: Accuracy = 0.4545\n",
      "Divergence detected. Stopping training after 5 epochs.\n",
      "Fold 4: Accuracy = 0.4439\n",
      "Divergence detected. Stopping training after 5 epochs.\n",
      "Fold 4: Accuracy = 0.4522\n",
      "Divergence detected. Stopping training after 5 epochs.\n"
     ]
    },
    {
     "name": "stderr",
     "output_type": "stream",
     "text": [
      "[I 2025-05-06 10:08:49,660] Trial 62 finished with value: 0.42508145122613594 and parameters: {'n_patches': 14, 'embed_dim': 256, 'learning_rate': 2.5647497039169402e-05, 'weight_decay': 2.353327668095525e-05, 'batch_size': 32, 'num_transformer_blocks': 4, 'num_heads': 4}. Best is trial 24 with value: 0.45553976793185547.\n"
     ]
    },
    {
     "name": "stdout",
     "output_type": "stream",
     "text": [
      "Fold 5: Accuracy = 0.4367\n",
      "Trial 62 mean accuracy: 0.4251\n",
      "Trial 64 params: n_patches=14, embed_dim=256, lr=1.54489217598524e-05, blocks=2, heads=4, batch_size=32\n",
      "Divergence detected. Stopping training after 5 epochs.\n"
     ]
    },
    {
     "name": "stderr",
     "output_type": "stream",
     "text": [
      "[I 2025-05-06 10:09:41,857] Trial 63 finished with value: 0.44979478888749835 and parameters: {'n_patches': 14, 'embed_dim': 256, 'learning_rate': 2.5893793649076787e-05, 'weight_decay': 3.284975130996957e-05, 'batch_size': 32, 'num_transformer_blocks': 4, 'num_heads': 4}. Best is trial 24 with value: 0.45553976793185547.\n"
     ]
    },
    {
     "name": "stdout",
     "output_type": "stream",
     "text": [
      "Fold 5: Accuracy = 0.3826\n",
      "Trial 63 mean accuracy: 0.4498\n",
      "Trial 65 params: n_patches=14, embed_dim=256, lr=1.466222083124545e-05, blocks=2, heads=4, batch_size=32\n",
      "Divergence detected. Stopping training after 5 epochs.\n",
      "Fold 1: Accuracy = 0.4233\n",
      "Divergence detected. Stopping training after 5 epochs.\n",
      "Fold 2: Accuracy = 0.4799\n",
      "Divergence detected. Stopping training after 5 epochs.\n",
      "Fold 1: Accuracy = 0.4780\n",
      "Divergence detected. Stopping training after 5 epochs.\n",
      "Fold 2: Accuracy = 0.5023\n",
      "Divergence detected. Stopping training after 5 epochs.\n",
      "Fold 3: Accuracy = 0.4558\n",
      "Divergence detected. Stopping training after 5 epochs.\n",
      "Fold 3: Accuracy = 0.4270\n",
      "Divergence detected. Stopping training after 5 epochs.\n",
      "Fold 4: Accuracy = 0.4683\n",
      "Divergence detected. Stopping training after 5 epochs.\n",
      "Fold 4: Accuracy = 0.3947\n",
      "Divergence detected. Stopping training after 5 epochs.\n"
     ]
    },
    {
     "name": "stderr",
     "output_type": "stream",
     "text": [
      "[I 2025-05-06 10:16:29,174] Trial 64 finished with value: 0.4377789691683106 and parameters: {'n_patches': 14, 'embed_dim': 256, 'learning_rate': 1.54489217598524e-05, 'weight_decay': 2.552340399320031e-05, 'batch_size': 32, 'num_transformer_blocks': 2, 'num_heads': 4}. Best is trial 24 with value: 0.45553976793185547.\n"
     ]
    },
    {
     "name": "stdout",
     "output_type": "stream",
     "text": [
      "Fold 5: Accuracy = 0.3616\n",
      "Trial 64 mean accuracy: 0.4378\n",
      "Trial 66 params: n_patches=14, embed_dim=256, lr=2.847031288887643e-05, blocks=4, heads=4, batch_size=32\n",
      "Divergence detected. Stopping training after 5 epochs.\n"
     ]
    },
    {
     "name": "stderr",
     "output_type": "stream",
     "text": [
      "[I 2025-05-06 10:17:42,017] Trial 65 finished with value: 0.43266054832838413 and parameters: {'n_patches': 14, 'embed_dim': 256, 'learning_rate': 1.466222083124545e-05, 'weight_decay': 3.4896825506718036e-05, 'batch_size': 32, 'num_transformer_blocks': 2, 'num_heads': 4}. Best is trial 24 with value: 0.45553976793185547.\n"
     ]
    },
    {
     "name": "stdout",
     "output_type": "stream",
     "text": [
      "Fold 5: Accuracy = 0.3612\n",
      "Trial 65 mean accuracy: 0.4327\n",
      "Trial 67 params: n_patches=14, embed_dim=64, lr=2.837953676897551e-05, blocks=4, heads=4, batch_size=16\n",
      "Divergence detected. Stopping training after 5 epochs.\n",
      "Fold 1: Accuracy = 0.4600\n",
      "Divergence detected. Stopping training after 5 epochs.\n",
      "Fold 1: Accuracy = 0.4200\n",
      "Divergence detected. Stopping training after 5 epochs.\n",
      "Fold 2: Accuracy = 0.4854\n",
      "Divergence detected. Stopping training after 5 epochs.\n",
      "Fold 2: Accuracy = 0.4674\n",
      "Divergence detected. Stopping training after 5 epochs.\n",
      "Fold 3: Accuracy = 0.4144\n",
      "Divergence detected. Stopping training after 5 epochs.\n",
      "Fold 3: Accuracy = 0.3649\n",
      "Divergence detected. Stopping training after 5 epochs.\n",
      "Fold 4: Accuracy = 0.4700\n",
      "Divergence detected. Stopping training after 5 epochs.\n",
      "Fold 4: Accuracy = 0.4550\n",
      "Divergence detected. Stopping training after 5 epochs.\n",
      "Divergence detected. Stopping training after 5 epochs.\n"
     ]
    },
    {
     "name": "stderr",
     "output_type": "stream",
     "text": [
      "[I 2025-05-06 10:25:17,713] Trial 66 finished with value: 0.43835964472661537 and parameters: {'n_patches': 14, 'embed_dim': 256, 'learning_rate': 2.847031288887643e-05, 'weight_decay': 3.378226964473561e-05, 'batch_size': 32, 'num_transformer_blocks': 4, 'num_heads': 4}. Best is trial 24 with value: 0.45553976793185547.\n"
     ]
    },
    {
     "name": "stdout",
     "output_type": "stream",
     "text": [
      "Fold 5: Accuracy = 0.4265\n",
      "Trial 66 mean accuracy: 0.4384\n",
      "Trial 68 params: n_patches=14, embed_dim=64, lr=3.669445763792138e-05, blocks=4, heads=4, batch_size=16\n"
     ]
    },
    {
     "name": "stderr",
     "output_type": "stream",
     "text": [
      "[I 2025-05-06 10:25:18,565] Trial 67 finished with value: 0.4454917899886116 and parameters: {'n_patches': 14, 'embed_dim': 64, 'learning_rate': 2.837953676897551e-05, 'weight_decay': 4.093898664502236e-05, 'batch_size': 16, 'num_transformer_blocks': 4, 'num_heads': 4}. Best is trial 24 with value: 0.45553976793185547.\n"
     ]
    },
    {
     "name": "stdout",
     "output_type": "stream",
     "text": [
      "Fold 5: Accuracy = 0.4556\n",
      "Trial 67 mean accuracy: 0.4455\n",
      "Trial 69 params: n_patches=14, embed_dim=256, lr=3.8817595650035085e-05, blocks=2, heads=4, batch_size=32\n",
      "Divergence detected. Stopping training after 5 epochs.\n",
      "Fold 1: Accuracy = 0.4339\n",
      "Divergence detected. Stopping training after 5 epochs.\n",
      "Fold 1: Accuracy = 0.4343\n",
      "Divergence detected. Stopping training after 5 epochs.\n",
      "Fold 2: Accuracy = 0.3980\n",
      "Divergence detected. Stopping training after 5 epochs.\n",
      "Fold 2: Accuracy = 0.4923\n",
      "Divergence detected. Stopping training after 5 epochs.\n",
      "Divergence detected. Stopping training after 5 epochs.\n",
      "Fold 3: Accuracy = 0.3434\n",
      "Fold 3: Accuracy = 0.3665\n",
      "Divergence detected. Stopping training after 5 epochs.\n",
      "Fold 4: Accuracy = 0.4141\n",
      "Divergence detected. Stopping training after 5 epochs.\n",
      "Fold 4: Accuracy = 0.5048\n",
      "Divergence detected. Stopping training after 5 epochs.\n"
     ]
    },
    {
     "name": "stderr",
     "output_type": "stream",
     "text": [
      "[I 2025-05-06 10:30:30,563] Trial 69 finished with value: 0.4082622385743019 and parameters: {'n_patches': 14, 'embed_dim': 256, 'learning_rate': 3.8817595650035085e-05, 'weight_decay': 2.0031446672412794e-05, 'batch_size': 32, 'num_transformer_blocks': 2, 'num_heads': 4}. Best is trial 24 with value: 0.45553976793185547.\n"
     ]
    },
    {
     "name": "stdout",
     "output_type": "stream",
     "text": [
      "Fold 5: Accuracy = 0.3572\n",
      "Trial 69 mean accuracy: 0.4083\n",
      "Trial 70 params: n_patches=14, embed_dim=64, lr=2.2586635735092052e-05, blocks=4, heads=4, batch_size=32\n",
      "Divergence detected. Stopping training after 5 epochs.\n"
     ]
    },
    {
     "name": "stderr",
     "output_type": "stream",
     "text": [
      "[I 2025-05-06 10:31:37,112] Trial 68 finished with value: 0.41539590720613306 and parameters: {'n_patches': 14, 'embed_dim': 64, 'learning_rate': 3.669445763792138e-05, 'weight_decay': 1.9665239923610353e-05, 'batch_size': 16, 'num_transformer_blocks': 4, 'num_heads': 4}. Best is trial 24 with value: 0.45553976793185547.\n"
     ]
    },
    {
     "name": "stdout",
     "output_type": "stream",
     "text": [
      "Fold 5: Accuracy = 0.3738\n",
      "Trial 68 mean accuracy: 0.4154\n",
      "Trial 71 params: n_patches=14, embed_dim=256, lr=0.00025447292860775834, blocks=2, heads=4, batch_size=32\n",
      "Divergence detected. Stopping training after 5 epochs.\n",
      "Fold 1: Accuracy = 0.4359\n",
      "Divergence detected. Stopping training after 5 epochs.\n",
      "Fold 1: Accuracy = 0.4275\n",
      "Divergence detected. Stopping training after 5 epochs.\n",
      "Fold 2: Accuracy = 0.4154\n",
      "Divergence detected. Stopping training after 5 epochs.\n",
      "Fold 3: Accuracy = 0.4262\n",
      "Divergence detected. Stopping training after 5 epochs.\n",
      "Fold 2: Accuracy = 0.3924\n",
      "Divergence detected. Stopping training after 5 epochs.\n",
      "Fold 4: Accuracy = 0.4217\n",
      "Divergence detected. Stopping training after 5 epochs.\n",
      "Fold 3: Accuracy = 0.3993\n",
      "Divergence detected. Stopping training after 5 epochs.\n"
     ]
    },
    {
     "name": "stderr",
     "output_type": "stream",
     "text": [
      "[I 2025-05-06 10:37:50,192] Trial 70 finished with value: 0.4226344696082339 and parameters: {'n_patches': 14, 'embed_dim': 64, 'learning_rate': 2.2586635735092052e-05, 'weight_decay': 3.20760148787362e-05, 'batch_size': 32, 'num_transformer_blocks': 4, 'num_heads': 4}. Best is trial 24 with value: 0.45553976793185547.\n"
     ]
    },
    {
     "name": "stdout",
     "output_type": "stream",
     "text": [
      "Fold 5: Accuracy = 0.4141\n",
      "Trial 70 mean accuracy: 0.4226\n",
      "Trial 72 params: n_patches=14, embed_dim=64, lr=1.8001486702930443e-05, blocks=4, heads=4, batch_size=16\n",
      "Divergence detected. Stopping training after 5 epochs.\n",
      "Fold 4: Accuracy = 0.4531\n",
      "Divergence detected. Stopping training after 5 epochs.\n"
     ]
    },
    {
     "name": "stderr",
     "output_type": "stream",
     "text": [
      "[I 2025-05-06 10:39:10,025] Trial 71 finished with value: 0.4112634825426902 and parameters: {'n_patches': 14, 'embed_dim': 256, 'learning_rate': 0.00025447292860775834, 'weight_decay': 2.8159632097514385e-05, 'batch_size': 32, 'num_transformer_blocks': 2, 'num_heads': 4}. Best is trial 24 with value: 0.45553976793185547.\n"
     ]
    },
    {
     "name": "stdout",
     "output_type": "stream",
     "text": [
      "Fold 5: Accuracy = 0.3840\n",
      "Trial 71 mean accuracy: 0.4113\n",
      "Trial 73 params: n_patches=14, embed_dim=64, lr=1.8028708062457314e-05, blocks=4, heads=4, batch_size=16\n",
      "Divergence detected. Stopping training after 5 epochs.\n",
      "Fold 1: Accuracy = 0.4235\n",
      "Divergence detected. Stopping training after 5 epochs.\n",
      "Fold 1: Accuracy = 0.4200\n",
      "Divergence detected. Stopping training after 5 epochs.\n",
      "Fold 2: Accuracy = 0.4361\n",
      "Divergence detected. Stopping training after 5 epochs.\n",
      "Fold 2: Accuracy = 0.5043\n",
      "Divergence detected. Stopping training after 5 epochs.\n",
      "Fold 3: Accuracy = 0.3486\n",
      "Divergence detected. Stopping training after 5 epochs.\n",
      "Fold 3: Accuracy = 0.4276\n",
      "Divergence detected. Stopping training after 5 epochs.\n",
      "Fold 4: Accuracy = 0.4750\n",
      "Divergence detected. Stopping training after 5 epochs.\n",
      "Divergence detected. Stopping training after 5 epochs.\n"
     ]
    },
    {
     "name": "stderr",
     "output_type": "stream",
     "text": [
      "[I 2025-05-06 10:46:43,564] Trial 72 finished with value: 0.4123509924527621 and parameters: {'n_patches': 14, 'embed_dim': 64, 'learning_rate': 1.8001486702930443e-05, 'weight_decay': 4.10353724345227e-05, 'batch_size': 16, 'num_transformer_blocks': 4, 'num_heads': 4}. Best is trial 24 with value: 0.45553976793185547.\n"
     ]
    },
    {
     "name": "stdout",
     "output_type": "stream",
     "text": [
      "Fold 5: Accuracy = 0.3785\n",
      "Trial 72 mean accuracy: 0.4124\n",
      "Trial 74 params: n_patches=14, embed_dim=64, lr=4.277019672310624e-05, blocks=4, heads=4, batch_size=16\n",
      "Fold 4: Accuracy = 0.4562\n",
      "Divergence detected. Stopping training after 5 epochs.\n"
     ]
    },
    {
     "name": "stderr",
     "output_type": "stream",
     "text": [
      "[I 2025-05-06 10:48:10,895] Trial 73 finished with value: 0.43983952636272183 and parameters: {'n_patches': 14, 'embed_dim': 64, 'learning_rate': 1.8028708062457314e-05, 'weight_decay': 4.1285196537544494e-05, 'batch_size': 16, 'num_transformer_blocks': 4, 'num_heads': 4}. Best is trial 24 with value: 0.45553976793185547.\n"
     ]
    },
    {
     "name": "stdout",
     "output_type": "stream",
     "text": [
      "Fold 5: Accuracy = 0.3911\n",
      "Trial 73 mean accuracy: 0.4398\n",
      "Trial 75 params: n_patches=14, embed_dim=64, lr=2.783956730840186e-05, blocks=4, heads=4, batch_size=16\n",
      "Divergence detected. Stopping training after 5 epochs.\n",
      "Divergence detected. Stopping training after 5 epochs.\n",
      "Fold 1: Accuracy = 0.4261\n",
      "Fold 1: Accuracy = 0.4355\n",
      "Divergence detected. Stopping training after 5 epochs.\n",
      "Fold 2: Accuracy = 0.4508\n",
      "Divergence detected. Stopping training after 5 epochs.\n",
      "Fold 3: Accuracy = 0.3458\n",
      "Divergence detected. Stopping training after 5 epochs.\n",
      "Fold 4: Accuracy = 0.4104\n",
      "Fold 2: Accuracy = 0.4736\n",
      "Divergence detected. Stopping training after 5 epochs.\n"
     ]
    },
    {
     "name": "stderr",
     "output_type": "stream",
     "text": [
      "[I 2025-05-06 10:53:46,249] Trial 74 finished with value: 0.40535082294931213 and parameters: {'n_patches': 14, 'embed_dim': 64, 'learning_rate': 4.277019672310624e-05, 'weight_decay': 4.65215219102111e-05, 'batch_size': 16, 'num_transformer_blocks': 4, 'num_heads': 4}. Best is trial 24 with value: 0.45553976793185547.\n"
     ]
    },
    {
     "name": "stdout",
     "output_type": "stream",
     "text": [
      "Fold 5: Accuracy = 0.3936\n",
      "Trial 74 mean accuracy: 0.4054\n",
      "Trial 76 params: n_patches=14, embed_dim=64, lr=2.9195609817654728e-05, blocks=4, heads=4, batch_size=16\n",
      "Divergence detected. Stopping training after 5 epochs.\n",
      "Fold 3: Accuracy = 0.4294\n",
      "Divergence detected. Stopping training after 5 epochs.\n",
      "Fold 4: Accuracy = 0.4592\n",
      "Divergence detected. Stopping training after 5 epochs.\n",
      "Fold 1: Accuracy = 0.4516\n",
      "Divergence detected. Stopping training after 5 epochs.\n"
     ]
    },
    {
     "name": "stderr",
     "output_type": "stream",
     "text": [
      "[I 2025-05-06 10:56:44,659] Trial 75 finished with value: 0.4309675620502407 and parameters: {'n_patches': 14, 'embed_dim': 64, 'learning_rate': 2.783956730840186e-05, 'weight_decay': 5.8848646204853966e-05, 'batch_size': 16, 'num_transformer_blocks': 4, 'num_heads': 4}. Best is trial 24 with value: 0.45553976793185547.\n"
     ]
    },
    {
     "name": "stdout",
     "output_type": "stream",
     "text": [
      "Fold 5: Accuracy = 0.3572\n",
      "Trial 75 mean accuracy: 0.4310\n",
      "Trial 77 params: n_patches=14, embed_dim=256, lr=2.2321854637773496e-05, blocks=4, heads=4, batch_size=16\n",
      "Divergence detected. Stopping training after 5 epochs.\n",
      "Fold 2: Accuracy = 0.5251\n",
      "Divergence detected. Stopping training after 5 epochs.\n",
      "Fold 3: Accuracy = 0.4378\n",
      "Divergence detected. Stopping training after 5 epochs.\n",
      "Fold 4: Accuracy = 0.4541\n",
      "Divergence detected. Stopping training after 5 epochs.\n",
      "Fold 1: Accuracy = 0.4371\n",
      "Divergence detected. Stopping training after 5 epochs.\n"
     ]
    },
    {
     "name": "stderr",
     "output_type": "stream",
     "text": [
      "[I 2025-05-06 11:00:53,782] Trial 76 finished with value: 0.45485005771798603 and parameters: {'n_patches': 14, 'embed_dim': 64, 'learning_rate': 2.9195609817654728e-05, 'weight_decay': 6.40075182717267e-05, 'batch_size': 16, 'num_transformer_blocks': 4, 'num_heads': 4}. Best is trial 24 with value: 0.45553976793185547.\n"
     ]
    },
    {
     "name": "stdout",
     "output_type": "stream",
     "text": [
      "Fold 5: Accuracy = 0.4057\n",
      "Trial 76 mean accuracy: 0.4549\n",
      "Trial 78 params: n_patches=14, embed_dim=256, lr=5.865571906681462e-05, blocks=2, heads=4, batch_size=16\n",
      "Divergence detected. Stopping training after 5 epochs.\n",
      "Divergence detected. Stopping training after 5 epochs.\n",
      "Fold 2: Accuracy = 0.5147\n",
      "Fold 1: Accuracy = 0.4309\n",
      "Divergence detected. Stopping training after 5 epochs.\n",
      "Fold 3: Accuracy = 0.4262\n",
      "Divergence detected. Stopping training after 5 epochs.\n",
      "Fold 2: Accuracy = 0.4282\n",
      "Divergence detected. Stopping training after 5 epochs.\n",
      "Divergence detected. Stopping training after 5 epochs.\n",
      "Fold 4: Accuracy = 0.4711\n",
      "Fold 3: Accuracy = 0.3933\n",
      "Divergence detected. Stopping training after 5 epochs.\n"
     ]
    },
    {
     "name": "stderr",
     "output_type": "stream",
     "text": [
      "[I 2025-05-06 11:07:17,190] Trial 77 finished with value: 0.4445011938051916 and parameters: {'n_patches': 14, 'embed_dim': 256, 'learning_rate': 2.2321854637773496e-05, 'weight_decay': 3.807208685087628e-05, 'batch_size': 16, 'num_transformer_blocks': 4, 'num_heads': 4}. Best is trial 24 with value: 0.45553976793185547.\n"
     ]
    },
    {
     "name": "stdout",
     "output_type": "stream",
     "text": [
      "Fold 5: Accuracy = 0.3734\n",
      "Trial 77 mean accuracy: 0.4445\n",
      "Trial 79 params: n_patches=14, embed_dim=256, lr=5.473307483152039e-05, blocks=2, heads=4, batch_size=32\n",
      "Divergence detected. Stopping training after 5 epochs.\n",
      "Fold 4: Accuracy = 0.4279\n",
      "Divergence detected. Stopping training after 5 epochs.\n"
     ]
    },
    {
     "name": "stderr",
     "output_type": "stream",
     "text": [
      "[I 2025-05-06 11:08:56,654] Trial 78 finished with value: 0.4100858947644908 and parameters: {'n_patches': 14, 'embed_dim': 256, 'learning_rate': 5.865571906681462e-05, 'weight_decay': 7.571674642549629e-05, 'batch_size': 16, 'num_transformer_blocks': 2, 'num_heads': 4}. Best is trial 24 with value: 0.45553976793185547.\n"
     ]
    },
    {
     "name": "stdout",
     "output_type": "stream",
     "text": [
      "Fold 5: Accuracy = 0.3701\n",
      "Trial 78 mean accuracy: 0.4101\n",
      "Trial 80 params: n_patches=14, embed_dim=256, lr=0.0001335937014180811, blocks=2, heads=4, batch_size=32\n",
      "Divergence detected. Stopping training after 5 epochs.\n",
      "Fold 1: Accuracy = 0.4620\n",
      "Divergence detected. Stopping training after 5 epochs.\n",
      "Fold 1: Accuracy = 0.3942\n",
      "Divergence detected. Stopping training after 5 epochs.\n",
      "Fold 2: Accuracy = 0.4078\n",
      "Divergence detected. Stopping training after 5 epochs.\n",
      "Fold 2: Accuracy = 0.3603\n",
      "Divergence detected. Stopping training after 5 epochs.\n",
      "Fold 3: Accuracy = 0.3719\n",
      "Divergence detected. Stopping training after 5 epochs.\n",
      "Fold 3: Accuracy = 0.5583\n",
      "Divergence detected. Stopping training after 5 epochs.\n",
      "Fold 4: Accuracy = 0.4157\n",
      "Divergence detected. Stopping training after 5 epochs.\n",
      "Fold 4: Accuracy = 0.4272\n",
      "Divergence detected. Stopping training after 5 epochs.\n"
     ]
    },
    {
     "name": "stderr",
     "output_type": "stream",
     "text": [
      "[I 2025-05-06 11:14:47,030] Trial 79 finished with value: 0.41279044304407053 and parameters: {'n_patches': 14, 'embed_dim': 256, 'learning_rate': 5.473307483152039e-05, 'weight_decay': 9.092076031384104e-05, 'batch_size': 32, 'num_transformer_blocks': 2, 'num_heads': 4}. Best is trial 24 with value: 0.45553976793185547.\n"
     ]
    },
    {
     "name": "stdout",
     "output_type": "stream",
     "text": [
      "Fold 5: Accuracy = 0.4065\n",
      "Trial 79 mean accuracy: 0.4128\n",
      "Trial 81 params: n_patches=14, embed_dim=64, lr=0.00012683626393680708, blocks=2, heads=4, batch_size=32\n",
      "Divergence detected. Stopping training after 5 epochs.\n"
     ]
    },
    {
     "name": "stderr",
     "output_type": "stream",
     "text": [
      "[I 2025-05-06 11:16:06,515] Trial 80 finished with value: 0.4240148695244838 and parameters: {'n_patches': 14, 'embed_dim': 256, 'learning_rate': 0.0001335937014180811, 'weight_decay': 8.005933126581968e-05, 'batch_size': 32, 'num_transformer_blocks': 2, 'num_heads': 4}. Best is trial 24 with value: 0.45553976793185547.\n"
     ]
    },
    {
     "name": "stdout",
     "output_type": "stream",
     "text": [
      "Fold 5: Accuracy = 0.3800\n",
      "Trial 80 mean accuracy: 0.4240\n",
      "Trial 82 params: n_patches=14, embed_dim=64, lr=3.4185665824526636e-05, blocks=4, heads=4, batch_size=16\n",
      "Divergence detected. Stopping training after 5 epochs.\n",
      "Fold 1: Accuracy = 0.4026\n",
      "Divergence detected. Stopping training after 5 epochs.\n",
      "Fold 1: Accuracy = 0.4000\n",
      "Divergence detected. Stopping training after 5 epochs.\n",
      "Fold 2: Accuracy = 0.5073\n",
      "Divergence detected. Stopping training after 5 epochs.\n",
      "Fold 2: Accuracy = 0.3548\n",
      "Divergence detected. Stopping training after 5 epochs.\n",
      "Fold 3: Accuracy = 0.4276\n",
      "Divergence detected. Stopping training after 5 epochs.\n",
      "Fold 3: Accuracy = 0.3392\n",
      "Divergence detected. Stopping training after 5 epochs.\n",
      "Fold 4: Accuracy = 0.4098\n",
      "Divergence detected. Stopping training after 5 epochs.\n",
      "Fold 4: Accuracy = 0.4504\n",
      "Divergence detected. Stopping training after 5 epochs.\n"
     ]
    },
    {
     "name": "stderr",
     "output_type": "stream",
     "text": [
      "[I 2025-05-06 11:23:03,722] Trial 82 finished with value: 0.3848253844451707 and parameters: {'n_patches': 14, 'embed_dim': 64, 'learning_rate': 3.4185665824526636e-05, 'weight_decay': 5.392504051245643e-05, 'batch_size': 16, 'num_transformer_blocks': 4, 'num_heads': 4}. Best is trial 24 with value: 0.45553976793185547.\n"
     ]
    },
    {
     "name": "stdout",
     "output_type": "stream",
     "text": [
      "Fold 5: Accuracy = 0.3797\n",
      "Trial 82 mean accuracy: 0.3848\n",
      "Trial 83 params: n_patches=14, embed_dim=64, lr=2.8111962197534216e-05, blocks=4, heads=4, batch_size=16\n",
      "Divergence detected. Stopping training after 5 epochs.\n"
     ]
    },
    {
     "name": "stderr",
     "output_type": "stream",
     "text": [
      "[I 2025-05-06 11:23:11,626] Trial 81 finished with value: 0.426380324185102 and parameters: {'n_patches': 14, 'embed_dim': 64, 'learning_rate': 0.00012683626393680708, 'weight_decay': 5.290888431954077e-05, 'batch_size': 32, 'num_transformer_blocks': 2, 'num_heads': 4}. Best is trial 24 with value: 0.45553976793185547.\n"
     ]
    },
    {
     "name": "stdout",
     "output_type": "stream",
     "text": [
      "Fold 5: Accuracy = 0.3845\n",
      "Trial 81 mean accuracy: 0.4264\n",
      "Trial 84 params: n_patches=14, embed_dim=64, lr=0.00018112968025135753, blocks=4, heads=4, batch_size=16\n",
      "Divergence detected. Stopping training after 5 epochs.\n",
      "Fold 1: Accuracy = 0.4255\n",
      "Divergence detected. Stopping training after 5 epochs.\n",
      "Fold 1: Accuracy = 0.4531\n",
      "Divergence detected. Stopping training after 5 epochs.\n",
      "Fold 2: Accuracy = 0.3333\n",
      "Divergence detected. Stopping training after 5 epochs.\n",
      "Fold 2: Accuracy = 0.4909\n",
      "Divergence detected. Stopping training after 5 epochs.\n",
      "Fold 3: Accuracy = 0.4330\n",
      "Divergence detected. Stopping training after 5 epochs.\n",
      "Fold 3: Accuracy = 0.4148\n",
      "Divergence detected. Stopping training after 5 epochs.\n",
      "Fold 4: Accuracy = 0.4565\n",
      "Divergence detected. Stopping training after 5 epochs.\n",
      "Fold 4: Accuracy = 0.5055\n",
      "Divergence detected. Stopping training after 5 epochs.\n"
     ]
    },
    {
     "name": "stderr",
     "output_type": "stream",
     "text": [
      "[I 2025-05-06 11:30:56,722] Trial 84 finished with value: 0.40859812056900446 and parameters: {'n_patches': 14, 'embed_dim': 64, 'learning_rate': 0.00018112968025135753, 'weight_decay': 2.60509937032022e-05, 'batch_size': 16, 'num_transformer_blocks': 4, 'num_heads': 4}. Best is trial 24 with value: 0.45553976793185547.\n"
     ]
    },
    {
     "name": "stdout",
     "output_type": "stream",
     "text": [
      "Fold 5: Accuracy = 0.3853\n",
      "Trial 84 mean accuracy: 0.4086\n",
      "Trial 85 params: n_patches=14, embed_dim=64, lr=2.9050922063115817e-05, blocks=4, heads=4, batch_size=16\n",
      "Divergence detected. Stopping training after 5 epochs.\n"
     ]
    },
    {
     "name": "stderr",
     "output_type": "stream",
     "text": [
      "[I 2025-05-06 11:31:50,302] Trial 83 finished with value: 0.44704673178760307 and parameters: {'n_patches': 14, 'embed_dim': 64, 'learning_rate': 2.8111962197534216e-05, 'weight_decay': 7.012699753044136e-05, 'batch_size': 16, 'num_transformer_blocks': 4, 'num_heads': 4}. Best is trial 24 with value: 0.45553976793185547.\n"
     ]
    },
    {
     "name": "stdout",
     "output_type": "stream",
     "text": [
      "Fold 5: Accuracy = 0.3803\n",
      "Trial 83 mean accuracy: 0.4470\n",
      "Trial 86 params: n_patches=14, embed_dim=64, lr=4.123736179065853e-05, blocks=4, heads=4, batch_size=16\n",
      "Divergence detected. Stopping training after 5 epochs.\n",
      "Fold 1: Accuracy = 0.4108\n",
      "Divergence detected. Stopping training after 5 epochs.\n",
      "Fold 2: Accuracy = 0.4893\n",
      "Divergence detected. Stopping training after 5 epochs.\n",
      "Fold 1: Accuracy = 0.4613\n",
      "Divergence detected. Stopping training after 5 epochs.\n",
      "Fold 3: Accuracy = 0.3636\n",
      "Divergence detected. Stopping training after 5 epochs.\n",
      "Fold 2: Accuracy = 0.3756\n",
      "Divergence detected. Stopping training after 5 epochs.\n",
      "Fold 3: Accuracy = 0.4165\n",
      "Divergence detected. Stopping training after 5 epochs.\n",
      "Fold 4: Accuracy = 0.3386\n",
      "Divergence detected. Stopping training after 5 epochs.\n",
      "Fold 4: Accuracy = 0.4561\n",
      "Divergence detected. Stopping training after 5 epochs.\n"
     ]
    },
    {
     "name": "stderr",
     "output_type": "stream",
     "text": [
      "[I 2025-05-06 11:40:05,375] Trial 86 finished with value: 0.423860257326319 and parameters: {'n_patches': 14, 'embed_dim': 64, 'learning_rate': 4.123736179065853e-05, 'weight_decay': 6.998524599847983e-05, 'batch_size': 16, 'num_transformer_blocks': 4, 'num_heads': 4}. Best is trial 24 with value: 0.45553976793185547.\n"
     ]
    },
    {
     "name": "stdout",
     "output_type": "stream",
     "text": [
      "Fold 5: Accuracy = 0.3994\n",
      "Trial 86 mean accuracy: 0.4239\n",
      "Trial 87 params: n_patches=14, embed_dim=64, lr=1.1616433923473705e-05, blocks=4, heads=4, batch_size=16\n",
      "Divergence detected. Stopping training after 5 epochs.\n"
     ]
    },
    {
     "name": "stderr",
     "output_type": "stream",
     "text": [
      "[I 2025-05-06 11:40:22,367] Trial 85 finished with value: 0.3858937783145856 and parameters: {'n_patches': 14, 'embed_dim': 64, 'learning_rate': 2.9050922063115817e-05, 'weight_decay': 6.684256972853252e-05, 'batch_size': 16, 'num_transformer_blocks': 4, 'num_heads': 4}. Best is trial 24 with value: 0.45553976793185547.\n"
     ]
    },
    {
     "name": "stdout",
     "output_type": "stream",
     "text": [
      "Fold 5: Accuracy = 0.3376\n",
      "Trial 85 mean accuracy: 0.3859\n",
      "Trial 88 params: n_patches=14, embed_dim=64, lr=2.4491560630675845e-05, blocks=4, heads=4, batch_size=32\n",
      "Divergence detected. Stopping training after 5 epochs.\n",
      "Fold 1: Accuracy = 0.3467\n",
      "Divergence detected. Stopping training after 5 epochs.\n",
      "Fold 1: Accuracy = 0.4465\n",
      "Divergence detected. Stopping training after 5 epochs.\n",
      "Fold 2: Accuracy = 0.4856\n",
      "Divergence detected. Stopping training after 5 epochs.\n",
      "Fold 2: Accuracy = 0.4575\n",
      "Divergence detected. Stopping training after 5 epochs.\n",
      "Fold 3: Accuracy = 0.3928\n",
      "Divergence detected. Stopping training after 5 epochs.\n",
      "Divergence detected. Stopping training after 5 epochs.\n",
      "Fold 4: Accuracy = 0.4258\n",
      "Fold 3: Accuracy = 0.3801\n",
      "Divergence detected. Stopping training after 5 epochs.\n",
      "Fold 4: Accuracy = 0.4642\n",
      "Divergence detected. Stopping training after 5 epochs.\n"
     ]
    },
    {
     "name": "stderr",
     "output_type": "stream",
     "text": [
      "[I 2025-05-06 11:47:22,073] Trial 88 finished with value: 0.3950001001697751 and parameters: {'n_patches': 14, 'embed_dim': 64, 'learning_rate': 2.4491560630675845e-05, 'weight_decay': 6.81635276585183e-05, 'batch_size': 32, 'num_transformer_blocks': 4, 'num_heads': 4}. Best is trial 24 with value: 0.45553976793185547.\n"
     ]
    },
    {
     "name": "stdout",
     "output_type": "stream",
     "text": [
      "Fold 5: Accuracy = 0.3242\n",
      "Trial 88 mean accuracy: 0.3950\n",
      "Trial 89 params: n_patches=14, embed_dim=256, lr=4.658629178609918e-05, blocks=4, heads=4, batch_size=16\n",
      "Divergence detected. Stopping training after 5 epochs.\n"
     ]
    },
    {
     "name": "stderr",
     "output_type": "stream",
     "text": [
      "[I 2025-05-06 11:48:01,426] Trial 87 finished with value: 0.4234803181420057 and parameters: {'n_patches': 14, 'embed_dim': 64, 'learning_rate': 1.1616433923473705e-05, 'weight_decay': 7.063982629837023e-05, 'batch_size': 16, 'num_transformer_blocks': 4, 'num_heads': 4}. Best is trial 24 with value: 0.45553976793185547.\n"
     ]
    },
    {
     "name": "stdout",
     "output_type": "stream",
     "text": [
      "Fold 5: Accuracy = 0.3691\n",
      "Trial 87 mean accuracy: 0.4235\n",
      "Trial 90 params: n_patches=14, embed_dim=256, lr=2.0924848122401348e-05, blocks=2, heads=4, batch_size=32\n",
      "Divergence detected. Stopping training after 5 epochs.\n",
      "Fold 1: Accuracy = 0.4560\n",
      "Divergence detected. Stopping training after 5 epochs.\n",
      "Fold 1: Accuracy = 0.4522\n",
      "Divergence detected. Stopping training after 5 epochs.\n",
      "Fold 2: Accuracy = 0.5058\n",
      "Divergence detected. Stopping training after 5 epochs.\n",
      "Fold 2: Accuracy = 0.4449\n",
      "Divergence detected. Stopping training after 5 epochs.\n",
      "Fold 3: Accuracy = 0.4686\n",
      "Divergence detected. Stopping training after 5 epochs.\n",
      "Fold 4: Accuracy = 0.4447\n",
      "Divergence detected. Stopping training after 5 epochs.\n",
      "Fold 3: Accuracy = 0.4493\n",
      "Divergence detected. Stopping training after 5 epochs.\n"
     ]
    },
    {
     "name": "stderr",
     "output_type": "stream",
     "text": [
      "[I 2025-05-06 11:54:50,454] Trial 89 finished with value: 0.45157616070664935 and parameters: {'n_patches': 14, 'embed_dim': 256, 'learning_rate': 4.658629178609918e-05, 'weight_decay': 2.145402908576287e-05, 'batch_size': 16, 'num_transformer_blocks': 4, 'num_heads': 4}. Best is trial 24 with value: 0.45553976793185547.\n"
     ]
    },
    {
     "name": "stdout",
     "output_type": "stream",
     "text": [
      "Fold 5: Accuracy = 0.3828\n",
      "Trial 89 mean accuracy: 0.4516\n",
      "Trial 91 params: n_patches=14, embed_dim=256, lr=2.0196636740862464e-05, blocks=2, heads=4, batch_size=16\n",
      "Divergence detected. Stopping training after 5 epochs.\n",
      "Fold 4: Accuracy = 0.3822\n",
      "Divergence detected. Stopping training after 5 epochs.\n",
      "Fold 1: Accuracy = 0.4439\n",
      "Divergence detected. Stopping training after 5 epochs.\n"
     ]
    },
    {
     "name": "stderr",
     "output_type": "stream",
     "text": [
      "[I 2025-05-06 11:57:28,130] Trial 90 finished with value: 0.41809774910289066 and parameters: {'n_patches': 14, 'embed_dim': 256, 'learning_rate': 2.0924848122401348e-05, 'weight_decay': 1.5569031331528717e-05, 'batch_size': 32, 'num_transformer_blocks': 2, 'num_heads': 4}. Best is trial 24 with value: 0.45553976793185547.\n"
     ]
    },
    {
     "name": "stdout",
     "output_type": "stream",
     "text": [
      "Fold 5: Accuracy = 0.3618\n",
      "Trial 90 mean accuracy: 0.4181\n",
      "Trial 92 params: n_patches=14, embed_dim=256, lr=4.643214242351496e-05, blocks=4, heads=4, batch_size=16\n",
      "Divergence detected. Stopping training after 5 epochs.\n",
      "Fold 2: Accuracy = 0.4247\n",
      "Divergence detected. Stopping training after 5 epochs.\n",
      "Fold 1: Accuracy = 0.4141\n",
      "Divergence detected. Stopping training after 5 epochs.\n",
      "Fold 3: Accuracy = 0.4458\n",
      "Divergence detected. Stopping training after 5 epochs.\n",
      "Divergence detected. Stopping training after 5 epochs.\n",
      "Fold 2: Accuracy = 0.4713\n",
      "Fold 4: Accuracy = 0.4508\n",
      "Divergence detected. Stopping training after 5 epochs.\n",
      "Fold 3: Accuracy = 0.4800\n",
      "Divergence detected. Stopping training after 5 epochs.\n"
     ]
    },
    {
     "name": "stderr",
     "output_type": "stream",
     "text": [
      "[I 2025-05-06 12:02:57,124] Trial 91 finished with value: 0.43110501535604107 and parameters: {'n_patches': 14, 'embed_dim': 256, 'learning_rate': 2.0196636740862464e-05, 'weight_decay': 6.367255047282959e-05, 'batch_size': 16, 'num_transformer_blocks': 2, 'num_heads': 4}. Best is trial 24 with value: 0.45553976793185547.\n"
     ]
    },
    {
     "name": "stdout",
     "output_type": "stream",
     "text": [
      "Fold 5: Accuracy = 0.3903\n",
      "Trial 91 mean accuracy: 0.4311\n",
      "Trial 93 params: n_patches=14, embed_dim=256, lr=4.95355504467232e-05, blocks=4, heads=4, batch_size=16\n",
      "Divergence detected. Stopping training after 5 epochs.\n",
      "Fold 4: Accuracy = 0.4446\n",
      "Divergence detected. Stopping training after 5 epochs.\n",
      "Fold 1: Accuracy = 0.4154\n",
      "Divergence detected. Stopping training after 5 epochs.\n"
     ]
    },
    {
     "name": "stderr",
     "output_type": "stream",
     "text": [
      "[I 2025-05-06 12:05:48,580] Trial 92 finished with value: 0.43013511272990723 and parameters: {'n_patches': 14, 'embed_dim': 256, 'learning_rate': 4.643214242351496e-05, 'weight_decay': 6.31978047694057e-05, 'batch_size': 16, 'num_transformer_blocks': 4, 'num_heads': 4}. Best is trial 24 with value: 0.45553976793185547.\n"
     ]
    },
    {
     "name": "stdout",
     "output_type": "stream",
     "text": [
      "Fold 5: Accuracy = 0.3407\n",
      "Trial 92 mean accuracy: 0.4301\n",
      "Trial 94 params: n_patches=14, embed_dim=256, lr=3.3051604084822873e-05, blocks=4, heads=4, batch_size=16\n",
      "Divergence detected. Stopping training after 5 epochs.\n",
      "Fold 2: Accuracy = 0.4972\n",
      "Divergence detected. Stopping training after 5 epochs.\n",
      "Fold 1: Accuracy = 0.4230\n",
      "Divergence detected. Stopping training after 5 epochs.\n",
      "Fold 3: Accuracy = 0.3308\n",
      "Divergence detected. Stopping training after 5 epochs.\n",
      "Fold 2: Accuracy = 0.4481\n",
      "Divergence detected. Stopping training after 5 epochs.\n",
      "Fold 3: Accuracy = 0.3806\n",
      "Divergence detected. Stopping training after 5 epochs.\n",
      "Fold 4: Accuracy = 0.4444\n",
      "Divergence detected. Stopping training after 5 epochs.\n",
      "Fold 4: Accuracy = 0.4478\n",
      "Divergence detected. Stopping training after 5 epochs.\n"
     ]
    },
    {
     "name": "stderr",
     "output_type": "stream",
     "text": [
      "[I 2025-05-06 12:12:05,036] Trial 93 finished with value: 0.41089768127752635 and parameters: {'n_patches': 14, 'embed_dim': 256, 'learning_rate': 4.95355504467232e-05, 'weight_decay': 2.1404176520931017e-05, 'batch_size': 16, 'num_transformer_blocks': 4, 'num_heads': 4}. Best is trial 24 with value: 0.45553976793185547.\n"
     ]
    },
    {
     "name": "stdout",
     "output_type": "stream",
     "text": [
      "Fold 5: Accuracy = 0.3667\n",
      "Trial 93 mean accuracy: 0.4109\n",
      "Trial 95 params: n_patches=14, embed_dim=256, lr=6.755181841795967e-05, blocks=4, heads=4, batch_size=16\n",
      "Divergence detected. Stopping training after 5 epochs.\n"
     ]
    },
    {
     "name": "stderr",
     "output_type": "stream",
     "text": [
      "[I 2025-05-06 12:12:41,054] Trial 94 finished with value: 0.42007718743520633 and parameters: {'n_patches': 14, 'embed_dim': 256, 'learning_rate': 3.3051604084822873e-05, 'weight_decay': 2.1266475962959007e-05, 'batch_size': 16, 'num_transformer_blocks': 4, 'num_heads': 4}. Best is trial 24 with value: 0.45553976793185547.\n"
     ]
    },
    {
     "name": "stdout",
     "output_type": "stream",
     "text": [
      "Fold 5: Accuracy = 0.4010\n",
      "Trial 94 mean accuracy: 0.4201\n",
      "Trial 96 params: n_patches=28, embed_dim=256, lr=9.336872040109744e-05, blocks=4, heads=4, batch_size=32\n",
      "Divergence detected. Stopping training after 5 epochs.\n",
      "Fold 1: Accuracy = 0.4088\n",
      "Divergence detected. Stopping training after 5 epochs.\n",
      "Fold 2: Accuracy = 0.4647\n",
      "Divergence detected. Stopping training after 5 epochs.\n",
      "Fold 3: Accuracy = 0.3333\n",
      "Divergence detected. Stopping training after 5 epochs.\n",
      "Fold 1: Accuracy = 0.3963\n",
      "Divergence detected. Stopping training after 5 epochs.\n",
      "Fold 4: Accuracy = 0.4527\n",
      "Divergence detected. Stopping training after 5 epochs.\n"
     ]
    },
    {
     "name": "stderr",
     "output_type": "stream",
     "text": [
      "[I 2025-05-06 12:19:26,852] Trial 95 finished with value: 0.4092694712725062 and parameters: {'n_patches': 14, 'embed_dim': 256, 'learning_rate': 6.755181841795967e-05, 'weight_decay': 2.459959328094471e-05, 'batch_size': 16, 'num_transformer_blocks': 4, 'num_heads': 4}. Best is trial 24 with value: 0.45553976793185547.\n"
     ]
    },
    {
     "name": "stdout",
     "output_type": "stream",
     "text": [
      "Fold 5: Accuracy = 0.3868\n",
      "Trial 95 mean accuracy: 0.4093\n",
      "Trial 97 params: n_patches=28, embed_dim=64, lr=1.6238055978309735e-05, blocks=4, heads=4, batch_size=32\n",
      "Divergence detected. Stopping training after 5 epochs.\n",
      "Fold 2: Accuracy = 0.5104\n",
      "Divergence detected. Stopping training after 5 epochs.\n",
      "Divergence detected. Stopping training after 5 epochs.\n",
      "Fold 3: Accuracy = 0.4063\n",
      "Fold 1: Accuracy = 0.4317\n",
      "Divergence detected. Stopping training after 5 epochs.\n",
      "Fold 4: Accuracy = 0.4139\n",
      "Divergence detected. Stopping training after 5 epochs.\n",
      "Fold 2: Accuracy = 0.4951\n",
      "Divergence detected. Stopping training after 5 epochs.\n"
     ]
    },
    {
     "name": "stderr",
     "output_type": "stream",
     "text": [
      "[I 2025-05-06 12:37:26,034] Trial 96 finished with value: 0.4098318657789523 and parameters: {'n_patches': 28, 'embed_dim': 256, 'learning_rate': 9.336872040109744e-05, 'weight_decay': 2.4270083744540765e-05, 'batch_size': 32, 'num_transformer_blocks': 4, 'num_heads': 4}. Best is trial 24 with value: 0.45553976793185547.\n"
     ]
    },
    {
     "name": "stdout",
     "output_type": "stream",
     "text": [
      "Fold 5: Accuracy = 0.3222\n",
      "Trial 96 mean accuracy: 0.4098\n",
      "Trial 98 params: n_patches=14, embed_dim=64, lr=1.5970792368826644e-05, blocks=4, heads=4, batch_size=32\n",
      "Divergence detected. Stopping training after 5 epochs.\n",
      "Fold 3: Accuracy = 0.4155\n",
      "Divergence detected. Stopping training after 5 epochs.\n",
      "Fold 1: Accuracy = 0.4568\n",
      "Divergence detected. Stopping training after 5 epochs.\n",
      "Fold 2: Accuracy = 0.4683\n",
      "Divergence detected. Stopping training after 5 epochs.\n",
      "Fold 3: Accuracy = 0.3863\n",
      "Divergence detected. Stopping training after 5 epochs.\n",
      "Fold 4: Accuracy = 0.4110\n",
      "Divergence detected. Stopping training after 5 epochs.\n",
      "Fold 4: Accuracy = 0.3983\n",
      "Divergence detected. Stopping training after 5 epochs.\n"
     ]
    },
    {
     "name": "stderr",
     "output_type": "stream",
     "text": [
      "[I 2025-05-06 12:45:23,468] Trial 98 finished with value: 0.4184421074228541 and parameters: {'n_patches': 14, 'embed_dim': 64, 'learning_rate': 1.5970792368826644e-05, 'weight_decay': 2.2176024901458224e-05, 'batch_size': 32, 'num_transformer_blocks': 4, 'num_heads': 4}. Best is trial 24 with value: 0.45553976793185547.\n"
     ]
    },
    {
     "name": "stdout",
     "output_type": "stream",
     "text": [
      "Fold 5: Accuracy = 0.3826\n",
      "Trial 98 mean accuracy: 0.4184\n",
      "Trial 99 params: n_patches=28, embed_dim=256, lr=2.6123972495324657e-05, blocks=6, heads=4, batch_size=32\n",
      "Divergence detected. Stopping training after 5 epochs.\n"
     ]
    },
    {
     "name": "stderr",
     "output_type": "stream",
     "text": [
      "[I 2025-05-06 12:47:59,016] Trial 97 finished with value: 0.43171484619228295 and parameters: {'n_patches': 28, 'embed_dim': 64, 'learning_rate': 1.6238055978309735e-05, 'weight_decay': 1.9199543618932025e-05, 'batch_size': 32, 'num_transformer_blocks': 4, 'num_heads': 4}. Best is trial 24 with value: 0.45553976793185547.\n"
     ]
    },
    {
     "name": "stdout",
     "output_type": "stream",
     "text": [
      "Fold 5: Accuracy = 0.4052\n",
      "Trial 97 mean accuracy: 0.4317\n",
      "Divergence detected. Stopping training after 5 epochs.\n",
      "Fold 1: Accuracy = 0.3689\n",
      "Divergence detected. Stopping training after 5 epochs.\n",
      "Fold 2: Accuracy = 0.4034\n",
      "Divergence detected. Stopping training after 5 epochs.\n",
      "Fold 3: Accuracy = 0.3989\n",
      "Divergence detected. Stopping training after 5 epochs.\n",
      "Fold 4: Accuracy = 0.4053\n",
      "Divergence detected. Stopping training after 5 epochs.\n"
     ]
    },
    {
     "name": "stderr",
     "output_type": "stream",
     "text": [
      "[I 2025-05-06 13:06:54,920] Trial 99 finished with value: 0.3925258115057134 and parameters: {'n_patches': 28, 'embed_dim': 256, 'learning_rate': 2.6123972495324657e-05, 'weight_decay': 1.9490394403975413e-05, 'batch_size': 32, 'num_transformer_blocks': 6, 'num_heads': 4}. Best is trial 24 with value: 0.45553976793185547.\n"
     ]
    },
    {
     "name": "stdout",
     "output_type": "stream",
     "text": [
      "Fold 5: Accuracy = 0.3861\n",
      "Trial 99 mean accuracy: 0.3925\n",
      "Best hyperparameters: {'n_patches': 28, 'embed_dim': 128, 'learning_rate': 3.6467910524712975e-05, 'weight_decay': 1.1407515349694686e-05, 'batch_size': 32, 'num_transformer_blocks': 6, 'num_heads': 8}\n",
      "Best accuracy: 0.4555\n"
     ]
    }
   ],
   "source": [
    "import optuna\n",
    "# Streamlined Optuna configuration\n",
    "study = optuna.create_study(\n",
    "    direction=\"maximize\",\n",
    "    sampler=optuna.samplers.TPESampler(),\n",
    "    pruner=optuna.pruners.MedianPruner(n_warmup_steps=2)\n",
    ")\n",
    "\n",
    "# Reduced number of trials for faster convergence\n",
    "study.optimize(objective, n_trials=100, n_jobs=2)\n",
    "\n",
    "print(\"Best hyperparameters:\", study.best_params)\n",
    "print(f\"Best accuracy: {study.best_value:.4f}\")"
   ]
  },
  {
   "cell_type": "code",
   "execution_count": null,
   "id": "c219a64c",
   "metadata": {},
   "outputs": [],
   "source": []
  }
 ],
 "metadata": {
  "kernelspec": {
   "display_name": "cudaenv",
   "language": "python",
   "name": "python3"
  },
  "language_info": {
   "codemirror_mode": {
    "name": "ipython",
    "version": 3
   },
   "file_extension": ".py",
   "mimetype": "text/x-python",
   "name": "python",
   "nbconvert_exporter": "python",
   "pygments_lexer": "ipython3",
   "version": "3.13.1"
  }
 },
 "nbformat": 4,
 "nbformat_minor": 5
}
